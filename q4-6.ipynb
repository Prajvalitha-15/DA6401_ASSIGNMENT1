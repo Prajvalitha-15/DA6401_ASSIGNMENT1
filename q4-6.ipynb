{
 "cells": [
  {
   "cell_type": "code",
   "execution_count": 1,
   "metadata": {},
   "outputs": [],
   "source": [
    "from keras.datasets import fashion_mnist\n",
    "import numpy as np\n",
    "from tensorflow.keras.utils import to_categorical\n",
    "import wandb\n",
    "from sklearn.metrics import accuracy_score"
   ]
  },
  {
   "cell_type": "code",
   "execution_count": 2,
   "metadata": {},
   "outputs": [
    {
     "data": {
      "text/plain": [
       "((784, 54000), (10, 54000))"
      ]
     },
     "execution_count": 2,
     "metadata": {},
     "output_type": "execute_result"
    }
   ],
   "source": [
    "# Loading the data\n",
    "(x_train, y_train), (x_test, y_test) = fashion_mnist.load_data()\n",
    "\n",
    "# Normalize the data\n",
    "x_train = x_train.reshape(-1, 784) / 255.0\n",
    "x_test = x_test.reshape(-1, 784) / 255.0\n",
    "\n",
    "# One-hot encode labels\n",
    "y_train, y_test = to_categorical(y_train), to_categorical(y_test)\n",
    "\n",
    "# Split validation data\n",
    "val_split = int(0.1 * x_train.shape[0])\n",
    "\n",
    "# Create validation data\n",
    "x_val, y_val = x_train[:val_split], y_train[:val_split]\n",
    "x_train, y_train = x_train[val_split:], y_train[val_split:]\n",
    "\n",
    "x_train = x_train.T\n",
    "y_train = y_train.T\n",
    "x_val = x_val.T\n",
    "y_val = y_val.T\n",
    "x_test = x_test.T\n",
    "y_test = y_test.T\n",
    "\n",
    "x_train.shape, y_train.shape"
   ]
  },
  {
   "cell_type": "code",
   "execution_count": 3,
   "metadata": {},
   "outputs": [],
   "source": [
    "class FeedforwardNeuralNetwork:\n",
    "    def __init__(self, input_size, hidden_layers, output_size):\n",
    "        \"\"\"\n",
    "        Initialize the neural network.\n",
    "        :param input_size: Number of input features.\n",
    "        :param hidden_layers: List containing the number of neurons in each hidden layer.\n",
    "        :param output_size: Number of output classes.\n",
    "        \"\"\"\n",
    "        self.layers = []\n",
    "        self.weights = []\n",
    "        self.biases = []\n",
    "        self.velocities_w = []  # For momentum-based optimizers\n",
    "        self.velocities_b = []\n",
    "        self.squared_w = []  # For RMSprop/Adam\n",
    "        self.squared_b = []\n",
    "        self.moments_w = []  # For Nadam\n",
    "        self.moments_b = []\n",
    "\n",
    "        # Input layer to first hidden layer\n",
    "        prev_size = input_size\n",
    "        for layer_size in hidden_layers:\n",
    "            self.weights.append(np.random.randn(layer_size, prev_size))\n",
    "            self.biases.append(np.zeros((layer_size, 1)))\n",
    "            self.velocities_w.append(np.zeros((layer_size, prev_size)))\n",
    "            self.velocities_b.append(np.zeros((layer_size, 1)))\n",
    "            self.squared_w.append(np.zeros((layer_size, prev_size)))\n",
    "            self.squared_b.append(np.zeros((layer_size, 1)))\n",
    "            self.moments_w.append(np.zeros((layer_size, prev_size)))\n",
    "            self.moments_b.append(np.zeros((layer_size, 1)))\n",
    "            prev_size = layer_size\n",
    "\n",
    "        # Hidden layers to output layer\n",
    "        self.weights.append(np.random.randn(output_size, prev_size))\n",
    "        self.biases.append(np.zeros((output_size, 1)))\n",
    "        self.velocities_w.append(np.zeros((output_size, prev_size)))\n",
    "        self.velocities_b.append(np.zeros((output_size, 1)))\n",
    "        self.squared_w.append(np.zeros((output_size, prev_size)))\n",
    "        self.squared_b.append(np.zeros((output_size, 1)))\n",
    "        self.moments_w.append(np.zeros((output_size, prev_size)))\n",
    "        self.moments_b.append(np.zeros((output_size, 1)))\n",
    "    \n",
    "    def train(self, x_train, y_train, x_val, y_val, epochs, learning_rate, optimizer='sgd', batch_size=32):\n",
    "        for epoch in range(epochs):\n",
    "            indices = np.arange(x_train.shape[1])\n",
    "            np.random.shuffle(indices)\n",
    "            x_train, y_train = x_train[:,indices], y_train[:,indices]\n",
    "            \n",
    "            for i in range(0, x_train.shape[1], batch_size):\n",
    "                x_batch = x_train[:,i:i+batch_size]\n",
    "                y_batch = y_train[:,i:i+batch_size]\n",
    "                self.forward(x_batch)\n",
    "                self.backpropagation(x_batch, y_batch, learning_rate, optimizer)\n",
    "        \n",
    "            train_pred, val_pred = self.forward(x_train), self.forward(x_val)\n",
    "            train_loss, val_loss = self.cross_entropy(train_pred, y_train), self.cross_entropy(val_pred, y_val)\n",
    "            train_cls, val_cls = np.argmax(train_pred, axis = 0), np.argmax(val_pred, axis = 0)\n",
    "            train_acc, val_acc = accuracy_score(np.argmax(y_train, axis=0), train_cls), accuracy_score(np.argmax(y_val, axis=0), val_cls)\n",
    "\n",
    "            print(f\"Epoch {epoch}: Training Loss = {train_loss:.4f} Validation Loss = {val_loss:.4f}\")\n",
    "            print(f\"Training Accuracy = {train_acc:.4f} Validation Accuracy = {val_acc:.4f}\")\n",
    "\n",
    "            wandb.log({\n",
    "                \"epoch\" : epoch, \n",
    "                \"train_loss\" : train_loss, \n",
    "                \"val_loss\" : val_loss, \n",
    "                \"train_acc\" : train_acc, \n",
    "                \"val_acc\" : val_acc\n",
    "            })\n",
    "        \n",
    "        wandb.log({\"Accuracy\" : val_acc})\n",
    "        \n",
    "    \n",
    "    @staticmethod\n",
    "    def cross_entropy(y_pred, y_true) :\n",
    "        eps = 1e-8 \n",
    "        y_pred = np.clip(y_pred, eps, 1 - eps)\n",
    "        return -np.sum(y_true * np.log(y_pred)) / y_true.shape[1]\n",
    "\n",
    "    def sigmoid(self, x):\n",
    "        \"\"\"Sigmoid activation function.\"\"\"\n",
    "        return 1 / (1 + np.exp(-x))\n",
    "\n",
    "    def sigmoid_derivative(self, x):\n",
    "        \"\"\"Derivative of the sigmoid function.\"\"\"\n",
    "        return x * (1 - x)\n",
    "\n",
    "    def softmax(self, x):\n",
    "        \"\"\"Softmax activation function.\"\"\"\n",
    "        exp_x = np.exp(x - np.max(x, axis=0, keepdims=True))\n",
    "        return exp_x / np.sum(exp_x, axis=0, keepdims=True)\n",
    "\n",
    "    def forward(self, x):\n",
    "        \"\"\"\n",
    "        Perform a forward pass through the network.\n",
    "        :param x: Input data.\n",
    "        :return: Output probabilities.\n",
    "        \"\"\"\n",
    "        self.layers = [x]\n",
    "        for w, b in zip(self.weights[:-1], self.biases[:-1]):\n",
    "            x = self.sigmoid(np.dot(w,x) + b)\n",
    "            # x = self.sigmoid(np.dot(x, w) + b)\n",
    "            self.layers.append(x)\n",
    "\n",
    "        # Output layer with softmax\n",
    "        output = self.softmax(np.dot(self.weights[-1], x) + self.biases[-1])\n",
    "        self.layers.append(output)\n",
    "        return output\n",
    "\n",
    "    def backpropagation(self, x, y, learning_rate, optimizer='sgd', beta1=0.9, beta2=0.999, epsilon=1e-8):\n",
    "        m = y.shape[1]  # Number of samples\n",
    "        deltas = [self.layers[-1] - y]  # Output layer error\n",
    "\n",
    "        # Backpropagate errors for hidden layers\n",
    "        for i in range(len(self.weights) - 1, 0, -1):\n",
    "            deltas.append(self.weights[i].T.dot(deltas[-1]) * self.sigmoid_derivative(self.layers[i]))\n",
    "        deltas.reverse()\n",
    "\n",
    "        # Update weights and biases based on optimizer\n",
    "        for i in range(len(self.weights)):\n",
    "            dw = (self.layers[i].dot(deltas[i].T)).T / m\n",
    "            db = np.mean(deltas[i], axis=1, keepdims=True)\n",
    "\n",
    "            if optimizer == 'sgd':\n",
    "                self.weights[i] -= learning_rate * dw\n",
    "                self.biases[i] -= learning_rate * db\n",
    "            \n",
    "            elif optimizer == 'momentum':\n",
    "                self.velocities_w[i] = beta1 * self.velocities_w[i] - learning_rate * dw\n",
    "                self.velocities_b[i] = beta1 * self.velocities_b[i] - learning_rate * db\n",
    "                self.weights[i] += self.velocities_w[i]\n",
    "                self.biases[i] += self.velocities_b[i]\n",
    "            \n",
    "            elif optimizer == 'nag':\n",
    "                prev_w = self.velocities_w[i]\n",
    "                prev_b = self.velocities_b[i]\n",
    "                self.velocities_w[i] = beta1 * prev_w - learning_rate * dw\n",
    "                self.velocities_b[i] = beta1 * prev_b - learning_rate * db\n",
    "                self.weights[i] += -beta1 * prev_w + (1 + beta1) * self.velocities_w[i]\n",
    "                self.biases[i] += -beta1 * prev_b + (1 + beta1) * self.velocities_b[i]\n",
    "            \n",
    "            elif optimizer == 'rmsprop':\n",
    "                self.squared_w[i] = beta2 * self.squared_w[i] + (1 - beta2) * (dw ** 2)\n",
    "                self.squared_b[i] = beta2 * self.squared_b[i] + (1 - beta2) * (db ** 2)\n",
    "                self.weights[i] -= learning_rate * dw / (np.sqrt(self.squared_w[i]) + epsilon)\n",
    "                self.biases[i] -= learning_rate * db / (np.sqrt(self.squared_b[i]) + epsilon)\n",
    "            \n",
    "            elif optimizer == 'adam' or optimizer == 'nadam':\n",
    "                self.velocities_w[i] = beta1 * self.velocities_w[i] + (1 - beta1) * dw\n",
    "                self.velocities_b[i] = beta1 * self.velocities_b[i] + (1 - beta1) * db\n",
    "                self.squared_w[i] = beta2 * self.squared_w[i] + (1 - beta2) * (dw ** 2)\n",
    "                self.squared_b[i] = beta2 * self.squared_b[i] + (1 - beta2) * (db ** 2)\n",
    "                if optimizer == 'nadam':\n",
    "                    dw = beta1 * self.velocities_w[i] + (1 - beta1) * dw\n",
    "                    db = beta1 * self.velocities_b[i] + (1 - beta1) * db\n",
    "                self.weights[i] -= learning_rate * dw / (np.sqrt(self.squared_w[i]) + epsilon)\n",
    "                self.biases[i] -= learning_rate * db / (np.sqrt(self.squared_b[i]) + epsilon)"
   ]
  },
  {
   "cell_type": "code",
   "execution_count": 4,
   "metadata": {},
   "outputs": [],
   "source": [
    "sweep_config = {\n",
    "    \"name\": \"Feedforward Network - Hyper parameter search\",\n",
    "    \"metric\": {\n",
    "        \"name\": \"Accuracy\",\n",
    "        \"goal\": \"maximize\"\n",
    "    },\n",
    "    \"method\": \"random\",\n",
    "    \"parameters\": {\n",
    "        \"num_epochs\": {\n",
    "            \"values\": [5, 10]\n",
    "            },\n",
    "        \"num_hiddenLayers\": {\n",
    "            \"values\": [3, 4, 5]\n",
    "            },\n",
    "        \"hiddenLayer_Size\": {\n",
    "            \"values\": [32, 64, 128]\n",
    "            },\n",
    "        \"weightDecay\": {\n",
    "            \"values\": [0, 0.0005, 0.5]\n",
    "            },\n",
    "        \"learningRate\": {\n",
    "            \"values\": [1e-3, 1e-4]\n",
    "            },\n",
    "        \"optimizer\": {\n",
    "            \"values\": [\"sgd\", \"momentum\", \"nesterov\", \"rmsprop\", \"adam\", \"nadam\"]\n",
    "            },\n",
    "        \"batchSize\": {\n",
    "            \"values\": [16, 32, 64]\n",
    "            },\n",
    "        \"weightInit\": {\n",
    "            \"values\": [\"random\", \"xavier\"]\n",
    "            },\n",
    "        \"activationFunc\": {\n",
    "            \"values\": [\"tanh\", \"relu\", \"sigmoid\"]\n",
    "            }\n",
    "    }\n",
    "    \n",
    "}"
   ]
  },
  {
   "cell_type": "code",
   "execution_count": 5,
   "metadata": {},
   "outputs": [],
   "source": [
    "def sweep_hyperParameters():\n",
    "    default_config = {\n",
    "        'num_epochs': 10,\n",
    "        'num_hiddenLayers': 3,\n",
    "        'hiddenLayer_Size': 40,\n",
    "        'weightDecay': 0,\n",
    "        'learningRate': 1e-3,\n",
    "        'optimizer': 'Nesterov_Accelerated_GD',\n",
    "        'batchSize': 32,\n",
    "        'weightInit': 'xavier',\n",
    "        'activationFunc': 'sigmoid'\n",
    "    }\n",
    "    \n",
    "    wandb.init(project=\"assignment1\", entity=\"da6401-assignments\")\n",
    "    wandb.init(config = default_config)\n",
    "\n",
    "    config = wandb.config # To get the Hyper Parameters from sweep_config\n",
    "    \n",
    "    # Parameters from wandb.config\n",
    "    num_epochs = config.num_epochs\n",
    "    num_hiddenLayers = config.num_hiddenLayers\n",
    "    hiddenLayer_size = config.hiddenLayer_Size\n",
    "    weightDecay = config.weightDecay\n",
    "    learningRate = config.learningRate\n",
    "    optimizer = config.optimizer\n",
    "    batchSize = config.batchSize\n",
    "    weightInit = config.weightInit\n",
    "    activationFunc = config.activationFunc\n",
    "    \n",
    "    # Name\n",
    "    run_name = f\"LR: {learningRate}, AC: {activationFunc}, BS: {batchSize}, Optim: {optimizer}, WI: {weightInit}, WD: {weightDecay}, No_HL: {num_hiddenLayers}, HS: {hiddenLayer_size}\"\n",
    "    print(\"Sweep Name: \",run_name)\n",
    "    \n",
    "    model = FeedforwardNeuralNetwork(x_train.shape[0], [hiddenLayer_size] * num_hiddenLayers, y_train.shape[0])\n",
    "    \n",
    "    wandb.run.name = run_name\n",
    "    \n",
    "    model.train(x_train, y_train, x_val, y_val, num_epochs, learningRate, optimizer, batchSize)\n",
    "\n",
    "    wandb.run.save()\n",
    "\n",
    "    return model "
   ]
  },
  {
   "cell_type": "code",
   "execution_count": 6,
   "metadata": {},
   "outputs": [
    {
     "name": "stderr",
     "output_type": "stream",
     "text": [
      "\u001b[34m\u001b[1mwandb\u001b[0m: Using wandb-core as the SDK backend.  Please refer to https://wandb.me/wandb-core for more information.\n"
     ]
    },
    {
     "name": "stdout",
     "output_type": "stream",
     "text": [
      "Create sweep with ID: enexfa0c\n",
      "Sweep URL: https://wandb.ai/da6401-assignments/assignment1/sweeps/enexfa0c\n"
     ]
    },
    {
     "name": "stderr",
     "output_type": "stream",
     "text": [
      "\u001b[34m\u001b[1mwandb\u001b[0m: Agent Starting Run: 5kwdmdnt with config:\n",
      "\u001b[34m\u001b[1mwandb\u001b[0m: \tactivationFunc: tanh\n",
      "\u001b[34m\u001b[1mwandb\u001b[0m: \tbatchSize: 32\n",
      "\u001b[34m\u001b[1mwandb\u001b[0m: \thiddenLayer_Size: 32\n",
      "\u001b[34m\u001b[1mwandb\u001b[0m: \tlearningRate: 0.001\n",
      "\u001b[34m\u001b[1mwandb\u001b[0m: \tnum_epochs: 10\n",
      "\u001b[34m\u001b[1mwandb\u001b[0m: \tnum_hiddenLayers: 4\n",
      "\u001b[34m\u001b[1mwandb\u001b[0m: \toptimizer: momentum\n",
      "\u001b[34m\u001b[1mwandb\u001b[0m: \tweightDecay: 0.5\n",
      "\u001b[34m\u001b[1mwandb\u001b[0m: \tweightInit: random\n",
      "\u001b[34m\u001b[1mwandb\u001b[0m: Currently logged in as: \u001b[33med20b071\u001b[0m (\u001b[33mda6401-assignments\u001b[0m) to \u001b[32mhttps://api.wandb.ai\u001b[0m. Use \u001b[1m`wandb login --relogin`\u001b[0m to force relogin\n"
     ]
    },
    {
     "data": {
      "text/html": [
       "Ignoring project 'assignment1' when running a sweep."
      ],
      "text/plain": [
       "<IPython.core.display.HTML object>"
      ]
     },
     "metadata": {},
     "output_type": "display_data"
    },
    {
     "data": {
      "text/html": [
       "Ignoring entity 'da6401-assignments' when running a sweep."
      ],
      "text/plain": [
       "<IPython.core.display.HTML object>"
      ]
     },
     "metadata": {},
     "output_type": "display_data"
    },
    {
     "data": {
      "text/html": [
       "Waiting for wandb.init()..."
      ],
      "text/plain": [
       "<IPython.core.display.HTML object>"
      ]
     },
     "metadata": {},
     "output_type": "display_data"
    },
    {
     "data": {
      "text/html": [
       "Tracking run with wandb version 0.19.8"
      ],
      "text/plain": [
       "<IPython.core.display.HTML object>"
      ]
     },
     "metadata": {},
     "output_type": "display_data"
    },
    {
     "data": {
      "text/html": [
       "Run data is saved locally in <code>c:\\Users\\prajv\\Downloads\\ass1\\DA6401_ASSIGNMENT1\\wandb\\run-20250310_023751-5kwdmdnt</code>"
      ],
      "text/plain": [
       "<IPython.core.display.HTML object>"
      ]
     },
     "metadata": {},
     "output_type": "display_data"
    },
    {
     "data": {
      "text/html": [
       "Syncing run <strong><a href='https://wandb.ai/da6401-assignments/assignment1/runs/5kwdmdnt' target=\"_blank\">misty-sweep-1</a></strong> to <a href='https://wandb.ai/da6401-assignments/assignment1' target=\"_blank\">Weights & Biases</a> (<a href='https://wandb.me/developer-guide' target=\"_blank\">docs</a>)<br>Sweep page: <a href='https://wandb.ai/da6401-assignments/assignment1/sweeps/enexfa0c' target=\"_blank\">https://wandb.ai/da6401-assignments/assignment1/sweeps/enexfa0c</a>"
      ],
      "text/plain": [
       "<IPython.core.display.HTML object>"
      ]
     },
     "metadata": {},
     "output_type": "display_data"
    },
    {
     "data": {
      "text/html": [
       " View project at <a href='https://wandb.ai/da6401-assignments/assignment1' target=\"_blank\">https://wandb.ai/da6401-assignments/assignment1</a>"
      ],
      "text/plain": [
       "<IPython.core.display.HTML object>"
      ]
     },
     "metadata": {},
     "output_type": "display_data"
    },
    {
     "data": {
      "text/html": [
       " View sweep at <a href='https://wandb.ai/da6401-assignments/assignment1/sweeps/enexfa0c' target=\"_blank\">https://wandb.ai/da6401-assignments/assignment1/sweeps/enexfa0c</a>"
      ],
      "text/plain": [
       "<IPython.core.display.HTML object>"
      ]
     },
     "metadata": {},
     "output_type": "display_data"
    },
    {
     "data": {
      "text/html": [
       " View run at <a href='https://wandb.ai/da6401-assignments/assignment1/runs/5kwdmdnt' target=\"_blank\">https://wandb.ai/da6401-assignments/assignment1/runs/5kwdmdnt</a>"
      ],
      "text/plain": [
       "<IPython.core.display.HTML object>"
      ]
     },
     "metadata": {},
     "output_type": "display_data"
    },
    {
     "name": "stdout",
     "output_type": "stream",
     "text": [
      "Sweep Name:  LR: 0.001, AC: tanh, BS: 32, Optim: momentum, WI: random, WD: 0.5, No_HL: 4, HS: 32\n",
      "Epoch 0: Training Loss = 1.5457 Validation Loss = 1.5358\n",
      "Training Accuracy = 0.4356 Validation Accuracy = 0.4412\n",
      "Epoch 1: Training Loss = 1.2857 Validation Loss = 1.2772\n",
      "Training Accuracy = 0.5395 Validation Accuracy = 0.5482\n",
      "Epoch 2: Training Loss = 1.1196 Validation Loss = 1.1158\n",
      "Training Accuracy = 0.5850 Validation Accuracy = 0.5878\n",
      "Epoch 3: Training Loss = 1.0139 Validation Loss = 1.0131\n",
      "Training Accuracy = 0.6282 Validation Accuracy = 0.6297\n",
      "Epoch 4: Training Loss = 0.9442 Validation Loss = 0.9435\n",
      "Training Accuracy = 0.6492 Validation Accuracy = 0.6550\n",
      "Epoch 5: Training Loss = 0.8955 Validation Loss = 0.8944\n",
      "Training Accuracy = 0.6682 Validation Accuracy = 0.6775\n",
      "Epoch 6: Training Loss = 0.8580 Validation Loss = 0.8569\n",
      "Training Accuracy = 0.6803 Validation Accuracy = 0.6912\n",
      "Epoch 7: Training Loss = 0.8296 Validation Loss = 0.8283\n",
      "Training Accuracy = 0.6865 Validation Accuracy = 0.6970\n",
      "Epoch 8: Training Loss = 0.8052 Validation Loss = 0.8044\n",
      "Training Accuracy = 0.6968 Validation Accuracy = 0.7090\n"
     ]
    },
    {
     "name": "stderr",
     "output_type": "stream",
     "text": [
      "\u001b[34m\u001b[1mwandb\u001b[0m: \u001b[33mWARNING\u001b[0m Calling wandb.run.save without any arguments is deprecated.Changes to attributes are automatically persisted.\n"
     ]
    },
    {
     "name": "stdout",
     "output_type": "stream",
     "text": [
      "Epoch 9: Training Loss = 0.7845 Validation Loss = 0.7827\n",
      "Training Accuracy = 0.7020 Validation Accuracy = 0.7147\n"
     ]
    },
    {
     "data": {
      "text/html": [],
      "text/plain": [
       "<IPython.core.display.HTML object>"
      ]
     },
     "metadata": {},
     "output_type": "display_data"
    },
    {
     "data": {
      "text/html": [
       "<br>    <style><br>        .wandb-row {<br>            display: flex;<br>            flex-direction: row;<br>            flex-wrap: wrap;<br>            justify-content: flex-start;<br>            width: 100%;<br>        }<br>        .wandb-col {<br>            display: flex;<br>            flex-direction: column;<br>            flex-basis: 100%;<br>            flex: 1;<br>            padding: 10px;<br>        }<br>    </style><br><div class=\"wandb-row\"><div class=\"wandb-col\"><h3>Run history:</h3><br/><table class=\"wandb\"><tr><td>Accuracy</td><td>▁</td></tr><tr><td>epoch</td><td>▁▂▃▃▄▅▆▆▇█</td></tr><tr><td>train_acc</td><td>▁▄▅▆▇▇▇███</td></tr><tr><td>train_loss</td><td>█▆▄▃▂▂▂▁▁▁</td></tr><tr><td>val_acc</td><td>▁▄▅▆▆▇▇███</td></tr><tr><td>val_loss</td><td>█▆▄▃▂▂▂▁▁▁</td></tr></table><br/></div><div class=\"wandb-col\"><h3>Run summary:</h3><br/><table class=\"wandb\"><tr><td>Accuracy</td><td>0.71467</td></tr><tr><td>epoch</td><td>9</td></tr><tr><td>train_acc</td><td>0.70196</td></tr><tr><td>train_loss</td><td>0.78446</td></tr><tr><td>val_acc</td><td>0.71467</td></tr><tr><td>val_loss</td><td>0.78274</td></tr></table><br/></div></div>"
      ],
      "text/plain": [
       "<IPython.core.display.HTML object>"
      ]
     },
     "metadata": {},
     "output_type": "display_data"
    },
    {
     "data": {
      "text/html": [
       " View run <strong style=\"color:#cdcd00\">LR: 0.001, AC: tanh, BS: 32, Optim: momentum, WI: random, WD: 0.5, No_HL: 4, HS: 32</strong> at: <a href='https://wandb.ai/da6401-assignments/assignment1/runs/5kwdmdnt' target=\"_blank\">https://wandb.ai/da6401-assignments/assignment1/runs/5kwdmdnt</a><br> View project at: <a href='https://wandb.ai/da6401-assignments/assignment1' target=\"_blank\">https://wandb.ai/da6401-assignments/assignment1</a><br>Synced 5 W&B file(s), 0 media file(s), 0 artifact file(s) and 0 other file(s)"
      ],
      "text/plain": [
       "<IPython.core.display.HTML object>"
      ]
     },
     "metadata": {},
     "output_type": "display_data"
    },
    {
     "data": {
      "text/html": [
       "Find logs at: <code>.\\wandb\\run-20250310_023751-5kwdmdnt\\logs</code>"
      ],
      "text/plain": [
       "<IPython.core.display.HTML object>"
      ]
     },
     "metadata": {},
     "output_type": "display_data"
    },
    {
     "name": "stderr",
     "output_type": "stream",
     "text": [
      "\u001b[34m\u001b[1mwandb\u001b[0m: Agent Starting Run: 8tm04pt0 with config:\n",
      "\u001b[34m\u001b[1mwandb\u001b[0m: \tactivationFunc: relu\n",
      "\u001b[34m\u001b[1mwandb\u001b[0m: \tbatchSize: 32\n",
      "\u001b[34m\u001b[1mwandb\u001b[0m: \thiddenLayer_Size: 32\n",
      "\u001b[34m\u001b[1mwandb\u001b[0m: \tlearningRate: 0.001\n",
      "\u001b[34m\u001b[1mwandb\u001b[0m: \tnum_epochs: 5\n",
      "\u001b[34m\u001b[1mwandb\u001b[0m: \tnum_hiddenLayers: 5\n",
      "\u001b[34m\u001b[1mwandb\u001b[0m: \toptimizer: adam\n",
      "\u001b[34m\u001b[1mwandb\u001b[0m: \tweightDecay: 0\n",
      "\u001b[34m\u001b[1mwandb\u001b[0m: \tweightInit: xavier\n"
     ]
    },
    {
     "data": {
      "text/html": [
       "Ignoring project 'assignment1' when running a sweep."
      ],
      "text/plain": [
       "<IPython.core.display.HTML object>"
      ]
     },
     "metadata": {},
     "output_type": "display_data"
    },
    {
     "data": {
      "text/html": [
       "Ignoring entity 'da6401-assignments' when running a sweep."
      ],
      "text/plain": [
       "<IPython.core.display.HTML object>"
      ]
     },
     "metadata": {},
     "output_type": "display_data"
    },
    {
     "data": {
      "text/html": [
       "Waiting for wandb.init()..."
      ],
      "text/plain": [
       "<IPython.core.display.HTML object>"
      ]
     },
     "metadata": {},
     "output_type": "display_data"
    },
    {
     "data": {
      "text/html": [
       "Tracking run with wandb version 0.19.8"
      ],
      "text/plain": [
       "<IPython.core.display.HTML object>"
      ]
     },
     "metadata": {},
     "output_type": "display_data"
    },
    {
     "data": {
      "text/html": [
       "Run data is saved locally in <code>c:\\Users\\prajv\\Downloads\\ass1\\DA6401_ASSIGNMENT1\\wandb\\run-20250310_023817-8tm04pt0</code>"
      ],
      "text/plain": [
       "<IPython.core.display.HTML object>"
      ]
     },
     "metadata": {},
     "output_type": "display_data"
    },
    {
     "data": {
      "text/html": [
       "Syncing run <strong><a href='https://wandb.ai/da6401-assignments/assignment1/runs/8tm04pt0' target=\"_blank\">honest-sweep-2</a></strong> to <a href='https://wandb.ai/da6401-assignments/assignment1' target=\"_blank\">Weights & Biases</a> (<a href='https://wandb.me/developer-guide' target=\"_blank\">docs</a>)<br>Sweep page: <a href='https://wandb.ai/da6401-assignments/assignment1/sweeps/enexfa0c' target=\"_blank\">https://wandb.ai/da6401-assignments/assignment1/sweeps/enexfa0c</a>"
      ],
      "text/plain": [
       "<IPython.core.display.HTML object>"
      ]
     },
     "metadata": {},
     "output_type": "display_data"
    },
    {
     "data": {
      "text/html": [
       " View project at <a href='https://wandb.ai/da6401-assignments/assignment1' target=\"_blank\">https://wandb.ai/da6401-assignments/assignment1</a>"
      ],
      "text/plain": [
       "<IPython.core.display.HTML object>"
      ]
     },
     "metadata": {},
     "output_type": "display_data"
    },
    {
     "data": {
      "text/html": [
       " View sweep at <a href='https://wandb.ai/da6401-assignments/assignment1/sweeps/enexfa0c' target=\"_blank\">https://wandb.ai/da6401-assignments/assignment1/sweeps/enexfa0c</a>"
      ],
      "text/plain": [
       "<IPython.core.display.HTML object>"
      ]
     },
     "metadata": {},
     "output_type": "display_data"
    },
    {
     "data": {
      "text/html": [
       " View run at <a href='https://wandb.ai/da6401-assignments/assignment1/runs/8tm04pt0' target=\"_blank\">https://wandb.ai/da6401-assignments/assignment1/runs/8tm04pt0</a>"
      ],
      "text/plain": [
       "<IPython.core.display.HTML object>"
      ]
     },
     "metadata": {},
     "output_type": "display_data"
    },
    {
     "name": "stdout",
     "output_type": "stream",
     "text": [
      "Sweep Name:  LR: 0.001, AC: relu, BS: 32, Optim: adam, WI: xavier, WD: 0, No_HL: 5, HS: 32\n",
      "Epoch 0: Training Loss = 0.5913 Validation Loss = 0.6043\n",
      "Training Accuracy = 0.7821 Validation Accuracy = 0.7850\n",
      "Epoch 1: Training Loss = 0.5355 Validation Loss = 0.5483\n",
      "Training Accuracy = 0.8033 Validation Accuracy = 0.8027\n",
      "Epoch 2: Training Loss = 0.5024 Validation Loss = 0.5202\n",
      "Training Accuracy = 0.8177 Validation Accuracy = 0.8148\n",
      "Epoch 3: Training Loss = 0.4570 Validation Loss = 0.4861\n",
      "Training Accuracy = 0.8361 Validation Accuracy = 0.8275\n",
      "Epoch 4: Training Loss = 0.4372 Validation Loss = 0.4709\n",
      "Training Accuracy = 0.8418 Validation Accuracy = 0.8312\n"
     ]
    },
    {
     "data": {
      "text/html": [],
      "text/plain": [
       "<IPython.core.display.HTML object>"
      ]
     },
     "metadata": {},
     "output_type": "display_data"
    },
    {
     "data": {
      "text/html": [
       "<br>    <style><br>        .wandb-row {<br>            display: flex;<br>            flex-direction: row;<br>            flex-wrap: wrap;<br>            justify-content: flex-start;<br>            width: 100%;<br>        }<br>        .wandb-col {<br>            display: flex;<br>            flex-direction: column;<br>            flex-basis: 100%;<br>            flex: 1;<br>            padding: 10px;<br>        }<br>    </style><br><div class=\"wandb-row\"><div class=\"wandb-col\"><h3>Run history:</h3><br/><table class=\"wandb\"><tr><td>Accuracy</td><td>▁</td></tr><tr><td>epoch</td><td>▁▃▅▆█</td></tr><tr><td>train_acc</td><td>▁▃▅▇█</td></tr><tr><td>train_loss</td><td>█▅▄▂▁</td></tr><tr><td>val_acc</td><td>▁▄▆▇█</td></tr><tr><td>val_loss</td><td>█▅▄▂▁</td></tr></table><br/></div><div class=\"wandb-col\"><h3>Run summary:</h3><br/><table class=\"wandb\"><tr><td>Accuracy</td><td>0.83117</td></tr><tr><td>epoch</td><td>4</td></tr><tr><td>train_acc</td><td>0.84178</td></tr><tr><td>train_loss</td><td>0.43718</td></tr><tr><td>val_acc</td><td>0.83117</td></tr><tr><td>val_loss</td><td>0.47087</td></tr></table><br/></div></div>"
      ],
      "text/plain": [
       "<IPython.core.display.HTML object>"
      ]
     },
     "metadata": {},
     "output_type": "display_data"
    },
    {
     "data": {
      "text/html": [
       " View run <strong style=\"color:#cdcd00\">LR: 0.001, AC: relu, BS: 32, Optim: adam, WI: xavier, WD: 0, No_HL: 5, HS: 32</strong> at: <a href='https://wandb.ai/da6401-assignments/assignment1/runs/8tm04pt0' target=\"_blank\">https://wandb.ai/da6401-assignments/assignment1/runs/8tm04pt0</a><br> View project at: <a href='https://wandb.ai/da6401-assignments/assignment1' target=\"_blank\">https://wandb.ai/da6401-assignments/assignment1</a><br>Synced 5 W&B file(s), 0 media file(s), 0 artifact file(s) and 0 other file(s)"
      ],
      "text/plain": [
       "<IPython.core.display.HTML object>"
      ]
     },
     "metadata": {},
     "output_type": "display_data"
    },
    {
     "data": {
      "text/html": [
       "Find logs at: <code>.\\wandb\\run-20250310_023817-8tm04pt0\\logs</code>"
      ],
      "text/plain": [
       "<IPython.core.display.HTML object>"
      ]
     },
     "metadata": {},
     "output_type": "display_data"
    },
    {
     "name": "stderr",
     "output_type": "stream",
     "text": [
      "\u001b[34m\u001b[1mwandb\u001b[0m: Sweep Agent: Waiting for job.\n",
      "\u001b[34m\u001b[1mwandb\u001b[0m: Job received.\n",
      "\u001b[34m\u001b[1mwandb\u001b[0m: Agent Starting Run: w4ad7ww7 with config:\n",
      "\u001b[34m\u001b[1mwandb\u001b[0m: \tactivationFunc: tanh\n",
      "\u001b[34m\u001b[1mwandb\u001b[0m: \tbatchSize: 32\n",
      "\u001b[34m\u001b[1mwandb\u001b[0m: \thiddenLayer_Size: 64\n",
      "\u001b[34m\u001b[1mwandb\u001b[0m: \tlearningRate: 0.001\n",
      "\u001b[34m\u001b[1mwandb\u001b[0m: \tnum_epochs: 5\n",
      "\u001b[34m\u001b[1mwandb\u001b[0m: \tnum_hiddenLayers: 5\n",
      "\u001b[34m\u001b[1mwandb\u001b[0m: \toptimizer: nadam\n",
      "\u001b[34m\u001b[1mwandb\u001b[0m: \tweightDecay: 0\n",
      "\u001b[34m\u001b[1mwandb\u001b[0m: \tweightInit: xavier\n"
     ]
    },
    {
     "data": {
      "text/html": [
       "Ignoring project 'assignment1' when running a sweep."
      ],
      "text/plain": [
       "<IPython.core.display.HTML object>"
      ]
     },
     "metadata": {},
     "output_type": "display_data"
    },
    {
     "data": {
      "text/html": [
       "Ignoring entity 'da6401-assignments' when running a sweep."
      ],
      "text/plain": [
       "<IPython.core.display.HTML object>"
      ]
     },
     "metadata": {},
     "output_type": "display_data"
    },
    {
     "data": {
      "text/html": [
       "Waiting for wandb.init()..."
      ],
      "text/plain": [
       "<IPython.core.display.HTML object>"
      ]
     },
     "metadata": {},
     "output_type": "display_data"
    },
    {
     "data": {
      "text/html": [
       "Tracking run with wandb version 0.19.8"
      ],
      "text/plain": [
       "<IPython.core.display.HTML object>"
      ]
     },
     "metadata": {},
     "output_type": "display_data"
    },
    {
     "data": {
      "text/html": [
       "Run data is saved locally in <code>c:\\Users\\prajv\\Downloads\\ass1\\DA6401_ASSIGNMENT1\\wandb\\run-20250310_023842-w4ad7ww7</code>"
      ],
      "text/plain": [
       "<IPython.core.display.HTML object>"
      ]
     },
     "metadata": {},
     "output_type": "display_data"
    },
    {
     "data": {
      "text/html": [
       "Syncing run <strong><a href='https://wandb.ai/da6401-assignments/assignment1/runs/w4ad7ww7' target=\"_blank\">warm-sweep-3</a></strong> to <a href='https://wandb.ai/da6401-assignments/assignment1' target=\"_blank\">Weights & Biases</a> (<a href='https://wandb.me/developer-guide' target=\"_blank\">docs</a>)<br>Sweep page: <a href='https://wandb.ai/da6401-assignments/assignment1/sweeps/enexfa0c' target=\"_blank\">https://wandb.ai/da6401-assignments/assignment1/sweeps/enexfa0c</a>"
      ],
      "text/plain": [
       "<IPython.core.display.HTML object>"
      ]
     },
     "metadata": {},
     "output_type": "display_data"
    },
    {
     "data": {
      "text/html": [
       " View project at <a href='https://wandb.ai/da6401-assignments/assignment1' target=\"_blank\">https://wandb.ai/da6401-assignments/assignment1</a>"
      ],
      "text/plain": [
       "<IPython.core.display.HTML object>"
      ]
     },
     "metadata": {},
     "output_type": "display_data"
    },
    {
     "data": {
      "text/html": [
       " View sweep at <a href='https://wandb.ai/da6401-assignments/assignment1/sweeps/enexfa0c' target=\"_blank\">https://wandb.ai/da6401-assignments/assignment1/sweeps/enexfa0c</a>"
      ],
      "text/plain": [
       "<IPython.core.display.HTML object>"
      ]
     },
     "metadata": {},
     "output_type": "display_data"
    },
    {
     "data": {
      "text/html": [
       " View run at <a href='https://wandb.ai/da6401-assignments/assignment1/runs/w4ad7ww7' target=\"_blank\">https://wandb.ai/da6401-assignments/assignment1/runs/w4ad7ww7</a>"
      ],
      "text/plain": [
       "<IPython.core.display.HTML object>"
      ]
     },
     "metadata": {},
     "output_type": "display_data"
    },
    {
     "name": "stdout",
     "output_type": "stream",
     "text": [
      "Sweep Name:  LR: 0.001, AC: tanh, BS: 32, Optim: nadam, WI: xavier, WD: 0, No_HL: 5, HS: 64\n",
      "Epoch 0: Training Loss = 0.5293 Validation Loss = 0.5447\n",
      "Training Accuracy = 0.8089 Validation Accuracy = 0.7972\n",
      "Epoch 1: Training Loss = 0.4586 Validation Loss = 0.4835\n",
      "Training Accuracy = 0.8320 Validation Accuracy = 0.8277\n",
      "Epoch 2: Training Loss = 0.4210 Validation Loss = 0.4586\n",
      "Training Accuracy = 0.8478 Validation Accuracy = 0.8305\n",
      "Epoch 3: Training Loss = 0.4040 Validation Loss = 0.4421\n",
      "Training Accuracy = 0.8519 Validation Accuracy = 0.8377\n",
      "Epoch 4: Training Loss = 0.3655 Validation Loss = 0.4143\n",
      "Training Accuracy = 0.8663 Validation Accuracy = 0.8535\n"
     ]
    },
    {
     "data": {
      "text/html": [],
      "text/plain": [
       "<IPython.core.display.HTML object>"
      ]
     },
     "metadata": {},
     "output_type": "display_data"
    },
    {
     "data": {
      "text/html": [
       "<br>    <style><br>        .wandb-row {<br>            display: flex;<br>            flex-direction: row;<br>            flex-wrap: wrap;<br>            justify-content: flex-start;<br>            width: 100%;<br>        }<br>        .wandb-col {<br>            display: flex;<br>            flex-direction: column;<br>            flex-basis: 100%;<br>            flex: 1;<br>            padding: 10px;<br>        }<br>    </style><br><div class=\"wandb-row\"><div class=\"wandb-col\"><h3>Run history:</h3><br/><table class=\"wandb\"><tr><td>Accuracy</td><td>▁</td></tr><tr><td>epoch</td><td>▁▃▅▆█</td></tr><tr><td>train_acc</td><td>▁▄▆▆█</td></tr><tr><td>train_loss</td><td>█▅▃▃▁</td></tr><tr><td>val_acc</td><td>▁▅▅▆█</td></tr><tr><td>val_loss</td><td>█▅▃▂▁</td></tr></table><br/></div><div class=\"wandb-col\"><h3>Run summary:</h3><br/><table class=\"wandb\"><tr><td>Accuracy</td><td>0.8535</td></tr><tr><td>epoch</td><td>4</td></tr><tr><td>train_acc</td><td>0.86628</td></tr><tr><td>train_loss</td><td>0.36551</td></tr><tr><td>val_acc</td><td>0.8535</td></tr><tr><td>val_loss</td><td>0.41432</td></tr></table><br/></div></div>"
      ],
      "text/plain": [
       "<IPython.core.display.HTML object>"
      ]
     },
     "metadata": {},
     "output_type": "display_data"
    },
    {
     "data": {
      "text/html": [
       " View run <strong style=\"color:#cdcd00\">LR: 0.001, AC: tanh, BS: 32, Optim: nadam, WI: xavier, WD: 0, No_HL: 5, HS: 64</strong> at: <a href='https://wandb.ai/da6401-assignments/assignment1/runs/w4ad7ww7' target=\"_blank\">https://wandb.ai/da6401-assignments/assignment1/runs/w4ad7ww7</a><br> View project at: <a href='https://wandb.ai/da6401-assignments/assignment1' target=\"_blank\">https://wandb.ai/da6401-assignments/assignment1</a><br>Synced 5 W&B file(s), 0 media file(s), 0 artifact file(s) and 0 other file(s)"
      ],
      "text/plain": [
       "<IPython.core.display.HTML object>"
      ]
     },
     "metadata": {},
     "output_type": "display_data"
    },
    {
     "data": {
      "text/html": [
       "Find logs at: <code>.\\wandb\\run-20250310_023842-w4ad7ww7\\logs</code>"
      ],
      "text/plain": [
       "<IPython.core.display.HTML object>"
      ]
     },
     "metadata": {},
     "output_type": "display_data"
    },
    {
     "name": "stderr",
     "output_type": "stream",
     "text": [
      "\u001b[34m\u001b[1mwandb\u001b[0m: Agent Starting Run: wshho5gc with config:\n",
      "\u001b[34m\u001b[1mwandb\u001b[0m: \tactivationFunc: tanh\n",
      "\u001b[34m\u001b[1mwandb\u001b[0m: \tbatchSize: 16\n",
      "\u001b[34m\u001b[1mwandb\u001b[0m: \thiddenLayer_Size: 64\n",
      "\u001b[34m\u001b[1mwandb\u001b[0m: \tlearningRate: 0.001\n",
      "\u001b[34m\u001b[1mwandb\u001b[0m: \tnum_epochs: 10\n",
      "\u001b[34m\u001b[1mwandb\u001b[0m: \tnum_hiddenLayers: 3\n",
      "\u001b[34m\u001b[1mwandb\u001b[0m: \toptimizer: nesterov\n",
      "\u001b[34m\u001b[1mwandb\u001b[0m: \tweightDecay: 0.5\n",
      "\u001b[34m\u001b[1mwandb\u001b[0m: \tweightInit: random\n"
     ]
    },
    {
     "data": {
      "text/html": [
       "Ignoring project 'assignment1' when running a sweep."
      ],
      "text/plain": [
       "<IPython.core.display.HTML object>"
      ]
     },
     "metadata": {},
     "output_type": "display_data"
    },
    {
     "data": {
      "text/html": [
       "Ignoring entity 'da6401-assignments' when running a sweep."
      ],
      "text/plain": [
       "<IPython.core.display.HTML object>"
      ]
     },
     "metadata": {},
     "output_type": "display_data"
    },
    {
     "data": {
      "text/html": [
       "creating run (0.2s)"
      ],
      "text/plain": [
       "<IPython.core.display.HTML object>"
      ]
     },
     "metadata": {},
     "output_type": "display_data"
    },
    {
     "data": {
      "text/html": [
       "Tracking run with wandb version 0.19.8"
      ],
      "text/plain": [
       "<IPython.core.display.HTML object>"
      ]
     },
     "metadata": {},
     "output_type": "display_data"
    },
    {
     "data": {
      "text/html": [
       "Run data is saved locally in <code>c:\\Users\\prajv\\Downloads\\ass1\\DA6401_ASSIGNMENT1\\wandb\\run-20250310_023909-wshho5gc</code>"
      ],
      "text/plain": [
       "<IPython.core.display.HTML object>"
      ]
     },
     "metadata": {},
     "output_type": "display_data"
    },
    {
     "data": {
      "text/html": [
       "Syncing run <strong><a href='https://wandb.ai/da6401-assignments/assignment1/runs/wshho5gc' target=\"_blank\">vibrant-sweep-4</a></strong> to <a href='https://wandb.ai/da6401-assignments/assignment1' target=\"_blank\">Weights & Biases</a> (<a href='https://wandb.me/developer-guide' target=\"_blank\">docs</a>)<br>Sweep page: <a href='https://wandb.ai/da6401-assignments/assignment1/sweeps/enexfa0c' target=\"_blank\">https://wandb.ai/da6401-assignments/assignment1/sweeps/enexfa0c</a>"
      ],
      "text/plain": [
       "<IPython.core.display.HTML object>"
      ]
     },
     "metadata": {},
     "output_type": "display_data"
    },
    {
     "data": {
      "text/html": [
       " View project at <a href='https://wandb.ai/da6401-assignments/assignment1' target=\"_blank\">https://wandb.ai/da6401-assignments/assignment1</a>"
      ],
      "text/plain": [
       "<IPython.core.display.HTML object>"
      ]
     },
     "metadata": {},
     "output_type": "display_data"
    },
    {
     "data": {
      "text/html": [
       " View sweep at <a href='https://wandb.ai/da6401-assignments/assignment1/sweeps/enexfa0c' target=\"_blank\">https://wandb.ai/da6401-assignments/assignment1/sweeps/enexfa0c</a>"
      ],
      "text/plain": [
       "<IPython.core.display.HTML object>"
      ]
     },
     "metadata": {},
     "output_type": "display_data"
    },
    {
     "data": {
      "text/html": [
       " View run at <a href='https://wandb.ai/da6401-assignments/assignment1/runs/wshho5gc' target=\"_blank\">https://wandb.ai/da6401-assignments/assignment1/runs/wshho5gc</a>"
      ],
      "text/plain": [
       "<IPython.core.display.HTML object>"
      ]
     },
     "metadata": {},
     "output_type": "display_data"
    },
    {
     "name": "stdout",
     "output_type": "stream",
     "text": [
      "Sweep Name:  LR: 0.001, AC: tanh, BS: 16, Optim: nesterov, WI: random, WD: 0.5, No_HL: 3, HS: 64\n",
      "Epoch 0: Training Loss = 5.2783 Validation Loss = 5.2896\n",
      "Training Accuracy = 0.1296 Validation Accuracy = 0.1357\n",
      "Epoch 1: Training Loss = 5.2783 Validation Loss = 5.2896\n",
      "Training Accuracy = 0.1296 Validation Accuracy = 0.1357\n",
      "Epoch 2: Training Loss = 5.2783 Validation Loss = 5.2896\n",
      "Training Accuracy = 0.1296 Validation Accuracy = 0.1357\n",
      "Epoch 3: Training Loss = 5.2783 Validation Loss = 5.2896\n",
      "Training Accuracy = 0.1296 Validation Accuracy = 0.1357\n",
      "Epoch 4: Training Loss = 5.2783 Validation Loss = 5.2896\n",
      "Training Accuracy = 0.1296 Validation Accuracy = 0.1357\n",
      "Epoch 5: Training Loss = 5.2783 Validation Loss = 5.2896\n",
      "Training Accuracy = 0.1296 Validation Accuracy = 0.1357\n",
      "Epoch 6: Training Loss = 5.2783 Validation Loss = 5.2896\n",
      "Training Accuracy = 0.1296 Validation Accuracy = 0.1357\n",
      "Epoch 7: Training Loss = 5.2783 Validation Loss = 5.2896\n",
      "Training Accuracy = 0.1296 Validation Accuracy = 0.1357\n",
      "Epoch 8: Training Loss = 5.2783 Validation Loss = 5.2896\n",
      "Training Accuracy = 0.1296 Validation Accuracy = 0.1357\n",
      "Epoch 9: Training Loss = 5.2783 Validation Loss = 5.2896\n",
      "Training Accuracy = 0.1296 Validation Accuracy = 0.1357\n"
     ]
    },
    {
     "data": {
      "text/html": [],
      "text/plain": [
       "<IPython.core.display.HTML object>"
      ]
     },
     "metadata": {},
     "output_type": "display_data"
    },
    {
     "data": {
      "text/html": [
       "<br>    <style><br>        .wandb-row {<br>            display: flex;<br>            flex-direction: row;<br>            flex-wrap: wrap;<br>            justify-content: flex-start;<br>            width: 100%;<br>        }<br>        .wandb-col {<br>            display: flex;<br>            flex-direction: column;<br>            flex-basis: 100%;<br>            flex: 1;<br>            padding: 10px;<br>        }<br>    </style><br><div class=\"wandb-row\"><div class=\"wandb-col\"><h3>Run history:</h3><br/><table class=\"wandb\"><tr><td>Accuracy</td><td>▁</td></tr><tr><td>epoch</td><td>▁▂▃▃▄▅▆▆▇█</td></tr><tr><td>train_acc</td><td>▁▁▁▁▁▁▁▁▁▁</td></tr><tr><td>train_loss</td><td>▁▁▁▁▁▁▁▁▁▁</td></tr><tr><td>val_acc</td><td>▁▁▁▁▁▁▁▁▁▁</td></tr><tr><td>val_loss</td><td>▁▁▁▁▁▁▁▁▁▁</td></tr></table><br/></div><div class=\"wandb-col\"><h3>Run summary:</h3><br/><table class=\"wandb\"><tr><td>Accuracy</td><td>0.13567</td></tr><tr><td>epoch</td><td>9</td></tr><tr><td>train_acc</td><td>0.12965</td></tr><tr><td>train_loss</td><td>5.27834</td></tr><tr><td>val_acc</td><td>0.13567</td></tr><tr><td>val_loss</td><td>5.28962</td></tr></table><br/></div></div>"
      ],
      "text/plain": [
       "<IPython.core.display.HTML object>"
      ]
     },
     "metadata": {},
     "output_type": "display_data"
    },
    {
     "data": {
      "text/html": [
       " View run <strong style=\"color:#cdcd00\">LR: 0.001, AC: tanh, BS: 16, Optim: nesterov, WI: random, WD: 0.5, No_HL: 3, HS: 64</strong> at: <a href='https://wandb.ai/da6401-assignments/assignment1/runs/wshho5gc' target=\"_blank\">https://wandb.ai/da6401-assignments/assignment1/runs/wshho5gc</a><br> View project at: <a href='https://wandb.ai/da6401-assignments/assignment1' target=\"_blank\">https://wandb.ai/da6401-assignments/assignment1</a><br>Synced 5 W&B file(s), 0 media file(s), 0 artifact file(s) and 0 other file(s)"
      ],
      "text/plain": [
       "<IPython.core.display.HTML object>"
      ]
     },
     "metadata": {},
     "output_type": "display_data"
    },
    {
     "data": {
      "text/html": [
       "Find logs at: <code>.\\wandb\\run-20250310_023909-wshho5gc\\logs</code>"
      ],
      "text/plain": [
       "<IPython.core.display.HTML object>"
      ]
     },
     "metadata": {},
     "output_type": "display_data"
    },
    {
     "name": "stderr",
     "output_type": "stream",
     "text": [
      "\u001b[34m\u001b[1mwandb\u001b[0m: Agent Starting Run: 5wirtl4c with config:\n",
      "\u001b[34m\u001b[1mwandb\u001b[0m: \tactivationFunc: tanh\n",
      "\u001b[34m\u001b[1mwandb\u001b[0m: \tbatchSize: 16\n",
      "\u001b[34m\u001b[1mwandb\u001b[0m: \thiddenLayer_Size: 128\n",
      "\u001b[34m\u001b[1mwandb\u001b[0m: \tlearningRate: 0.0001\n",
      "\u001b[34m\u001b[1mwandb\u001b[0m: \tnum_epochs: 5\n",
      "\u001b[34m\u001b[1mwandb\u001b[0m: \tnum_hiddenLayers: 4\n",
      "\u001b[34m\u001b[1mwandb\u001b[0m: \toptimizer: adam\n",
      "\u001b[34m\u001b[1mwandb\u001b[0m: \tweightDecay: 0.0005\n",
      "\u001b[34m\u001b[1mwandb\u001b[0m: \tweightInit: random\n"
     ]
    },
    {
     "data": {
      "text/html": [
       "Ignoring project 'assignment1' when running a sweep."
      ],
      "text/plain": [
       "<IPython.core.display.HTML object>"
      ]
     },
     "metadata": {},
     "output_type": "display_data"
    },
    {
     "data": {
      "text/html": [
       "Ignoring entity 'da6401-assignments' when running a sweep."
      ],
      "text/plain": [
       "<IPython.core.display.HTML object>"
      ]
     },
     "metadata": {},
     "output_type": "display_data"
    },
    {
     "data": {
      "text/html": [
       "creating run (0.2s)"
      ],
      "text/plain": [
       "<IPython.core.display.HTML object>"
      ]
     },
     "metadata": {},
     "output_type": "display_data"
    },
    {
     "data": {
      "text/html": [
       "Tracking run with wandb version 0.19.8"
      ],
      "text/plain": [
       "<IPython.core.display.HTML object>"
      ]
     },
     "metadata": {},
     "output_type": "display_data"
    },
    {
     "data": {
      "text/html": [
       "Run data is saved locally in <code>c:\\Users\\prajv\\Downloads\\ass1\\DA6401_ASSIGNMENT1\\wandb\\run-20250310_023936-5wirtl4c</code>"
      ],
      "text/plain": [
       "<IPython.core.display.HTML object>"
      ]
     },
     "metadata": {},
     "output_type": "display_data"
    },
    {
     "data": {
      "text/html": [
       "Syncing run <strong><a href='https://wandb.ai/da6401-assignments/assignment1/runs/5wirtl4c' target=\"_blank\">vocal-sweep-5</a></strong> to <a href='https://wandb.ai/da6401-assignments/assignment1' target=\"_blank\">Weights & Biases</a> (<a href='https://wandb.me/developer-guide' target=\"_blank\">docs</a>)<br>Sweep page: <a href='https://wandb.ai/da6401-assignments/assignment1/sweeps/enexfa0c' target=\"_blank\">https://wandb.ai/da6401-assignments/assignment1/sweeps/enexfa0c</a>"
      ],
      "text/plain": [
       "<IPython.core.display.HTML object>"
      ]
     },
     "metadata": {},
     "output_type": "display_data"
    },
    {
     "data": {
      "text/html": [
       " View project at <a href='https://wandb.ai/da6401-assignments/assignment1' target=\"_blank\">https://wandb.ai/da6401-assignments/assignment1</a>"
      ],
      "text/plain": [
       "<IPython.core.display.HTML object>"
      ]
     },
     "metadata": {},
     "output_type": "display_data"
    },
    {
     "data": {
      "text/html": [
       " View sweep at <a href='https://wandb.ai/da6401-assignments/assignment1/sweeps/enexfa0c' target=\"_blank\">https://wandb.ai/da6401-assignments/assignment1/sweeps/enexfa0c</a>"
      ],
      "text/plain": [
       "<IPython.core.display.HTML object>"
      ]
     },
     "metadata": {},
     "output_type": "display_data"
    },
    {
     "data": {
      "text/html": [
       " View run at <a href='https://wandb.ai/da6401-assignments/assignment1/runs/5wirtl4c' target=\"_blank\">https://wandb.ai/da6401-assignments/assignment1/runs/5wirtl4c</a>"
      ],
      "text/plain": [
       "<IPython.core.display.HTML object>"
      ]
     },
     "metadata": {},
     "output_type": "display_data"
    },
    {
     "name": "stdout",
     "output_type": "stream",
     "text": [
      "Sweep Name:  LR: 0.0001, AC: tanh, BS: 16, Optim: adam, WI: random, WD: 0.0005, No_HL: 4, HS: 128\n",
      "Epoch 0: Training Loss = 0.7973 Validation Loss = 0.8021\n",
      "Training Accuracy = 0.7126 Validation Accuracy = 0.7177\n",
      "Epoch 1: Training Loss = 0.6740 Validation Loss = 0.6936\n",
      "Training Accuracy = 0.7546 Validation Accuracy = 0.7512\n",
      "Epoch 2: Training Loss = 0.6111 Validation Loss = 0.6414\n",
      "Training Accuracy = 0.7760 Validation Accuracy = 0.7642\n",
      "Epoch 3: Training Loss = 0.5645 Validation Loss = 0.6020\n",
      "Training Accuracy = 0.7945 Validation Accuracy = 0.7825\n",
      "Epoch 4: Training Loss = 0.5324 Validation Loss = 0.5713\n",
      "Training Accuracy = 0.8075 Validation Accuracy = 0.7943\n"
     ]
    },
    {
     "data": {
      "text/html": [],
      "text/plain": [
       "<IPython.core.display.HTML object>"
      ]
     },
     "metadata": {},
     "output_type": "display_data"
    },
    {
     "data": {
      "text/html": [
       "<br>    <style><br>        .wandb-row {<br>            display: flex;<br>            flex-direction: row;<br>            flex-wrap: wrap;<br>            justify-content: flex-start;<br>            width: 100%;<br>        }<br>        .wandb-col {<br>            display: flex;<br>            flex-direction: column;<br>            flex-basis: 100%;<br>            flex: 1;<br>            padding: 10px;<br>        }<br>    </style><br><div class=\"wandb-row\"><div class=\"wandb-col\"><h3>Run history:</h3><br/><table class=\"wandb\"><tr><td>Accuracy</td><td>▁</td></tr><tr><td>epoch</td><td>▁▃▅▆█</td></tr><tr><td>train_acc</td><td>▁▄▆▇█</td></tr><tr><td>train_loss</td><td>█▅▃▂▁</td></tr><tr><td>val_acc</td><td>▁▄▅▇█</td></tr><tr><td>val_loss</td><td>█▅▃▂▁</td></tr></table><br/></div><div class=\"wandb-col\"><h3>Run summary:</h3><br/><table class=\"wandb\"><tr><td>Accuracy</td><td>0.79433</td></tr><tr><td>epoch</td><td>4</td></tr><tr><td>train_acc</td><td>0.80754</td></tr><tr><td>train_loss</td><td>0.53236</td></tr><tr><td>val_acc</td><td>0.79433</td></tr><tr><td>val_loss</td><td>0.57132</td></tr></table><br/></div></div>"
      ],
      "text/plain": [
       "<IPython.core.display.HTML object>"
      ]
     },
     "metadata": {},
     "output_type": "display_data"
    },
    {
     "data": {
      "text/html": [
       " View run <strong style=\"color:#cdcd00\">LR: 0.0001, AC: tanh, BS: 16, Optim: adam, WI: random, WD: 0.0005, No_HL: 4, HS: 128</strong> at: <a href='https://wandb.ai/da6401-assignments/assignment1/runs/5wirtl4c' target=\"_blank\">https://wandb.ai/da6401-assignments/assignment1/runs/5wirtl4c</a><br> View project at: <a href='https://wandb.ai/da6401-assignments/assignment1' target=\"_blank\">https://wandb.ai/da6401-assignments/assignment1</a><br>Synced 5 W&B file(s), 0 media file(s), 0 artifact file(s) and 0 other file(s)"
      ],
      "text/plain": [
       "<IPython.core.display.HTML object>"
      ]
     },
     "metadata": {},
     "output_type": "display_data"
    },
    {
     "data": {
      "text/html": [
       "Find logs at: <code>.\\wandb\\run-20250310_023936-5wirtl4c\\logs</code>"
      ],
      "text/plain": [
       "<IPython.core.display.HTML object>"
      ]
     },
     "metadata": {},
     "output_type": "display_data"
    },
    {
     "name": "stderr",
     "output_type": "stream",
     "text": [
      "\u001b[34m\u001b[1mwandb\u001b[0m: Sweep Agent: Waiting for job.\n",
      "\u001b[34m\u001b[1mwandb\u001b[0m: Job received.\n",
      "\u001b[34m\u001b[1mwandb\u001b[0m: Agent Starting Run: p0qr5sxp with config:\n",
      "\u001b[34m\u001b[1mwandb\u001b[0m: \tactivationFunc: sigmoid\n",
      "\u001b[34m\u001b[1mwandb\u001b[0m: \tbatchSize: 64\n",
      "\u001b[34m\u001b[1mwandb\u001b[0m: \thiddenLayer_Size: 64\n",
      "\u001b[34m\u001b[1mwandb\u001b[0m: \tlearningRate: 0.001\n",
      "\u001b[34m\u001b[1mwandb\u001b[0m: \tnum_epochs: 10\n",
      "\u001b[34m\u001b[1mwandb\u001b[0m: \tnum_hiddenLayers: 3\n",
      "\u001b[34m\u001b[1mwandb\u001b[0m: \toptimizer: nesterov\n",
      "\u001b[34m\u001b[1mwandb\u001b[0m: \tweightDecay: 0.5\n",
      "\u001b[34m\u001b[1mwandb\u001b[0m: \tweightInit: random\n"
     ]
    },
    {
     "data": {
      "text/html": [
       "Ignoring project 'assignment1' when running a sweep."
      ],
      "text/plain": [
       "<IPython.core.display.HTML object>"
      ]
     },
     "metadata": {},
     "output_type": "display_data"
    },
    {
     "data": {
      "text/html": [
       "Ignoring entity 'da6401-assignments' when running a sweep."
      ],
      "text/plain": [
       "<IPython.core.display.HTML object>"
      ]
     },
     "metadata": {},
     "output_type": "display_data"
    },
    {
     "data": {
      "text/html": [
       "Waiting for wandb.init()..."
      ],
      "text/plain": [
       "<IPython.core.display.HTML object>"
      ]
     },
     "metadata": {},
     "output_type": "display_data"
    },
    {
     "data": {
      "text/html": [
       "Tracking run with wandb version 0.19.8"
      ],
      "text/plain": [
       "<IPython.core.display.HTML object>"
      ]
     },
     "metadata": {},
     "output_type": "display_data"
    },
    {
     "data": {
      "text/html": [
       "Run data is saved locally in <code>c:\\Users\\prajv\\Downloads\\ass1\\DA6401_ASSIGNMENT1\\wandb\\run-20250310_024049-p0qr5sxp</code>"
      ],
      "text/plain": [
       "<IPython.core.display.HTML object>"
      ]
     },
     "metadata": {},
     "output_type": "display_data"
    },
    {
     "data": {
      "text/html": [
       "Syncing run <strong><a href='https://wandb.ai/da6401-assignments/assignment1/runs/p0qr5sxp' target=\"_blank\">stellar-sweep-6</a></strong> to <a href='https://wandb.ai/da6401-assignments/assignment1' target=\"_blank\">Weights & Biases</a> (<a href='https://wandb.me/developer-guide' target=\"_blank\">docs</a>)<br>Sweep page: <a href='https://wandb.ai/da6401-assignments/assignment1/sweeps/enexfa0c' target=\"_blank\">https://wandb.ai/da6401-assignments/assignment1/sweeps/enexfa0c</a>"
      ],
      "text/plain": [
       "<IPython.core.display.HTML object>"
      ]
     },
     "metadata": {},
     "output_type": "display_data"
    },
    {
     "data": {
      "text/html": [
       " View project at <a href='https://wandb.ai/da6401-assignments/assignment1' target=\"_blank\">https://wandb.ai/da6401-assignments/assignment1</a>"
      ],
      "text/plain": [
       "<IPython.core.display.HTML object>"
      ]
     },
     "metadata": {},
     "output_type": "display_data"
    },
    {
     "data": {
      "text/html": [
       " View sweep at <a href='https://wandb.ai/da6401-assignments/assignment1/sweeps/enexfa0c' target=\"_blank\">https://wandb.ai/da6401-assignments/assignment1/sweeps/enexfa0c</a>"
      ],
      "text/plain": [
       "<IPython.core.display.HTML object>"
      ]
     },
     "metadata": {},
     "output_type": "display_data"
    },
    {
     "data": {
      "text/html": [
       " View run at <a href='https://wandb.ai/da6401-assignments/assignment1/runs/p0qr5sxp' target=\"_blank\">https://wandb.ai/da6401-assignments/assignment1/runs/p0qr5sxp</a>"
      ],
      "text/plain": [
       "<IPython.core.display.HTML object>"
      ]
     },
     "metadata": {},
     "output_type": "display_data"
    },
    {
     "name": "stdout",
     "output_type": "stream",
     "text": [
      "Sweep Name:  LR: 0.001, AC: sigmoid, BS: 64, Optim: nesterov, WI: random, WD: 0.5, No_HL: 3, HS: 64\n",
      "Epoch 0: Training Loss = 9.0522 Validation Loss = 8.9969\n",
      "Training Accuracy = 0.0908 Validation Accuracy = 0.1010\n",
      "Epoch 1: Training Loss = 9.0522 Validation Loss = 8.9969\n",
      "Training Accuracy = 0.0908 Validation Accuracy = 0.1010\n",
      "Epoch 2: Training Loss = 9.0522 Validation Loss = 8.9969\n",
      "Training Accuracy = 0.0908 Validation Accuracy = 0.1010\n",
      "Epoch 3: Training Loss = 9.0522 Validation Loss = 8.9969\n",
      "Training Accuracy = 0.0908 Validation Accuracy = 0.1010\n",
      "Epoch 4: Training Loss = 9.0522 Validation Loss = 8.9969\n",
      "Training Accuracy = 0.0908 Validation Accuracy = 0.1010\n",
      "Epoch 5: Training Loss = 9.0522 Validation Loss = 8.9969\n",
      "Training Accuracy = 0.0908 Validation Accuracy = 0.1010\n",
      "Epoch 6: Training Loss = 9.0522 Validation Loss = 8.9969\n",
      "Training Accuracy = 0.0908 Validation Accuracy = 0.1010\n",
      "Epoch 7: Training Loss = 9.0522 Validation Loss = 8.9969\n",
      "Training Accuracy = 0.0908 Validation Accuracy = 0.1010\n",
      "Epoch 8: Training Loss = 9.0522 Validation Loss = 8.9969\n",
      "Training Accuracy = 0.0908 Validation Accuracy = 0.1010\n",
      "Epoch 9: Training Loss = 9.0522 Validation Loss = 8.9969\n",
      "Training Accuracy = 0.0908 Validation Accuracy = 0.1010\n"
     ]
    },
    {
     "data": {
      "text/html": [],
      "text/plain": [
       "<IPython.core.display.HTML object>"
      ]
     },
     "metadata": {},
     "output_type": "display_data"
    },
    {
     "data": {
      "text/html": [
       "<br>    <style><br>        .wandb-row {<br>            display: flex;<br>            flex-direction: row;<br>            flex-wrap: wrap;<br>            justify-content: flex-start;<br>            width: 100%;<br>        }<br>        .wandb-col {<br>            display: flex;<br>            flex-direction: column;<br>            flex-basis: 100%;<br>            flex: 1;<br>            padding: 10px;<br>        }<br>    </style><br><div class=\"wandb-row\"><div class=\"wandb-col\"><h3>Run history:</h3><br/><table class=\"wandb\"><tr><td>Accuracy</td><td>▁</td></tr><tr><td>epoch</td><td>▁▂▃▃▄▅▆▆▇█</td></tr><tr><td>train_acc</td><td>▁▁▁▁▁▁▁▁▁▁</td></tr><tr><td>train_loss</td><td>▁▁▁▁▁▁▁▁▁▁</td></tr><tr><td>val_acc</td><td>▁▁▁▁▁▁▁▁▁▁</td></tr><tr><td>val_loss</td><td>▁▁▁▁▁▁▁▁▁▁</td></tr></table><br/></div><div class=\"wandb-col\"><h3>Run summary:</h3><br/><table class=\"wandb\"><tr><td>Accuracy</td><td>0.101</td></tr><tr><td>epoch</td><td>9</td></tr><tr><td>train_acc</td><td>0.0908</td></tr><tr><td>train_loss</td><td>9.05216</td></tr><tr><td>val_acc</td><td>0.101</td></tr><tr><td>val_loss</td><td>8.99691</td></tr></table><br/></div></div>"
      ],
      "text/plain": [
       "<IPython.core.display.HTML object>"
      ]
     },
     "metadata": {},
     "output_type": "display_data"
    },
    {
     "data": {
      "text/html": [
       " View run <strong style=\"color:#cdcd00\">LR: 0.001, AC: sigmoid, BS: 64, Optim: nesterov, WI: random, WD: 0.5, No_HL: 3, HS: 64</strong> at: <a href='https://wandb.ai/da6401-assignments/assignment1/runs/p0qr5sxp' target=\"_blank\">https://wandb.ai/da6401-assignments/assignment1/runs/p0qr5sxp</a><br> View project at: <a href='https://wandb.ai/da6401-assignments/assignment1' target=\"_blank\">https://wandb.ai/da6401-assignments/assignment1</a><br>Synced 5 W&B file(s), 0 media file(s), 0 artifact file(s) and 0 other file(s)"
      ],
      "text/plain": [
       "<IPython.core.display.HTML object>"
      ]
     },
     "metadata": {},
     "output_type": "display_data"
    },
    {
     "data": {
      "text/html": [
       "Find logs at: <code>.\\wandb\\run-20250310_024049-p0qr5sxp\\logs</code>"
      ],
      "text/plain": [
       "<IPython.core.display.HTML object>"
      ]
     },
     "metadata": {},
     "output_type": "display_data"
    },
    {
     "name": "stderr",
     "output_type": "stream",
     "text": [
      "\u001b[34m\u001b[1mwandb\u001b[0m: Agent Starting Run: 84dzsz8o with config:\n",
      "\u001b[34m\u001b[1mwandb\u001b[0m: \tactivationFunc: sigmoid\n",
      "\u001b[34m\u001b[1mwandb\u001b[0m: \tbatchSize: 32\n",
      "\u001b[34m\u001b[1mwandb\u001b[0m: \thiddenLayer_Size: 64\n",
      "\u001b[34m\u001b[1mwandb\u001b[0m: \tlearningRate: 0.0001\n",
      "\u001b[34m\u001b[1mwandb\u001b[0m: \tnum_epochs: 10\n",
      "\u001b[34m\u001b[1mwandb\u001b[0m: \tnum_hiddenLayers: 4\n",
      "\u001b[34m\u001b[1mwandb\u001b[0m: \toptimizer: adam\n",
      "\u001b[34m\u001b[1mwandb\u001b[0m: \tweightDecay: 0\n",
      "\u001b[34m\u001b[1mwandb\u001b[0m: \tweightInit: random\n"
     ]
    },
    {
     "data": {
      "text/html": [
       "Ignoring project 'assignment1' when running a sweep."
      ],
      "text/plain": [
       "<IPython.core.display.HTML object>"
      ]
     },
     "metadata": {},
     "output_type": "display_data"
    },
    {
     "data": {
      "text/html": [
       "Ignoring entity 'da6401-assignments' when running a sweep."
      ],
      "text/plain": [
       "<IPython.core.display.HTML object>"
      ]
     },
     "metadata": {},
     "output_type": "display_data"
    },
    {
     "data": {
      "text/html": [
       "Waiting for wandb.init()..."
      ],
      "text/plain": [
       "<IPython.core.display.HTML object>"
      ]
     },
     "metadata": {},
     "output_type": "display_data"
    },
    {
     "data": {
      "text/html": [
       "Tracking run with wandb version 0.19.8"
      ],
      "text/plain": [
       "<IPython.core.display.HTML object>"
      ]
     },
     "metadata": {},
     "output_type": "display_data"
    },
    {
     "data": {
      "text/html": [
       "Run data is saved locally in <code>c:\\Users\\prajv\\Downloads\\ass1\\DA6401_ASSIGNMENT1\\wandb\\run-20250310_024111-84dzsz8o</code>"
      ],
      "text/plain": [
       "<IPython.core.display.HTML object>"
      ]
     },
     "metadata": {},
     "output_type": "display_data"
    },
    {
     "data": {
      "text/html": [
       "Syncing run <strong><a href='https://wandb.ai/da6401-assignments/assignment1/runs/84dzsz8o' target=\"_blank\">comfy-sweep-7</a></strong> to <a href='https://wandb.ai/da6401-assignments/assignment1' target=\"_blank\">Weights & Biases</a> (<a href='https://wandb.me/developer-guide' target=\"_blank\">docs</a>)<br>Sweep page: <a href='https://wandb.ai/da6401-assignments/assignment1/sweeps/enexfa0c' target=\"_blank\">https://wandb.ai/da6401-assignments/assignment1/sweeps/enexfa0c</a>"
      ],
      "text/plain": [
       "<IPython.core.display.HTML object>"
      ]
     },
     "metadata": {},
     "output_type": "display_data"
    },
    {
     "data": {
      "text/html": [
       " View project at <a href='https://wandb.ai/da6401-assignments/assignment1' target=\"_blank\">https://wandb.ai/da6401-assignments/assignment1</a>"
      ],
      "text/plain": [
       "<IPython.core.display.HTML object>"
      ]
     },
     "metadata": {},
     "output_type": "display_data"
    },
    {
     "data": {
      "text/html": [
       " View sweep at <a href='https://wandb.ai/da6401-assignments/assignment1/sweeps/enexfa0c' target=\"_blank\">https://wandb.ai/da6401-assignments/assignment1/sweeps/enexfa0c</a>"
      ],
      "text/plain": [
       "<IPython.core.display.HTML object>"
      ]
     },
     "metadata": {},
     "output_type": "display_data"
    },
    {
     "data": {
      "text/html": [
       " View run at <a href='https://wandb.ai/da6401-assignments/assignment1/runs/84dzsz8o' target=\"_blank\">https://wandb.ai/da6401-assignments/assignment1/runs/84dzsz8o</a>"
      ],
      "text/plain": [
       "<IPython.core.display.HTML object>"
      ]
     },
     "metadata": {},
     "output_type": "display_data"
    },
    {
     "name": "stdout",
     "output_type": "stream",
     "text": [
      "Sweep Name:  LR: 0.0001, AC: sigmoid, BS: 32, Optim: adam, WI: random, WD: 0, No_HL: 4, HS: 64\n",
      "Epoch 0: Training Loss = 0.8999 Validation Loss = 0.8985\n",
      "Training Accuracy = 0.6895 Validation Accuracy = 0.6927\n",
      "Epoch 1: Training Loss = 0.7645 Validation Loss = 0.7700\n",
      "Training Accuracy = 0.7308 Validation Accuracy = 0.7267\n",
      "Epoch 2: Training Loss = 0.6970 Validation Loss = 0.7066\n",
      "Training Accuracy = 0.7544 Validation Accuracy = 0.7495\n",
      "Epoch 3: Training Loss = 0.6554 Validation Loss = 0.6679\n",
      "Training Accuracy = 0.7682 Validation Accuracy = 0.7627\n",
      "Epoch 4: Training Loss = 0.6195 Validation Loss = 0.6364\n",
      "Training Accuracy = 0.7802 Validation Accuracy = 0.7708\n",
      "Epoch 5: Training Loss = 0.5942 Validation Loss = 0.6096\n",
      "Training Accuracy = 0.7893 Validation Accuracy = 0.7828\n",
      "Epoch 6: Training Loss = 0.5716 Validation Loss = 0.5885\n",
      "Training Accuracy = 0.7966 Validation Accuracy = 0.7872\n",
      "Epoch 7: Training Loss = 0.5530 Validation Loss = 0.5710\n",
      "Training Accuracy = 0.8026 Validation Accuracy = 0.7930\n",
      "Epoch 8: Training Loss = 0.5374 Validation Loss = 0.5563\n",
      "Training Accuracy = 0.8080 Validation Accuracy = 0.7993\n",
      "Epoch 9: Training Loss = 0.5244 Validation Loss = 0.5439\n",
      "Training Accuracy = 0.8124 Validation Accuracy = 0.8013\n"
     ]
    },
    {
     "data": {
      "text/html": [],
      "text/plain": [
       "<IPython.core.display.HTML object>"
      ]
     },
     "metadata": {},
     "output_type": "display_data"
    },
    {
     "data": {
      "text/html": [
       "<br>    <style><br>        .wandb-row {<br>            display: flex;<br>            flex-direction: row;<br>            flex-wrap: wrap;<br>            justify-content: flex-start;<br>            width: 100%;<br>        }<br>        .wandb-col {<br>            display: flex;<br>            flex-direction: column;<br>            flex-basis: 100%;<br>            flex: 1;<br>            padding: 10px;<br>        }<br>    </style><br><div class=\"wandb-row\"><div class=\"wandb-col\"><h3>Run history:</h3><br/><table class=\"wandb\"><tr><td>Accuracy</td><td>▁</td></tr><tr><td>epoch</td><td>▁▂▃▃▄▅▆▆▇█</td></tr><tr><td>train_acc</td><td>▁▃▅▅▆▇▇▇██</td></tr><tr><td>train_loss</td><td>█▅▄▃▃▂▂▂▁▁</td></tr><tr><td>val_acc</td><td>▁▃▅▆▆▇▇▇██</td></tr><tr><td>val_loss</td><td>█▅▄▃▃▂▂▂▁▁</td></tr></table><br/></div><div class=\"wandb-col\"><h3>Run summary:</h3><br/><table class=\"wandb\"><tr><td>Accuracy</td><td>0.80133</td></tr><tr><td>epoch</td><td>9</td></tr><tr><td>train_acc</td><td>0.81239</td></tr><tr><td>train_loss</td><td>0.52441</td></tr><tr><td>val_acc</td><td>0.80133</td></tr><tr><td>val_loss</td><td>0.54386</td></tr></table><br/></div></div>"
      ],
      "text/plain": [
       "<IPython.core.display.HTML object>"
      ]
     },
     "metadata": {},
     "output_type": "display_data"
    },
    {
     "data": {
      "text/html": [
       " View run <strong style=\"color:#cdcd00\">LR: 0.0001, AC: sigmoid, BS: 32, Optim: adam, WI: random, WD: 0, No_HL: 4, HS: 64</strong> at: <a href='https://wandb.ai/da6401-assignments/assignment1/runs/84dzsz8o' target=\"_blank\">https://wandb.ai/da6401-assignments/assignment1/runs/84dzsz8o</a><br> View project at: <a href='https://wandb.ai/da6401-assignments/assignment1' target=\"_blank\">https://wandb.ai/da6401-assignments/assignment1</a><br>Synced 5 W&B file(s), 0 media file(s), 0 artifact file(s) and 0 other file(s)"
      ],
      "text/plain": [
       "<IPython.core.display.HTML object>"
      ]
     },
     "metadata": {},
     "output_type": "display_data"
    },
    {
     "data": {
      "text/html": [
       "Find logs at: <code>.\\wandb\\run-20250310_024111-84dzsz8o\\logs</code>"
      ],
      "text/plain": [
       "<IPython.core.display.HTML object>"
      ]
     },
     "metadata": {},
     "output_type": "display_data"
    },
    {
     "name": "stderr",
     "output_type": "stream",
     "text": [
      "\u001b[34m\u001b[1mwandb\u001b[0m: Agent Starting Run: nkl1b92t with config:\n",
      "\u001b[34m\u001b[1mwandb\u001b[0m: \tactivationFunc: tanh\n",
      "\u001b[34m\u001b[1mwandb\u001b[0m: \tbatchSize: 32\n",
      "\u001b[34m\u001b[1mwandb\u001b[0m: \thiddenLayer_Size: 128\n",
      "\u001b[34m\u001b[1mwandb\u001b[0m: \tlearningRate: 0.001\n",
      "\u001b[34m\u001b[1mwandb\u001b[0m: \tnum_epochs: 5\n",
      "\u001b[34m\u001b[1mwandb\u001b[0m: \tnum_hiddenLayers: 4\n",
      "\u001b[34m\u001b[1mwandb\u001b[0m: \toptimizer: rmsprop\n",
      "\u001b[34m\u001b[1mwandb\u001b[0m: \tweightDecay: 0.5\n",
      "\u001b[34m\u001b[1mwandb\u001b[0m: \tweightInit: random\n"
     ]
    },
    {
     "data": {
      "text/html": [
       "Ignoring project 'assignment1' when running a sweep."
      ],
      "text/plain": [
       "<IPython.core.display.HTML object>"
      ]
     },
     "metadata": {},
     "output_type": "display_data"
    },
    {
     "data": {
      "text/html": [
       "Ignoring entity 'da6401-assignments' when running a sweep."
      ],
      "text/plain": [
       "<IPython.core.display.HTML object>"
      ]
     },
     "metadata": {},
     "output_type": "display_data"
    },
    {
     "data": {
      "text/html": [
       "Waiting for wandb.init()..."
      ],
      "text/plain": [
       "<IPython.core.display.HTML object>"
      ]
     },
     "metadata": {},
     "output_type": "display_data"
    },
    {
     "data": {
      "text/html": [
       "Tracking run with wandb version 0.19.8"
      ],
      "text/plain": [
       "<IPython.core.display.HTML object>"
      ]
     },
     "metadata": {},
     "output_type": "display_data"
    },
    {
     "data": {
      "text/html": [
       "Run data is saved locally in <code>c:\\Users\\prajv\\Downloads\\ass1\\DA6401_ASSIGNMENT1\\wandb\\run-20250310_024159-nkl1b92t</code>"
      ],
      "text/plain": [
       "<IPython.core.display.HTML object>"
      ]
     },
     "metadata": {},
     "output_type": "display_data"
    },
    {
     "data": {
      "text/html": [
       "Syncing run <strong><a href='https://wandb.ai/da6401-assignments/assignment1/runs/nkl1b92t' target=\"_blank\">sweepy-sweep-8</a></strong> to <a href='https://wandb.ai/da6401-assignments/assignment1' target=\"_blank\">Weights & Biases</a> (<a href='https://wandb.me/developer-guide' target=\"_blank\">docs</a>)<br>Sweep page: <a href='https://wandb.ai/da6401-assignments/assignment1/sweeps/enexfa0c' target=\"_blank\">https://wandb.ai/da6401-assignments/assignment1/sweeps/enexfa0c</a>"
      ],
      "text/plain": [
       "<IPython.core.display.HTML object>"
      ]
     },
     "metadata": {},
     "output_type": "display_data"
    },
    {
     "data": {
      "text/html": [
       " View project at <a href='https://wandb.ai/da6401-assignments/assignment1' target=\"_blank\">https://wandb.ai/da6401-assignments/assignment1</a>"
      ],
      "text/plain": [
       "<IPython.core.display.HTML object>"
      ]
     },
     "metadata": {},
     "output_type": "display_data"
    },
    {
     "data": {
      "text/html": [
       " View sweep at <a href='https://wandb.ai/da6401-assignments/assignment1/sweeps/enexfa0c' target=\"_blank\">https://wandb.ai/da6401-assignments/assignment1/sweeps/enexfa0c</a>"
      ],
      "text/plain": [
       "<IPython.core.display.HTML object>"
      ]
     },
     "metadata": {},
     "output_type": "display_data"
    },
    {
     "data": {
      "text/html": [
       " View run at <a href='https://wandb.ai/da6401-assignments/assignment1/runs/nkl1b92t' target=\"_blank\">https://wandb.ai/da6401-assignments/assignment1/runs/nkl1b92t</a>"
      ],
      "text/plain": [
       "<IPython.core.display.HTML object>"
      ]
     },
     "metadata": {},
     "output_type": "display_data"
    },
    {
     "name": "stdout",
     "output_type": "stream",
     "text": [
      "Sweep Name:  LR: 0.001, AC: tanh, BS: 32, Optim: rmsprop, WI: random, WD: 0.5, No_HL: 4, HS: 128\n",
      "Epoch 0: Training Loss = 0.5061 Validation Loss = 0.5123\n",
      "Training Accuracy = 0.8158 Validation Accuracy = 0.8125\n",
      "Epoch 1: Training Loss = 0.4381 Validation Loss = 0.4692\n",
      "Training Accuracy = 0.8430 Validation Accuracy = 0.8340\n",
      "Epoch 2: Training Loss = 0.4123 Validation Loss = 0.4451\n",
      "Training Accuracy = 0.8506 Validation Accuracy = 0.8397\n",
      "Epoch 3: Training Loss = 0.3767 Validation Loss = 0.4193\n",
      "Training Accuracy = 0.8623 Validation Accuracy = 0.8502\n",
      "Epoch 4: Training Loss = 0.3783 Validation Loss = 0.4245\n",
      "Training Accuracy = 0.8569 Validation Accuracy = 0.8455\n"
     ]
    },
    {
     "data": {
      "text/html": [],
      "text/plain": [
       "<IPython.core.display.HTML object>"
      ]
     },
     "metadata": {},
     "output_type": "display_data"
    },
    {
     "data": {
      "text/html": [
       "<br>    <style><br>        .wandb-row {<br>            display: flex;<br>            flex-direction: row;<br>            flex-wrap: wrap;<br>            justify-content: flex-start;<br>            width: 100%;<br>        }<br>        .wandb-col {<br>            display: flex;<br>            flex-direction: column;<br>            flex-basis: 100%;<br>            flex: 1;<br>            padding: 10px;<br>        }<br>    </style><br><div class=\"wandb-row\"><div class=\"wandb-col\"><h3>Run history:</h3><br/><table class=\"wandb\"><tr><td>Accuracy</td><td>▁</td></tr><tr><td>epoch</td><td>▁▃▅▆█</td></tr><tr><td>train_acc</td><td>▁▅▆█▇</td></tr><tr><td>train_loss</td><td>█▄▃▁▁</td></tr><tr><td>val_acc</td><td>▁▅▆█▇</td></tr><tr><td>val_loss</td><td>█▅▃▁▁</td></tr></table><br/></div><div class=\"wandb-col\"><h3>Run summary:</h3><br/><table class=\"wandb\"><tr><td>Accuracy</td><td>0.8455</td></tr><tr><td>epoch</td><td>4</td></tr><tr><td>train_acc</td><td>0.85693</td></tr><tr><td>train_loss</td><td>0.37827</td></tr><tr><td>val_acc</td><td>0.8455</td></tr><tr><td>val_loss</td><td>0.42455</td></tr></table><br/></div></div>"
      ],
      "text/plain": [
       "<IPython.core.display.HTML object>"
      ]
     },
     "metadata": {},
     "output_type": "display_data"
    },
    {
     "data": {
      "text/html": [
       " View run <strong style=\"color:#cdcd00\">LR: 0.001, AC: tanh, BS: 32, Optim: rmsprop, WI: random, WD: 0.5, No_HL: 4, HS: 128</strong> at: <a href='https://wandb.ai/da6401-assignments/assignment1/runs/nkl1b92t' target=\"_blank\">https://wandb.ai/da6401-assignments/assignment1/runs/nkl1b92t</a><br> View project at: <a href='https://wandb.ai/da6401-assignments/assignment1' target=\"_blank\">https://wandb.ai/da6401-assignments/assignment1</a><br>Synced 5 W&B file(s), 0 media file(s), 0 artifact file(s) and 0 other file(s)"
      ],
      "text/plain": [
       "<IPython.core.display.HTML object>"
      ]
     },
     "metadata": {},
     "output_type": "display_data"
    },
    {
     "data": {
      "text/html": [
       "Find logs at: <code>.\\wandb\\run-20250310_024159-nkl1b92t\\logs</code>"
      ],
      "text/plain": [
       "<IPython.core.display.HTML object>"
      ]
     },
     "metadata": {},
     "output_type": "display_data"
    },
    {
     "name": "stderr",
     "output_type": "stream",
     "text": [
      "\u001b[34m\u001b[1mwandb\u001b[0m: Agent Starting Run: g73eazof with config:\n",
      "\u001b[34m\u001b[1mwandb\u001b[0m: \tactivationFunc: tanh\n",
      "\u001b[34m\u001b[1mwandb\u001b[0m: \tbatchSize: 16\n",
      "\u001b[34m\u001b[1mwandb\u001b[0m: \thiddenLayer_Size: 64\n",
      "\u001b[34m\u001b[1mwandb\u001b[0m: \tlearningRate: 0.001\n",
      "\u001b[34m\u001b[1mwandb\u001b[0m: \tnum_epochs: 5\n",
      "\u001b[34m\u001b[1mwandb\u001b[0m: \tnum_hiddenLayers: 3\n",
      "\u001b[34m\u001b[1mwandb\u001b[0m: \toptimizer: adam\n",
      "\u001b[34m\u001b[1mwandb\u001b[0m: \tweightDecay: 0.5\n",
      "\u001b[34m\u001b[1mwandb\u001b[0m: \tweightInit: xavier\n"
     ]
    },
    {
     "data": {
      "text/html": [
       "Ignoring project 'assignment1' when running a sweep."
      ],
      "text/plain": [
       "<IPython.core.display.HTML object>"
      ]
     },
     "metadata": {},
     "output_type": "display_data"
    },
    {
     "data": {
      "text/html": [
       "Ignoring entity 'da6401-assignments' when running a sweep."
      ],
      "text/plain": [
       "<IPython.core.display.HTML object>"
      ]
     },
     "metadata": {},
     "output_type": "display_data"
    },
    {
     "data": {
      "text/html": [
       "Waiting for wandb.init()..."
      ],
      "text/plain": [
       "<IPython.core.display.HTML object>"
      ]
     },
     "metadata": {},
     "output_type": "display_data"
    },
    {
     "data": {
      "text/html": [
       "Tracking run with wandb version 0.19.8"
      ],
      "text/plain": [
       "<IPython.core.display.HTML object>"
      ]
     },
     "metadata": {},
     "output_type": "display_data"
    },
    {
     "data": {
      "text/html": [
       "Run data is saved locally in <code>c:\\Users\\prajv\\Downloads\\ass1\\DA6401_ASSIGNMENT1\\wandb\\run-20250310_024242-g73eazof</code>"
      ],
      "text/plain": [
       "<IPython.core.display.HTML object>"
      ]
     },
     "metadata": {},
     "output_type": "display_data"
    },
    {
     "data": {
      "text/html": [
       "Syncing run <strong><a href='https://wandb.ai/da6401-assignments/assignment1/runs/g73eazof' target=\"_blank\">clear-sweep-9</a></strong> to <a href='https://wandb.ai/da6401-assignments/assignment1' target=\"_blank\">Weights & Biases</a> (<a href='https://wandb.me/developer-guide' target=\"_blank\">docs</a>)<br>Sweep page: <a href='https://wandb.ai/da6401-assignments/assignment1/sweeps/enexfa0c' target=\"_blank\">https://wandb.ai/da6401-assignments/assignment1/sweeps/enexfa0c</a>"
      ],
      "text/plain": [
       "<IPython.core.display.HTML object>"
      ]
     },
     "metadata": {},
     "output_type": "display_data"
    },
    {
     "data": {
      "text/html": [
       " View project at <a href='https://wandb.ai/da6401-assignments/assignment1' target=\"_blank\">https://wandb.ai/da6401-assignments/assignment1</a>"
      ],
      "text/plain": [
       "<IPython.core.display.HTML object>"
      ]
     },
     "metadata": {},
     "output_type": "display_data"
    },
    {
     "data": {
      "text/html": [
       " View sweep at <a href='https://wandb.ai/da6401-assignments/assignment1/sweeps/enexfa0c' target=\"_blank\">https://wandb.ai/da6401-assignments/assignment1/sweeps/enexfa0c</a>"
      ],
      "text/plain": [
       "<IPython.core.display.HTML object>"
      ]
     },
     "metadata": {},
     "output_type": "display_data"
    },
    {
     "data": {
      "text/html": [
       " View run at <a href='https://wandb.ai/da6401-assignments/assignment1/runs/g73eazof' target=\"_blank\">https://wandb.ai/da6401-assignments/assignment1/runs/g73eazof</a>"
      ],
      "text/plain": [
       "<IPython.core.display.HTML object>"
      ]
     },
     "metadata": {},
     "output_type": "display_data"
    },
    {
     "name": "stdout",
     "output_type": "stream",
     "text": [
      "Sweep Name:  LR: 0.001, AC: tanh, BS: 16, Optim: adam, WI: xavier, WD: 0.5, No_HL: 3, HS: 64\n",
      "Epoch 0: Training Loss = 0.5061 Validation Loss = 0.5393\n",
      "Training Accuracy = 0.8164 Validation Accuracy = 0.8060\n",
      "Epoch 1: Training Loss = 0.4410 Validation Loss = 0.4780\n",
      "Training Accuracy = 0.8403 Validation Accuracy = 0.8332\n",
      "Epoch 2: Training Loss = 0.4091 Validation Loss = 0.4487\n",
      "Training Accuracy = 0.8499 Validation Accuracy = 0.8377\n",
      "Epoch 3: Training Loss = 0.3731 Validation Loss = 0.4193\n",
      "Training Accuracy = 0.8625 Validation Accuracy = 0.8458\n",
      "Epoch 4: Training Loss = 0.3651 Validation Loss = 0.4190\n",
      "Training Accuracy = 0.8664 Validation Accuracy = 0.8492\n"
     ]
    },
    {
     "data": {
      "text/html": [],
      "text/plain": [
       "<IPython.core.display.HTML object>"
      ]
     },
     "metadata": {},
     "output_type": "display_data"
    },
    {
     "data": {
      "text/html": [
       "<br>    <style><br>        .wandb-row {<br>            display: flex;<br>            flex-direction: row;<br>            flex-wrap: wrap;<br>            justify-content: flex-start;<br>            width: 100%;<br>        }<br>        .wandb-col {<br>            display: flex;<br>            flex-direction: column;<br>            flex-basis: 100%;<br>            flex: 1;<br>            padding: 10px;<br>        }<br>    </style><br><div class=\"wandb-row\"><div class=\"wandb-col\"><h3>Run history:</h3><br/><table class=\"wandb\"><tr><td>Accuracy</td><td>▁</td></tr><tr><td>epoch</td><td>▁▃▅▆█</td></tr><tr><td>train_acc</td><td>▁▄▆▇█</td></tr><tr><td>train_loss</td><td>█▅▃▁▁</td></tr><tr><td>val_acc</td><td>▁▅▆▇█</td></tr><tr><td>val_loss</td><td>█▄▃▁▁</td></tr></table><br/></div><div class=\"wandb-col\"><h3>Run summary:</h3><br/><table class=\"wandb\"><tr><td>Accuracy</td><td>0.84917</td></tr><tr><td>epoch</td><td>4</td></tr><tr><td>train_acc</td><td>0.86635</td></tr><tr><td>train_loss</td><td>0.36509</td></tr><tr><td>val_acc</td><td>0.84917</td></tr><tr><td>val_loss</td><td>0.419</td></tr></table><br/></div></div>"
      ],
      "text/plain": [
       "<IPython.core.display.HTML object>"
      ]
     },
     "metadata": {},
     "output_type": "display_data"
    },
    {
     "data": {
      "text/html": [
       " View run <strong style=\"color:#cdcd00\">LR: 0.001, AC: tanh, BS: 16, Optim: adam, WI: xavier, WD: 0.5, No_HL: 3, HS: 64</strong> at: <a href='https://wandb.ai/da6401-assignments/assignment1/runs/g73eazof' target=\"_blank\">https://wandb.ai/da6401-assignments/assignment1/runs/g73eazof</a><br> View project at: <a href='https://wandb.ai/da6401-assignments/assignment1' target=\"_blank\">https://wandb.ai/da6401-assignments/assignment1</a><br>Synced 5 W&B file(s), 0 media file(s), 0 artifact file(s) and 0 other file(s)"
      ],
      "text/plain": [
       "<IPython.core.display.HTML object>"
      ]
     },
     "metadata": {},
     "output_type": "display_data"
    },
    {
     "data": {
      "text/html": [
       "Find logs at: <code>.\\wandb\\run-20250310_024242-g73eazof\\logs</code>"
      ],
      "text/plain": [
       "<IPython.core.display.HTML object>"
      ]
     },
     "metadata": {},
     "output_type": "display_data"
    },
    {
     "name": "stderr",
     "output_type": "stream",
     "text": [
      "\u001b[34m\u001b[1mwandb\u001b[0m: Agent Starting Run: ikck7pmc with config:\n",
      "\u001b[34m\u001b[1mwandb\u001b[0m: \tactivationFunc: sigmoid\n",
      "\u001b[34m\u001b[1mwandb\u001b[0m: \tbatchSize: 32\n",
      "\u001b[34m\u001b[1mwandb\u001b[0m: \thiddenLayer_Size: 128\n",
      "\u001b[34m\u001b[1mwandb\u001b[0m: \tlearningRate: 0.001\n",
      "\u001b[34m\u001b[1mwandb\u001b[0m: \tnum_epochs: 5\n",
      "\u001b[34m\u001b[1mwandb\u001b[0m: \tnum_hiddenLayers: 3\n",
      "\u001b[34m\u001b[1mwandb\u001b[0m: \toptimizer: nesterov\n",
      "\u001b[34m\u001b[1mwandb\u001b[0m: \tweightDecay: 0.0005\n",
      "\u001b[34m\u001b[1mwandb\u001b[0m: \tweightInit: xavier\n"
     ]
    },
    {
     "data": {
      "text/html": [
       "Ignoring project 'assignment1' when running a sweep."
      ],
      "text/plain": [
       "<IPython.core.display.HTML object>"
      ]
     },
     "metadata": {},
     "output_type": "display_data"
    },
    {
     "data": {
      "text/html": [
       "Ignoring entity 'da6401-assignments' when running a sweep."
      ],
      "text/plain": [
       "<IPython.core.display.HTML object>"
      ]
     },
     "metadata": {},
     "output_type": "display_data"
    },
    {
     "data": {
      "text/html": [
       "creating run (0.2s)"
      ],
      "text/plain": [
       "<IPython.core.display.HTML object>"
      ]
     },
     "metadata": {},
     "output_type": "display_data"
    },
    {
     "data": {
      "text/html": [
       "Tracking run with wandb version 0.19.8"
      ],
      "text/plain": [
       "<IPython.core.display.HTML object>"
      ]
     },
     "metadata": {},
     "output_type": "display_data"
    },
    {
     "data": {
      "text/html": [
       "Run data is saved locally in <code>c:\\Users\\prajv\\Downloads\\ass1\\DA6401_ASSIGNMENT1\\wandb\\run-20250310_024313-ikck7pmc</code>"
      ],
      "text/plain": [
       "<IPython.core.display.HTML object>"
      ]
     },
     "metadata": {},
     "output_type": "display_data"
    },
    {
     "data": {
      "text/html": [
       "Syncing run <strong><a href='https://wandb.ai/da6401-assignments/assignment1/runs/ikck7pmc' target=\"_blank\">skilled-sweep-10</a></strong> to <a href='https://wandb.ai/da6401-assignments/assignment1' target=\"_blank\">Weights & Biases</a> (<a href='https://wandb.me/developer-guide' target=\"_blank\">docs</a>)<br>Sweep page: <a href='https://wandb.ai/da6401-assignments/assignment1/sweeps/enexfa0c' target=\"_blank\">https://wandb.ai/da6401-assignments/assignment1/sweeps/enexfa0c</a>"
      ],
      "text/plain": [
       "<IPython.core.display.HTML object>"
      ]
     },
     "metadata": {},
     "output_type": "display_data"
    },
    {
     "data": {
      "text/html": [
       " View project at <a href='https://wandb.ai/da6401-assignments/assignment1' target=\"_blank\">https://wandb.ai/da6401-assignments/assignment1</a>"
      ],
      "text/plain": [
       "<IPython.core.display.HTML object>"
      ]
     },
     "metadata": {},
     "output_type": "display_data"
    },
    {
     "data": {
      "text/html": [
       " View sweep at <a href='https://wandb.ai/da6401-assignments/assignment1/sweeps/enexfa0c' target=\"_blank\">https://wandb.ai/da6401-assignments/assignment1/sweeps/enexfa0c</a>"
      ],
      "text/plain": [
       "<IPython.core.display.HTML object>"
      ]
     },
     "metadata": {},
     "output_type": "display_data"
    },
    {
     "data": {
      "text/html": [
       " View run at <a href='https://wandb.ai/da6401-assignments/assignment1/runs/ikck7pmc' target=\"_blank\">https://wandb.ai/da6401-assignments/assignment1/runs/ikck7pmc</a>"
      ],
      "text/plain": [
       "<IPython.core.display.HTML object>"
      ]
     },
     "metadata": {},
     "output_type": "display_data"
    },
    {
     "name": "stdout",
     "output_type": "stream",
     "text": [
      "Sweep Name:  LR: 0.001, AC: sigmoid, BS: 32, Optim: nesterov, WI: xavier, WD: 0.0005, No_HL: 3, HS: 128\n",
      "Epoch 0: Training Loss = 8.1652 Validation Loss = 8.1047\n",
      "Training Accuracy = 0.1064 Validation Accuracy = 0.1053\n",
      "Epoch 1: Training Loss = 8.1652 Validation Loss = 8.1047\n",
      "Training Accuracy = 0.1064 Validation Accuracy = 0.1053\n",
      "Epoch 2: Training Loss = 8.1652 Validation Loss = 8.1047\n",
      "Training Accuracy = 0.1064 Validation Accuracy = 0.1053\n",
      "Epoch 3: Training Loss = 8.1652 Validation Loss = 8.1047\n",
      "Training Accuracy = 0.1064 Validation Accuracy = 0.1053\n",
      "Epoch 4: Training Loss = 8.1652 Validation Loss = 8.1047\n",
      "Training Accuracy = 0.1064 Validation Accuracy = 0.1053\n"
     ]
    },
    {
     "data": {
      "text/html": [],
      "text/plain": [
       "<IPython.core.display.HTML object>"
      ]
     },
     "metadata": {},
     "output_type": "display_data"
    },
    {
     "data": {
      "text/html": [
       "<br>    <style><br>        .wandb-row {<br>            display: flex;<br>            flex-direction: row;<br>            flex-wrap: wrap;<br>            justify-content: flex-start;<br>            width: 100%;<br>        }<br>        .wandb-col {<br>            display: flex;<br>            flex-direction: column;<br>            flex-basis: 100%;<br>            flex: 1;<br>            padding: 10px;<br>        }<br>    </style><br><div class=\"wandb-row\"><div class=\"wandb-col\"><h3>Run history:</h3><br/><table class=\"wandb\"><tr><td>Accuracy</td><td>▁</td></tr><tr><td>epoch</td><td>▁▃▅▆█</td></tr><tr><td>train_acc</td><td>▁▁▁▁▁</td></tr><tr><td>train_loss</td><td>▁▁▁▁▁</td></tr><tr><td>val_acc</td><td>▁▁▁▁▁</td></tr><tr><td>val_loss</td><td>▁▁▁▁▁</td></tr></table><br/></div><div class=\"wandb-col\"><h3>Run summary:</h3><br/><table class=\"wandb\"><tr><td>Accuracy</td><td>0.10533</td></tr><tr><td>epoch</td><td>4</td></tr><tr><td>train_acc</td><td>0.10635</td></tr><tr><td>train_loss</td><td>8.16522</td></tr><tr><td>val_acc</td><td>0.10533</td></tr><tr><td>val_loss</td><td>8.10467</td></tr></table><br/></div></div>"
      ],
      "text/plain": [
       "<IPython.core.display.HTML object>"
      ]
     },
     "metadata": {},
     "output_type": "display_data"
    },
    {
     "data": {
      "text/html": [
       " View run <strong style=\"color:#cdcd00\">LR: 0.001, AC: sigmoid, BS: 32, Optim: nesterov, WI: xavier, WD: 0.0005, No_HL: 3, HS: 128</strong> at: <a href='https://wandb.ai/da6401-assignments/assignment1/runs/ikck7pmc' target=\"_blank\">https://wandb.ai/da6401-assignments/assignment1/runs/ikck7pmc</a><br> View project at: <a href='https://wandb.ai/da6401-assignments/assignment1' target=\"_blank\">https://wandb.ai/da6401-assignments/assignment1</a><br>Synced 5 W&B file(s), 0 media file(s), 0 artifact file(s) and 0 other file(s)"
      ],
      "text/plain": [
       "<IPython.core.display.HTML object>"
      ]
     },
     "metadata": {},
     "output_type": "display_data"
    },
    {
     "data": {
      "text/html": [
       "Find logs at: <code>.\\wandb\\run-20250310_024313-ikck7pmc\\logs</code>"
      ],
      "text/plain": [
       "<IPython.core.display.HTML object>"
      ]
     },
     "metadata": {},
     "output_type": "display_data"
    },
    {
     "name": "stderr",
     "output_type": "stream",
     "text": [
      "\u001b[34m\u001b[1mwandb\u001b[0m: Agent Starting Run: p3wt751b with config:\n",
      "\u001b[34m\u001b[1mwandb\u001b[0m: \tactivationFunc: sigmoid\n",
      "\u001b[34m\u001b[1mwandb\u001b[0m: \tbatchSize: 16\n",
      "\u001b[34m\u001b[1mwandb\u001b[0m: \thiddenLayer_Size: 128\n",
      "\u001b[34m\u001b[1mwandb\u001b[0m: \tlearningRate: 0.0001\n",
      "\u001b[34m\u001b[1mwandb\u001b[0m: \tnum_epochs: 10\n",
      "\u001b[34m\u001b[1mwandb\u001b[0m: \tnum_hiddenLayers: 3\n",
      "\u001b[34m\u001b[1mwandb\u001b[0m: \toptimizer: sgd\n",
      "\u001b[34m\u001b[1mwandb\u001b[0m: \tweightDecay: 0.0005\n",
      "\u001b[34m\u001b[1mwandb\u001b[0m: \tweightInit: random\n"
     ]
    },
    {
     "data": {
      "text/html": [
       "Ignoring project 'assignment1' when running a sweep."
      ],
      "text/plain": [
       "<IPython.core.display.HTML object>"
      ]
     },
     "metadata": {},
     "output_type": "display_data"
    },
    {
     "data": {
      "text/html": [
       "Ignoring entity 'da6401-assignments' when running a sweep."
      ],
      "text/plain": [
       "<IPython.core.display.HTML object>"
      ]
     },
     "metadata": {},
     "output_type": "display_data"
    },
    {
     "data": {
      "text/html": [
       "creating run (0.2s)"
      ],
      "text/plain": [
       "<IPython.core.display.HTML object>"
      ]
     },
     "metadata": {},
     "output_type": "display_data"
    },
    {
     "data": {
      "text/html": [
       "Tracking run with wandb version 0.19.8"
      ],
      "text/plain": [
       "<IPython.core.display.HTML object>"
      ]
     },
     "metadata": {},
     "output_type": "display_data"
    },
    {
     "data": {
      "text/html": [
       "Run data is saved locally in <code>c:\\Users\\prajv\\Downloads\\ass1\\DA6401_ASSIGNMENT1\\wandb\\run-20250310_024334-p3wt751b</code>"
      ],
      "text/plain": [
       "<IPython.core.display.HTML object>"
      ]
     },
     "metadata": {},
     "output_type": "display_data"
    },
    {
     "data": {
      "text/html": [
       "Syncing run <strong><a href='https://wandb.ai/da6401-assignments/assignment1/runs/p3wt751b' target=\"_blank\">autumn-sweep-11</a></strong> to <a href='https://wandb.ai/da6401-assignments/assignment1' target=\"_blank\">Weights & Biases</a> (<a href='https://wandb.me/developer-guide' target=\"_blank\">docs</a>)<br>Sweep page: <a href='https://wandb.ai/da6401-assignments/assignment1/sweeps/enexfa0c' target=\"_blank\">https://wandb.ai/da6401-assignments/assignment1/sweeps/enexfa0c</a>"
      ],
      "text/plain": [
       "<IPython.core.display.HTML object>"
      ]
     },
     "metadata": {},
     "output_type": "display_data"
    },
    {
     "data": {
      "text/html": [
       " View project at <a href='https://wandb.ai/da6401-assignments/assignment1' target=\"_blank\">https://wandb.ai/da6401-assignments/assignment1</a>"
      ],
      "text/plain": [
       "<IPython.core.display.HTML object>"
      ]
     },
     "metadata": {},
     "output_type": "display_data"
    },
    {
     "data": {
      "text/html": [
       " View sweep at <a href='https://wandb.ai/da6401-assignments/assignment1/sweeps/enexfa0c' target=\"_blank\">https://wandb.ai/da6401-assignments/assignment1/sweeps/enexfa0c</a>"
      ],
      "text/plain": [
       "<IPython.core.display.HTML object>"
      ]
     },
     "metadata": {},
     "output_type": "display_data"
    },
    {
     "data": {
      "text/html": [
       " View run at <a href='https://wandb.ai/da6401-assignments/assignment1/runs/p3wt751b' target=\"_blank\">https://wandb.ai/da6401-assignments/assignment1/runs/p3wt751b</a>"
      ],
      "text/plain": [
       "<IPython.core.display.HTML object>"
      ]
     },
     "metadata": {},
     "output_type": "display_data"
    },
    {
     "name": "stdout",
     "output_type": "stream",
     "text": [
      "Sweep Name:  LR: 0.0001, AC: sigmoid, BS: 16, Optim: sgd, WI: random, WD: 0.0005, No_HL: 3, HS: 128\n",
      "Epoch 0: Training Loss = 7.2219 Validation Loss = 7.3121\n",
      "Training Accuracy = 0.1104 Validation Accuracy = 0.1097\n",
      "Epoch 1: Training Loss = 4.8685 Validation Loss = 4.9695\n",
      "Training Accuracy = 0.1381 Validation Accuracy = 0.1370\n",
      "Epoch 2: Training Loss = 3.6441 Validation Loss = 3.7176\n",
      "Training Accuracy = 0.1949 Validation Accuracy = 0.1963\n",
      "Epoch 3: Training Loss = 2.9358 Validation Loss = 2.9794\n",
      "Training Accuracy = 0.2415 Validation Accuracy = 0.2447\n",
      "Epoch 4: Training Loss = 2.5513 Validation Loss = 2.5780\n",
      "Training Accuracy = 0.2829 Validation Accuracy = 0.2858\n",
      "Epoch 5: Training Loss = 2.3448 Validation Loss = 2.3676\n",
      "Training Accuracy = 0.3172 Validation Accuracy = 0.3233\n",
      "Epoch 6: Training Loss = 2.1950 Validation Loss = 2.2160\n",
      "Training Accuracy = 0.3477 Validation Accuracy = 0.3527\n",
      "Epoch 7: Training Loss = 2.0766 Validation Loss = 2.0959\n",
      "Training Accuracy = 0.3740 Validation Accuracy = 0.3772\n",
      "Epoch 8: Training Loss = 1.9804 Validation Loss = 1.9980\n",
      "Training Accuracy = 0.3962 Validation Accuracy = 0.3988\n",
      "Epoch 9: Training Loss = 1.9002 Validation Loss = 1.9162\n",
      "Training Accuracy = 0.4148 Validation Accuracy = 0.4190\n"
     ]
    },
    {
     "data": {
      "text/html": [],
      "text/plain": [
       "<IPython.core.display.HTML object>"
      ]
     },
     "metadata": {},
     "output_type": "display_data"
    },
    {
     "data": {
      "text/html": [
       "<br>    <style><br>        .wandb-row {<br>            display: flex;<br>            flex-direction: row;<br>            flex-wrap: wrap;<br>            justify-content: flex-start;<br>            width: 100%;<br>        }<br>        .wandb-col {<br>            display: flex;<br>            flex-direction: column;<br>            flex-basis: 100%;<br>            flex: 1;<br>            padding: 10px;<br>        }<br>    </style><br><div class=\"wandb-row\"><div class=\"wandb-col\"><h3>Run history:</h3><br/><table class=\"wandb\"><tr><td>Accuracy</td><td>▁</td></tr><tr><td>epoch</td><td>▁▂▃▃▄▅▆▆▇█</td></tr><tr><td>train_acc</td><td>▁▂▃▄▅▆▆▇██</td></tr><tr><td>train_loss</td><td>█▅▃▂▂▂▁▁▁▁</td></tr><tr><td>val_acc</td><td>▁▂▃▄▅▆▆▇██</td></tr><tr><td>val_loss</td><td>█▅▃▂▂▂▁▁▁▁</td></tr></table><br/></div><div class=\"wandb-col\"><h3>Run summary:</h3><br/><table class=\"wandb\"><tr><td>Accuracy</td><td>0.419</td></tr><tr><td>epoch</td><td>9</td></tr><tr><td>train_acc</td><td>0.41483</td></tr><tr><td>train_loss</td><td>1.90024</td></tr><tr><td>val_acc</td><td>0.419</td></tr><tr><td>val_loss</td><td>1.91621</td></tr></table><br/></div></div>"
      ],
      "text/plain": [
       "<IPython.core.display.HTML object>"
      ]
     },
     "metadata": {},
     "output_type": "display_data"
    },
    {
     "data": {
      "text/html": [
       " View run <strong style=\"color:#cdcd00\">LR: 0.0001, AC: sigmoid, BS: 16, Optim: sgd, WI: random, WD: 0.0005, No_HL: 3, HS: 128</strong> at: <a href='https://wandb.ai/da6401-assignments/assignment1/runs/p3wt751b' target=\"_blank\">https://wandb.ai/da6401-assignments/assignment1/runs/p3wt751b</a><br> View project at: <a href='https://wandb.ai/da6401-assignments/assignment1' target=\"_blank\">https://wandb.ai/da6401-assignments/assignment1</a><br>Synced 5 W&B file(s), 0 media file(s), 0 artifact file(s) and 0 other file(s)"
      ],
      "text/plain": [
       "<IPython.core.display.HTML object>"
      ]
     },
     "metadata": {},
     "output_type": "display_data"
    },
    {
     "data": {
      "text/html": [
       "Find logs at: <code>.\\wandb\\run-20250310_024334-p3wt751b\\logs</code>"
      ],
      "text/plain": [
       "<IPython.core.display.HTML object>"
      ]
     },
     "metadata": {},
     "output_type": "display_data"
    },
    {
     "name": "stderr",
     "output_type": "stream",
     "text": [
      "\u001b[34m\u001b[1mwandb\u001b[0m: Agent Starting Run: 3r0w7oqq with config:\n",
      "\u001b[34m\u001b[1mwandb\u001b[0m: \tactivationFunc: tanh\n",
      "\u001b[34m\u001b[1mwandb\u001b[0m: \tbatchSize: 64\n",
      "\u001b[34m\u001b[1mwandb\u001b[0m: \thiddenLayer_Size: 32\n",
      "\u001b[34m\u001b[1mwandb\u001b[0m: \tlearningRate: 0.0001\n",
      "\u001b[34m\u001b[1mwandb\u001b[0m: \tnum_epochs: 10\n",
      "\u001b[34m\u001b[1mwandb\u001b[0m: \tnum_hiddenLayers: 5\n",
      "\u001b[34m\u001b[1mwandb\u001b[0m: \toptimizer: rmsprop\n",
      "\u001b[34m\u001b[1mwandb\u001b[0m: \tweightDecay: 0.0005\n",
      "\u001b[34m\u001b[1mwandb\u001b[0m: \tweightInit: xavier\n"
     ]
    },
    {
     "data": {
      "text/html": [
       "Ignoring project 'assignment1' when running a sweep."
      ],
      "text/plain": [
       "<IPython.core.display.HTML object>"
      ]
     },
     "metadata": {},
     "output_type": "display_data"
    },
    {
     "data": {
      "text/html": [
       "Ignoring entity 'da6401-assignments' when running a sweep."
      ],
      "text/plain": [
       "<IPython.core.display.HTML object>"
      ]
     },
     "metadata": {},
     "output_type": "display_data"
    },
    {
     "data": {
      "text/html": [
       "creating run (0.2s)"
      ],
      "text/plain": [
       "<IPython.core.display.HTML object>"
      ]
     },
     "metadata": {},
     "output_type": "display_data"
    },
    {
     "data": {
      "text/html": [
       "Tracking run with wandb version 0.19.8"
      ],
      "text/plain": [
       "<IPython.core.display.HTML object>"
      ]
     },
     "metadata": {},
     "output_type": "display_data"
    },
    {
     "data": {
      "text/html": [
       "Run data is saved locally in <code>c:\\Users\\prajv\\Downloads\\ass1\\DA6401_ASSIGNMENT1\\wandb\\run-20250310_024427-3r0w7oqq</code>"
      ],
      "text/plain": [
       "<IPython.core.display.HTML object>"
      ]
     },
     "metadata": {},
     "output_type": "display_data"
    },
    {
     "data": {
      "text/html": [
       "Syncing run <strong><a href='https://wandb.ai/da6401-assignments/assignment1/runs/3r0w7oqq' target=\"_blank\">stilted-sweep-12</a></strong> to <a href='https://wandb.ai/da6401-assignments/assignment1' target=\"_blank\">Weights & Biases</a> (<a href='https://wandb.me/developer-guide' target=\"_blank\">docs</a>)<br>Sweep page: <a href='https://wandb.ai/da6401-assignments/assignment1/sweeps/enexfa0c' target=\"_blank\">https://wandb.ai/da6401-assignments/assignment1/sweeps/enexfa0c</a>"
      ],
      "text/plain": [
       "<IPython.core.display.HTML object>"
      ]
     },
     "metadata": {},
     "output_type": "display_data"
    },
    {
     "data": {
      "text/html": [
       " View project at <a href='https://wandb.ai/da6401-assignments/assignment1' target=\"_blank\">https://wandb.ai/da6401-assignments/assignment1</a>"
      ],
      "text/plain": [
       "<IPython.core.display.HTML object>"
      ]
     },
     "metadata": {},
     "output_type": "display_data"
    },
    {
     "data": {
      "text/html": [
       " View sweep at <a href='https://wandb.ai/da6401-assignments/assignment1/sweeps/enexfa0c' target=\"_blank\">https://wandb.ai/da6401-assignments/assignment1/sweeps/enexfa0c</a>"
      ],
      "text/plain": [
       "<IPython.core.display.HTML object>"
      ]
     },
     "metadata": {},
     "output_type": "display_data"
    },
    {
     "data": {
      "text/html": [
       " View run at <a href='https://wandb.ai/da6401-assignments/assignment1/runs/3r0w7oqq' target=\"_blank\">https://wandb.ai/da6401-assignments/assignment1/runs/3r0w7oqq</a>"
      ],
      "text/plain": [
       "<IPython.core.display.HTML object>"
      ]
     },
     "metadata": {},
     "output_type": "display_data"
    },
    {
     "name": "stdout",
     "output_type": "stream",
     "text": [
      "Sweep Name:  LR: 0.0001, AC: tanh, BS: 64, Optim: rmsprop, WI: xavier, WD: 0.0005, No_HL: 5, HS: 32\n",
      "Epoch 0: Training Loss = 1.5295 Validation Loss = 1.5213\n",
      "Training Accuracy = 0.5322 Validation Accuracy = 0.5403\n",
      "Epoch 1: Training Loss = 1.1908 Validation Loss = 1.1856\n",
      "Training Accuracy = 0.6401 Validation Accuracy = 0.6430\n",
      "Epoch 2: Training Loss = 1.0079 Validation Loss = 1.0041\n",
      "Training Accuracy = 0.6883 Validation Accuracy = 0.6897\n",
      "Epoch 3: Training Loss = 0.8971 Validation Loss = 0.8953\n",
      "Training Accuracy = 0.7120 Validation Accuracy = 0.7113\n",
      "Epoch 4: Training Loss = 0.8244 Validation Loss = 0.8260\n",
      "Training Accuracy = 0.7272 Validation Accuracy = 0.7283\n",
      "Epoch 5: Training Loss = 0.7728 Validation Loss = 0.7760\n",
      "Training Accuracy = 0.7381 Validation Accuracy = 0.7403\n",
      "Epoch 6: Training Loss = 0.7359 Validation Loss = 0.7408\n",
      "Training Accuracy = 0.7461 Validation Accuracy = 0.7465\n",
      "Epoch 7: Training Loss = 0.7070 Validation Loss = 0.7141\n",
      "Training Accuracy = 0.7542 Validation Accuracy = 0.7538\n",
      "Epoch 8: Training Loss = 0.6831 Validation Loss = 0.6928\n",
      "Training Accuracy = 0.7606 Validation Accuracy = 0.7595\n",
      "Epoch 9: Training Loss = 0.6628 Validation Loss = 0.6737\n",
      "Training Accuracy = 0.7661 Validation Accuracy = 0.7668\n"
     ]
    },
    {
     "data": {
      "text/html": [],
      "text/plain": [
       "<IPython.core.display.HTML object>"
      ]
     },
     "metadata": {},
     "output_type": "display_data"
    },
    {
     "data": {
      "text/html": [
       "<br>    <style><br>        .wandb-row {<br>            display: flex;<br>            flex-direction: row;<br>            flex-wrap: wrap;<br>            justify-content: flex-start;<br>            width: 100%;<br>        }<br>        .wandb-col {<br>            display: flex;<br>            flex-direction: column;<br>            flex-basis: 100%;<br>            flex: 1;<br>            padding: 10px;<br>        }<br>    </style><br><div class=\"wandb-row\"><div class=\"wandb-col\"><h3>Run history:</h3><br/><table class=\"wandb\"><tr><td>Accuracy</td><td>▁</td></tr><tr><td>epoch</td><td>▁▂▃▃▄▅▆▆▇█</td></tr><tr><td>train_acc</td><td>▁▄▆▆▇▇▇███</td></tr><tr><td>train_loss</td><td>█▅▄▃▂▂▂▁▁▁</td></tr><tr><td>val_acc</td><td>▁▄▆▆▇▇▇███</td></tr><tr><td>val_loss</td><td>█▅▄▃▂▂▂▁▁▁</td></tr></table><br/></div><div class=\"wandb-col\"><h3>Run summary:</h3><br/><table class=\"wandb\"><tr><td>Accuracy</td><td>0.76683</td></tr><tr><td>epoch</td><td>9</td></tr><tr><td>train_acc</td><td>0.76615</td></tr><tr><td>train_loss</td><td>0.66276</td></tr><tr><td>val_acc</td><td>0.76683</td></tr><tr><td>val_loss</td><td>0.67374</td></tr></table><br/></div></div>"
      ],
      "text/plain": [
       "<IPython.core.display.HTML object>"
      ]
     },
     "metadata": {},
     "output_type": "display_data"
    },
    {
     "data": {
      "text/html": [
       " View run <strong style=\"color:#cdcd00\">LR: 0.0001, AC: tanh, BS: 64, Optim: rmsprop, WI: xavier, WD: 0.0005, No_HL: 5, HS: 32</strong> at: <a href='https://wandb.ai/da6401-assignments/assignment1/runs/3r0w7oqq' target=\"_blank\">https://wandb.ai/da6401-assignments/assignment1/runs/3r0w7oqq</a><br> View project at: <a href='https://wandb.ai/da6401-assignments/assignment1' target=\"_blank\">https://wandb.ai/da6401-assignments/assignment1</a><br>Synced 5 W&B file(s), 0 media file(s), 0 artifact file(s) and 0 other file(s)"
      ],
      "text/plain": [
       "<IPython.core.display.HTML object>"
      ]
     },
     "metadata": {},
     "output_type": "display_data"
    },
    {
     "data": {
      "text/html": [
       "Find logs at: <code>.\\wandb\\run-20250310_024427-3r0w7oqq\\logs</code>"
      ],
      "text/plain": [
       "<IPython.core.display.HTML object>"
      ]
     },
     "metadata": {},
     "output_type": "display_data"
    },
    {
     "name": "stderr",
     "output_type": "stream",
     "text": [
      "\u001b[34m\u001b[1mwandb\u001b[0m: Sweep Agent: Waiting for job.\n",
      "\u001b[34m\u001b[1mwandb\u001b[0m: Job received.\n",
      "\u001b[34m\u001b[1mwandb\u001b[0m: Agent Starting Run: 501acfvy with config:\n",
      "\u001b[34m\u001b[1mwandb\u001b[0m: \tactivationFunc: tanh\n",
      "\u001b[34m\u001b[1mwandb\u001b[0m: \tbatchSize: 32\n",
      "\u001b[34m\u001b[1mwandb\u001b[0m: \thiddenLayer_Size: 32\n",
      "\u001b[34m\u001b[1mwandb\u001b[0m: \tlearningRate: 0.001\n",
      "\u001b[34m\u001b[1mwandb\u001b[0m: \tnum_epochs: 10\n",
      "\u001b[34m\u001b[1mwandb\u001b[0m: \tnum_hiddenLayers: 4\n",
      "\u001b[34m\u001b[1mwandb\u001b[0m: \toptimizer: momentum\n",
      "\u001b[34m\u001b[1mwandb\u001b[0m: \tweightDecay: 0.0005\n",
      "\u001b[34m\u001b[1mwandb\u001b[0m: \tweightInit: random\n"
     ]
    },
    {
     "data": {
      "text/html": [
       "Ignoring project 'assignment1' when running a sweep."
      ],
      "text/plain": [
       "<IPython.core.display.HTML object>"
      ]
     },
     "metadata": {},
     "output_type": "display_data"
    },
    {
     "data": {
      "text/html": [
       "Ignoring entity 'da6401-assignments' when running a sweep."
      ],
      "text/plain": [
       "<IPython.core.display.HTML object>"
      ]
     },
     "metadata": {},
     "output_type": "display_data"
    },
    {
     "data": {
      "text/html": [
       "Waiting for wandb.init()..."
      ],
      "text/plain": [
       "<IPython.core.display.HTML object>"
      ]
     },
     "metadata": {},
     "output_type": "display_data"
    },
    {
     "data": {
      "text/html": [
       "Tracking run with wandb version 0.19.8"
      ],
      "text/plain": [
       "<IPython.core.display.HTML object>"
      ]
     },
     "metadata": {},
     "output_type": "display_data"
    },
    {
     "data": {
      "text/html": [
       "Run data is saved locally in <code>c:\\Users\\prajv\\Downloads\\ass1\\DA6401_ASSIGNMENT1\\wandb\\run-20250310_024453-501acfvy</code>"
      ],
      "text/plain": [
       "<IPython.core.display.HTML object>"
      ]
     },
     "metadata": {},
     "output_type": "display_data"
    },
    {
     "data": {
      "text/html": [
       "Syncing run <strong><a href='https://wandb.ai/da6401-assignments/assignment1/runs/501acfvy' target=\"_blank\">summer-sweep-13</a></strong> to <a href='https://wandb.ai/da6401-assignments/assignment1' target=\"_blank\">Weights & Biases</a> (<a href='https://wandb.me/developer-guide' target=\"_blank\">docs</a>)<br>Sweep page: <a href='https://wandb.ai/da6401-assignments/assignment1/sweeps/enexfa0c' target=\"_blank\">https://wandb.ai/da6401-assignments/assignment1/sweeps/enexfa0c</a>"
      ],
      "text/plain": [
       "<IPython.core.display.HTML object>"
      ]
     },
     "metadata": {},
     "output_type": "display_data"
    },
    {
     "data": {
      "text/html": [
       " View project at <a href='https://wandb.ai/da6401-assignments/assignment1' target=\"_blank\">https://wandb.ai/da6401-assignments/assignment1</a>"
      ],
      "text/plain": [
       "<IPython.core.display.HTML object>"
      ]
     },
     "metadata": {},
     "output_type": "display_data"
    },
    {
     "data": {
      "text/html": [
       " View sweep at <a href='https://wandb.ai/da6401-assignments/assignment1/sweeps/enexfa0c' target=\"_blank\">https://wandb.ai/da6401-assignments/assignment1/sweeps/enexfa0c</a>"
      ],
      "text/plain": [
       "<IPython.core.display.HTML object>"
      ]
     },
     "metadata": {},
     "output_type": "display_data"
    },
    {
     "data": {
      "text/html": [
       " View run at <a href='https://wandb.ai/da6401-assignments/assignment1/runs/501acfvy' target=\"_blank\">https://wandb.ai/da6401-assignments/assignment1/runs/501acfvy</a>"
      ],
      "text/plain": [
       "<IPython.core.display.HTML object>"
      ]
     },
     "metadata": {},
     "output_type": "display_data"
    },
    {
     "name": "stdout",
     "output_type": "stream",
     "text": [
      "Sweep Name:  LR: 0.001, AC: tanh, BS: 32, Optim: momentum, WI: random, WD: 0.0005, No_HL: 4, HS: 32\n",
      "Epoch 0: Training Loss = 1.7844 Validation Loss = 1.7796\n",
      "Training Accuracy = 0.3884 Validation Accuracy = 0.3937\n",
      "Epoch 1: Training Loss = 1.4504 Validation Loss = 1.4465\n",
      "Training Accuracy = 0.5089 Validation Accuracy = 0.5137\n",
      "Epoch 2: Training Loss = 1.2290 Validation Loss = 1.2308\n",
      "Training Accuracy = 0.5946 Validation Accuracy = 0.5985\n",
      "Epoch 3: Training Loss = 1.0819 Validation Loss = 1.0861\n",
      "Training Accuracy = 0.6356 Validation Accuracy = 0.6350\n",
      "Epoch 4: Training Loss = 0.9900 Validation Loss = 0.9939\n",
      "Training Accuracy = 0.6602 Validation Accuracy = 0.6603\n",
      "Epoch 5: Training Loss = 0.9299 Validation Loss = 0.9348\n",
      "Training Accuracy = 0.6735 Validation Accuracy = 0.6733\n",
      "Epoch 6: Training Loss = 0.8877 Validation Loss = 0.8933\n",
      "Training Accuracy = 0.6862 Validation Accuracy = 0.6843\n",
      "Epoch 7: Training Loss = 0.8550 Validation Loss = 0.8620\n",
      "Training Accuracy = 0.6945 Validation Accuracy = 0.6908\n",
      "Epoch 8: Training Loss = 0.8296 Validation Loss = 0.8383\n",
      "Training Accuracy = 0.7029 Validation Accuracy = 0.7007\n",
      "Epoch 9: Training Loss = 0.8079 Validation Loss = 0.8176\n",
      "Training Accuracy = 0.7083 Validation Accuracy = 0.7047\n"
     ]
    },
    {
     "data": {
      "text/html": [],
      "text/plain": [
       "<IPython.core.display.HTML object>"
      ]
     },
     "metadata": {},
     "output_type": "display_data"
    },
    {
     "data": {
      "text/html": [
       "<br>    <style><br>        .wandb-row {<br>            display: flex;<br>            flex-direction: row;<br>            flex-wrap: wrap;<br>            justify-content: flex-start;<br>            width: 100%;<br>        }<br>        .wandb-col {<br>            display: flex;<br>            flex-direction: column;<br>            flex-basis: 100%;<br>            flex: 1;<br>            padding: 10px;<br>        }<br>    </style><br><div class=\"wandb-row\"><div class=\"wandb-col\"><h3>Run history:</h3><br/><table class=\"wandb\"><tr><td>Accuracy</td><td>▁</td></tr><tr><td>epoch</td><td>▁▂▃▃▄▅▆▆▇█</td></tr><tr><td>train_acc</td><td>▁▄▆▆▇▇████</td></tr><tr><td>train_loss</td><td>█▆▄▃▂▂▂▁▁▁</td></tr><tr><td>val_acc</td><td>▁▄▆▆▇▇████</td></tr><tr><td>val_loss</td><td>█▆▄▃▂▂▂▁▁▁</td></tr></table><br/></div><div class=\"wandb-col\"><h3>Run summary:</h3><br/><table class=\"wandb\"><tr><td>Accuracy</td><td>0.70467</td></tr><tr><td>epoch</td><td>9</td></tr><tr><td>train_acc</td><td>0.70826</td></tr><tr><td>train_loss</td><td>0.80792</td></tr><tr><td>val_acc</td><td>0.70467</td></tr><tr><td>val_loss</td><td>0.81762</td></tr></table><br/></div></div>"
      ],
      "text/plain": [
       "<IPython.core.display.HTML object>"
      ]
     },
     "metadata": {},
     "output_type": "display_data"
    },
    {
     "data": {
      "text/html": [
       " View run <strong style=\"color:#cdcd00\">LR: 0.001, AC: tanh, BS: 32, Optim: momentum, WI: random, WD: 0.0005, No_HL: 4, HS: 32</strong> at: <a href='https://wandb.ai/da6401-assignments/assignment1/runs/501acfvy' target=\"_blank\">https://wandb.ai/da6401-assignments/assignment1/runs/501acfvy</a><br> View project at: <a href='https://wandb.ai/da6401-assignments/assignment1' target=\"_blank\">https://wandb.ai/da6401-assignments/assignment1</a><br>Synced 5 W&B file(s), 0 media file(s), 0 artifact file(s) and 0 other file(s)"
      ],
      "text/plain": [
       "<IPython.core.display.HTML object>"
      ]
     },
     "metadata": {},
     "output_type": "display_data"
    },
    {
     "data": {
      "text/html": [
       "Find logs at: <code>.\\wandb\\run-20250310_024453-501acfvy\\logs</code>"
      ],
      "text/plain": [
       "<IPython.core.display.HTML object>"
      ]
     },
     "metadata": {},
     "output_type": "display_data"
    },
    {
     "name": "stderr",
     "output_type": "stream",
     "text": [
      "\u001b[34m\u001b[1mwandb\u001b[0m: Agent Starting Run: yk32wy02 with config:\n",
      "\u001b[34m\u001b[1mwandb\u001b[0m: \tactivationFunc: tanh\n",
      "\u001b[34m\u001b[1mwandb\u001b[0m: \tbatchSize: 64\n",
      "\u001b[34m\u001b[1mwandb\u001b[0m: \thiddenLayer_Size: 64\n",
      "\u001b[34m\u001b[1mwandb\u001b[0m: \tlearningRate: 0.001\n",
      "\u001b[34m\u001b[1mwandb\u001b[0m: \tnum_epochs: 10\n",
      "\u001b[34m\u001b[1mwandb\u001b[0m: \tnum_hiddenLayers: 3\n",
      "\u001b[34m\u001b[1mwandb\u001b[0m: \toptimizer: nesterov\n",
      "\u001b[34m\u001b[1mwandb\u001b[0m: \tweightDecay: 0.5\n",
      "\u001b[34m\u001b[1mwandb\u001b[0m: \tweightInit: xavier\n"
     ]
    },
    {
     "data": {
      "text/html": [
       "Ignoring project 'assignment1' when running a sweep."
      ],
      "text/plain": [
       "<IPython.core.display.HTML object>"
      ]
     },
     "metadata": {},
     "output_type": "display_data"
    },
    {
     "data": {
      "text/html": [
       "Ignoring entity 'da6401-assignments' when running a sweep."
      ],
      "text/plain": [
       "<IPython.core.display.HTML object>"
      ]
     },
     "metadata": {},
     "output_type": "display_data"
    },
    {
     "data": {
      "text/html": [
       "Waiting for wandb.init()..."
      ],
      "text/plain": [
       "<IPython.core.display.HTML object>"
      ]
     },
     "metadata": {},
     "output_type": "display_data"
    },
    {
     "data": {
      "text/html": [
       "Tracking run with wandb version 0.19.8"
      ],
      "text/plain": [
       "<IPython.core.display.HTML object>"
      ]
     },
     "metadata": {},
     "output_type": "display_data"
    },
    {
     "data": {
      "text/html": [
       "Run data is saved locally in <code>c:\\Users\\prajv\\Downloads\\ass1\\DA6401_ASSIGNMENT1\\wandb\\run-20250310_024515-yk32wy02</code>"
      ],
      "text/plain": [
       "<IPython.core.display.HTML object>"
      ]
     },
     "metadata": {},
     "output_type": "display_data"
    },
    {
     "data": {
      "text/html": [
       "Syncing run <strong><a href='https://wandb.ai/da6401-assignments/assignment1/runs/yk32wy02' target=\"_blank\">dulcet-sweep-14</a></strong> to <a href='https://wandb.ai/da6401-assignments/assignment1' target=\"_blank\">Weights & Biases</a> (<a href='https://wandb.me/developer-guide' target=\"_blank\">docs</a>)<br>Sweep page: <a href='https://wandb.ai/da6401-assignments/assignment1/sweeps/enexfa0c' target=\"_blank\">https://wandb.ai/da6401-assignments/assignment1/sweeps/enexfa0c</a>"
      ],
      "text/plain": [
       "<IPython.core.display.HTML object>"
      ]
     },
     "metadata": {},
     "output_type": "display_data"
    },
    {
     "data": {
      "text/html": [
       " View project at <a href='https://wandb.ai/da6401-assignments/assignment1' target=\"_blank\">https://wandb.ai/da6401-assignments/assignment1</a>"
      ],
      "text/plain": [
       "<IPython.core.display.HTML object>"
      ]
     },
     "metadata": {},
     "output_type": "display_data"
    },
    {
     "data": {
      "text/html": [
       " View sweep at <a href='https://wandb.ai/da6401-assignments/assignment1/sweeps/enexfa0c' target=\"_blank\">https://wandb.ai/da6401-assignments/assignment1/sweeps/enexfa0c</a>"
      ],
      "text/plain": [
       "<IPython.core.display.HTML object>"
      ]
     },
     "metadata": {},
     "output_type": "display_data"
    },
    {
     "data": {
      "text/html": [
       " View run at <a href='https://wandb.ai/da6401-assignments/assignment1/runs/yk32wy02' target=\"_blank\">https://wandb.ai/da6401-assignments/assignment1/runs/yk32wy02</a>"
      ],
      "text/plain": [
       "<IPython.core.display.HTML object>"
      ]
     },
     "metadata": {},
     "output_type": "display_data"
    },
    {
     "name": "stdout",
     "output_type": "stream",
     "text": [
      "Sweep Name:  LR: 0.001, AC: tanh, BS: 64, Optim: nesterov, WI: xavier, WD: 0.5, No_HL: 3, HS: 64\n",
      "Epoch 0: Training Loss = 8.3062 Validation Loss = 8.3326\n",
      "Training Accuracy = 0.1053 Validation Accuracy = 0.1035\n",
      "Epoch 1: Training Loss = 8.3062 Validation Loss = 8.3326\n",
      "Training Accuracy = 0.1053 Validation Accuracy = 0.1035\n",
      "Epoch 2: Training Loss = 8.3062 Validation Loss = 8.3326\n",
      "Training Accuracy = 0.1053 Validation Accuracy = 0.1035\n",
      "Epoch 3: Training Loss = 8.3062 Validation Loss = 8.3326\n",
      "Training Accuracy = 0.1053 Validation Accuracy = 0.1035\n",
      "Epoch 4: Training Loss = 8.3062 Validation Loss = 8.3326\n",
      "Training Accuracy = 0.1053 Validation Accuracy = 0.1035\n",
      "Epoch 5: Training Loss = 8.3062 Validation Loss = 8.3326\n",
      "Training Accuracy = 0.1053 Validation Accuracy = 0.1035\n",
      "Epoch 6: Training Loss = 8.3062 Validation Loss = 8.3326\n",
      "Training Accuracy = 0.1053 Validation Accuracy = 0.1035\n",
      "Epoch 7: Training Loss = 8.3062 Validation Loss = 8.3326\n",
      "Training Accuracy = 0.1053 Validation Accuracy = 0.1035\n",
      "Epoch 8: Training Loss = 8.3062 Validation Loss = 8.3326\n",
      "Training Accuracy = 0.1053 Validation Accuracy = 0.1035\n",
      "Epoch 9: Training Loss = 8.3062 Validation Loss = 8.3326\n",
      "Training Accuracy = 0.1053 Validation Accuracy = 0.1035\n"
     ]
    },
    {
     "data": {
      "text/html": [],
      "text/plain": [
       "<IPython.core.display.HTML object>"
      ]
     },
     "metadata": {},
     "output_type": "display_data"
    },
    {
     "data": {
      "text/html": [
       "<br>    <style><br>        .wandb-row {<br>            display: flex;<br>            flex-direction: row;<br>            flex-wrap: wrap;<br>            justify-content: flex-start;<br>            width: 100%;<br>        }<br>        .wandb-col {<br>            display: flex;<br>            flex-direction: column;<br>            flex-basis: 100%;<br>            flex: 1;<br>            padding: 10px;<br>        }<br>    </style><br><div class=\"wandb-row\"><div class=\"wandb-col\"><h3>Run history:</h3><br/><table class=\"wandb\"><tr><td>Accuracy</td><td>▁</td></tr><tr><td>epoch</td><td>▁▂▃▃▄▅▆▆▇█</td></tr><tr><td>train_acc</td><td>▁▁▁▁▁▁▁▁▁▁</td></tr><tr><td>train_loss</td><td>▁▁▁▁▁▁▁▁▁▁</td></tr><tr><td>val_acc</td><td>▁▁▁▁▁▁▁▁▁▁</td></tr><tr><td>val_loss</td><td>▁▁▁▁▁▁▁▁▁▁</td></tr></table><br/></div><div class=\"wandb-col\"><h3>Run summary:</h3><br/><table class=\"wandb\"><tr><td>Accuracy</td><td>0.1035</td></tr><tr><td>epoch</td><td>9</td></tr><tr><td>train_acc</td><td>0.10533</td></tr><tr><td>train_loss</td><td>8.30616</td></tr><tr><td>val_acc</td><td>0.1035</td></tr><tr><td>val_loss</td><td>8.33262</td></tr></table><br/></div></div>"
      ],
      "text/plain": [
       "<IPython.core.display.HTML object>"
      ]
     },
     "metadata": {},
     "output_type": "display_data"
    },
    {
     "data": {
      "text/html": [
       " View run <strong style=\"color:#cdcd00\">LR: 0.001, AC: tanh, BS: 64, Optim: nesterov, WI: xavier, WD: 0.5, No_HL: 3, HS: 64</strong> at: <a href='https://wandb.ai/da6401-assignments/assignment1/runs/yk32wy02' target=\"_blank\">https://wandb.ai/da6401-assignments/assignment1/runs/yk32wy02</a><br> View project at: <a href='https://wandb.ai/da6401-assignments/assignment1' target=\"_blank\">https://wandb.ai/da6401-assignments/assignment1</a><br>Synced 5 W&B file(s), 0 media file(s), 0 artifact file(s) and 0 other file(s)"
      ],
      "text/plain": [
       "<IPython.core.display.HTML object>"
      ]
     },
     "metadata": {},
     "output_type": "display_data"
    },
    {
     "data": {
      "text/html": [
       "Find logs at: <code>.\\wandb\\run-20250310_024515-yk32wy02\\logs</code>"
      ],
      "text/plain": [
       "<IPython.core.display.HTML object>"
      ]
     },
     "metadata": {},
     "output_type": "display_data"
    },
    {
     "name": "stderr",
     "output_type": "stream",
     "text": [
      "\u001b[34m\u001b[1mwandb\u001b[0m: Agent Starting Run: ssymc3xx with config:\n",
      "\u001b[34m\u001b[1mwandb\u001b[0m: \tactivationFunc: sigmoid\n",
      "\u001b[34m\u001b[1mwandb\u001b[0m: \tbatchSize: 64\n",
      "\u001b[34m\u001b[1mwandb\u001b[0m: \thiddenLayer_Size: 32\n",
      "\u001b[34m\u001b[1mwandb\u001b[0m: \tlearningRate: 0.0001\n",
      "\u001b[34m\u001b[1mwandb\u001b[0m: \tnum_epochs: 10\n",
      "\u001b[34m\u001b[1mwandb\u001b[0m: \tnum_hiddenLayers: 4\n",
      "\u001b[34m\u001b[1mwandb\u001b[0m: \toptimizer: nesterov\n",
      "\u001b[34m\u001b[1mwandb\u001b[0m: \tweightDecay: 0.0005\n",
      "\u001b[34m\u001b[1mwandb\u001b[0m: \tweightInit: random\n"
     ]
    },
    {
     "data": {
      "text/html": [
       "Ignoring project 'assignment1' when running a sweep."
      ],
      "text/plain": [
       "<IPython.core.display.HTML object>"
      ]
     },
     "metadata": {},
     "output_type": "display_data"
    },
    {
     "data": {
      "text/html": [
       "Ignoring entity 'da6401-assignments' when running a sweep."
      ],
      "text/plain": [
       "<IPython.core.display.HTML object>"
      ]
     },
     "metadata": {},
     "output_type": "display_data"
    },
    {
     "data": {
      "text/html": [
       "creating run (0.3s)"
      ],
      "text/plain": [
       "<IPython.core.display.HTML object>"
      ]
     },
     "metadata": {},
     "output_type": "display_data"
    },
    {
     "data": {
      "text/html": [
       "Tracking run with wandb version 0.19.8"
      ],
      "text/plain": [
       "<IPython.core.display.HTML object>"
      ]
     },
     "metadata": {},
     "output_type": "display_data"
    },
    {
     "data": {
      "text/html": [
       "Run data is saved locally in <code>c:\\Users\\prajv\\Downloads\\ass1\\DA6401_ASSIGNMENT1\\wandb\\run-20250310_024536-ssymc3xx</code>"
      ],
      "text/plain": [
       "<IPython.core.display.HTML object>"
      ]
     },
     "metadata": {},
     "output_type": "display_data"
    },
    {
     "data": {
      "text/html": [
       "Syncing run <strong><a href='https://wandb.ai/da6401-assignments/assignment1/runs/ssymc3xx' target=\"_blank\">vivid-sweep-15</a></strong> to <a href='https://wandb.ai/da6401-assignments/assignment1' target=\"_blank\">Weights & Biases</a> (<a href='https://wandb.me/developer-guide' target=\"_blank\">docs</a>)<br>Sweep page: <a href='https://wandb.ai/da6401-assignments/assignment1/sweeps/enexfa0c' target=\"_blank\">https://wandb.ai/da6401-assignments/assignment1/sweeps/enexfa0c</a>"
      ],
      "text/plain": [
       "<IPython.core.display.HTML object>"
      ]
     },
     "metadata": {},
     "output_type": "display_data"
    },
    {
     "data": {
      "text/html": [
       " View project at <a href='https://wandb.ai/da6401-assignments/assignment1' target=\"_blank\">https://wandb.ai/da6401-assignments/assignment1</a>"
      ],
      "text/plain": [
       "<IPython.core.display.HTML object>"
      ]
     },
     "metadata": {},
     "output_type": "display_data"
    },
    {
     "data": {
      "text/html": [
       " View sweep at <a href='https://wandb.ai/da6401-assignments/assignment1/sweeps/enexfa0c' target=\"_blank\">https://wandb.ai/da6401-assignments/assignment1/sweeps/enexfa0c</a>"
      ],
      "text/plain": [
       "<IPython.core.display.HTML object>"
      ]
     },
     "metadata": {},
     "output_type": "display_data"
    },
    {
     "data": {
      "text/html": [
       " View run at <a href='https://wandb.ai/da6401-assignments/assignment1/runs/ssymc3xx' target=\"_blank\">https://wandb.ai/da6401-assignments/assignment1/runs/ssymc3xx</a>"
      ],
      "text/plain": [
       "<IPython.core.display.HTML object>"
      ]
     },
     "metadata": {},
     "output_type": "display_data"
    },
    {
     "name": "stdout",
     "output_type": "stream",
     "text": [
      "Sweep Name:  LR: 0.0001, AC: sigmoid, BS: 64, Optim: nesterov, WI: random, WD: 0.0005, No_HL: 4, HS: 32\n",
      "Epoch 0: Training Loss = 9.2122 Validation Loss = 9.1484\n",
      "Training Accuracy = 0.1002 Validation Accuracy = 0.0983\n",
      "Epoch 1: Training Loss = 9.2122 Validation Loss = 9.1484\n",
      "Training Accuracy = 0.1002 Validation Accuracy = 0.0983\n",
      "Epoch 2: Training Loss = 9.2122 Validation Loss = 9.1484\n",
      "Training Accuracy = 0.1002 Validation Accuracy = 0.0983\n",
      "Epoch 3: Training Loss = 9.2122 Validation Loss = 9.1484\n",
      "Training Accuracy = 0.1002 Validation Accuracy = 0.0983\n",
      "Epoch 4: Training Loss = 9.2122 Validation Loss = 9.1484\n",
      "Training Accuracy = 0.1002 Validation Accuracy = 0.0983\n",
      "Epoch 5: Training Loss = 9.2122 Validation Loss = 9.1484\n",
      "Training Accuracy = 0.1002 Validation Accuracy = 0.0983\n",
      "Epoch 6: Training Loss = 9.2122 Validation Loss = 9.1484\n",
      "Training Accuracy = 0.1002 Validation Accuracy = 0.0983\n",
      "Epoch 7: Training Loss = 9.2122 Validation Loss = 9.1484\n",
      "Training Accuracy = 0.1002 Validation Accuracy = 0.0983\n",
      "Epoch 8: Training Loss = 9.2122 Validation Loss = 9.1484\n",
      "Training Accuracy = 0.1002 Validation Accuracy = 0.0983\n",
      "Epoch 9: Training Loss = 9.2122 Validation Loss = 9.1484\n",
      "Training Accuracy = 0.1002 Validation Accuracy = 0.0983\n"
     ]
    },
    {
     "data": {
      "text/html": [],
      "text/plain": [
       "<IPython.core.display.HTML object>"
      ]
     },
     "metadata": {},
     "output_type": "display_data"
    },
    {
     "data": {
      "text/html": [
       "<br>    <style><br>        .wandb-row {<br>            display: flex;<br>            flex-direction: row;<br>            flex-wrap: wrap;<br>            justify-content: flex-start;<br>            width: 100%;<br>        }<br>        .wandb-col {<br>            display: flex;<br>            flex-direction: column;<br>            flex-basis: 100%;<br>            flex: 1;<br>            padding: 10px;<br>        }<br>    </style><br><div class=\"wandb-row\"><div class=\"wandb-col\"><h3>Run history:</h3><br/><table class=\"wandb\"><tr><td>Accuracy</td><td>▁</td></tr><tr><td>epoch</td><td>▁▂▃▃▄▅▆▆▇█</td></tr><tr><td>train_acc</td><td>▁▁▁▁▁▁▁▁▁▁</td></tr><tr><td>train_loss</td><td>▁▁▁▁▁▁▁▁▁▁</td></tr><tr><td>val_acc</td><td>▁▁▁▁▁▁▁▁▁▁</td></tr><tr><td>val_loss</td><td>▁▁▁▁▁▁▁▁▁▁</td></tr></table><br/></div><div class=\"wandb-col\"><h3>Run summary:</h3><br/><table class=\"wandb\"><tr><td>Accuracy</td><td>0.09833</td></tr><tr><td>epoch</td><td>9</td></tr><tr><td>train_acc</td><td>0.10019</td></tr><tr><td>train_loss</td><td>9.2122</td></tr><tr><td>val_acc</td><td>0.09833</td></tr><tr><td>val_loss</td><td>9.1484</td></tr></table><br/></div></div>"
      ],
      "text/plain": [
       "<IPython.core.display.HTML object>"
      ]
     },
     "metadata": {},
     "output_type": "display_data"
    },
    {
     "data": {
      "text/html": [
       " View run <strong style=\"color:#cdcd00\">LR: 0.0001, AC: sigmoid, BS: 64, Optim: nesterov, WI: random, WD: 0.0005, No_HL: 4, HS: 32</strong> at: <a href='https://wandb.ai/da6401-assignments/assignment1/runs/ssymc3xx' target=\"_blank\">https://wandb.ai/da6401-assignments/assignment1/runs/ssymc3xx</a><br> View project at: <a href='https://wandb.ai/da6401-assignments/assignment1' target=\"_blank\">https://wandb.ai/da6401-assignments/assignment1</a><br>Synced 5 W&B file(s), 0 media file(s), 0 artifact file(s) and 0 other file(s)"
      ],
      "text/plain": [
       "<IPython.core.display.HTML object>"
      ]
     },
     "metadata": {},
     "output_type": "display_data"
    },
    {
     "data": {
      "text/html": [
       "Find logs at: <code>.\\wandb\\run-20250310_024536-ssymc3xx\\logs</code>"
      ],
      "text/plain": [
       "<IPython.core.display.HTML object>"
      ]
     },
     "metadata": {},
     "output_type": "display_data"
    },
    {
     "name": "stderr",
     "output_type": "stream",
     "text": [
      "\u001b[34m\u001b[1mwandb\u001b[0m: Agent Starting Run: s2jro00z with config:\n",
      "\u001b[34m\u001b[1mwandb\u001b[0m: \tactivationFunc: tanh\n",
      "\u001b[34m\u001b[1mwandb\u001b[0m: \tbatchSize: 32\n",
      "\u001b[34m\u001b[1mwandb\u001b[0m: \thiddenLayer_Size: 32\n",
      "\u001b[34m\u001b[1mwandb\u001b[0m: \tlearningRate: 0.001\n",
      "\u001b[34m\u001b[1mwandb\u001b[0m: \tnum_epochs: 5\n",
      "\u001b[34m\u001b[1mwandb\u001b[0m: \tnum_hiddenLayers: 3\n",
      "\u001b[34m\u001b[1mwandb\u001b[0m: \toptimizer: nesterov\n",
      "\u001b[34m\u001b[1mwandb\u001b[0m: \tweightDecay: 0\n",
      "\u001b[34m\u001b[1mwandb\u001b[0m: \tweightInit: random\n"
     ]
    },
    {
     "data": {
      "text/html": [
       "Ignoring project 'assignment1' when running a sweep."
      ],
      "text/plain": [
       "<IPython.core.display.HTML object>"
      ]
     },
     "metadata": {},
     "output_type": "display_data"
    },
    {
     "data": {
      "text/html": [
       "Ignoring entity 'da6401-assignments' when running a sweep."
      ],
      "text/plain": [
       "<IPython.core.display.HTML object>"
      ]
     },
     "metadata": {},
     "output_type": "display_data"
    },
    {
     "data": {
      "text/html": [
       "Waiting for wandb.init()..."
      ],
      "text/plain": [
       "<IPython.core.display.HTML object>"
      ]
     },
     "metadata": {},
     "output_type": "display_data"
    },
    {
     "data": {
      "text/html": [
       "Tracking run with wandb version 0.19.8"
      ],
      "text/plain": [
       "<IPython.core.display.HTML object>"
      ]
     },
     "metadata": {},
     "output_type": "display_data"
    },
    {
     "data": {
      "text/html": [
       "Run data is saved locally in <code>c:\\Users\\prajv\\Downloads\\ass1\\DA6401_ASSIGNMENT1\\wandb\\run-20250310_024552-s2jro00z</code>"
      ],
      "text/plain": [
       "<IPython.core.display.HTML object>"
      ]
     },
     "metadata": {},
     "output_type": "display_data"
    },
    {
     "data": {
      "text/html": [
       "Syncing run <strong><a href='https://wandb.ai/da6401-assignments/assignment1/runs/s2jro00z' target=\"_blank\">drawn-sweep-16</a></strong> to <a href='https://wandb.ai/da6401-assignments/assignment1' target=\"_blank\">Weights & Biases</a> (<a href='https://wandb.me/developer-guide' target=\"_blank\">docs</a>)<br>Sweep page: <a href='https://wandb.ai/da6401-assignments/assignment1/sweeps/enexfa0c' target=\"_blank\">https://wandb.ai/da6401-assignments/assignment1/sweeps/enexfa0c</a>"
      ],
      "text/plain": [
       "<IPython.core.display.HTML object>"
      ]
     },
     "metadata": {},
     "output_type": "display_data"
    },
    {
     "data": {
      "text/html": [
       " View project at <a href='https://wandb.ai/da6401-assignments/assignment1' target=\"_blank\">https://wandb.ai/da6401-assignments/assignment1</a>"
      ],
      "text/plain": [
       "<IPython.core.display.HTML object>"
      ]
     },
     "metadata": {},
     "output_type": "display_data"
    },
    {
     "data": {
      "text/html": [
       " View sweep at <a href='https://wandb.ai/da6401-assignments/assignment1/sweeps/enexfa0c' target=\"_blank\">https://wandb.ai/da6401-assignments/assignment1/sweeps/enexfa0c</a>"
      ],
      "text/plain": [
       "<IPython.core.display.HTML object>"
      ]
     },
     "metadata": {},
     "output_type": "display_data"
    },
    {
     "data": {
      "text/html": [
       " View run at <a href='https://wandb.ai/da6401-assignments/assignment1/runs/s2jro00z' target=\"_blank\">https://wandb.ai/da6401-assignments/assignment1/runs/s2jro00z</a>"
      ],
      "text/plain": [
       "<IPython.core.display.HTML object>"
      ]
     },
     "metadata": {},
     "output_type": "display_data"
    },
    {
     "name": "stdout",
     "output_type": "stream",
     "text": [
      "Sweep Name:  LR: 0.001, AC: tanh, BS: 32, Optim: nesterov, WI: random, WD: 0, No_HL: 3, HS: 32\n",
      "Epoch 0: Training Loss = 4.5658 Validation Loss = 4.6001\n",
      "Training Accuracy = 0.1007 Validation Accuracy = 0.0935\n",
      "Epoch 1: Training Loss = 4.5658 Validation Loss = 4.6001\n",
      "Training Accuracy = 0.1007 Validation Accuracy = 0.0935\n",
      "Epoch 2: Training Loss = 4.5658 Validation Loss = 4.6001\n",
      "Training Accuracy = 0.1007 Validation Accuracy = 0.0935\n",
      "Epoch 3: Training Loss = 4.5658 Validation Loss = 4.6001\n",
      "Training Accuracy = 0.1007 Validation Accuracy = 0.0935\n",
      "Epoch 4: Training Loss = 4.5658 Validation Loss = 4.6001\n",
      "Training Accuracy = 0.1007 Validation Accuracy = 0.0935\n"
     ]
    },
    {
     "data": {
      "text/html": [],
      "text/plain": [
       "<IPython.core.display.HTML object>"
      ]
     },
     "metadata": {},
     "output_type": "display_data"
    },
    {
     "data": {
      "text/html": [
       "<br>    <style><br>        .wandb-row {<br>            display: flex;<br>            flex-direction: row;<br>            flex-wrap: wrap;<br>            justify-content: flex-start;<br>            width: 100%;<br>        }<br>        .wandb-col {<br>            display: flex;<br>            flex-direction: column;<br>            flex-basis: 100%;<br>            flex: 1;<br>            padding: 10px;<br>        }<br>    </style><br><div class=\"wandb-row\"><div class=\"wandb-col\"><h3>Run history:</h3><br/><table class=\"wandb\"><tr><td>Accuracy</td><td>▁</td></tr><tr><td>epoch</td><td>▁▃▅▆█</td></tr><tr><td>train_acc</td><td>▁▁▁▁▁</td></tr><tr><td>train_loss</td><td>▁▁▁▁▁</td></tr><tr><td>val_acc</td><td>▁▁▁▁▁</td></tr><tr><td>val_loss</td><td>▁▁▁▁▁</td></tr></table><br/></div><div class=\"wandb-col\"><h3>Run summary:</h3><br/><table class=\"wandb\"><tr><td>Accuracy</td><td>0.0935</td></tr><tr><td>epoch</td><td>4</td></tr><tr><td>train_acc</td><td>0.10074</td></tr><tr><td>train_loss</td><td>4.56577</td></tr><tr><td>val_acc</td><td>0.0935</td></tr><tr><td>val_loss</td><td>4.6001</td></tr></table><br/></div></div>"
      ],
      "text/plain": [
       "<IPython.core.display.HTML object>"
      ]
     },
     "metadata": {},
     "output_type": "display_data"
    },
    {
     "data": {
      "text/html": [
       " View run <strong style=\"color:#cdcd00\">LR: 0.001, AC: tanh, BS: 32, Optim: nesterov, WI: random, WD: 0, No_HL: 3, HS: 32</strong> at: <a href='https://wandb.ai/da6401-assignments/assignment1/runs/s2jro00z' target=\"_blank\">https://wandb.ai/da6401-assignments/assignment1/runs/s2jro00z</a><br> View project at: <a href='https://wandb.ai/da6401-assignments/assignment1' target=\"_blank\">https://wandb.ai/da6401-assignments/assignment1</a><br>Synced 5 W&B file(s), 0 media file(s), 0 artifact file(s) and 0 other file(s)"
      ],
      "text/plain": [
       "<IPython.core.display.HTML object>"
      ]
     },
     "metadata": {},
     "output_type": "display_data"
    },
    {
     "data": {
      "text/html": [
       "Find logs at: <code>.\\wandb\\run-20250310_024552-s2jro00z\\logs</code>"
      ],
      "text/plain": [
       "<IPython.core.display.HTML object>"
      ]
     },
     "metadata": {},
     "output_type": "display_data"
    },
    {
     "name": "stderr",
     "output_type": "stream",
     "text": [
      "\u001b[34m\u001b[1mwandb\u001b[0m: Agent Starting Run: 5nf048on with config:\n",
      "\u001b[34m\u001b[1mwandb\u001b[0m: \tactivationFunc: tanh\n",
      "\u001b[34m\u001b[1mwandb\u001b[0m: \tbatchSize: 16\n",
      "\u001b[34m\u001b[1mwandb\u001b[0m: \thiddenLayer_Size: 128\n",
      "\u001b[34m\u001b[1mwandb\u001b[0m: \tlearningRate: 0.001\n",
      "\u001b[34m\u001b[1mwandb\u001b[0m: \tnum_epochs: 5\n",
      "\u001b[34m\u001b[1mwandb\u001b[0m: \tnum_hiddenLayers: 3\n",
      "\u001b[34m\u001b[1mwandb\u001b[0m: \toptimizer: adam\n",
      "\u001b[34m\u001b[1mwandb\u001b[0m: \tweightDecay: 0.5\n",
      "\u001b[34m\u001b[1mwandb\u001b[0m: \tweightInit: xavier\n"
     ]
    },
    {
     "data": {
      "text/html": [
       "Ignoring project 'assignment1' when running a sweep."
      ],
      "text/plain": [
       "<IPython.core.display.HTML object>"
      ]
     },
     "metadata": {},
     "output_type": "display_data"
    },
    {
     "data": {
      "text/html": [
       "Ignoring entity 'da6401-assignments' when running a sweep."
      ],
      "text/plain": [
       "<IPython.core.display.HTML object>"
      ]
     },
     "metadata": {},
     "output_type": "display_data"
    },
    {
     "data": {
      "text/html": [
       "creating run (0.2s)"
      ],
      "text/plain": [
       "<IPython.core.display.HTML object>"
      ]
     },
     "metadata": {},
     "output_type": "display_data"
    },
    {
     "data": {
      "text/html": [
       "Tracking run with wandb version 0.19.8"
      ],
      "text/plain": [
       "<IPython.core.display.HTML object>"
      ]
     },
     "metadata": {},
     "output_type": "display_data"
    },
    {
     "data": {
      "text/html": [
       "Run data is saved locally in <code>c:\\Users\\prajv\\Downloads\\ass1\\DA6401_ASSIGNMENT1\\wandb\\run-20250310_024603-5nf048on</code>"
      ],
      "text/plain": [
       "<IPython.core.display.HTML object>"
      ]
     },
     "metadata": {},
     "output_type": "display_data"
    },
    {
     "data": {
      "text/html": [
       "Syncing run <strong><a href='https://wandb.ai/da6401-assignments/assignment1/runs/5nf048on' target=\"_blank\">wise-sweep-17</a></strong> to <a href='https://wandb.ai/da6401-assignments/assignment1' target=\"_blank\">Weights & Biases</a> (<a href='https://wandb.me/developer-guide' target=\"_blank\">docs</a>)<br>Sweep page: <a href='https://wandb.ai/da6401-assignments/assignment1/sweeps/enexfa0c' target=\"_blank\">https://wandb.ai/da6401-assignments/assignment1/sweeps/enexfa0c</a>"
      ],
      "text/plain": [
       "<IPython.core.display.HTML object>"
      ]
     },
     "metadata": {},
     "output_type": "display_data"
    },
    {
     "data": {
      "text/html": [
       " View project at <a href='https://wandb.ai/da6401-assignments/assignment1' target=\"_blank\">https://wandb.ai/da6401-assignments/assignment1</a>"
      ],
      "text/plain": [
       "<IPython.core.display.HTML object>"
      ]
     },
     "metadata": {},
     "output_type": "display_data"
    },
    {
     "data": {
      "text/html": [
       " View sweep at <a href='https://wandb.ai/da6401-assignments/assignment1/sweeps/enexfa0c' target=\"_blank\">https://wandb.ai/da6401-assignments/assignment1/sweeps/enexfa0c</a>"
      ],
      "text/plain": [
       "<IPython.core.display.HTML object>"
      ]
     },
     "metadata": {},
     "output_type": "display_data"
    },
    {
     "data": {
      "text/html": [
       " View run at <a href='https://wandb.ai/da6401-assignments/assignment1/runs/5nf048on' target=\"_blank\">https://wandb.ai/da6401-assignments/assignment1/runs/5nf048on</a>"
      ],
      "text/plain": [
       "<IPython.core.display.HTML object>"
      ]
     },
     "metadata": {},
     "output_type": "display_data"
    },
    {
     "name": "stdout",
     "output_type": "stream",
     "text": [
      "Sweep Name:  LR: 0.001, AC: tanh, BS: 16, Optim: adam, WI: xavier, WD: 0.5, No_HL: 3, HS: 128\n",
      "Epoch 0: Training Loss = 0.4865 Validation Loss = 0.5077\n",
      "Training Accuracy = 0.8223 Validation Accuracy = 0.8168\n",
      "Epoch 1: Training Loss = 0.4283 Validation Loss = 0.4630\n",
      "Training Accuracy = 0.8412 Validation Accuracy = 0.8302\n",
      "Epoch 2: Training Loss = 0.3932 Validation Loss = 0.4334\n",
      "Training Accuracy = 0.8547 Validation Accuracy = 0.8440\n",
      "Epoch 3: Training Loss = 0.3685 Validation Loss = 0.4197\n",
      "Training Accuracy = 0.8582 Validation Accuracy = 0.8385\n",
      "Epoch 4: Training Loss = 0.3402 Validation Loss = 0.4028\n",
      "Training Accuracy = 0.8727 Validation Accuracy = 0.8548\n"
     ]
    },
    {
     "data": {
      "text/html": [],
      "text/plain": [
       "<IPython.core.display.HTML object>"
      ]
     },
     "metadata": {},
     "output_type": "display_data"
    },
    {
     "data": {
      "text/html": [
       "<br>    <style><br>        .wandb-row {<br>            display: flex;<br>            flex-direction: row;<br>            flex-wrap: wrap;<br>            justify-content: flex-start;<br>            width: 100%;<br>        }<br>        .wandb-col {<br>            display: flex;<br>            flex-direction: column;<br>            flex-basis: 100%;<br>            flex: 1;<br>            padding: 10px;<br>        }<br>    </style><br><div class=\"wandb-row\"><div class=\"wandb-col\"><h3>Run history:</h3><br/><table class=\"wandb\"><tr><td>Accuracy</td><td>▁</td></tr><tr><td>epoch</td><td>▁▃▅▆█</td></tr><tr><td>train_acc</td><td>▁▄▆▆█</td></tr><tr><td>train_loss</td><td>█▅▄▂▁</td></tr><tr><td>val_acc</td><td>▁▃▆▅█</td></tr><tr><td>val_loss</td><td>█▅▃▂▁</td></tr></table><br/></div><div class=\"wandb-col\"><h3>Run summary:</h3><br/><table class=\"wandb\"><tr><td>Accuracy</td><td>0.85483</td></tr><tr><td>epoch</td><td>4</td></tr><tr><td>train_acc</td><td>0.87269</td></tr><tr><td>train_loss</td><td>0.34017</td></tr><tr><td>val_acc</td><td>0.85483</td></tr><tr><td>val_loss</td><td>0.40281</td></tr></table><br/></div></div>"
      ],
      "text/plain": [
       "<IPython.core.display.HTML object>"
      ]
     },
     "metadata": {},
     "output_type": "display_data"
    },
    {
     "data": {
      "text/html": [
       " View run <strong style=\"color:#cdcd00\">LR: 0.001, AC: tanh, BS: 16, Optim: adam, WI: xavier, WD: 0.5, No_HL: 3, HS: 128</strong> at: <a href='https://wandb.ai/da6401-assignments/assignment1/runs/5nf048on' target=\"_blank\">https://wandb.ai/da6401-assignments/assignment1/runs/5nf048on</a><br> View project at: <a href='https://wandb.ai/da6401-assignments/assignment1' target=\"_blank\">https://wandb.ai/da6401-assignments/assignment1</a><br>Synced 5 W&B file(s), 0 media file(s), 0 artifact file(s) and 0 other file(s)"
      ],
      "text/plain": [
       "<IPython.core.display.HTML object>"
      ]
     },
     "metadata": {},
     "output_type": "display_data"
    },
    {
     "data": {
      "text/html": [
       "Find logs at: <code>.\\wandb\\run-20250310_024603-5nf048on\\logs</code>"
      ],
      "text/plain": [
       "<IPython.core.display.HTML object>"
      ]
     },
     "metadata": {},
     "output_type": "display_data"
    },
    {
     "name": "stderr",
     "output_type": "stream",
     "text": [
      "\u001b[34m\u001b[1mwandb\u001b[0m: Agent Starting Run: vjyf7f1t with config:\n",
      "\u001b[34m\u001b[1mwandb\u001b[0m: \tactivationFunc: relu\n",
      "\u001b[34m\u001b[1mwandb\u001b[0m: \tbatchSize: 16\n",
      "\u001b[34m\u001b[1mwandb\u001b[0m: \thiddenLayer_Size: 128\n",
      "\u001b[34m\u001b[1mwandb\u001b[0m: \tlearningRate: 0.001\n",
      "\u001b[34m\u001b[1mwandb\u001b[0m: \tnum_epochs: 10\n",
      "\u001b[34m\u001b[1mwandb\u001b[0m: \tnum_hiddenLayers: 5\n",
      "\u001b[34m\u001b[1mwandb\u001b[0m: \toptimizer: momentum\n",
      "\u001b[34m\u001b[1mwandb\u001b[0m: \tweightDecay: 0.0005\n",
      "\u001b[34m\u001b[1mwandb\u001b[0m: \tweightInit: random\n"
     ]
    },
    {
     "data": {
      "text/html": [
       "Ignoring project 'assignment1' when running a sweep."
      ],
      "text/plain": [
       "<IPython.core.display.HTML object>"
      ]
     },
     "metadata": {},
     "output_type": "display_data"
    },
    {
     "data": {
      "text/html": [
       "Ignoring entity 'da6401-assignments' when running a sweep."
      ],
      "text/plain": [
       "<IPython.core.display.HTML object>"
      ]
     },
     "metadata": {},
     "output_type": "display_data"
    },
    {
     "data": {
      "text/html": [
       "creating run (0.3s)"
      ],
      "text/plain": [
       "<IPython.core.display.HTML object>"
      ]
     },
     "metadata": {},
     "output_type": "display_data"
    },
    {
     "data": {
      "text/html": [
       "Tracking run with wandb version 0.19.8"
      ],
      "text/plain": [
       "<IPython.core.display.HTML object>"
      ]
     },
     "metadata": {},
     "output_type": "display_data"
    },
    {
     "data": {
      "text/html": [
       "Run data is saved locally in <code>c:\\Users\\prajv\\Downloads\\ass1\\DA6401_ASSIGNMENT1\\wandb\\run-20250310_024655-vjyf7f1t</code>"
      ],
      "text/plain": [
       "<IPython.core.display.HTML object>"
      ]
     },
     "metadata": {},
     "output_type": "display_data"
    },
    {
     "data": {
      "text/html": [
       "Syncing run <strong><a href='https://wandb.ai/da6401-assignments/assignment1/runs/vjyf7f1t' target=\"_blank\">dainty-sweep-18</a></strong> to <a href='https://wandb.ai/da6401-assignments/assignment1' target=\"_blank\">Weights & Biases</a> (<a href='https://wandb.me/developer-guide' target=\"_blank\">docs</a>)<br>Sweep page: <a href='https://wandb.ai/da6401-assignments/assignment1/sweeps/enexfa0c' target=\"_blank\">https://wandb.ai/da6401-assignments/assignment1/sweeps/enexfa0c</a>"
      ],
      "text/plain": [
       "<IPython.core.display.HTML object>"
      ]
     },
     "metadata": {},
     "output_type": "display_data"
    },
    {
     "data": {
      "text/html": [
       " View project at <a href='https://wandb.ai/da6401-assignments/assignment1' target=\"_blank\">https://wandb.ai/da6401-assignments/assignment1</a>"
      ],
      "text/plain": [
       "<IPython.core.display.HTML object>"
      ]
     },
     "metadata": {},
     "output_type": "display_data"
    },
    {
     "data": {
      "text/html": [
       " View sweep at <a href='https://wandb.ai/da6401-assignments/assignment1/sweeps/enexfa0c' target=\"_blank\">https://wandb.ai/da6401-assignments/assignment1/sweeps/enexfa0c</a>"
      ],
      "text/plain": [
       "<IPython.core.display.HTML object>"
      ]
     },
     "metadata": {},
     "output_type": "display_data"
    },
    {
     "data": {
      "text/html": [
       " View run at <a href='https://wandb.ai/da6401-assignments/assignment1/runs/vjyf7f1t' target=\"_blank\">https://wandb.ai/da6401-assignments/assignment1/runs/vjyf7f1t</a>"
      ],
      "text/plain": [
       "<IPython.core.display.HTML object>"
      ]
     },
     "metadata": {},
     "output_type": "display_data"
    },
    {
     "name": "stdout",
     "output_type": "stream",
     "text": [
      "Sweep Name:  LR: 0.001, AC: relu, BS: 16, Optim: momentum, WI: random, WD: 0.0005, No_HL: 5, HS: 128\n",
      "Epoch 0: Training Loss = 0.8939 Validation Loss = 0.9116\n",
      "Training Accuracy = 0.6716 Validation Accuracy = 0.6758\n",
      "Epoch 1: Training Loss = 0.7653 Validation Loss = 0.7875\n",
      "Training Accuracy = 0.7226 Validation Accuracy = 0.7253\n",
      "Epoch 2: Training Loss = 0.6990 Validation Loss = 0.7245\n",
      "Training Accuracy = 0.7467 Validation Accuracy = 0.7480\n",
      "Epoch 3: Training Loss = 0.6566 Validation Loss = 0.6837\n",
      "Training Accuracy = 0.7600 Validation Accuracy = 0.7573\n",
      "Epoch 4: Training Loss = 0.6269 Validation Loss = 0.6584\n",
      "Training Accuracy = 0.7709 Validation Accuracy = 0.7690\n",
      "Epoch 5: Training Loss = 0.6050 Validation Loss = 0.6407\n",
      "Training Accuracy = 0.7786 Validation Accuracy = 0.7722\n",
      "Epoch 6: Training Loss = 0.5816 Validation Loss = 0.6179\n",
      "Training Accuracy = 0.7861 Validation Accuracy = 0.7785\n",
      "Epoch 7: Training Loss = 0.5680 Validation Loss = 0.6084\n",
      "Training Accuracy = 0.7915 Validation Accuracy = 0.7835\n",
      "Epoch 8: Training Loss = 0.5523 Validation Loss = 0.5953\n",
      "Training Accuracy = 0.7975 Validation Accuracy = 0.7875\n",
      "Epoch 9: Training Loss = 0.5388 Validation Loss = 0.5853\n",
      "Training Accuracy = 0.8015 Validation Accuracy = 0.7900\n"
     ]
    },
    {
     "data": {
      "text/html": [],
      "text/plain": [
       "<IPython.core.display.HTML object>"
      ]
     },
     "metadata": {},
     "output_type": "display_data"
    },
    {
     "data": {
      "text/html": [
       "<br>    <style><br>        .wandb-row {<br>            display: flex;<br>            flex-direction: row;<br>            flex-wrap: wrap;<br>            justify-content: flex-start;<br>            width: 100%;<br>        }<br>        .wandb-col {<br>            display: flex;<br>            flex-direction: column;<br>            flex-basis: 100%;<br>            flex: 1;<br>            padding: 10px;<br>        }<br>    </style><br><div class=\"wandb-row\"><div class=\"wandb-col\"><h3>Run history:</h3><br/><table class=\"wandb\"><tr><td>Accuracy</td><td>▁</td></tr><tr><td>epoch</td><td>▁▂▃▃▄▅▆▆▇█</td></tr><tr><td>train_acc</td><td>▁▄▅▆▆▇▇▇██</td></tr><tr><td>train_loss</td><td>█▅▄▃▃▂▂▂▁▁</td></tr><tr><td>val_acc</td><td>▁▄▅▆▇▇▇███</td></tr><tr><td>val_loss</td><td>█▅▄▃▃▂▂▁▁▁</td></tr></table><br/></div><div class=\"wandb-col\"><h3>Run summary:</h3><br/><table class=\"wandb\"><tr><td>Accuracy</td><td>0.79</td></tr><tr><td>epoch</td><td>9</td></tr><tr><td>train_acc</td><td>0.8015</td></tr><tr><td>train_loss</td><td>0.5388</td></tr><tr><td>val_acc</td><td>0.79</td></tr><tr><td>val_loss</td><td>0.58531</td></tr></table><br/></div></div>"
      ],
      "text/plain": [
       "<IPython.core.display.HTML object>"
      ]
     },
     "metadata": {},
     "output_type": "display_data"
    },
    {
     "data": {
      "text/html": [
       " View run <strong style=\"color:#cdcd00\">LR: 0.001, AC: relu, BS: 16, Optim: momentum, WI: random, WD: 0.0005, No_HL: 5, HS: 128</strong> at: <a href='https://wandb.ai/da6401-assignments/assignment1/runs/vjyf7f1t' target=\"_blank\">https://wandb.ai/da6401-assignments/assignment1/runs/vjyf7f1t</a><br> View project at: <a href='https://wandb.ai/da6401-assignments/assignment1' target=\"_blank\">https://wandb.ai/da6401-assignments/assignment1</a><br>Synced 5 W&B file(s), 0 media file(s), 0 artifact file(s) and 0 other file(s)"
      ],
      "text/plain": [
       "<IPython.core.display.HTML object>"
      ]
     },
     "metadata": {},
     "output_type": "display_data"
    },
    {
     "data": {
      "text/html": [
       "Find logs at: <code>.\\wandb\\run-20250310_024655-vjyf7f1t\\logs</code>"
      ],
      "text/plain": [
       "<IPython.core.display.HTML object>"
      ]
     },
     "metadata": {},
     "output_type": "display_data"
    },
    {
     "name": "stderr",
     "output_type": "stream",
     "text": [
      "\u001b[34m\u001b[1mwandb\u001b[0m: Agent Starting Run: ty54xv34 with config:\n",
      "\u001b[34m\u001b[1mwandb\u001b[0m: \tactivationFunc: sigmoid\n",
      "\u001b[34m\u001b[1mwandb\u001b[0m: \tbatchSize: 16\n",
      "\u001b[34m\u001b[1mwandb\u001b[0m: \thiddenLayer_Size: 64\n",
      "\u001b[34m\u001b[1mwandb\u001b[0m: \tlearningRate: 0.001\n",
      "\u001b[34m\u001b[1mwandb\u001b[0m: \tnum_epochs: 5\n",
      "\u001b[34m\u001b[1mwandb\u001b[0m: \tnum_hiddenLayers: 5\n",
      "\u001b[34m\u001b[1mwandb\u001b[0m: \toptimizer: adam\n",
      "\u001b[34m\u001b[1mwandb\u001b[0m: \tweightDecay: 0.5\n",
      "\u001b[34m\u001b[1mwandb\u001b[0m: \tweightInit: xavier\n"
     ]
    },
    {
     "data": {
      "text/html": [
       "Ignoring project 'assignment1' when running a sweep."
      ],
      "text/plain": [
       "<IPython.core.display.HTML object>"
      ]
     },
     "metadata": {},
     "output_type": "display_data"
    },
    {
     "data": {
      "text/html": [
       "Ignoring entity 'da6401-assignments' when running a sweep."
      ],
      "text/plain": [
       "<IPython.core.display.HTML object>"
      ]
     },
     "metadata": {},
     "output_type": "display_data"
    },
    {
     "data": {
      "text/html": [
       "creating run (0.4s)"
      ],
      "text/plain": [
       "<IPython.core.display.HTML object>"
      ]
     },
     "metadata": {},
     "output_type": "display_data"
    },
    {
     "data": {
      "text/html": [
       "Tracking run with wandb version 0.19.8"
      ],
      "text/plain": [
       "<IPython.core.display.HTML object>"
      ]
     },
     "metadata": {},
     "output_type": "display_data"
    },
    {
     "data": {
      "text/html": [
       "Run data is saved locally in <code>c:\\Users\\prajv\\Downloads\\ass1\\DA6401_ASSIGNMENT1\\wandb\\run-20250310_024826-ty54xv34</code>"
      ],
      "text/plain": [
       "<IPython.core.display.HTML object>"
      ]
     },
     "metadata": {},
     "output_type": "display_data"
    },
    {
     "data": {
      "text/html": [
       "Syncing run <strong><a href='https://wandb.ai/da6401-assignments/assignment1/runs/ty54xv34' target=\"_blank\">astral-sweep-19</a></strong> to <a href='https://wandb.ai/da6401-assignments/assignment1' target=\"_blank\">Weights & Biases</a> (<a href='https://wandb.me/developer-guide' target=\"_blank\">docs</a>)<br>Sweep page: <a href='https://wandb.ai/da6401-assignments/assignment1/sweeps/enexfa0c' target=\"_blank\">https://wandb.ai/da6401-assignments/assignment1/sweeps/enexfa0c</a>"
      ],
      "text/plain": [
       "<IPython.core.display.HTML object>"
      ]
     },
     "metadata": {},
     "output_type": "display_data"
    },
    {
     "data": {
      "text/html": [
       " View project at <a href='https://wandb.ai/da6401-assignments/assignment1' target=\"_blank\">https://wandb.ai/da6401-assignments/assignment1</a>"
      ],
      "text/plain": [
       "<IPython.core.display.HTML object>"
      ]
     },
     "metadata": {},
     "output_type": "display_data"
    },
    {
     "data": {
      "text/html": [
       " View sweep at <a href='https://wandb.ai/da6401-assignments/assignment1/sweeps/enexfa0c' target=\"_blank\">https://wandb.ai/da6401-assignments/assignment1/sweeps/enexfa0c</a>"
      ],
      "text/plain": [
       "<IPython.core.display.HTML object>"
      ]
     },
     "metadata": {},
     "output_type": "display_data"
    },
    {
     "data": {
      "text/html": [
       " View run at <a href='https://wandb.ai/da6401-assignments/assignment1/runs/ty54xv34' target=\"_blank\">https://wandb.ai/da6401-assignments/assignment1/runs/ty54xv34</a>"
      ],
      "text/plain": [
       "<IPython.core.display.HTML object>"
      ]
     },
     "metadata": {},
     "output_type": "display_data"
    },
    {
     "name": "stdout",
     "output_type": "stream",
     "text": [
      "Sweep Name:  LR: 0.001, AC: sigmoid, BS: 16, Optim: adam, WI: xavier, WD: 0.5, No_HL: 5, HS: 64\n",
      "Epoch 0: Training Loss = 0.5229 Validation Loss = 0.5425\n",
      "Training Accuracy = 0.8126 Validation Accuracy = 0.8102\n",
      "Epoch 1: Training Loss = 0.4539 Validation Loss = 0.4779\n",
      "Training Accuracy = 0.8370 Validation Accuracy = 0.8317\n",
      "Epoch 2: Training Loss = 0.4205 Validation Loss = 0.4556\n",
      "Training Accuracy = 0.8475 Validation Accuracy = 0.8417\n",
      "Epoch 3: Training Loss = 0.4037 Validation Loss = 0.4410\n",
      "Training Accuracy = 0.8528 Validation Accuracy = 0.8413\n",
      "Epoch 4: Training Loss = 0.3847 Validation Loss = 0.4316\n",
      "Training Accuracy = 0.8608 Validation Accuracy = 0.8415\n"
     ]
    },
    {
     "data": {
      "text/html": [],
      "text/plain": [
       "<IPython.core.display.HTML object>"
      ]
     },
     "metadata": {},
     "output_type": "display_data"
    },
    {
     "data": {
      "text/html": [
       "<br>    <style><br>        .wandb-row {<br>            display: flex;<br>            flex-direction: row;<br>            flex-wrap: wrap;<br>            justify-content: flex-start;<br>            width: 100%;<br>        }<br>        .wandb-col {<br>            display: flex;<br>            flex-direction: column;<br>            flex-basis: 100%;<br>            flex: 1;<br>            padding: 10px;<br>        }<br>    </style><br><div class=\"wandb-row\"><div class=\"wandb-col\"><h3>Run history:</h3><br/><table class=\"wandb\"><tr><td>Accuracy</td><td>▁</td></tr><tr><td>epoch</td><td>▁▃▅▆█</td></tr><tr><td>train_acc</td><td>▁▅▆▇█</td></tr><tr><td>train_loss</td><td>█▅▃▂▁</td></tr><tr><td>val_acc</td><td>▁▆███</td></tr><tr><td>val_loss</td><td>█▄▃▂▁</td></tr></table><br/></div><div class=\"wandb-col\"><h3>Run summary:</h3><br/><table class=\"wandb\"><tr><td>Accuracy</td><td>0.8415</td></tr><tr><td>epoch</td><td>4</td></tr><tr><td>train_acc</td><td>0.86078</td></tr><tr><td>train_loss</td><td>0.38474</td></tr><tr><td>val_acc</td><td>0.8415</td></tr><tr><td>val_loss</td><td>0.4316</td></tr></table><br/></div></div>"
      ],
      "text/plain": [
       "<IPython.core.display.HTML object>"
      ]
     },
     "metadata": {},
     "output_type": "display_data"
    },
    {
     "data": {
      "text/html": [
       " View run <strong style=\"color:#cdcd00\">LR: 0.001, AC: sigmoid, BS: 16, Optim: adam, WI: xavier, WD: 0.5, No_HL: 5, HS: 64</strong> at: <a href='https://wandb.ai/da6401-assignments/assignment1/runs/ty54xv34' target=\"_blank\">https://wandb.ai/da6401-assignments/assignment1/runs/ty54xv34</a><br> View project at: <a href='https://wandb.ai/da6401-assignments/assignment1' target=\"_blank\">https://wandb.ai/da6401-assignments/assignment1</a><br>Synced 5 W&B file(s), 0 media file(s), 0 artifact file(s) and 0 other file(s)"
      ],
      "text/plain": [
       "<IPython.core.display.HTML object>"
      ]
     },
     "metadata": {},
     "output_type": "display_data"
    },
    {
     "data": {
      "text/html": [
       "Find logs at: <code>.\\wandb\\run-20250310_024826-ty54xv34\\logs</code>"
      ],
      "text/plain": [
       "<IPython.core.display.HTML object>"
      ]
     },
     "metadata": {},
     "output_type": "display_data"
    },
    {
     "name": "stderr",
     "output_type": "stream",
     "text": [
      "\u001b[34m\u001b[1mwandb\u001b[0m: Sweep Agent: Waiting for job.\n",
      "\u001b[34m\u001b[1mwandb\u001b[0m: Job received.\n",
      "\u001b[34m\u001b[1mwandb\u001b[0m: Agent Starting Run: hybslj0d with config:\n",
      "\u001b[34m\u001b[1mwandb\u001b[0m: \tactivationFunc: relu\n",
      "\u001b[34m\u001b[1mwandb\u001b[0m: \tbatchSize: 16\n",
      "\u001b[34m\u001b[1mwandb\u001b[0m: \thiddenLayer_Size: 32\n",
      "\u001b[34m\u001b[1mwandb\u001b[0m: \tlearningRate: 0.0001\n",
      "\u001b[34m\u001b[1mwandb\u001b[0m: \tnum_epochs: 10\n",
      "\u001b[34m\u001b[1mwandb\u001b[0m: \tnum_hiddenLayers: 4\n",
      "\u001b[34m\u001b[1mwandb\u001b[0m: \toptimizer: rmsprop\n",
      "\u001b[34m\u001b[1mwandb\u001b[0m: \tweightDecay: 0.0005\n",
      "\u001b[34m\u001b[1mwandb\u001b[0m: \tweightInit: random\n"
     ]
    },
    {
     "data": {
      "text/html": [
       "Ignoring project 'assignment1' when running a sweep."
      ],
      "text/plain": [
       "<IPython.core.display.HTML object>"
      ]
     },
     "metadata": {},
     "output_type": "display_data"
    },
    {
     "data": {
      "text/html": [
       "Ignoring entity 'da6401-assignments' when running a sweep."
      ],
      "text/plain": [
       "<IPython.core.display.HTML object>"
      ]
     },
     "metadata": {},
     "output_type": "display_data"
    },
    {
     "data": {
      "text/html": [
       "Waiting for wandb.init()..."
      ],
      "text/plain": [
       "<IPython.core.display.HTML object>"
      ]
     },
     "metadata": {},
     "output_type": "display_data"
    },
    {
     "data": {
      "text/html": [
       "Tracking run with wandb version 0.19.8"
      ],
      "text/plain": [
       "<IPython.core.display.HTML object>"
      ]
     },
     "metadata": {},
     "output_type": "display_data"
    },
    {
     "data": {
      "text/html": [
       "Run data is saved locally in <code>c:\\Users\\prajv\\Downloads\\ass1\\DA6401_ASSIGNMENT1\\wandb\\run-20250310_024912-hybslj0d</code>"
      ],
      "text/plain": [
       "<IPython.core.display.HTML object>"
      ]
     },
     "metadata": {},
     "output_type": "display_data"
    },
    {
     "data": {
      "text/html": [
       "Syncing run <strong><a href='https://wandb.ai/da6401-assignments/assignment1/runs/hybslj0d' target=\"_blank\">scarlet-sweep-20</a></strong> to <a href='https://wandb.ai/da6401-assignments/assignment1' target=\"_blank\">Weights & Biases</a> (<a href='https://wandb.me/developer-guide' target=\"_blank\">docs</a>)<br>Sweep page: <a href='https://wandb.ai/da6401-assignments/assignment1/sweeps/enexfa0c' target=\"_blank\">https://wandb.ai/da6401-assignments/assignment1/sweeps/enexfa0c</a>"
      ],
      "text/plain": [
       "<IPython.core.display.HTML object>"
      ]
     },
     "metadata": {},
     "output_type": "display_data"
    },
    {
     "data": {
      "text/html": [
       " View project at <a href='https://wandb.ai/da6401-assignments/assignment1' target=\"_blank\">https://wandb.ai/da6401-assignments/assignment1</a>"
      ],
      "text/plain": [
       "<IPython.core.display.HTML object>"
      ]
     },
     "metadata": {},
     "output_type": "display_data"
    },
    {
     "data": {
      "text/html": [
       " View sweep at <a href='https://wandb.ai/da6401-assignments/assignment1/sweeps/enexfa0c' target=\"_blank\">https://wandb.ai/da6401-assignments/assignment1/sweeps/enexfa0c</a>"
      ],
      "text/plain": [
       "<IPython.core.display.HTML object>"
      ]
     },
     "metadata": {},
     "output_type": "display_data"
    },
    {
     "data": {
      "text/html": [
       " View run at <a href='https://wandb.ai/da6401-assignments/assignment1/runs/hybslj0d' target=\"_blank\">https://wandb.ai/da6401-assignments/assignment1/runs/hybslj0d</a>"
      ],
      "text/plain": [
       "<IPython.core.display.HTML object>"
      ]
     },
     "metadata": {},
     "output_type": "display_data"
    },
    {
     "name": "stdout",
     "output_type": "stream",
     "text": [
      "Sweep Name:  LR: 0.0001, AC: relu, BS: 16, Optim: rmsprop, WI: random, WD: 0.0005, No_HL: 4, HS: 32\n",
      "Epoch 0: Training Loss = 1.0340 Validation Loss = 1.0138\n",
      "Training Accuracy = 0.6631 Validation Accuracy = 0.6742\n",
      "Epoch 1: Training Loss = 0.8174 Validation Loss = 0.8027\n",
      "Training Accuracy = 0.7097 Validation Accuracy = 0.7165\n",
      "Epoch 2: Training Loss = 0.7373 Validation Loss = 0.7258\n",
      "Training Accuracy = 0.7319 Validation Accuracy = 0.7405\n",
      "Epoch 3: Training Loss = 0.6928 Validation Loss = 0.6830\n",
      "Training Accuracy = 0.7473 Validation Accuracy = 0.7572\n",
      "Epoch 4: Training Loss = 0.6625 Validation Loss = 0.6548\n",
      "Training Accuracy = 0.7567 Validation Accuracy = 0.7650\n",
      "Epoch 5: Training Loss = 0.6394 Validation Loss = 0.6318\n",
      "Training Accuracy = 0.7623 Validation Accuracy = 0.7720\n",
      "Epoch 6: Training Loss = 0.6190 Validation Loss = 0.6152\n",
      "Training Accuracy = 0.7728 Validation Accuracy = 0.7828\n",
      "Epoch 7: Training Loss = 0.6036 Validation Loss = 0.6007\n",
      "Training Accuracy = 0.7766 Validation Accuracy = 0.7832\n",
      "Epoch 8: Training Loss = 0.5869 Validation Loss = 0.5850\n",
      "Training Accuracy = 0.7847 Validation Accuracy = 0.7880\n",
      "Epoch 9: Training Loss = 0.5744 Validation Loss = 0.5740\n",
      "Training Accuracy = 0.7875 Validation Accuracy = 0.7920\n"
     ]
    },
    {
     "data": {
      "text/html": [],
      "text/plain": [
       "<IPython.core.display.HTML object>"
      ]
     },
     "metadata": {},
     "output_type": "display_data"
    },
    {
     "data": {
      "text/html": [
       "<br>    <style><br>        .wandb-row {<br>            display: flex;<br>            flex-direction: row;<br>            flex-wrap: wrap;<br>            justify-content: flex-start;<br>            width: 100%;<br>        }<br>        .wandb-col {<br>            display: flex;<br>            flex-direction: column;<br>            flex-basis: 100%;<br>            flex: 1;<br>            padding: 10px;<br>        }<br>    </style><br><div class=\"wandb-row\"><div class=\"wandb-col\"><h3>Run history:</h3><br/><table class=\"wandb\"><tr><td>Accuracy</td><td>▁</td></tr><tr><td>epoch</td><td>▁▂▃▃▄▅▆▆▇█</td></tr><tr><td>train_acc</td><td>▁▄▅▆▆▇▇▇██</td></tr><tr><td>train_loss</td><td>█▅▃▃▂▂▂▁▁▁</td></tr><tr><td>val_acc</td><td>▁▄▅▆▆▇▇▇██</td></tr><tr><td>val_loss</td><td>█▅▃▃▂▂▂▁▁▁</td></tr></table><br/></div><div class=\"wandb-col\"><h3>Run summary:</h3><br/><table class=\"wandb\"><tr><td>Accuracy</td><td>0.792</td></tr><tr><td>epoch</td><td>9</td></tr><tr><td>train_acc</td><td>0.78746</td></tr><tr><td>train_loss</td><td>0.57439</td></tr><tr><td>val_acc</td><td>0.792</td></tr><tr><td>val_loss</td><td>0.57398</td></tr></table><br/></div></div>"
      ],
      "text/plain": [
       "<IPython.core.display.HTML object>"
      ]
     },
     "metadata": {},
     "output_type": "display_data"
    },
    {
     "data": {
      "text/html": [
       " View run <strong style=\"color:#cdcd00\">LR: 0.0001, AC: relu, BS: 16, Optim: rmsprop, WI: random, WD: 0.0005, No_HL: 4, HS: 32</strong> at: <a href='https://wandb.ai/da6401-assignments/assignment1/runs/hybslj0d' target=\"_blank\">https://wandb.ai/da6401-assignments/assignment1/runs/hybslj0d</a><br> View project at: <a href='https://wandb.ai/da6401-assignments/assignment1' target=\"_blank\">https://wandb.ai/da6401-assignments/assignment1</a><br>Synced 5 W&B file(s), 0 media file(s), 0 artifact file(s) and 0 other file(s)"
      ],
      "text/plain": [
       "<IPython.core.display.HTML object>"
      ]
     },
     "metadata": {},
     "output_type": "display_data"
    },
    {
     "data": {
      "text/html": [
       "Find logs at: <code>.\\wandb\\run-20250310_024912-hybslj0d\\logs</code>"
      ],
      "text/plain": [
       "<IPython.core.display.HTML object>"
      ]
     },
     "metadata": {},
     "output_type": "display_data"
    },
    {
     "name": "stderr",
     "output_type": "stream",
     "text": [
      "\u001b[34m\u001b[1mwandb\u001b[0m: Agent Starting Run: sod7ngnt with config:\n",
      "\u001b[34m\u001b[1mwandb\u001b[0m: \tactivationFunc: relu\n",
      "\u001b[34m\u001b[1mwandb\u001b[0m: \tbatchSize: 16\n",
      "\u001b[34m\u001b[1mwandb\u001b[0m: \thiddenLayer_Size: 64\n",
      "\u001b[34m\u001b[1mwandb\u001b[0m: \tlearningRate: 0.0001\n",
      "\u001b[34m\u001b[1mwandb\u001b[0m: \tnum_epochs: 5\n",
      "\u001b[34m\u001b[1mwandb\u001b[0m: \tnum_hiddenLayers: 3\n",
      "\u001b[34m\u001b[1mwandb\u001b[0m: \toptimizer: nadam\n",
      "\u001b[34m\u001b[1mwandb\u001b[0m: \tweightDecay: 0\n",
      "\u001b[34m\u001b[1mwandb\u001b[0m: \tweightInit: xavier\n"
     ]
    },
    {
     "data": {
      "text/html": [
       "Ignoring project 'assignment1' when running a sweep."
      ],
      "text/plain": [
       "<IPython.core.display.HTML object>"
      ]
     },
     "metadata": {},
     "output_type": "display_data"
    },
    {
     "data": {
      "text/html": [
       "Ignoring entity 'da6401-assignments' when running a sweep."
      ],
      "text/plain": [
       "<IPython.core.display.HTML object>"
      ]
     },
     "metadata": {},
     "output_type": "display_data"
    },
    {
     "data": {
      "text/html": [
       "Waiting for wandb.init()..."
      ],
      "text/plain": [
       "<IPython.core.display.HTML object>"
      ]
     },
     "metadata": {},
     "output_type": "display_data"
    },
    {
     "data": {
      "text/html": [
       "Tracking run with wandb version 0.19.8"
      ],
      "text/plain": [
       "<IPython.core.display.HTML object>"
      ]
     },
     "metadata": {},
     "output_type": "display_data"
    },
    {
     "data": {
      "text/html": [
       "Run data is saved locally in <code>c:\\Users\\prajv\\Downloads\\ass1\\DA6401_ASSIGNMENT1\\wandb\\run-20250310_024944-sod7ngnt</code>"
      ],
      "text/plain": [
       "<IPython.core.display.HTML object>"
      ]
     },
     "metadata": {},
     "output_type": "display_data"
    },
    {
     "data": {
      "text/html": [
       "Syncing run <strong><a href='https://wandb.ai/da6401-assignments/assignment1/runs/sod7ngnt' target=\"_blank\">smooth-sweep-21</a></strong> to <a href='https://wandb.ai/da6401-assignments/assignment1' target=\"_blank\">Weights & Biases</a> (<a href='https://wandb.me/developer-guide' target=\"_blank\">docs</a>)<br>Sweep page: <a href='https://wandb.ai/da6401-assignments/assignment1/sweeps/enexfa0c' target=\"_blank\">https://wandb.ai/da6401-assignments/assignment1/sweeps/enexfa0c</a>"
      ],
      "text/plain": [
       "<IPython.core.display.HTML object>"
      ]
     },
     "metadata": {},
     "output_type": "display_data"
    },
    {
     "data": {
      "text/html": [
       " View project at <a href='https://wandb.ai/da6401-assignments/assignment1' target=\"_blank\">https://wandb.ai/da6401-assignments/assignment1</a>"
      ],
      "text/plain": [
       "<IPython.core.display.HTML object>"
      ]
     },
     "metadata": {},
     "output_type": "display_data"
    },
    {
     "data": {
      "text/html": [
       " View sweep at <a href='https://wandb.ai/da6401-assignments/assignment1/sweeps/enexfa0c' target=\"_blank\">https://wandb.ai/da6401-assignments/assignment1/sweeps/enexfa0c</a>"
      ],
      "text/plain": [
       "<IPython.core.display.HTML object>"
      ]
     },
     "metadata": {},
     "output_type": "display_data"
    },
    {
     "data": {
      "text/html": [
       " View run at <a href='https://wandb.ai/da6401-assignments/assignment1/runs/sod7ngnt' target=\"_blank\">https://wandb.ai/da6401-assignments/assignment1/runs/sod7ngnt</a>"
      ],
      "text/plain": [
       "<IPython.core.display.HTML object>"
      ]
     },
     "metadata": {},
     "output_type": "display_data"
    },
    {
     "name": "stdout",
     "output_type": "stream",
     "text": [
      "Sweep Name:  LR: 0.0001, AC: relu, BS: 16, Optim: nadam, WI: xavier, WD: 0, No_HL: 3, HS: 64\n",
      "Epoch 0: Training Loss = 0.8835 Validation Loss = 0.8842\n",
      "Training Accuracy = 0.6900 Validation Accuracy = 0.6933\n",
      "Epoch 1: Training Loss = 0.7407 Validation Loss = 0.7451\n",
      "Training Accuracy = 0.7334 Validation Accuracy = 0.7315\n",
      "Epoch 2: Training Loss = 0.6695 Validation Loss = 0.6785\n",
      "Training Accuracy = 0.7557 Validation Accuracy = 0.7537\n",
      "Epoch 3: Training Loss = 0.6240 Validation Loss = 0.6350\n",
      "Training Accuracy = 0.7720 Validation Accuracy = 0.7685\n",
      "Epoch 4: Training Loss = 0.5922 Validation Loss = 0.6055\n",
      "Training Accuracy = 0.7854 Validation Accuracy = 0.7802\n"
     ]
    },
    {
     "data": {
      "text/html": [],
      "text/plain": [
       "<IPython.core.display.HTML object>"
      ]
     },
     "metadata": {},
     "output_type": "display_data"
    },
    {
     "data": {
      "text/html": [
       "<br>    <style><br>        .wandb-row {<br>            display: flex;<br>            flex-direction: row;<br>            flex-wrap: wrap;<br>            justify-content: flex-start;<br>            width: 100%;<br>        }<br>        .wandb-col {<br>            display: flex;<br>            flex-direction: column;<br>            flex-basis: 100%;<br>            flex: 1;<br>            padding: 10px;<br>        }<br>    </style><br><div class=\"wandb-row\"><div class=\"wandb-col\"><h3>Run history:</h3><br/><table class=\"wandb\"><tr><td>Accuracy</td><td>▁</td></tr><tr><td>epoch</td><td>▁▃▅▆█</td></tr><tr><td>train_acc</td><td>▁▄▆▇█</td></tr><tr><td>train_loss</td><td>█▅▃▂▁</td></tr><tr><td>val_acc</td><td>▁▄▆▇█</td></tr><tr><td>val_loss</td><td>█▅▃▂▁</td></tr></table><br/></div><div class=\"wandb-col\"><h3>Run summary:</h3><br/><table class=\"wandb\"><tr><td>Accuracy</td><td>0.78017</td></tr><tr><td>epoch</td><td>4</td></tr><tr><td>train_acc</td><td>0.78537</td></tr><tr><td>train_loss</td><td>0.59221</td></tr><tr><td>val_acc</td><td>0.78017</td></tr><tr><td>val_loss</td><td>0.6055</td></tr></table><br/></div></div>"
      ],
      "text/plain": [
       "<IPython.core.display.HTML object>"
      ]
     },
     "metadata": {},
     "output_type": "display_data"
    },
    {
     "data": {
      "text/html": [
       " View run <strong style=\"color:#cdcd00\">LR: 0.0001, AC: relu, BS: 16, Optim: nadam, WI: xavier, WD: 0, No_HL: 3, HS: 64</strong> at: <a href='https://wandb.ai/da6401-assignments/assignment1/runs/sod7ngnt' target=\"_blank\">https://wandb.ai/da6401-assignments/assignment1/runs/sod7ngnt</a><br> View project at: <a href='https://wandb.ai/da6401-assignments/assignment1' target=\"_blank\">https://wandb.ai/da6401-assignments/assignment1</a><br>Synced 5 W&B file(s), 0 media file(s), 0 artifact file(s) and 0 other file(s)"
      ],
      "text/plain": [
       "<IPython.core.display.HTML object>"
      ]
     },
     "metadata": {},
     "output_type": "display_data"
    },
    {
     "data": {
      "text/html": [
       "Find logs at: <code>.\\wandb\\run-20250310_024944-sod7ngnt\\logs</code>"
      ],
      "text/plain": [
       "<IPython.core.display.HTML object>"
      ]
     },
     "metadata": {},
     "output_type": "display_data"
    },
    {
     "name": "stderr",
     "output_type": "stream",
     "text": [
      "\u001b[34m\u001b[1mwandb\u001b[0m: Agent Starting Run: m52wenti with config:\n",
      "\u001b[34m\u001b[1mwandb\u001b[0m: \tactivationFunc: sigmoid\n",
      "\u001b[34m\u001b[1mwandb\u001b[0m: \tbatchSize: 64\n",
      "\u001b[34m\u001b[1mwandb\u001b[0m: \thiddenLayer_Size: 32\n",
      "\u001b[34m\u001b[1mwandb\u001b[0m: \tlearningRate: 0.001\n",
      "\u001b[34m\u001b[1mwandb\u001b[0m: \tnum_epochs: 5\n",
      "\u001b[34m\u001b[1mwandb\u001b[0m: \tnum_hiddenLayers: 5\n",
      "\u001b[34m\u001b[1mwandb\u001b[0m: \toptimizer: momentum\n",
      "\u001b[34m\u001b[1mwandb\u001b[0m: \tweightDecay: 0.0005\n",
      "\u001b[34m\u001b[1mwandb\u001b[0m: \tweightInit: random\n"
     ]
    },
    {
     "data": {
      "text/html": [
       "Ignoring project 'assignment1' when running a sweep."
      ],
      "text/plain": [
       "<IPython.core.display.HTML object>"
      ]
     },
     "metadata": {},
     "output_type": "display_data"
    },
    {
     "data": {
      "text/html": [
       "Ignoring entity 'da6401-assignments' when running a sweep."
      ],
      "text/plain": [
       "<IPython.core.display.HTML object>"
      ]
     },
     "metadata": {},
     "output_type": "display_data"
    },
    {
     "data": {
      "text/html": [
       "creating run (0.2s)"
      ],
      "text/plain": [
       "<IPython.core.display.HTML object>"
      ]
     },
     "metadata": {},
     "output_type": "display_data"
    },
    {
     "data": {
      "text/html": [
       "Tracking run with wandb version 0.19.8"
      ],
      "text/plain": [
       "<IPython.core.display.HTML object>"
      ]
     },
     "metadata": {},
     "output_type": "display_data"
    },
    {
     "data": {
      "text/html": [
       "Run data is saved locally in <code>c:\\Users\\prajv\\Downloads\\ass1\\DA6401_ASSIGNMENT1\\wandb\\run-20250310_025017-m52wenti</code>"
      ],
      "text/plain": [
       "<IPython.core.display.HTML object>"
      ]
     },
     "metadata": {},
     "output_type": "display_data"
    },
    {
     "data": {
      "text/html": [
       "Syncing run <strong><a href='https://wandb.ai/da6401-assignments/assignment1/runs/m52wenti' target=\"_blank\">azure-sweep-22</a></strong> to <a href='https://wandb.ai/da6401-assignments/assignment1' target=\"_blank\">Weights & Biases</a> (<a href='https://wandb.me/developer-guide' target=\"_blank\">docs</a>)<br>Sweep page: <a href='https://wandb.ai/da6401-assignments/assignment1/sweeps/enexfa0c' target=\"_blank\">https://wandb.ai/da6401-assignments/assignment1/sweeps/enexfa0c</a>"
      ],
      "text/plain": [
       "<IPython.core.display.HTML object>"
      ]
     },
     "metadata": {},
     "output_type": "display_data"
    },
    {
     "data": {
      "text/html": [
       " View project at <a href='https://wandb.ai/da6401-assignments/assignment1' target=\"_blank\">https://wandb.ai/da6401-assignments/assignment1</a>"
      ],
      "text/plain": [
       "<IPython.core.display.HTML object>"
      ]
     },
     "metadata": {},
     "output_type": "display_data"
    },
    {
     "data": {
      "text/html": [
       " View sweep at <a href='https://wandb.ai/da6401-assignments/assignment1/sweeps/enexfa0c' target=\"_blank\">https://wandb.ai/da6401-assignments/assignment1/sweeps/enexfa0c</a>"
      ],
      "text/plain": [
       "<IPython.core.display.HTML object>"
      ]
     },
     "metadata": {},
     "output_type": "display_data"
    },
    {
     "data": {
      "text/html": [
       " View run at <a href='https://wandb.ai/da6401-assignments/assignment1/runs/m52wenti' target=\"_blank\">https://wandb.ai/da6401-assignments/assignment1/runs/m52wenti</a>"
      ],
      "text/plain": [
       "<IPython.core.display.HTML object>"
      ]
     },
     "metadata": {},
     "output_type": "display_data"
    },
    {
     "name": "stdout",
     "output_type": "stream",
     "text": [
      "Sweep Name:  LR: 0.001, AC: sigmoid, BS: 64, Optim: momentum, WI: random, WD: 0.0005, No_HL: 5, HS: 32\n",
      "Epoch 0: Training Loss = 1.9664 Validation Loss = 1.9706\n",
      "Training Accuracy = 0.2846 Validation Accuracy = 0.2892\n",
      "Epoch 1: Training Loss = 1.7151 Validation Loss = 1.7143\n",
      "Training Accuracy = 0.3846 Validation Accuracy = 0.3840\n",
      "Epoch 2: Training Loss = 1.5470 Validation Loss = 1.5437\n",
      "Training Accuracy = 0.4482 Validation Accuracy = 0.4510\n",
      "Epoch 3: Training Loss = 1.4190 Validation Loss = 1.4131\n",
      "Training Accuracy = 0.4978 Validation Accuracy = 0.4997\n",
      "Epoch 4: Training Loss = 1.3158 Validation Loss = 1.3091\n",
      "Training Accuracy = 0.5331 Validation Accuracy = 0.5323\n"
     ]
    },
    {
     "data": {
      "text/html": [],
      "text/plain": [
       "<IPython.core.display.HTML object>"
      ]
     },
     "metadata": {},
     "output_type": "display_data"
    },
    {
     "data": {
      "text/html": [
       "<br>    <style><br>        .wandb-row {<br>            display: flex;<br>            flex-direction: row;<br>            flex-wrap: wrap;<br>            justify-content: flex-start;<br>            width: 100%;<br>        }<br>        .wandb-col {<br>            display: flex;<br>            flex-direction: column;<br>            flex-basis: 100%;<br>            flex: 1;<br>            padding: 10px;<br>        }<br>    </style><br><div class=\"wandb-row\"><div class=\"wandb-col\"><h3>Run history:</h3><br/><table class=\"wandb\"><tr><td>Accuracy</td><td>▁</td></tr><tr><td>epoch</td><td>▁▃▅▆█</td></tr><tr><td>train_acc</td><td>▁▄▆▇█</td></tr><tr><td>train_loss</td><td>█▅▃▂▁</td></tr><tr><td>val_acc</td><td>▁▄▆▇█</td></tr><tr><td>val_loss</td><td>█▅▃▂▁</td></tr></table><br/></div><div class=\"wandb-col\"><h3>Run summary:</h3><br/><table class=\"wandb\"><tr><td>Accuracy</td><td>0.53233</td></tr><tr><td>epoch</td><td>4</td></tr><tr><td>train_acc</td><td>0.53311</td></tr><tr><td>train_loss</td><td>1.31585</td></tr><tr><td>val_acc</td><td>0.53233</td></tr><tr><td>val_loss</td><td>1.30913</td></tr></table><br/></div></div>"
      ],
      "text/plain": [
       "<IPython.core.display.HTML object>"
      ]
     },
     "metadata": {},
     "output_type": "display_data"
    },
    {
     "data": {
      "text/html": [
       " View run <strong style=\"color:#cdcd00\">LR: 0.001, AC: sigmoid, BS: 64, Optim: momentum, WI: random, WD: 0.0005, No_HL: 5, HS: 32</strong> at: <a href='https://wandb.ai/da6401-assignments/assignment1/runs/m52wenti' target=\"_blank\">https://wandb.ai/da6401-assignments/assignment1/runs/m52wenti</a><br> View project at: <a href='https://wandb.ai/da6401-assignments/assignment1' target=\"_blank\">https://wandb.ai/da6401-assignments/assignment1</a><br>Synced 5 W&B file(s), 0 media file(s), 0 artifact file(s) and 0 other file(s)"
      ],
      "text/plain": [
       "<IPython.core.display.HTML object>"
      ]
     },
     "metadata": {},
     "output_type": "display_data"
    },
    {
     "data": {
      "text/html": [
       "Find logs at: <code>.\\wandb\\run-20250310_025017-m52wenti\\logs</code>"
      ],
      "text/plain": [
       "<IPython.core.display.HTML object>"
      ]
     },
     "metadata": {},
     "output_type": "display_data"
    },
    {
     "name": "stderr",
     "output_type": "stream",
     "text": [
      "\u001b[34m\u001b[1mwandb\u001b[0m: Agent Starting Run: u2s9sj4f with config:\n",
      "\u001b[34m\u001b[1mwandb\u001b[0m: \tactivationFunc: relu\n",
      "\u001b[34m\u001b[1mwandb\u001b[0m: \tbatchSize: 64\n",
      "\u001b[34m\u001b[1mwandb\u001b[0m: \thiddenLayer_Size: 32\n",
      "\u001b[34m\u001b[1mwandb\u001b[0m: \tlearningRate: 0.0001\n",
      "\u001b[34m\u001b[1mwandb\u001b[0m: \tnum_epochs: 5\n",
      "\u001b[34m\u001b[1mwandb\u001b[0m: \tnum_hiddenLayers: 4\n",
      "\u001b[34m\u001b[1mwandb\u001b[0m: \toptimizer: rmsprop\n",
      "\u001b[34m\u001b[1mwandb\u001b[0m: \tweightDecay: 0.5\n",
      "\u001b[34m\u001b[1mwandb\u001b[0m: \tweightInit: random\n"
     ]
    },
    {
     "data": {
      "text/html": [
       "Ignoring project 'assignment1' when running a sweep."
      ],
      "text/plain": [
       "<IPython.core.display.HTML object>"
      ]
     },
     "metadata": {},
     "output_type": "display_data"
    },
    {
     "data": {
      "text/html": [
       "Ignoring entity 'da6401-assignments' when running a sweep."
      ],
      "text/plain": [
       "<IPython.core.display.HTML object>"
      ]
     },
     "metadata": {},
     "output_type": "display_data"
    },
    {
     "data": {
      "text/html": [
       "Waiting for wandb.init()..."
      ],
      "text/plain": [
       "<IPython.core.display.HTML object>"
      ]
     },
     "metadata": {},
     "output_type": "display_data"
    },
    {
     "data": {
      "text/html": [
       "Tracking run with wandb version 0.19.8"
      ],
      "text/plain": [
       "<IPython.core.display.HTML object>"
      ]
     },
     "metadata": {},
     "output_type": "display_data"
    },
    {
     "data": {
      "text/html": [
       "Run data is saved locally in <code>c:\\Users\\prajv\\Downloads\\ass1\\DA6401_ASSIGNMENT1\\wandb\\run-20250310_025032-u2s9sj4f</code>"
      ],
      "text/plain": [
       "<IPython.core.display.HTML object>"
      ]
     },
     "metadata": {},
     "output_type": "display_data"
    },
    {
     "data": {
      "text/html": [
       "Syncing run <strong><a href='https://wandb.ai/da6401-assignments/assignment1/runs/u2s9sj4f' target=\"_blank\">polar-sweep-23</a></strong> to <a href='https://wandb.ai/da6401-assignments/assignment1' target=\"_blank\">Weights & Biases</a> (<a href='https://wandb.me/developer-guide' target=\"_blank\">docs</a>)<br>Sweep page: <a href='https://wandb.ai/da6401-assignments/assignment1/sweeps/enexfa0c' target=\"_blank\">https://wandb.ai/da6401-assignments/assignment1/sweeps/enexfa0c</a>"
      ],
      "text/plain": [
       "<IPython.core.display.HTML object>"
      ]
     },
     "metadata": {},
     "output_type": "display_data"
    },
    {
     "data": {
      "text/html": [
       " View project at <a href='https://wandb.ai/da6401-assignments/assignment1' target=\"_blank\">https://wandb.ai/da6401-assignments/assignment1</a>"
      ],
      "text/plain": [
       "<IPython.core.display.HTML object>"
      ]
     },
     "metadata": {},
     "output_type": "display_data"
    },
    {
     "data": {
      "text/html": [
       " View sweep at <a href='https://wandb.ai/da6401-assignments/assignment1/sweeps/enexfa0c' target=\"_blank\">https://wandb.ai/da6401-assignments/assignment1/sweeps/enexfa0c</a>"
      ],
      "text/plain": [
       "<IPython.core.display.HTML object>"
      ]
     },
     "metadata": {},
     "output_type": "display_data"
    },
    {
     "data": {
      "text/html": [
       " View run at <a href='https://wandb.ai/da6401-assignments/assignment1/runs/u2s9sj4f' target=\"_blank\">https://wandb.ai/da6401-assignments/assignment1/runs/u2s9sj4f</a>"
      ],
      "text/plain": [
       "<IPython.core.display.HTML object>"
      ]
     },
     "metadata": {},
     "output_type": "display_data"
    },
    {
     "name": "stdout",
     "output_type": "stream",
     "text": [
      "Sweep Name:  LR: 0.0001, AC: relu, BS: 64, Optim: rmsprop, WI: random, WD: 0.5, No_HL: 4, HS: 32\n",
      "Epoch 0: Training Loss = 1.2144 Validation Loss = 1.2062\n",
      "Training Accuracy = 0.5935 Validation Accuracy = 0.6022\n",
      "Epoch 1: Training Loss = 0.9888 Validation Loss = 0.9822\n",
      "Training Accuracy = 0.6689 Validation Accuracy = 0.6760\n",
      "Epoch 2: Training Loss = 0.8760 Validation Loss = 0.8710\n",
      "Training Accuracy = 0.7030 Validation Accuracy = 0.7098\n",
      "Epoch 3: Training Loss = 0.8083 Validation Loss = 0.8044\n",
      "Training Accuracy = 0.7211 Validation Accuracy = 0.7302\n",
      "Epoch 4: Training Loss = 0.7620 Validation Loss = 0.7590\n",
      "Training Accuracy = 0.7336 Validation Accuracy = 0.7390\n"
     ]
    },
    {
     "data": {
      "text/html": [],
      "text/plain": [
       "<IPython.core.display.HTML object>"
      ]
     },
     "metadata": {},
     "output_type": "display_data"
    },
    {
     "data": {
      "text/html": [
       "<br>    <style><br>        .wandb-row {<br>            display: flex;<br>            flex-direction: row;<br>            flex-wrap: wrap;<br>            justify-content: flex-start;<br>            width: 100%;<br>        }<br>        .wandb-col {<br>            display: flex;<br>            flex-direction: column;<br>            flex-basis: 100%;<br>            flex: 1;<br>            padding: 10px;<br>        }<br>    </style><br><div class=\"wandb-row\"><div class=\"wandb-col\"><h3>Run history:</h3><br/><table class=\"wandb\"><tr><td>Accuracy</td><td>▁</td></tr><tr><td>epoch</td><td>▁▃▅▆█</td></tr><tr><td>train_acc</td><td>▁▅▆▇█</td></tr><tr><td>train_loss</td><td>█▅▃▂▁</td></tr><tr><td>val_acc</td><td>▁▅▇██</td></tr><tr><td>val_loss</td><td>█▄▃▂▁</td></tr></table><br/></div><div class=\"wandb-col\"><h3>Run summary:</h3><br/><table class=\"wandb\"><tr><td>Accuracy</td><td>0.739</td></tr><tr><td>epoch</td><td>4</td></tr><tr><td>train_acc</td><td>0.73359</td></tr><tr><td>train_loss</td><td>0.76201</td></tr><tr><td>val_acc</td><td>0.739</td></tr><tr><td>val_loss</td><td>0.75902</td></tr></table><br/></div></div>"
      ],
      "text/plain": [
       "<IPython.core.display.HTML object>"
      ]
     },
     "metadata": {},
     "output_type": "display_data"
    },
    {
     "data": {
      "text/html": [
       " View run <strong style=\"color:#cdcd00\">LR: 0.0001, AC: relu, BS: 64, Optim: rmsprop, WI: random, WD: 0.5, No_HL: 4, HS: 32</strong> at: <a href='https://wandb.ai/da6401-assignments/assignment1/runs/u2s9sj4f' target=\"_blank\">https://wandb.ai/da6401-assignments/assignment1/runs/u2s9sj4f</a><br> View project at: <a href='https://wandb.ai/da6401-assignments/assignment1' target=\"_blank\">https://wandb.ai/da6401-assignments/assignment1</a><br>Synced 5 W&B file(s), 0 media file(s), 0 artifact file(s) and 0 other file(s)"
      ],
      "text/plain": [
       "<IPython.core.display.HTML object>"
      ]
     },
     "metadata": {},
     "output_type": "display_data"
    },
    {
     "data": {
      "text/html": [
       "Find logs at: <code>.\\wandb\\run-20250310_025032-u2s9sj4f\\logs</code>"
      ],
      "text/plain": [
       "<IPython.core.display.HTML object>"
      ]
     },
     "metadata": {},
     "output_type": "display_data"
    },
    {
     "name": "stderr",
     "output_type": "stream",
     "text": [
      "\u001b[34m\u001b[1mwandb\u001b[0m: Agent Starting Run: fdv9v0a7 with config:\n",
      "\u001b[34m\u001b[1mwandb\u001b[0m: \tactivationFunc: relu\n",
      "\u001b[34m\u001b[1mwandb\u001b[0m: \tbatchSize: 64\n",
      "\u001b[34m\u001b[1mwandb\u001b[0m: \thiddenLayer_Size: 128\n",
      "\u001b[34m\u001b[1mwandb\u001b[0m: \tlearningRate: 0.001\n",
      "\u001b[34m\u001b[1mwandb\u001b[0m: \tnum_epochs: 10\n",
      "\u001b[34m\u001b[1mwandb\u001b[0m: \tnum_hiddenLayers: 4\n",
      "\u001b[34m\u001b[1mwandb\u001b[0m: \toptimizer: nesterov\n",
      "\u001b[34m\u001b[1mwandb\u001b[0m: \tweightDecay: 0\n",
      "\u001b[34m\u001b[1mwandb\u001b[0m: \tweightInit: random\n"
     ]
    },
    {
     "data": {
      "text/html": [
       "Ignoring project 'assignment1' when running a sweep."
      ],
      "text/plain": [
       "<IPython.core.display.HTML object>"
      ]
     },
     "metadata": {},
     "output_type": "display_data"
    },
    {
     "data": {
      "text/html": [
       "Ignoring entity 'da6401-assignments' when running a sweep."
      ],
      "text/plain": [
       "<IPython.core.display.HTML object>"
      ]
     },
     "metadata": {},
     "output_type": "display_data"
    },
    {
     "data": {
      "text/html": [
       "creating run (0.4s)"
      ],
      "text/plain": [
       "<IPython.core.display.HTML object>"
      ]
     },
     "metadata": {},
     "output_type": "display_data"
    },
    {
     "data": {
      "text/html": [
       "Tracking run with wandb version 0.19.8"
      ],
      "text/plain": [
       "<IPython.core.display.HTML object>"
      ]
     },
     "metadata": {},
     "output_type": "display_data"
    },
    {
     "data": {
      "text/html": [
       "Run data is saved locally in <code>c:\\Users\\prajv\\Downloads\\ass1\\DA6401_ASSIGNMENT1\\wandb\\run-20250310_025048-fdv9v0a7</code>"
      ],
      "text/plain": [
       "<IPython.core.display.HTML object>"
      ]
     },
     "metadata": {},
     "output_type": "display_data"
    },
    {
     "data": {
      "text/html": [
       "Syncing run <strong><a href='https://wandb.ai/da6401-assignments/assignment1/runs/fdv9v0a7' target=\"_blank\">dry-sweep-24</a></strong> to <a href='https://wandb.ai/da6401-assignments/assignment1' target=\"_blank\">Weights & Biases</a> (<a href='https://wandb.me/developer-guide' target=\"_blank\">docs</a>)<br>Sweep page: <a href='https://wandb.ai/da6401-assignments/assignment1/sweeps/enexfa0c' target=\"_blank\">https://wandb.ai/da6401-assignments/assignment1/sweeps/enexfa0c</a>"
      ],
      "text/plain": [
       "<IPython.core.display.HTML object>"
      ]
     },
     "metadata": {},
     "output_type": "display_data"
    },
    {
     "data": {
      "text/html": [
       " View project at <a href='https://wandb.ai/da6401-assignments/assignment1' target=\"_blank\">https://wandb.ai/da6401-assignments/assignment1</a>"
      ],
      "text/plain": [
       "<IPython.core.display.HTML object>"
      ]
     },
     "metadata": {},
     "output_type": "display_data"
    },
    {
     "data": {
      "text/html": [
       " View sweep at <a href='https://wandb.ai/da6401-assignments/assignment1/sweeps/enexfa0c' target=\"_blank\">https://wandb.ai/da6401-assignments/assignment1/sweeps/enexfa0c</a>"
      ],
      "text/plain": [
       "<IPython.core.display.HTML object>"
      ]
     },
     "metadata": {},
     "output_type": "display_data"
    },
    {
     "data": {
      "text/html": [
       " View run at <a href='https://wandb.ai/da6401-assignments/assignment1/runs/fdv9v0a7' target=\"_blank\">https://wandb.ai/da6401-assignments/assignment1/runs/fdv9v0a7</a>"
      ],
      "text/plain": [
       "<IPython.core.display.HTML object>"
      ]
     },
     "metadata": {},
     "output_type": "display_data"
    },
    {
     "name": "stdout",
     "output_type": "stream",
     "text": [
      "Sweep Name:  LR: 0.001, AC: relu, BS: 64, Optim: nesterov, WI: random, WD: 0, No_HL: 4, HS: 128\n",
      "Epoch 0: Training Loss = 10.1352 Validation Loss = 10.0409\n",
      "Training Accuracy = 0.0995 Validation Accuracy = 0.0978\n",
      "Epoch 1: Training Loss = 10.1352 Validation Loss = 10.0409\n",
      "Training Accuracy = 0.0995 Validation Accuracy = 0.0978\n",
      "Epoch 2: Training Loss = 10.1352 Validation Loss = 10.0409\n",
      "Training Accuracy = 0.0995 Validation Accuracy = 0.0978\n",
      "Epoch 3: Training Loss = 10.1352 Validation Loss = 10.0409\n",
      "Training Accuracy = 0.0995 Validation Accuracy = 0.0978\n",
      "Epoch 4: Training Loss = 10.1352 Validation Loss = 10.0409\n",
      "Training Accuracy = 0.0995 Validation Accuracy = 0.0978\n",
      "Epoch 5: Training Loss = 10.1352 Validation Loss = 10.0409\n",
      "Training Accuracy = 0.0995 Validation Accuracy = 0.0978\n",
      "Epoch 6: Training Loss = 10.1352 Validation Loss = 10.0409\n",
      "Training Accuracy = 0.0995 Validation Accuracy = 0.0978\n",
      "Epoch 7: Training Loss = 10.1352 Validation Loss = 10.0409\n",
      "Training Accuracy = 0.0995 Validation Accuracy = 0.0978\n",
      "Epoch 8: Training Loss = 10.1352 Validation Loss = 10.0409\n",
      "Training Accuracy = 0.0995 Validation Accuracy = 0.0978\n",
      "Epoch 9: Training Loss = 10.1352 Validation Loss = 10.0409\n",
      "Training Accuracy = 0.0995 Validation Accuracy = 0.0978\n"
     ]
    },
    {
     "data": {
      "text/html": [],
      "text/plain": [
       "<IPython.core.display.HTML object>"
      ]
     },
     "metadata": {},
     "output_type": "display_data"
    },
    {
     "data": {
      "text/html": [
       "<br>    <style><br>        .wandb-row {<br>            display: flex;<br>            flex-direction: row;<br>            flex-wrap: wrap;<br>            justify-content: flex-start;<br>            width: 100%;<br>        }<br>        .wandb-col {<br>            display: flex;<br>            flex-direction: column;<br>            flex-basis: 100%;<br>            flex: 1;<br>            padding: 10px;<br>        }<br>    </style><br><div class=\"wandb-row\"><div class=\"wandb-col\"><h3>Run history:</h3><br/><table class=\"wandb\"><tr><td>Accuracy</td><td>▁</td></tr><tr><td>epoch</td><td>▁▂▃▃▄▅▆▆▇█</td></tr><tr><td>train_acc</td><td>▁▁▁▁▁▁▁▁▁▁</td></tr><tr><td>train_loss</td><td>▁▁▁▁▁▁▁▁▁▁</td></tr><tr><td>val_acc</td><td>▁▁▁▁▁▁▁▁▁▁</td></tr><tr><td>val_loss</td><td>▁▁▁▁▁▁▁▁▁▁</td></tr></table><br/></div><div class=\"wandb-col\"><h3>Run summary:</h3><br/><table class=\"wandb\"><tr><td>Accuracy</td><td>0.09783</td></tr><tr><td>epoch</td><td>9</td></tr><tr><td>train_acc</td><td>0.0995</td></tr><tr><td>train_loss</td><td>10.13519</td></tr><tr><td>val_acc</td><td>0.09783</td></tr><tr><td>val_loss</td><td>10.04089</td></tr></table><br/></div></div>"
      ],
      "text/plain": [
       "<IPython.core.display.HTML object>"
      ]
     },
     "metadata": {},
     "output_type": "display_data"
    },
    {
     "data": {
      "text/html": [
       " View run <strong style=\"color:#cdcd00\">LR: 0.001, AC: relu, BS: 64, Optim: nesterov, WI: random, WD: 0, No_HL: 4, HS: 128</strong> at: <a href='https://wandb.ai/da6401-assignments/assignment1/runs/fdv9v0a7' target=\"_blank\">https://wandb.ai/da6401-assignments/assignment1/runs/fdv9v0a7</a><br> View project at: <a href='https://wandb.ai/da6401-assignments/assignment1' target=\"_blank\">https://wandb.ai/da6401-assignments/assignment1</a><br>Synced 5 W&B file(s), 0 media file(s), 0 artifact file(s) and 0 other file(s)"
      ],
      "text/plain": [
       "<IPython.core.display.HTML object>"
      ]
     },
     "metadata": {},
     "output_type": "display_data"
    },
    {
     "data": {
      "text/html": [
       "Find logs at: <code>.\\wandb\\run-20250310_025048-fdv9v0a7\\logs</code>"
      ],
      "text/plain": [
       "<IPython.core.display.HTML object>"
      ]
     },
     "metadata": {},
     "output_type": "display_data"
    },
    {
     "name": "stderr",
     "output_type": "stream",
     "text": [
      "\u001b[34m\u001b[1mwandb\u001b[0m: Agent Starting Run: uukj3m4a with config:\n",
      "\u001b[34m\u001b[1mwandb\u001b[0m: \tactivationFunc: tanh\n",
      "\u001b[34m\u001b[1mwandb\u001b[0m: \tbatchSize: 64\n",
      "\u001b[34m\u001b[1mwandb\u001b[0m: \thiddenLayer_Size: 64\n",
      "\u001b[34m\u001b[1mwandb\u001b[0m: \tlearningRate: 0.001\n",
      "\u001b[34m\u001b[1mwandb\u001b[0m: \tnum_epochs: 10\n",
      "\u001b[34m\u001b[1mwandb\u001b[0m: \tnum_hiddenLayers: 5\n",
      "\u001b[34m\u001b[1mwandb\u001b[0m: \toptimizer: rmsprop\n",
      "\u001b[34m\u001b[1mwandb\u001b[0m: \tweightDecay: 0.0005\n",
      "\u001b[34m\u001b[1mwandb\u001b[0m: \tweightInit: xavier\n"
     ]
    },
    {
     "data": {
      "text/html": [
       "Ignoring project 'assignment1' when running a sweep."
      ],
      "text/plain": [
       "<IPython.core.display.HTML object>"
      ]
     },
     "metadata": {},
     "output_type": "display_data"
    },
    {
     "data": {
      "text/html": [
       "Ignoring entity 'da6401-assignments' when running a sweep."
      ],
      "text/plain": [
       "<IPython.core.display.HTML object>"
      ]
     },
     "metadata": {},
     "output_type": "display_data"
    },
    {
     "data": {
      "text/html": [
       "creating run (0.2s)"
      ],
      "text/plain": [
       "<IPython.core.display.HTML object>"
      ]
     },
     "metadata": {},
     "output_type": "display_data"
    },
    {
     "data": {
      "text/html": [
       "Tracking run with wandb version 0.19.8"
      ],
      "text/plain": [
       "<IPython.core.display.HTML object>"
      ]
     },
     "metadata": {},
     "output_type": "display_data"
    },
    {
     "data": {
      "text/html": [
       "Run data is saved locally in <code>c:\\Users\\prajv\\Downloads\\ass1\\DA6401_ASSIGNMENT1\\wandb\\run-20250310_025119-uukj3m4a</code>"
      ],
      "text/plain": [
       "<IPython.core.display.HTML object>"
      ]
     },
     "metadata": {},
     "output_type": "display_data"
    },
    {
     "data": {
      "text/html": [
       "Syncing run <strong><a href='https://wandb.ai/da6401-assignments/assignment1/runs/uukj3m4a' target=\"_blank\">cerulean-sweep-25</a></strong> to <a href='https://wandb.ai/da6401-assignments/assignment1' target=\"_blank\">Weights & Biases</a> (<a href='https://wandb.me/developer-guide' target=\"_blank\">docs</a>)<br>Sweep page: <a href='https://wandb.ai/da6401-assignments/assignment1/sweeps/enexfa0c' target=\"_blank\">https://wandb.ai/da6401-assignments/assignment1/sweeps/enexfa0c</a>"
      ],
      "text/plain": [
       "<IPython.core.display.HTML object>"
      ]
     },
     "metadata": {},
     "output_type": "display_data"
    },
    {
     "data": {
      "text/html": [
       " View project at <a href='https://wandb.ai/da6401-assignments/assignment1' target=\"_blank\">https://wandb.ai/da6401-assignments/assignment1</a>"
      ],
      "text/plain": [
       "<IPython.core.display.HTML object>"
      ]
     },
     "metadata": {},
     "output_type": "display_data"
    },
    {
     "data": {
      "text/html": [
       " View sweep at <a href='https://wandb.ai/da6401-assignments/assignment1/sweeps/enexfa0c' target=\"_blank\">https://wandb.ai/da6401-assignments/assignment1/sweeps/enexfa0c</a>"
      ],
      "text/plain": [
       "<IPython.core.display.HTML object>"
      ]
     },
     "metadata": {},
     "output_type": "display_data"
    },
    {
     "data": {
      "text/html": [
       " View run at <a href='https://wandb.ai/da6401-assignments/assignment1/runs/uukj3m4a' target=\"_blank\">https://wandb.ai/da6401-assignments/assignment1/runs/uukj3m4a</a>"
      ],
      "text/plain": [
       "<IPython.core.display.HTML object>"
      ]
     },
     "metadata": {},
     "output_type": "display_data"
    },
    {
     "name": "stdout",
     "output_type": "stream",
     "text": [
      "Sweep Name:  LR: 0.001, AC: tanh, BS: 64, Optim: rmsprop, WI: xavier, WD: 0.0005, No_HL: 5, HS: 64\n",
      "Epoch 0: Training Loss = 0.5202 Validation Loss = 0.5278\n",
      "Training Accuracy = 0.8139 Validation Accuracy = 0.8100\n",
      "Epoch 1: Training Loss = 0.4847 Validation Loss = 0.5083\n",
      "Training Accuracy = 0.8221 Validation Accuracy = 0.8173\n",
      "Epoch 2: Training Loss = 0.4376 Validation Loss = 0.4722\n",
      "Training Accuracy = 0.8394 Validation Accuracy = 0.8320\n",
      "Epoch 3: Training Loss = 0.4125 Validation Loss = 0.4540\n",
      "Training Accuracy = 0.8494 Validation Accuracy = 0.8368\n",
      "Epoch 4: Training Loss = 0.3942 Validation Loss = 0.4402\n",
      "Training Accuracy = 0.8563 Validation Accuracy = 0.8422\n",
      "Epoch 5: Training Loss = 0.3803 Validation Loss = 0.4317\n",
      "Training Accuracy = 0.8626 Validation Accuracy = 0.8480\n",
      "Epoch 6: Training Loss = 0.3666 Validation Loss = 0.4181\n",
      "Training Accuracy = 0.8654 Validation Accuracy = 0.8500\n",
      "Epoch 7: Training Loss = 0.3510 Validation Loss = 0.4173\n",
      "Training Accuracy = 0.8728 Validation Accuracy = 0.8532\n",
      "Epoch 8: Training Loss = 0.3424 Validation Loss = 0.4125\n",
      "Training Accuracy = 0.8746 Validation Accuracy = 0.8522\n",
      "Epoch 9: Training Loss = 0.3415 Validation Loss = 0.4225\n",
      "Training Accuracy = 0.8757 Validation Accuracy = 0.8542\n"
     ]
    },
    {
     "data": {
      "text/html": [],
      "text/plain": [
       "<IPython.core.display.HTML object>"
      ]
     },
     "metadata": {},
     "output_type": "display_data"
    },
    {
     "data": {
      "text/html": [
       "<br>    <style><br>        .wandb-row {<br>            display: flex;<br>            flex-direction: row;<br>            flex-wrap: wrap;<br>            justify-content: flex-start;<br>            width: 100%;<br>        }<br>        .wandb-col {<br>            display: flex;<br>            flex-direction: column;<br>            flex-basis: 100%;<br>            flex: 1;<br>            padding: 10px;<br>        }<br>    </style><br><div class=\"wandb-row\"><div class=\"wandb-col\"><h3>Run history:</h3><br/><table class=\"wandb\"><tr><td>Accuracy</td><td>▁</td></tr><tr><td>epoch</td><td>▁▂▃▃▄▅▆▆▇█</td></tr><tr><td>train_acc</td><td>▁▂▄▅▆▇▇███</td></tr><tr><td>train_loss</td><td>█▇▅▄▃▃▂▁▁▁</td></tr><tr><td>val_acc</td><td>▁▂▄▅▆▇▇███</td></tr><tr><td>val_loss</td><td>█▇▅▄▃▂▁▁▁▂</td></tr></table><br/></div><div class=\"wandb-col\"><h3>Run summary:</h3><br/><table class=\"wandb\"><tr><td>Accuracy</td><td>0.85417</td></tr><tr><td>epoch</td><td>9</td></tr><tr><td>train_acc</td><td>0.87567</td></tr><tr><td>train_loss</td><td>0.34149</td></tr><tr><td>val_acc</td><td>0.85417</td></tr><tr><td>val_loss</td><td>0.42252</td></tr></table><br/></div></div>"
      ],
      "text/plain": [
       "<IPython.core.display.HTML object>"
      ]
     },
     "metadata": {},
     "output_type": "display_data"
    },
    {
     "data": {
      "text/html": [
       " View run <strong style=\"color:#cdcd00\">LR: 0.001, AC: tanh, BS: 64, Optim: rmsprop, WI: xavier, WD: 0.0005, No_HL: 5, HS: 64</strong> at: <a href='https://wandb.ai/da6401-assignments/assignment1/runs/uukj3m4a' target=\"_blank\">https://wandb.ai/da6401-assignments/assignment1/runs/uukj3m4a</a><br> View project at: <a href='https://wandb.ai/da6401-assignments/assignment1' target=\"_blank\">https://wandb.ai/da6401-assignments/assignment1</a><br>Synced 5 W&B file(s), 0 media file(s), 0 artifact file(s) and 0 other file(s)"
      ],
      "text/plain": [
       "<IPython.core.display.HTML object>"
      ]
     },
     "metadata": {},
     "output_type": "display_data"
    },
    {
     "data": {
      "text/html": [
       "Find logs at: <code>.\\wandb\\run-20250310_025119-uukj3m4a\\logs</code>"
      ],
      "text/plain": [
       "<IPython.core.display.HTML object>"
      ]
     },
     "metadata": {},
     "output_type": "display_data"
    },
    {
     "name": "stderr",
     "output_type": "stream",
     "text": [
      "\u001b[34m\u001b[1mwandb\u001b[0m: Agent Starting Run: tggs3e2r with config:\n",
      "\u001b[34m\u001b[1mwandb\u001b[0m: \tactivationFunc: tanh\n",
      "\u001b[34m\u001b[1mwandb\u001b[0m: \tbatchSize: 64\n",
      "\u001b[34m\u001b[1mwandb\u001b[0m: \thiddenLayer_Size: 32\n",
      "\u001b[34m\u001b[1mwandb\u001b[0m: \tlearningRate: 0.0001\n",
      "\u001b[34m\u001b[1mwandb\u001b[0m: \tnum_epochs: 10\n",
      "\u001b[34m\u001b[1mwandb\u001b[0m: \tnum_hiddenLayers: 4\n",
      "\u001b[34m\u001b[1mwandb\u001b[0m: \toptimizer: sgd\n",
      "\u001b[34m\u001b[1mwandb\u001b[0m: \tweightDecay: 0.0005\n",
      "\u001b[34m\u001b[1mwandb\u001b[0m: \tweightInit: random\n"
     ]
    },
    {
     "data": {
      "text/html": [
       "Ignoring project 'assignment1' when running a sweep."
      ],
      "text/plain": [
       "<IPython.core.display.HTML object>"
      ]
     },
     "metadata": {},
     "output_type": "display_data"
    },
    {
     "data": {
      "text/html": [
       "Ignoring entity 'da6401-assignments' when running a sweep."
      ],
      "text/plain": [
       "<IPython.core.display.HTML object>"
      ]
     },
     "metadata": {},
     "output_type": "display_data"
    },
    {
     "data": {
      "text/html": [
       "Waiting for wandb.init()..."
      ],
      "text/plain": [
       "<IPython.core.display.HTML object>"
      ]
     },
     "metadata": {},
     "output_type": "display_data"
    },
    {
     "data": {
      "text/html": [
       "Tracking run with wandb version 0.19.8"
      ],
      "text/plain": [
       "<IPython.core.display.HTML object>"
      ]
     },
     "metadata": {},
     "output_type": "display_data"
    },
    {
     "data": {
      "text/html": [
       "Run data is saved locally in <code>c:\\Users\\prajv\\Downloads\\ass1\\DA6401_ASSIGNMENT1\\wandb\\run-20250310_025152-tggs3e2r</code>"
      ],
      "text/plain": [
       "<IPython.core.display.HTML object>"
      ]
     },
     "metadata": {},
     "output_type": "display_data"
    },
    {
     "data": {
      "text/html": [
       "Syncing run <strong><a href='https://wandb.ai/da6401-assignments/assignment1/runs/tggs3e2r' target=\"_blank\">treasured-sweep-26</a></strong> to <a href='https://wandb.ai/da6401-assignments/assignment1' target=\"_blank\">Weights & Biases</a> (<a href='https://wandb.me/developer-guide' target=\"_blank\">docs</a>)<br>Sweep page: <a href='https://wandb.ai/da6401-assignments/assignment1/sweeps/enexfa0c' target=\"_blank\">https://wandb.ai/da6401-assignments/assignment1/sweeps/enexfa0c</a>"
      ],
      "text/plain": [
       "<IPython.core.display.HTML object>"
      ]
     },
     "metadata": {},
     "output_type": "display_data"
    },
    {
     "data": {
      "text/html": [
       " View project at <a href='https://wandb.ai/da6401-assignments/assignment1' target=\"_blank\">https://wandb.ai/da6401-assignments/assignment1</a>"
      ],
      "text/plain": [
       "<IPython.core.display.HTML object>"
      ]
     },
     "metadata": {},
     "output_type": "display_data"
    },
    {
     "data": {
      "text/html": [
       " View sweep at <a href='https://wandb.ai/da6401-assignments/assignment1/sweeps/enexfa0c' target=\"_blank\">https://wandb.ai/da6401-assignments/assignment1/sweeps/enexfa0c</a>"
      ],
      "text/plain": [
       "<IPython.core.display.HTML object>"
      ]
     },
     "metadata": {},
     "output_type": "display_data"
    },
    {
     "data": {
      "text/html": [
       " View run at <a href='https://wandb.ai/da6401-assignments/assignment1/runs/tggs3e2r' target=\"_blank\">https://wandb.ai/da6401-assignments/assignment1/runs/tggs3e2r</a>"
      ],
      "text/plain": [
       "<IPython.core.display.HTML object>"
      ]
     },
     "metadata": {},
     "output_type": "display_data"
    },
    {
     "name": "stdout",
     "output_type": "stream",
     "text": [
      "Sweep Name:  LR: 0.0001, AC: tanh, BS: 64, Optim: sgd, WI: random, WD: 0.0005, No_HL: 4, HS: 32\n",
      "Epoch 0: Training Loss = 3.0905 Validation Loss = 3.1215\n",
      "Training Accuracy = 0.1020 Validation Accuracy = 0.1030\n",
      "Epoch 1: Training Loss = 2.8887 Validation Loss = 2.9175\n",
      "Training Accuracy = 0.1063 Validation Accuracy = 0.1070\n",
      "Epoch 2: Training Loss = 2.7629 Validation Loss = 2.7897\n",
      "Training Accuracy = 0.1071 Validation Accuracy = 0.1117\n",
      "Epoch 3: Training Loss = 2.6768 Validation Loss = 2.7017\n",
      "Training Accuracy = 0.1082 Validation Accuracy = 0.1147\n",
      "Epoch 4: Training Loss = 2.6135 Validation Loss = 2.6367\n",
      "Training Accuracy = 0.1114 Validation Accuracy = 0.1165\n",
      "Epoch 5: Training Loss = 2.5641 Validation Loss = 2.5858\n",
      "Training Accuracy = 0.1158 Validation Accuracy = 0.1173\n",
      "Epoch 6: Training Loss = 2.5237 Validation Loss = 2.5442\n",
      "Training Accuracy = 0.1161 Validation Accuracy = 0.1192\n",
      "Epoch 7: Training Loss = 2.4895 Validation Loss = 2.5088\n",
      "Training Accuracy = 0.1182 Validation Accuracy = 0.1230\n",
      "Epoch 8: Training Loss = 2.4596 Validation Loss = 2.4778\n",
      "Training Accuracy = 0.1206 Validation Accuracy = 0.1243\n",
      "Epoch 9: Training Loss = 2.4330 Validation Loss = 2.4501\n",
      "Training Accuracy = 0.1232 Validation Accuracy = 0.1285\n"
     ]
    },
    {
     "data": {
      "text/html": [],
      "text/plain": [
       "<IPython.core.display.HTML object>"
      ]
     },
     "metadata": {},
     "output_type": "display_data"
    },
    {
     "data": {
      "text/html": [
       "<br>    <style><br>        .wandb-row {<br>            display: flex;<br>            flex-direction: row;<br>            flex-wrap: wrap;<br>            justify-content: flex-start;<br>            width: 100%;<br>        }<br>        .wandb-col {<br>            display: flex;<br>            flex-direction: column;<br>            flex-basis: 100%;<br>            flex: 1;<br>            padding: 10px;<br>        }<br>    </style><br><div class=\"wandb-row\"><div class=\"wandb-col\"><h3>Run history:</h3><br/><table class=\"wandb\"><tr><td>Accuracy</td><td>▁</td></tr><tr><td>epoch</td><td>▁▂▃▃▄▅▆▆▇█</td></tr><tr><td>train_acc</td><td>▁▂▃▃▄▆▆▆▇█</td></tr><tr><td>train_loss</td><td>█▆▅▄▃▂▂▂▁▁</td></tr><tr><td>val_acc</td><td>▁▂▃▄▅▅▅▆▇█</td></tr><tr><td>val_loss</td><td>█▆▅▄▃▂▂▂▁▁</td></tr></table><br/></div><div class=\"wandb-col\"><h3>Run summary:</h3><br/><table class=\"wandb\"><tr><td>Accuracy</td><td>0.1285</td></tr><tr><td>epoch</td><td>9</td></tr><tr><td>train_acc</td><td>0.12319</td></tr><tr><td>train_loss</td><td>2.43297</td></tr><tr><td>val_acc</td><td>0.1285</td></tr><tr><td>val_loss</td><td>2.45014</td></tr></table><br/></div></div>"
      ],
      "text/plain": [
       "<IPython.core.display.HTML object>"
      ]
     },
     "metadata": {},
     "output_type": "display_data"
    },
    {
     "data": {
      "text/html": [
       " View run <strong style=\"color:#cdcd00\">LR: 0.0001, AC: tanh, BS: 64, Optim: sgd, WI: random, WD: 0.0005, No_HL: 4, HS: 32</strong> at: <a href='https://wandb.ai/da6401-assignments/assignment1/runs/tggs3e2r' target=\"_blank\">https://wandb.ai/da6401-assignments/assignment1/runs/tggs3e2r</a><br> View project at: <a href='https://wandb.ai/da6401-assignments/assignment1' target=\"_blank\">https://wandb.ai/da6401-assignments/assignment1</a><br>Synced 5 W&B file(s), 0 media file(s), 0 artifact file(s) and 0 other file(s)"
      ],
      "text/plain": [
       "<IPython.core.display.HTML object>"
      ]
     },
     "metadata": {},
     "output_type": "display_data"
    },
    {
     "data": {
      "text/html": [
       "Find logs at: <code>.\\wandb\\run-20250310_025152-tggs3e2r\\logs</code>"
      ],
      "text/plain": [
       "<IPython.core.display.HTML object>"
      ]
     },
     "metadata": {},
     "output_type": "display_data"
    },
    {
     "name": "stderr",
     "output_type": "stream",
     "text": [
      "\u001b[34m\u001b[1mwandb\u001b[0m: Agent Starting Run: ikp3qkgc with config:\n",
      "\u001b[34m\u001b[1mwandb\u001b[0m: \tactivationFunc: tanh\n",
      "\u001b[34m\u001b[1mwandb\u001b[0m: \tbatchSize: 16\n",
      "\u001b[34m\u001b[1mwandb\u001b[0m: \thiddenLayer_Size: 64\n",
      "\u001b[34m\u001b[1mwandb\u001b[0m: \tlearningRate: 0.0001\n",
      "\u001b[34m\u001b[1mwandb\u001b[0m: \tnum_epochs: 10\n",
      "\u001b[34m\u001b[1mwandb\u001b[0m: \tnum_hiddenLayers: 4\n",
      "\u001b[34m\u001b[1mwandb\u001b[0m: \toptimizer: sgd\n",
      "\u001b[34m\u001b[1mwandb\u001b[0m: \tweightDecay: 0.0005\n",
      "\u001b[34m\u001b[1mwandb\u001b[0m: \tweightInit: random\n"
     ]
    },
    {
     "data": {
      "text/html": [
       "Ignoring project 'assignment1' when running a sweep."
      ],
      "text/plain": [
       "<IPython.core.display.HTML object>"
      ]
     },
     "metadata": {},
     "output_type": "display_data"
    },
    {
     "data": {
      "text/html": [
       "Ignoring entity 'da6401-assignments' when running a sweep."
      ],
      "text/plain": [
       "<IPython.core.display.HTML object>"
      ]
     },
     "metadata": {},
     "output_type": "display_data"
    },
    {
     "data": {
      "text/html": [
       "creating run (0.2s)"
      ],
      "text/plain": [
       "<IPython.core.display.HTML object>"
      ]
     },
     "metadata": {},
     "output_type": "display_data"
    },
    {
     "data": {
      "text/html": [
       "Tracking run with wandb version 0.19.8"
      ],
      "text/plain": [
       "<IPython.core.display.HTML object>"
      ]
     },
     "metadata": {},
     "output_type": "display_data"
    },
    {
     "data": {
      "text/html": [
       "Run data is saved locally in <code>c:\\Users\\prajv\\Downloads\\ass1\\DA6401_ASSIGNMENT1\\wandb\\run-20250310_025209-ikp3qkgc</code>"
      ],
      "text/plain": [
       "<IPython.core.display.HTML object>"
      ]
     },
     "metadata": {},
     "output_type": "display_data"
    },
    {
     "data": {
      "text/html": [
       "Syncing run <strong><a href='https://wandb.ai/da6401-assignments/assignment1/runs/ikp3qkgc' target=\"_blank\">pretty-sweep-27</a></strong> to <a href='https://wandb.ai/da6401-assignments/assignment1' target=\"_blank\">Weights & Biases</a> (<a href='https://wandb.me/developer-guide' target=\"_blank\">docs</a>)<br>Sweep page: <a href='https://wandb.ai/da6401-assignments/assignment1/sweeps/enexfa0c' target=\"_blank\">https://wandb.ai/da6401-assignments/assignment1/sweeps/enexfa0c</a>"
      ],
      "text/plain": [
       "<IPython.core.display.HTML object>"
      ]
     },
     "metadata": {},
     "output_type": "display_data"
    },
    {
     "data": {
      "text/html": [
       " View project at <a href='https://wandb.ai/da6401-assignments/assignment1' target=\"_blank\">https://wandb.ai/da6401-assignments/assignment1</a>"
      ],
      "text/plain": [
       "<IPython.core.display.HTML object>"
      ]
     },
     "metadata": {},
     "output_type": "display_data"
    },
    {
     "data": {
      "text/html": [
       " View sweep at <a href='https://wandb.ai/da6401-assignments/assignment1/sweeps/enexfa0c' target=\"_blank\">https://wandb.ai/da6401-assignments/assignment1/sweeps/enexfa0c</a>"
      ],
      "text/plain": [
       "<IPython.core.display.HTML object>"
      ]
     },
     "metadata": {},
     "output_type": "display_data"
    },
    {
     "data": {
      "text/html": [
       " View run at <a href='https://wandb.ai/da6401-assignments/assignment1/runs/ikp3qkgc' target=\"_blank\">https://wandb.ai/da6401-assignments/assignment1/runs/ikp3qkgc</a>"
      ],
      "text/plain": [
       "<IPython.core.display.HTML object>"
      ]
     },
     "metadata": {},
     "output_type": "display_data"
    },
    {
     "name": "stdout",
     "output_type": "stream",
     "text": [
      "Sweep Name:  LR: 0.0001, AC: tanh, BS: 16, Optim: sgd, WI: random, WD: 0.0005, No_HL: 4, HS: 64\n",
      "Epoch 0: Training Loss = 6.0671 Validation Loss = 6.1308\n",
      "Training Accuracy = 0.0964 Validation Accuracy = 0.0945\n",
      "Epoch 1: Training Loss = 4.3145 Validation Loss = 4.3551\n",
      "Training Accuracy = 0.1053 Validation Accuracy = 0.1035\n",
      "Epoch 2: Training Loss = 3.0563 Validation Loss = 3.0761\n",
      "Training Accuracy = 0.1106 Validation Accuracy = 0.1140\n",
      "Epoch 3: Training Loss = 2.5048 Validation Loss = 2.5113\n",
      "Training Accuracy = 0.1290 Validation Accuracy = 0.1317\n",
      "Epoch 4: Training Loss = 2.3338 Validation Loss = 2.3350\n",
      "Training Accuracy = 0.1629 Validation Accuracy = 0.1650\n",
      "Epoch 5: Training Loss = 2.2495 Validation Loss = 2.2484\n",
      "Training Accuracy = 0.1869 Validation Accuracy = 0.1908\n",
      "Epoch 6: Training Loss = 2.1864 Validation Loss = 2.1841\n",
      "Training Accuracy = 0.2093 Validation Accuracy = 0.2117\n",
      "Epoch 7: Training Loss = 2.1331 Validation Loss = 2.1297\n",
      "Training Accuracy = 0.2307 Validation Accuracy = 0.2315\n",
      "Epoch 8: Training Loss = 2.0863 Validation Loss = 2.0822\n",
      "Training Accuracy = 0.2503 Validation Accuracy = 0.2518\n",
      "Epoch 9: Training Loss = 2.0445 Validation Loss = 2.0397\n",
      "Training Accuracy = 0.2673 Validation Accuracy = 0.2703\n"
     ]
    },
    {
     "data": {
      "text/html": [],
      "text/plain": [
       "<IPython.core.display.HTML object>"
      ]
     },
     "metadata": {},
     "output_type": "display_data"
    },
    {
     "data": {
      "text/html": [
       "<br>    <style><br>        .wandb-row {<br>            display: flex;<br>            flex-direction: row;<br>            flex-wrap: wrap;<br>            justify-content: flex-start;<br>            width: 100%;<br>        }<br>        .wandb-col {<br>            display: flex;<br>            flex-direction: column;<br>            flex-basis: 100%;<br>            flex: 1;<br>            padding: 10px;<br>        }<br>    </style><br><div class=\"wandb-row\"><div class=\"wandb-col\"><h3>Run history:</h3><br/><table class=\"wandb\"><tr><td>Accuracy</td><td>▁</td></tr><tr><td>epoch</td><td>▁▂▃▃▄▅▆▆▇█</td></tr><tr><td>train_acc</td><td>▁▁▂▂▄▅▆▆▇█</td></tr><tr><td>train_loss</td><td>█▅▃▂▂▁▁▁▁▁</td></tr><tr><td>val_acc</td><td>▁▁▂▂▄▅▆▆▇█</td></tr><tr><td>val_loss</td><td>█▅▃▂▂▁▁▁▁▁</td></tr></table><br/></div><div class=\"wandb-col\"><h3>Run summary:</h3><br/><table class=\"wandb\"><tr><td>Accuracy</td><td>0.27033</td></tr><tr><td>epoch</td><td>9</td></tr><tr><td>train_acc</td><td>0.26733</td></tr><tr><td>train_loss</td><td>2.04454</td></tr><tr><td>val_acc</td><td>0.27033</td></tr><tr><td>val_loss</td><td>2.03972</td></tr></table><br/></div></div>"
      ],
      "text/plain": [
       "<IPython.core.display.HTML object>"
      ]
     },
     "metadata": {},
     "output_type": "display_data"
    },
    {
     "data": {
      "text/html": [
       " View run <strong style=\"color:#cdcd00\">LR: 0.0001, AC: tanh, BS: 16, Optim: sgd, WI: random, WD: 0.0005, No_HL: 4, HS: 64</strong> at: <a href='https://wandb.ai/da6401-assignments/assignment1/runs/ikp3qkgc' target=\"_blank\">https://wandb.ai/da6401-assignments/assignment1/runs/ikp3qkgc</a><br> View project at: <a href='https://wandb.ai/da6401-assignments/assignment1' target=\"_blank\">https://wandb.ai/da6401-assignments/assignment1</a><br>Synced 5 W&B file(s), 0 media file(s), 0 artifact file(s) and 0 other file(s)"
      ],
      "text/plain": [
       "<IPython.core.display.HTML object>"
      ]
     },
     "metadata": {},
     "output_type": "display_data"
    },
    {
     "data": {
      "text/html": [
       "Find logs at: <code>.\\wandb\\run-20250310_025209-ikp3qkgc\\logs</code>"
      ],
      "text/plain": [
       "<IPython.core.display.HTML object>"
      ]
     },
     "metadata": {},
     "output_type": "display_data"
    },
    {
     "name": "stderr",
     "output_type": "stream",
     "text": [
      "\u001b[34m\u001b[1mwandb\u001b[0m: Agent Starting Run: w9e7d4om with config:\n",
      "\u001b[34m\u001b[1mwandb\u001b[0m: \tactivationFunc: relu\n",
      "\u001b[34m\u001b[1mwandb\u001b[0m: \tbatchSize: 32\n",
      "\u001b[34m\u001b[1mwandb\u001b[0m: \thiddenLayer_Size: 64\n",
      "\u001b[34m\u001b[1mwandb\u001b[0m: \tlearningRate: 0.0001\n",
      "\u001b[34m\u001b[1mwandb\u001b[0m: \tnum_epochs: 10\n",
      "\u001b[34m\u001b[1mwandb\u001b[0m: \tnum_hiddenLayers: 4\n",
      "\u001b[34m\u001b[1mwandb\u001b[0m: \toptimizer: sgd\n",
      "\u001b[34m\u001b[1mwandb\u001b[0m: \tweightDecay: 0\n",
      "\u001b[34m\u001b[1mwandb\u001b[0m: \tweightInit: random\n"
     ]
    },
    {
     "data": {
      "text/html": [
       "Ignoring project 'assignment1' when running a sweep."
      ],
      "text/plain": [
       "<IPython.core.display.HTML object>"
      ]
     },
     "metadata": {},
     "output_type": "display_data"
    },
    {
     "data": {
      "text/html": [
       "Ignoring entity 'da6401-assignments' when running a sweep."
      ],
      "text/plain": [
       "<IPython.core.display.HTML object>"
      ]
     },
     "metadata": {},
     "output_type": "display_data"
    },
    {
     "data": {
      "text/html": [
       "creating run (0.2s)"
      ],
      "text/plain": [
       "<IPython.core.display.HTML object>"
      ]
     },
     "metadata": {},
     "output_type": "display_data"
    },
    {
     "data": {
      "text/html": [
       "Tracking run with wandb version 0.19.8"
      ],
      "text/plain": [
       "<IPython.core.display.HTML object>"
      ]
     },
     "metadata": {},
     "output_type": "display_data"
    },
    {
     "data": {
      "text/html": [
       "Run data is saved locally in <code>c:\\Users\\prajv\\Downloads\\ass1\\DA6401_ASSIGNMENT1\\wandb\\run-20250310_025244-w9e7d4om</code>"
      ],
      "text/plain": [
       "<IPython.core.display.HTML object>"
      ]
     },
     "metadata": {},
     "output_type": "display_data"
    },
    {
     "data": {
      "text/html": [
       "Syncing run <strong><a href='https://wandb.ai/da6401-assignments/assignment1/runs/w9e7d4om' target=\"_blank\">fresh-sweep-28</a></strong> to <a href='https://wandb.ai/da6401-assignments/assignment1' target=\"_blank\">Weights & Biases</a> (<a href='https://wandb.me/developer-guide' target=\"_blank\">docs</a>)<br>Sweep page: <a href='https://wandb.ai/da6401-assignments/assignment1/sweeps/enexfa0c' target=\"_blank\">https://wandb.ai/da6401-assignments/assignment1/sweeps/enexfa0c</a>"
      ],
      "text/plain": [
       "<IPython.core.display.HTML object>"
      ]
     },
     "metadata": {},
     "output_type": "display_data"
    },
    {
     "data": {
      "text/html": [
       " View project at <a href='https://wandb.ai/da6401-assignments/assignment1' target=\"_blank\">https://wandb.ai/da6401-assignments/assignment1</a>"
      ],
      "text/plain": [
       "<IPython.core.display.HTML object>"
      ]
     },
     "metadata": {},
     "output_type": "display_data"
    },
    {
     "data": {
      "text/html": [
       " View sweep at <a href='https://wandb.ai/da6401-assignments/assignment1/sweeps/enexfa0c' target=\"_blank\">https://wandb.ai/da6401-assignments/assignment1/sweeps/enexfa0c</a>"
      ],
      "text/plain": [
       "<IPython.core.display.HTML object>"
      ]
     },
     "metadata": {},
     "output_type": "display_data"
    },
    {
     "data": {
      "text/html": [
       " View run at <a href='https://wandb.ai/da6401-assignments/assignment1/runs/w9e7d4om' target=\"_blank\">https://wandb.ai/da6401-assignments/assignment1/runs/w9e7d4om</a>"
      ],
      "text/plain": [
       "<IPython.core.display.HTML object>"
      ]
     },
     "metadata": {},
     "output_type": "display_data"
    },
    {
     "name": "stdout",
     "output_type": "stream",
     "text": [
      "Sweep Name:  LR: 0.0001, AC: relu, BS: 32, Optim: sgd, WI: random, WD: 0, No_HL: 4, HS: 64\n",
      "Epoch 0: Training Loss = 6.9427 Validation Loss = 6.9413\n",
      "Training Accuracy = 0.1003 Validation Accuracy = 0.1017\n",
      "Epoch 1: Training Loss = 5.6749 Validation Loss = 5.6791\n",
      "Training Accuracy = 0.0966 Validation Accuracy = 0.0992\n",
      "Epoch 2: Training Loss = 4.8368 Validation Loss = 4.8447\n",
      "Training Accuracy = 0.1028 Validation Accuracy = 0.1042\n",
      "Epoch 3: Training Loss = 4.2321 Validation Loss = 4.2408\n",
      "Training Accuracy = 0.1139 Validation Accuracy = 0.1090\n",
      "Epoch 4: Training Loss = 3.7774 Validation Loss = 3.7850\n",
      "Training Accuracy = 0.1263 Validation Accuracy = 0.1240\n",
      "Epoch 5: Training Loss = 3.4395 Validation Loss = 3.4455\n",
      "Training Accuracy = 0.1407 Validation Accuracy = 0.1407\n",
      "Epoch 6: Training Loss = 3.1892 Validation Loss = 3.1936\n",
      "Training Accuracy = 0.1578 Validation Accuracy = 0.1530\n",
      "Epoch 7: Training Loss = 2.9824 Validation Loss = 2.9854\n",
      "Training Accuracy = 0.1775 Validation Accuracy = 0.1717\n",
      "Epoch 8: Training Loss = 2.7948 Validation Loss = 2.7969\n",
      "Training Accuracy = 0.1948 Validation Accuracy = 0.1952\n",
      "Epoch 9: Training Loss = 2.6182 Validation Loss = 2.6196\n",
      "Training Accuracy = 0.2108 Validation Accuracy = 0.2082\n"
     ]
    },
    {
     "data": {
      "text/html": [],
      "text/plain": [
       "<IPython.core.display.HTML object>"
      ]
     },
     "metadata": {},
     "output_type": "display_data"
    },
    {
     "data": {
      "text/html": [
       "<br>    <style><br>        .wandb-row {<br>            display: flex;<br>            flex-direction: row;<br>            flex-wrap: wrap;<br>            justify-content: flex-start;<br>            width: 100%;<br>        }<br>        .wandb-col {<br>            display: flex;<br>            flex-direction: column;<br>            flex-basis: 100%;<br>            flex: 1;<br>            padding: 10px;<br>        }<br>    </style><br><div class=\"wandb-row\"><div class=\"wandb-col\"><h3>Run history:</h3><br/><table class=\"wandb\"><tr><td>Accuracy</td><td>▁</td></tr><tr><td>epoch</td><td>▁▂▃▃▄▅▆▆▇█</td></tr><tr><td>train_acc</td><td>▁▁▁▂▃▄▅▆▇█</td></tr><tr><td>train_loss</td><td>█▆▅▄▃▂▂▂▁▁</td></tr><tr><td>val_acc</td><td>▁▁▁▂▃▄▄▆▇█</td></tr><tr><td>val_loss</td><td>█▆▅▄▃▂▂▂▁▁</td></tr></table><br/></div><div class=\"wandb-col\"><h3>Run summary:</h3><br/><table class=\"wandb\"><tr><td>Accuracy</td><td>0.20817</td></tr><tr><td>epoch</td><td>9</td></tr><tr><td>train_acc</td><td>0.21083</td></tr><tr><td>train_loss</td><td>2.61818</td></tr><tr><td>val_acc</td><td>0.20817</td></tr><tr><td>val_loss</td><td>2.61961</td></tr></table><br/></div></div>"
      ],
      "text/plain": [
       "<IPython.core.display.HTML object>"
      ]
     },
     "metadata": {},
     "output_type": "display_data"
    },
    {
     "data": {
      "text/html": [
       " View run <strong style=\"color:#cdcd00\">LR: 0.0001, AC: relu, BS: 32, Optim: sgd, WI: random, WD: 0, No_HL: 4, HS: 64</strong> at: <a href='https://wandb.ai/da6401-assignments/assignment1/runs/w9e7d4om' target=\"_blank\">https://wandb.ai/da6401-assignments/assignment1/runs/w9e7d4om</a><br> View project at: <a href='https://wandb.ai/da6401-assignments/assignment1' target=\"_blank\">https://wandb.ai/da6401-assignments/assignment1</a><br>Synced 5 W&B file(s), 0 media file(s), 0 artifact file(s) and 0 other file(s)"
      ],
      "text/plain": [
       "<IPython.core.display.HTML object>"
      ]
     },
     "metadata": {},
     "output_type": "display_data"
    },
    {
     "data": {
      "text/html": [
       "Find logs at: <code>.\\wandb\\run-20250310_025244-w9e7d4om\\logs</code>"
      ],
      "text/plain": [
       "<IPython.core.display.HTML object>"
      ]
     },
     "metadata": {},
     "output_type": "display_data"
    },
    {
     "name": "stderr",
     "output_type": "stream",
     "text": [
      "\u001b[34m\u001b[1mwandb\u001b[0m: Agent Starting Run: 9zg7ob3n with config:\n",
      "\u001b[34m\u001b[1mwandb\u001b[0m: \tactivationFunc: relu\n",
      "\u001b[34m\u001b[1mwandb\u001b[0m: \tbatchSize: 16\n",
      "\u001b[34m\u001b[1mwandb\u001b[0m: \thiddenLayer_Size: 64\n",
      "\u001b[34m\u001b[1mwandb\u001b[0m: \tlearningRate: 0.0001\n",
      "\u001b[34m\u001b[1mwandb\u001b[0m: \tnum_epochs: 5\n",
      "\u001b[34m\u001b[1mwandb\u001b[0m: \tnum_hiddenLayers: 5\n",
      "\u001b[34m\u001b[1mwandb\u001b[0m: \toptimizer: sgd\n",
      "\u001b[34m\u001b[1mwandb\u001b[0m: \tweightDecay: 0.5\n",
      "\u001b[34m\u001b[1mwandb\u001b[0m: \tweightInit: random\n"
     ]
    },
    {
     "data": {
      "text/html": [
       "Ignoring project 'assignment1' when running a sweep."
      ],
      "text/plain": [
       "<IPython.core.display.HTML object>"
      ]
     },
     "metadata": {},
     "output_type": "display_data"
    },
    {
     "data": {
      "text/html": [
       "Ignoring entity 'da6401-assignments' when running a sweep."
      ],
      "text/plain": [
       "<IPython.core.display.HTML object>"
      ]
     },
     "metadata": {},
     "output_type": "display_data"
    },
    {
     "data": {
      "text/html": [
       "creating run (0.1s)"
      ],
      "text/plain": [
       "<IPython.core.display.HTML object>"
      ]
     },
     "metadata": {},
     "output_type": "display_data"
    },
    {
     "data": {
      "text/html": [
       "Tracking run with wandb version 0.19.8"
      ],
      "text/plain": [
       "<IPython.core.display.HTML object>"
      ]
     },
     "metadata": {},
     "output_type": "display_data"
    },
    {
     "data": {
      "text/html": [
       "Run data is saved locally in <code>c:\\Users\\prajv\\Downloads\\ass1\\DA6401_ASSIGNMENT1\\wandb\\run-20250310_025316-9zg7ob3n</code>"
      ],
      "text/plain": [
       "<IPython.core.display.HTML object>"
      ]
     },
     "metadata": {},
     "output_type": "display_data"
    },
    {
     "data": {
      "text/html": [
       "Syncing run <strong><a href='https://wandb.ai/da6401-assignments/assignment1/runs/9zg7ob3n' target=\"_blank\">earthy-sweep-29</a></strong> to <a href='https://wandb.ai/da6401-assignments/assignment1' target=\"_blank\">Weights & Biases</a> (<a href='https://wandb.me/developer-guide' target=\"_blank\">docs</a>)<br>Sweep page: <a href='https://wandb.ai/da6401-assignments/assignment1/sweeps/enexfa0c' target=\"_blank\">https://wandb.ai/da6401-assignments/assignment1/sweeps/enexfa0c</a>"
      ],
      "text/plain": [
       "<IPython.core.display.HTML object>"
      ]
     },
     "metadata": {},
     "output_type": "display_data"
    },
    {
     "data": {
      "text/html": [
       " View project at <a href='https://wandb.ai/da6401-assignments/assignment1' target=\"_blank\">https://wandb.ai/da6401-assignments/assignment1</a>"
      ],
      "text/plain": [
       "<IPython.core.display.HTML object>"
      ]
     },
     "metadata": {},
     "output_type": "display_data"
    },
    {
     "data": {
      "text/html": [
       " View sweep at <a href='https://wandb.ai/da6401-assignments/assignment1/sweeps/enexfa0c' target=\"_blank\">https://wandb.ai/da6401-assignments/assignment1/sweeps/enexfa0c</a>"
      ],
      "text/plain": [
       "<IPython.core.display.HTML object>"
      ]
     },
     "metadata": {},
     "output_type": "display_data"
    },
    {
     "data": {
      "text/html": [
       " View run at <a href='https://wandb.ai/da6401-assignments/assignment1/runs/9zg7ob3n' target=\"_blank\">https://wandb.ai/da6401-assignments/assignment1/runs/9zg7ob3n</a>"
      ],
      "text/plain": [
       "<IPython.core.display.HTML object>"
      ]
     },
     "metadata": {},
     "output_type": "display_data"
    },
    {
     "name": "stdout",
     "output_type": "stream",
     "text": [
      "Sweep Name:  LR: 0.0001, AC: relu, BS: 16, Optim: sgd, WI: random, WD: 0.5, No_HL: 5, HS: 64\n",
      "Epoch 0: Training Loss = 5.0316 Validation Loss = 4.9665\n",
      "Training Accuracy = 0.1041 Validation Accuracy = 0.1138\n",
      "Epoch 1: Training Loss = 3.4078 Validation Loss = 3.3578\n",
      "Training Accuracy = 0.1077 Validation Accuracy = 0.1127\n",
      "Epoch 2: Training Loss = 2.7174 Validation Loss = 2.6779\n",
      "Training Accuracy = 0.1282 Validation Accuracy = 0.1337\n",
      "Epoch 3: Training Loss = 2.3855 Validation Loss = 2.3563\n",
      "Training Accuracy = 0.1728 Validation Accuracy = 0.1805\n",
      "Epoch 4: Training Loss = 2.1927 Validation Loss = 2.1706\n",
      "Training Accuracy = 0.2125 Validation Accuracy = 0.2247\n"
     ]
    },
    {
     "data": {
      "text/html": [],
      "text/plain": [
       "<IPython.core.display.HTML object>"
      ]
     },
     "metadata": {},
     "output_type": "display_data"
    },
    {
     "data": {
      "text/html": [
       "<br>    <style><br>        .wandb-row {<br>            display: flex;<br>            flex-direction: row;<br>            flex-wrap: wrap;<br>            justify-content: flex-start;<br>            width: 100%;<br>        }<br>        .wandb-col {<br>            display: flex;<br>            flex-direction: column;<br>            flex-basis: 100%;<br>            flex: 1;<br>            padding: 10px;<br>        }<br>    </style><br><div class=\"wandb-row\"><div class=\"wandb-col\"><h3>Run history:</h3><br/><table class=\"wandb\"><tr><td>Accuracy</td><td>▁</td></tr><tr><td>epoch</td><td>▁▃▅▆█</td></tr><tr><td>train_acc</td><td>▁▁▃▅█</td></tr><tr><td>train_loss</td><td>█▄▂▁▁</td></tr><tr><td>val_acc</td><td>▁▁▂▅█</td></tr><tr><td>val_loss</td><td>█▄▂▁▁</td></tr></table><br/></div><div class=\"wandb-col\"><h3>Run summary:</h3><br/><table class=\"wandb\"><tr><td>Accuracy</td><td>0.22467</td></tr><tr><td>epoch</td><td>4</td></tr><tr><td>train_acc</td><td>0.21254</td></tr><tr><td>train_loss</td><td>2.19265</td></tr><tr><td>val_acc</td><td>0.22467</td></tr><tr><td>val_loss</td><td>2.17065</td></tr></table><br/></div></div>"
      ],
      "text/plain": [
       "<IPython.core.display.HTML object>"
      ]
     },
     "metadata": {},
     "output_type": "display_data"
    },
    {
     "data": {
      "text/html": [
       " View run <strong style=\"color:#cdcd00\">LR: 0.0001, AC: relu, BS: 16, Optim: sgd, WI: random, WD: 0.5, No_HL: 5, HS: 64</strong> at: <a href='https://wandb.ai/da6401-assignments/assignment1/runs/9zg7ob3n' target=\"_blank\">https://wandb.ai/da6401-assignments/assignment1/runs/9zg7ob3n</a><br> View project at: <a href='https://wandb.ai/da6401-assignments/assignment1' target=\"_blank\">https://wandb.ai/da6401-assignments/assignment1</a><br>Synced 5 W&B file(s), 0 media file(s), 0 artifact file(s) and 0 other file(s)"
      ],
      "text/plain": [
       "<IPython.core.display.HTML object>"
      ]
     },
     "metadata": {},
     "output_type": "display_data"
    },
    {
     "data": {
      "text/html": [
       "Find logs at: <code>.\\wandb\\run-20250310_025316-9zg7ob3n\\logs</code>"
      ],
      "text/plain": [
       "<IPython.core.display.HTML object>"
      ]
     },
     "metadata": {},
     "output_type": "display_data"
    },
    {
     "name": "stderr",
     "output_type": "stream",
     "text": [
      "\u001b[34m\u001b[1mwandb\u001b[0m: Agent Starting Run: 3op209j7 with config:\n",
      "\u001b[34m\u001b[1mwandb\u001b[0m: \tactivationFunc: sigmoid\n",
      "\u001b[34m\u001b[1mwandb\u001b[0m: \tbatchSize: 64\n",
      "\u001b[34m\u001b[1mwandb\u001b[0m: \thiddenLayer_Size: 128\n",
      "\u001b[34m\u001b[1mwandb\u001b[0m: \tlearningRate: 0.0001\n",
      "\u001b[34m\u001b[1mwandb\u001b[0m: \tnum_epochs: 5\n",
      "\u001b[34m\u001b[1mwandb\u001b[0m: \tnum_hiddenLayers: 5\n",
      "\u001b[34m\u001b[1mwandb\u001b[0m: \toptimizer: nadam\n",
      "\u001b[34m\u001b[1mwandb\u001b[0m: \tweightDecay: 0.5\n",
      "\u001b[34m\u001b[1mwandb\u001b[0m: \tweightInit: random\n"
     ]
    },
    {
     "data": {
      "text/html": [
       "Ignoring project 'assignment1' when running a sweep."
      ],
      "text/plain": [
       "<IPython.core.display.HTML object>"
      ]
     },
     "metadata": {},
     "output_type": "display_data"
    },
    {
     "data": {
      "text/html": [
       "Ignoring entity 'da6401-assignments' when running a sweep."
      ],
      "text/plain": [
       "<IPython.core.display.HTML object>"
      ]
     },
     "metadata": {},
     "output_type": "display_data"
    },
    {
     "data": {
      "text/html": [
       "creating run (0.2s)"
      ],
      "text/plain": [
       "<IPython.core.display.HTML object>"
      ]
     },
     "metadata": {},
     "output_type": "display_data"
    },
    {
     "data": {
      "text/html": [
       "Tracking run with wandb version 0.19.8"
      ],
      "text/plain": [
       "<IPython.core.display.HTML object>"
      ]
     },
     "metadata": {},
     "output_type": "display_data"
    },
    {
     "data": {
      "text/html": [
       "Run data is saved locally in <code>c:\\Users\\prajv\\Downloads\\ass1\\DA6401_ASSIGNMENT1\\wandb\\run-20250310_025342-3op209j7</code>"
      ],
      "text/plain": [
       "<IPython.core.display.HTML object>"
      ]
     },
     "metadata": {},
     "output_type": "display_data"
    },
    {
     "data": {
      "text/html": [
       "Syncing run <strong><a href='https://wandb.ai/da6401-assignments/assignment1/runs/3op209j7' target=\"_blank\">electric-sweep-30</a></strong> to <a href='https://wandb.ai/da6401-assignments/assignment1' target=\"_blank\">Weights & Biases</a> (<a href='https://wandb.me/developer-guide' target=\"_blank\">docs</a>)<br>Sweep page: <a href='https://wandb.ai/da6401-assignments/assignment1/sweeps/enexfa0c' target=\"_blank\">https://wandb.ai/da6401-assignments/assignment1/sweeps/enexfa0c</a>"
      ],
      "text/plain": [
       "<IPython.core.display.HTML object>"
      ]
     },
     "metadata": {},
     "output_type": "display_data"
    },
    {
     "data": {
      "text/html": [
       " View project at <a href='https://wandb.ai/da6401-assignments/assignment1' target=\"_blank\">https://wandb.ai/da6401-assignments/assignment1</a>"
      ],
      "text/plain": [
       "<IPython.core.display.HTML object>"
      ]
     },
     "metadata": {},
     "output_type": "display_data"
    },
    {
     "data": {
      "text/html": [
       " View sweep at <a href='https://wandb.ai/da6401-assignments/assignment1/sweeps/enexfa0c' target=\"_blank\">https://wandb.ai/da6401-assignments/assignment1/sweeps/enexfa0c</a>"
      ],
      "text/plain": [
       "<IPython.core.display.HTML object>"
      ]
     },
     "metadata": {},
     "output_type": "display_data"
    },
    {
     "data": {
      "text/html": [
       " View run at <a href='https://wandb.ai/da6401-assignments/assignment1/runs/3op209j7' target=\"_blank\">https://wandb.ai/da6401-assignments/assignment1/runs/3op209j7</a>"
      ],
      "text/plain": [
       "<IPython.core.display.HTML object>"
      ]
     },
     "metadata": {},
     "output_type": "display_data"
    },
    {
     "name": "stdout",
     "output_type": "stream",
     "text": [
      "Sweep Name:  LR: 0.0001, AC: sigmoid, BS: 64, Optim: nadam, WI: random, WD: 0.5, No_HL: 5, HS: 128\n",
      "Epoch 0: Training Loss = 0.9471 Validation Loss = 0.9589\n",
      "Training Accuracy = 0.6741 Validation Accuracy = 0.6697\n",
      "Epoch 1: Training Loss = 0.7833 Validation Loss = 0.7889\n",
      "Training Accuracy = 0.7212 Validation Accuracy = 0.7200\n",
      "Epoch 2: Training Loss = 0.7114 Validation Loss = 0.7224\n",
      "Training Accuracy = 0.7459 Validation Accuracy = 0.7422\n",
      "Epoch 3: Training Loss = 0.6650 Validation Loss = 0.6792\n",
      "Training Accuracy = 0.7607 Validation Accuracy = 0.7575\n",
      "Epoch 4: Training Loss = 0.6294 Validation Loss = 0.6491\n",
      "Training Accuracy = 0.7733 Validation Accuracy = 0.7680\n"
     ]
    },
    {
     "data": {
      "text/html": [],
      "text/plain": [
       "<IPython.core.display.HTML object>"
      ]
     },
     "metadata": {},
     "output_type": "display_data"
    },
    {
     "data": {
      "text/html": [
       "<br>    <style><br>        .wandb-row {<br>            display: flex;<br>            flex-direction: row;<br>            flex-wrap: wrap;<br>            justify-content: flex-start;<br>            width: 100%;<br>        }<br>        .wandb-col {<br>            display: flex;<br>            flex-direction: column;<br>            flex-basis: 100%;<br>            flex: 1;<br>            padding: 10px;<br>        }<br>    </style><br><div class=\"wandb-row\"><div class=\"wandb-col\"><h3>Run history:</h3><br/><table class=\"wandb\"><tr><td>Accuracy</td><td>▁</td></tr><tr><td>epoch</td><td>▁▃▅▆█</td></tr><tr><td>train_acc</td><td>▁▄▆▇█</td></tr><tr><td>train_loss</td><td>█▄▃▂▁</td></tr><tr><td>val_acc</td><td>▁▅▆▇█</td></tr><tr><td>val_loss</td><td>█▄▃▂▁</td></tr></table><br/></div><div class=\"wandb-col\"><h3>Run summary:</h3><br/><table class=\"wandb\"><tr><td>Accuracy</td><td>0.768</td></tr><tr><td>epoch</td><td>4</td></tr><tr><td>train_acc</td><td>0.77331</td></tr><tr><td>train_loss</td><td>0.62938</td></tr><tr><td>val_acc</td><td>0.768</td></tr><tr><td>val_loss</td><td>0.64914</td></tr></table><br/></div></div>"
      ],
      "text/plain": [
       "<IPython.core.display.HTML object>"
      ]
     },
     "metadata": {},
     "output_type": "display_data"
    },
    {
     "data": {
      "text/html": [
       " View run <strong style=\"color:#cdcd00\">LR: 0.0001, AC: sigmoid, BS: 64, Optim: nadam, WI: random, WD: 0.5, No_HL: 5, HS: 128</strong> at: <a href='https://wandb.ai/da6401-assignments/assignment1/runs/3op209j7' target=\"_blank\">https://wandb.ai/da6401-assignments/assignment1/runs/3op209j7</a><br> View project at: <a href='https://wandb.ai/da6401-assignments/assignment1' target=\"_blank\">https://wandb.ai/da6401-assignments/assignment1</a><br>Synced 5 W&B file(s), 0 media file(s), 0 artifact file(s) and 0 other file(s)"
      ],
      "text/plain": [
       "<IPython.core.display.HTML object>"
      ]
     },
     "metadata": {},
     "output_type": "display_data"
    },
    {
     "data": {
      "text/html": [
       "Find logs at: <code>.\\wandb\\run-20250310_025342-3op209j7\\logs</code>"
      ],
      "text/plain": [
       "<IPython.core.display.HTML object>"
      ]
     },
     "metadata": {},
     "output_type": "display_data"
    },
    {
     "name": "stderr",
     "output_type": "stream",
     "text": [
      "\u001b[34m\u001b[1mwandb\u001b[0m: Agent Starting Run: 5si2hva9 with config:\n",
      "\u001b[34m\u001b[1mwandb\u001b[0m: \tactivationFunc: sigmoid\n",
      "\u001b[34m\u001b[1mwandb\u001b[0m: \tbatchSize: 16\n",
      "\u001b[34m\u001b[1mwandb\u001b[0m: \thiddenLayer_Size: 128\n",
      "\u001b[34m\u001b[1mwandb\u001b[0m: \tlearningRate: 0.0001\n",
      "\u001b[34m\u001b[1mwandb\u001b[0m: \tnum_epochs: 5\n",
      "\u001b[34m\u001b[1mwandb\u001b[0m: \tnum_hiddenLayers: 5\n",
      "\u001b[34m\u001b[1mwandb\u001b[0m: \toptimizer: nesterov\n",
      "\u001b[34m\u001b[1mwandb\u001b[0m: \tweightDecay: 0\n",
      "\u001b[34m\u001b[1mwandb\u001b[0m: \tweightInit: xavier\n"
     ]
    },
    {
     "data": {
      "text/html": [
       "Ignoring project 'assignment1' when running a sweep."
      ],
      "text/plain": [
       "<IPython.core.display.HTML object>"
      ]
     },
     "metadata": {},
     "output_type": "display_data"
    },
    {
     "data": {
      "text/html": [
       "Ignoring entity 'da6401-assignments' when running a sweep."
      ],
      "text/plain": [
       "<IPython.core.display.HTML object>"
      ]
     },
     "metadata": {},
     "output_type": "display_data"
    },
    {
     "data": {
      "text/html": [
       "Waiting for wandb.init()..."
      ],
      "text/plain": [
       "<IPython.core.display.HTML object>"
      ]
     },
     "metadata": {},
     "output_type": "display_data"
    },
    {
     "data": {
      "text/html": [
       "Tracking run with wandb version 0.19.8"
      ],
      "text/plain": [
       "<IPython.core.display.HTML object>"
      ]
     },
     "metadata": {},
     "output_type": "display_data"
    },
    {
     "data": {
      "text/html": [
       "Run data is saved locally in <code>c:\\Users\\prajv\\Downloads\\ass1\\DA6401_ASSIGNMENT1\\wandb\\run-20250310_025419-5si2hva9</code>"
      ],
      "text/plain": [
       "<IPython.core.display.HTML object>"
      ]
     },
     "metadata": {},
     "output_type": "display_data"
    },
    {
     "data": {
      "text/html": [
       "Syncing run <strong><a href='https://wandb.ai/da6401-assignments/assignment1/runs/5si2hva9' target=\"_blank\">dazzling-sweep-31</a></strong> to <a href='https://wandb.ai/da6401-assignments/assignment1' target=\"_blank\">Weights & Biases</a> (<a href='https://wandb.me/developer-guide' target=\"_blank\">docs</a>)<br>Sweep page: <a href='https://wandb.ai/da6401-assignments/assignment1/sweeps/enexfa0c' target=\"_blank\">https://wandb.ai/da6401-assignments/assignment1/sweeps/enexfa0c</a>"
      ],
      "text/plain": [
       "<IPython.core.display.HTML object>"
      ]
     },
     "metadata": {},
     "output_type": "display_data"
    },
    {
     "data": {
      "text/html": [
       " View project at <a href='https://wandb.ai/da6401-assignments/assignment1' target=\"_blank\">https://wandb.ai/da6401-assignments/assignment1</a>"
      ],
      "text/plain": [
       "<IPython.core.display.HTML object>"
      ]
     },
     "metadata": {},
     "output_type": "display_data"
    },
    {
     "data": {
      "text/html": [
       " View sweep at <a href='https://wandb.ai/da6401-assignments/assignment1/sweeps/enexfa0c' target=\"_blank\">https://wandb.ai/da6401-assignments/assignment1/sweeps/enexfa0c</a>"
      ],
      "text/plain": [
       "<IPython.core.display.HTML object>"
      ]
     },
     "metadata": {},
     "output_type": "display_data"
    },
    {
     "data": {
      "text/html": [
       " View run at <a href='https://wandb.ai/da6401-assignments/assignment1/runs/5si2hva9' target=\"_blank\">https://wandb.ai/da6401-assignments/assignment1/runs/5si2hva9</a>"
      ],
      "text/plain": [
       "<IPython.core.display.HTML object>"
      ]
     },
     "metadata": {},
     "output_type": "display_data"
    },
    {
     "name": "stdout",
     "output_type": "stream",
     "text": [
      "Sweep Name:  LR: 0.0001, AC: sigmoid, BS: 16, Optim: nesterov, WI: xavier, WD: 0, No_HL: 5, HS: 128\n",
      "Epoch 0: Training Loss = 12.7753 Validation Loss = 12.8131\n",
      "Training Accuracy = 0.1143 Validation Accuracy = 0.1157\n",
      "Epoch 1: Training Loss = 12.7753 Validation Loss = 12.8131\n",
      "Training Accuracy = 0.1143 Validation Accuracy = 0.1157\n",
      "Epoch 2: Training Loss = 12.7753 Validation Loss = 12.8131\n",
      "Training Accuracy = 0.1143 Validation Accuracy = 0.1157\n",
      "Epoch 3: Training Loss = 12.7753 Validation Loss = 12.8131\n",
      "Training Accuracy = 0.1143 Validation Accuracy = 0.1157\n",
      "Epoch 4: Training Loss = 12.7753 Validation Loss = 12.8131\n",
      "Training Accuracy = 0.1143 Validation Accuracy = 0.1157\n"
     ]
    },
    {
     "data": {
      "text/html": [],
      "text/plain": [
       "<IPython.core.display.HTML object>"
      ]
     },
     "metadata": {},
     "output_type": "display_data"
    },
    {
     "data": {
      "text/html": [
       "<br>    <style><br>        .wandb-row {<br>            display: flex;<br>            flex-direction: row;<br>            flex-wrap: wrap;<br>            justify-content: flex-start;<br>            width: 100%;<br>        }<br>        .wandb-col {<br>            display: flex;<br>            flex-direction: column;<br>            flex-basis: 100%;<br>            flex: 1;<br>            padding: 10px;<br>        }<br>    </style><br><div class=\"wandb-row\"><div class=\"wandb-col\"><h3>Run history:</h3><br/><table class=\"wandb\"><tr><td>Accuracy</td><td>▁</td></tr><tr><td>epoch</td><td>▁▃▅▆█</td></tr><tr><td>train_acc</td><td>▁▁▁▁▁</td></tr><tr><td>train_loss</td><td>▁▁▁▁▁</td></tr><tr><td>val_acc</td><td>▁▁▁▁▁</td></tr><tr><td>val_loss</td><td>▁▁▁▁▁</td></tr></table><br/></div><div class=\"wandb-col\"><h3>Run summary:</h3><br/><table class=\"wandb\"><tr><td>Accuracy</td><td>0.11567</td></tr><tr><td>epoch</td><td>4</td></tr><tr><td>train_acc</td><td>0.11431</td></tr><tr><td>train_loss</td><td>12.77531</td></tr><tr><td>val_acc</td><td>0.11567</td></tr><tr><td>val_loss</td><td>12.81311</td></tr></table><br/></div></div>"
      ],
      "text/plain": [
       "<IPython.core.display.HTML object>"
      ]
     },
     "metadata": {},
     "output_type": "display_data"
    },
    {
     "data": {
      "text/html": [
       " View run <strong style=\"color:#cdcd00\">LR: 0.0001, AC: sigmoid, BS: 16, Optim: nesterov, WI: xavier, WD: 0, No_HL: 5, HS: 128</strong> at: <a href='https://wandb.ai/da6401-assignments/assignment1/runs/5si2hva9' target=\"_blank\">https://wandb.ai/da6401-assignments/assignment1/runs/5si2hva9</a><br> View project at: <a href='https://wandb.ai/da6401-assignments/assignment1' target=\"_blank\">https://wandb.ai/da6401-assignments/assignment1</a><br>Synced 5 W&B file(s), 0 media file(s), 0 artifact file(s) and 0 other file(s)"
      ],
      "text/plain": [
       "<IPython.core.display.HTML object>"
      ]
     },
     "metadata": {},
     "output_type": "display_data"
    },
    {
     "data": {
      "text/html": [
       "Find logs at: <code>.\\wandb\\run-20250310_025419-5si2hva9\\logs</code>"
      ],
      "text/plain": [
       "<IPython.core.display.HTML object>"
      ]
     },
     "metadata": {},
     "output_type": "display_data"
    },
    {
     "name": "stderr",
     "output_type": "stream",
     "text": [
      "\u001b[34m\u001b[1mwandb\u001b[0m: Agent Starting Run: puscijty with config:\n",
      "\u001b[34m\u001b[1mwandb\u001b[0m: \tactivationFunc: sigmoid\n",
      "\u001b[34m\u001b[1mwandb\u001b[0m: \tbatchSize: 32\n",
      "\u001b[34m\u001b[1mwandb\u001b[0m: \thiddenLayer_Size: 128\n",
      "\u001b[34m\u001b[1mwandb\u001b[0m: \tlearningRate: 0.001\n",
      "\u001b[34m\u001b[1mwandb\u001b[0m: \tnum_epochs: 5\n",
      "\u001b[34m\u001b[1mwandb\u001b[0m: \tnum_hiddenLayers: 4\n",
      "\u001b[34m\u001b[1mwandb\u001b[0m: \toptimizer: momentum\n",
      "\u001b[34m\u001b[1mwandb\u001b[0m: \tweightDecay: 0.5\n",
      "\u001b[34m\u001b[1mwandb\u001b[0m: \tweightInit: xavier\n"
     ]
    },
    {
     "data": {
      "text/html": [
       "Ignoring project 'assignment1' when running a sweep."
      ],
      "text/plain": [
       "<IPython.core.display.HTML object>"
      ]
     },
     "metadata": {},
     "output_type": "display_data"
    },
    {
     "data": {
      "text/html": [
       "Ignoring entity 'da6401-assignments' when running a sweep."
      ],
      "text/plain": [
       "<IPython.core.display.HTML object>"
      ]
     },
     "metadata": {},
     "output_type": "display_data"
    },
    {
     "data": {
      "text/html": [
       "Waiting for wandb.init()..."
      ],
      "text/plain": [
       "<IPython.core.display.HTML object>"
      ]
     },
     "metadata": {},
     "output_type": "display_data"
    },
    {
     "data": {
      "text/html": [
       "Tracking run with wandb version 0.19.8"
      ],
      "text/plain": [
       "<IPython.core.display.HTML object>"
      ]
     },
     "metadata": {},
     "output_type": "display_data"
    },
    {
     "data": {
      "text/html": [
       "Run data is saved locally in <code>c:\\Users\\prajv\\Downloads\\ass1\\DA6401_ASSIGNMENT1\\wandb\\run-20250310_025452-puscijty</code>"
      ],
      "text/plain": [
       "<IPython.core.display.HTML object>"
      ]
     },
     "metadata": {},
     "output_type": "display_data"
    },
    {
     "data": {
      "text/html": [
       "Syncing run <strong><a href='https://wandb.ai/da6401-assignments/assignment1/runs/puscijty' target=\"_blank\">dazzling-sweep-32</a></strong> to <a href='https://wandb.ai/da6401-assignments/assignment1' target=\"_blank\">Weights & Biases</a> (<a href='https://wandb.me/developer-guide' target=\"_blank\">docs</a>)<br>Sweep page: <a href='https://wandb.ai/da6401-assignments/assignment1/sweeps/enexfa0c' target=\"_blank\">https://wandb.ai/da6401-assignments/assignment1/sweeps/enexfa0c</a>"
      ],
      "text/plain": [
       "<IPython.core.display.HTML object>"
      ]
     },
     "metadata": {},
     "output_type": "display_data"
    },
    {
     "data": {
      "text/html": [
       " View project at <a href='https://wandb.ai/da6401-assignments/assignment1' target=\"_blank\">https://wandb.ai/da6401-assignments/assignment1</a>"
      ],
      "text/plain": [
       "<IPython.core.display.HTML object>"
      ]
     },
     "metadata": {},
     "output_type": "display_data"
    },
    {
     "data": {
      "text/html": [
       " View sweep at <a href='https://wandb.ai/da6401-assignments/assignment1/sweeps/enexfa0c' target=\"_blank\">https://wandb.ai/da6401-assignments/assignment1/sweeps/enexfa0c</a>"
      ],
      "text/plain": [
       "<IPython.core.display.HTML object>"
      ]
     },
     "metadata": {},
     "output_type": "display_data"
    },
    {
     "data": {
      "text/html": [
       " View run at <a href='https://wandb.ai/da6401-assignments/assignment1/runs/puscijty' target=\"_blank\">https://wandb.ai/da6401-assignments/assignment1/runs/puscijty</a>"
      ],
      "text/plain": [
       "<IPython.core.display.HTML object>"
      ]
     },
     "metadata": {},
     "output_type": "display_data"
    },
    {
     "name": "stdout",
     "output_type": "stream",
     "text": [
      "Sweep Name:  LR: 0.001, AC: sigmoid, BS: 32, Optim: momentum, WI: xavier, WD: 0.5, No_HL: 4, HS: 128\n",
      "Epoch 0: Training Loss = 1.0799 Validation Loss = 1.0809\n",
      "Training Accuracy = 0.6249 Validation Accuracy = 0.6305\n",
      "Epoch 1: Training Loss = 0.9076 Validation Loss = 0.9156\n",
      "Training Accuracy = 0.6772 Validation Accuracy = 0.6818\n",
      "Epoch 2: Training Loss = 0.8301 Validation Loss = 0.8437\n",
      "Training Accuracy = 0.7034 Validation Accuracy = 0.7023\n",
      "Epoch 3: Training Loss = 0.7812 Validation Loss = 0.7973\n",
      "Training Accuracy = 0.7192 Validation Accuracy = 0.7187\n",
      "Epoch 4: Training Loss = 0.7458 Validation Loss = 0.7638\n",
      "Training Accuracy = 0.7317 Validation Accuracy = 0.7315\n"
     ]
    },
    {
     "data": {
      "text/html": [],
      "text/plain": [
       "<IPython.core.display.HTML object>"
      ]
     },
     "metadata": {},
     "output_type": "display_data"
    },
    {
     "data": {
      "text/html": [
       "<br>    <style><br>        .wandb-row {<br>            display: flex;<br>            flex-direction: row;<br>            flex-wrap: wrap;<br>            justify-content: flex-start;<br>            width: 100%;<br>        }<br>        .wandb-col {<br>            display: flex;<br>            flex-direction: column;<br>            flex-basis: 100%;<br>            flex: 1;<br>            padding: 10px;<br>        }<br>    </style><br><div class=\"wandb-row\"><div class=\"wandb-col\"><h3>Run history:</h3><br/><table class=\"wandb\"><tr><td>Accuracy</td><td>▁</td></tr><tr><td>epoch</td><td>▁▃▅▆█</td></tr><tr><td>train_acc</td><td>▁▄▆▇█</td></tr><tr><td>train_loss</td><td>█▄▃▂▁</td></tr><tr><td>val_acc</td><td>▁▅▆▇█</td></tr><tr><td>val_loss</td><td>█▄▃▂▁</td></tr></table><br/></div><div class=\"wandb-col\"><h3>Run summary:</h3><br/><table class=\"wandb\"><tr><td>Accuracy</td><td>0.7315</td></tr><tr><td>epoch</td><td>4</td></tr><tr><td>train_acc</td><td>0.7317</td></tr><tr><td>train_loss</td><td>0.7458</td></tr><tr><td>val_acc</td><td>0.7315</td></tr><tr><td>val_loss</td><td>0.76383</td></tr></table><br/></div></div>"
      ],
      "text/plain": [
       "<IPython.core.display.HTML object>"
      ]
     },
     "metadata": {},
     "output_type": "display_data"
    },
    {
     "data": {
      "text/html": [
       " View run <strong style=\"color:#cdcd00\">LR: 0.001, AC: sigmoid, BS: 32, Optim: momentum, WI: xavier, WD: 0.5, No_HL: 4, HS: 128</strong> at: <a href='https://wandb.ai/da6401-assignments/assignment1/runs/puscijty' target=\"_blank\">https://wandb.ai/da6401-assignments/assignment1/runs/puscijty</a><br> View project at: <a href='https://wandb.ai/da6401-assignments/assignment1' target=\"_blank\">https://wandb.ai/da6401-assignments/assignment1</a><br>Synced 5 W&B file(s), 0 media file(s), 0 artifact file(s) and 0 other file(s)"
      ],
      "text/plain": [
       "<IPython.core.display.HTML object>"
      ]
     },
     "metadata": {},
     "output_type": "display_data"
    },
    {
     "data": {
      "text/html": [
       "Find logs at: <code>.\\wandb\\run-20250310_025452-puscijty\\logs</code>"
      ],
      "text/plain": [
       "<IPython.core.display.HTML object>"
      ]
     },
     "metadata": {},
     "output_type": "display_data"
    },
    {
     "name": "stderr",
     "output_type": "stream",
     "text": [
      "\u001b[34m\u001b[1mwandb\u001b[0m: Agent Starting Run: bzp5wt2c with config:\n",
      "\u001b[34m\u001b[1mwandb\u001b[0m: \tactivationFunc: sigmoid\n",
      "\u001b[34m\u001b[1mwandb\u001b[0m: \tbatchSize: 32\n",
      "\u001b[34m\u001b[1mwandb\u001b[0m: \thiddenLayer_Size: 64\n",
      "\u001b[34m\u001b[1mwandb\u001b[0m: \tlearningRate: 0.001\n",
      "\u001b[34m\u001b[1mwandb\u001b[0m: \tnum_epochs: 5\n",
      "\u001b[34m\u001b[1mwandb\u001b[0m: \tnum_hiddenLayers: 5\n",
      "\u001b[34m\u001b[1mwandb\u001b[0m: \toptimizer: sgd\n",
      "\u001b[34m\u001b[1mwandb\u001b[0m: \tweightDecay: 0.0005\n",
      "\u001b[34m\u001b[1mwandb\u001b[0m: \tweightInit: xavier\n"
     ]
    },
    {
     "data": {
      "text/html": [
       "Ignoring project 'assignment1' when running a sweep."
      ],
      "text/plain": [
       "<IPython.core.display.HTML object>"
      ]
     },
     "metadata": {},
     "output_type": "display_data"
    },
    {
     "data": {
      "text/html": [
       "Ignoring entity 'da6401-assignments' when running a sweep."
      ],
      "text/plain": [
       "<IPython.core.display.HTML object>"
      ]
     },
     "metadata": {},
     "output_type": "display_data"
    },
    {
     "data": {
      "text/html": [
       "creating run (0.2s)"
      ],
      "text/plain": [
       "<IPython.core.display.HTML object>"
      ]
     },
     "metadata": {},
     "output_type": "display_data"
    },
    {
     "data": {
      "text/html": [
       "Tracking run with wandb version 0.19.8"
      ],
      "text/plain": [
       "<IPython.core.display.HTML object>"
      ]
     },
     "metadata": {},
     "output_type": "display_data"
    },
    {
     "data": {
      "text/html": [
       "Run data is saved locally in <code>c:\\Users\\prajv\\Downloads\\ass1\\DA6401_ASSIGNMENT1\\wandb\\run-20250310_025523-bzp5wt2c</code>"
      ],
      "text/plain": [
       "<IPython.core.display.HTML object>"
      ]
     },
     "metadata": {},
     "output_type": "display_data"
    },
    {
     "data": {
      "text/html": [
       "Syncing run <strong><a href='https://wandb.ai/da6401-assignments/assignment1/runs/bzp5wt2c' target=\"_blank\">azure-sweep-33</a></strong> to <a href='https://wandb.ai/da6401-assignments/assignment1' target=\"_blank\">Weights & Biases</a> (<a href='https://wandb.me/developer-guide' target=\"_blank\">docs</a>)<br>Sweep page: <a href='https://wandb.ai/da6401-assignments/assignment1/sweeps/enexfa0c' target=\"_blank\">https://wandb.ai/da6401-assignments/assignment1/sweeps/enexfa0c</a>"
      ],
      "text/plain": [
       "<IPython.core.display.HTML object>"
      ]
     },
     "metadata": {},
     "output_type": "display_data"
    },
    {
     "data": {
      "text/html": [
       " View project at <a href='https://wandb.ai/da6401-assignments/assignment1' target=\"_blank\">https://wandb.ai/da6401-assignments/assignment1</a>"
      ],
      "text/plain": [
       "<IPython.core.display.HTML object>"
      ]
     },
     "metadata": {},
     "output_type": "display_data"
    },
    {
     "data": {
      "text/html": [
       " View sweep at <a href='https://wandb.ai/da6401-assignments/assignment1/sweeps/enexfa0c' target=\"_blank\">https://wandb.ai/da6401-assignments/assignment1/sweeps/enexfa0c</a>"
      ],
      "text/plain": [
       "<IPython.core.display.HTML object>"
      ]
     },
     "metadata": {},
     "output_type": "display_data"
    },
    {
     "data": {
      "text/html": [
       " View run at <a href='https://wandb.ai/da6401-assignments/assignment1/runs/bzp5wt2c' target=\"_blank\">https://wandb.ai/da6401-assignments/assignment1/runs/bzp5wt2c</a>"
      ],
      "text/plain": [
       "<IPython.core.display.HTML object>"
      ]
     },
     "metadata": {},
     "output_type": "display_data"
    },
    {
     "name": "stdout",
     "output_type": "stream",
     "text": [
      "Sweep Name:  LR: 0.001, AC: sigmoid, BS: 32, Optim: sgd, WI: xavier, WD: 0.0005, No_HL: 5, HS: 64\n",
      "Epoch 0: Training Loss = 2.1876 Validation Loss = 2.1826\n",
      "Training Accuracy = 0.2061 Validation Accuracy = 0.2140\n",
      "Epoch 1: Training Loss = 1.9642 Validation Loss = 1.9583\n",
      "Training Accuracy = 0.3025 Validation Accuracy = 0.3083\n",
      "Epoch 2: Training Loss = 1.8168 Validation Loss = 1.8113\n",
      "Training Accuracy = 0.3715 Validation Accuracy = 0.3652\n",
      "Epoch 3: Training Loss = 1.6955 Validation Loss = 1.6919\n",
      "Training Accuracy = 0.4163 Validation Accuracy = 0.4123\n",
      "Epoch 4: Training Loss = 1.5944 Validation Loss = 1.5936\n",
      "Training Accuracy = 0.4488 Validation Accuracy = 0.4465\n"
     ]
    },
    {
     "data": {
      "text/html": [],
      "text/plain": [
       "<IPython.core.display.HTML object>"
      ]
     },
     "metadata": {},
     "output_type": "display_data"
    },
    {
     "data": {
      "text/html": [
       "<br>    <style><br>        .wandb-row {<br>            display: flex;<br>            flex-direction: row;<br>            flex-wrap: wrap;<br>            justify-content: flex-start;<br>            width: 100%;<br>        }<br>        .wandb-col {<br>            display: flex;<br>            flex-direction: column;<br>            flex-basis: 100%;<br>            flex: 1;<br>            padding: 10px;<br>        }<br>    </style><br><div class=\"wandb-row\"><div class=\"wandb-col\"><h3>Run history:</h3><br/><table class=\"wandb\"><tr><td>Accuracy</td><td>▁</td></tr><tr><td>epoch</td><td>▁▃▅▆█</td></tr><tr><td>train_acc</td><td>▁▄▆▇█</td></tr><tr><td>train_loss</td><td>█▅▄▂▁</td></tr><tr><td>val_acc</td><td>▁▄▆▇█</td></tr><tr><td>val_loss</td><td>█▅▄▂▁</td></tr></table><br/></div><div class=\"wandb-col\"><h3>Run summary:</h3><br/><table class=\"wandb\"><tr><td>Accuracy</td><td>0.4465</td></tr><tr><td>epoch</td><td>4</td></tr><tr><td>train_acc</td><td>0.44878</td></tr><tr><td>train_loss</td><td>1.59444</td></tr><tr><td>val_acc</td><td>0.4465</td></tr><tr><td>val_loss</td><td>1.59356</td></tr></table><br/></div></div>"
      ],
      "text/plain": [
       "<IPython.core.display.HTML object>"
      ]
     },
     "metadata": {},
     "output_type": "display_data"
    },
    {
     "data": {
      "text/html": [
       " View run <strong style=\"color:#cdcd00\">LR: 0.001, AC: sigmoid, BS: 32, Optim: sgd, WI: xavier, WD: 0.0005, No_HL: 5, HS: 64</strong> at: <a href='https://wandb.ai/da6401-assignments/assignment1/runs/bzp5wt2c' target=\"_blank\">https://wandb.ai/da6401-assignments/assignment1/runs/bzp5wt2c</a><br> View project at: <a href='https://wandb.ai/da6401-assignments/assignment1' target=\"_blank\">https://wandb.ai/da6401-assignments/assignment1</a><br>Synced 5 W&B file(s), 0 media file(s), 0 artifact file(s) and 0 other file(s)"
      ],
      "text/plain": [
       "<IPython.core.display.HTML object>"
      ]
     },
     "metadata": {},
     "output_type": "display_data"
    },
    {
     "data": {
      "text/html": [
       "Find logs at: <code>.\\wandb\\run-20250310_025523-bzp5wt2c\\logs</code>"
      ],
      "text/plain": [
       "<IPython.core.display.HTML object>"
      ]
     },
     "metadata": {},
     "output_type": "display_data"
    },
    {
     "name": "stderr",
     "output_type": "stream",
     "text": [
      "\u001b[34m\u001b[1mwandb\u001b[0m: Agent Starting Run: 8cmojhrv with config:\n",
      "\u001b[34m\u001b[1mwandb\u001b[0m: \tactivationFunc: relu\n",
      "\u001b[34m\u001b[1mwandb\u001b[0m: \tbatchSize: 32\n",
      "\u001b[34m\u001b[1mwandb\u001b[0m: \thiddenLayer_Size: 32\n",
      "\u001b[34m\u001b[1mwandb\u001b[0m: \tlearningRate: 0.001\n",
      "\u001b[34m\u001b[1mwandb\u001b[0m: \tnum_epochs: 5\n",
      "\u001b[34m\u001b[1mwandb\u001b[0m: \tnum_hiddenLayers: 5\n",
      "\u001b[34m\u001b[1mwandb\u001b[0m: \toptimizer: sgd\n",
      "\u001b[34m\u001b[1mwandb\u001b[0m: \tweightDecay: 0\n",
      "\u001b[34m\u001b[1mwandb\u001b[0m: \tweightInit: random\n"
     ]
    },
    {
     "data": {
      "text/html": [
       "Ignoring project 'assignment1' when running a sweep."
      ],
      "text/plain": [
       "<IPython.core.display.HTML object>"
      ]
     },
     "metadata": {},
     "output_type": "display_data"
    },
    {
     "data": {
      "text/html": [
       "Ignoring entity 'da6401-assignments' when running a sweep."
      ],
      "text/plain": [
       "<IPython.core.display.HTML object>"
      ]
     },
     "metadata": {},
     "output_type": "display_data"
    },
    {
     "data": {
      "text/html": [
       "creating run (0.2s)"
      ],
      "text/plain": [
       "<IPython.core.display.HTML object>"
      ]
     },
     "metadata": {},
     "output_type": "display_data"
    },
    {
     "data": {
      "text/html": [
       "Tracking run with wandb version 0.19.8"
      ],
      "text/plain": [
       "<IPython.core.display.HTML object>"
      ]
     },
     "metadata": {},
     "output_type": "display_data"
    },
    {
     "data": {
      "text/html": [
       "Run data is saved locally in <code>c:\\Users\\prajv\\Downloads\\ass1\\DA6401_ASSIGNMENT1\\wandb\\run-20250310_025544-8cmojhrv</code>"
      ],
      "text/plain": [
       "<IPython.core.display.HTML object>"
      ]
     },
     "metadata": {},
     "output_type": "display_data"
    },
    {
     "data": {
      "text/html": [
       "Syncing run <strong><a href='https://wandb.ai/da6401-assignments/assignment1/runs/8cmojhrv' target=\"_blank\">cosmic-sweep-34</a></strong> to <a href='https://wandb.ai/da6401-assignments/assignment1' target=\"_blank\">Weights & Biases</a> (<a href='https://wandb.me/developer-guide' target=\"_blank\">docs</a>)<br>Sweep page: <a href='https://wandb.ai/da6401-assignments/assignment1/sweeps/enexfa0c' target=\"_blank\">https://wandb.ai/da6401-assignments/assignment1/sweeps/enexfa0c</a>"
      ],
      "text/plain": [
       "<IPython.core.display.HTML object>"
      ]
     },
     "metadata": {},
     "output_type": "display_data"
    },
    {
     "data": {
      "text/html": [
       " View project at <a href='https://wandb.ai/da6401-assignments/assignment1' target=\"_blank\">https://wandb.ai/da6401-assignments/assignment1</a>"
      ],
      "text/plain": [
       "<IPython.core.display.HTML object>"
      ]
     },
     "metadata": {},
     "output_type": "display_data"
    },
    {
     "data": {
      "text/html": [
       " View sweep at <a href='https://wandb.ai/da6401-assignments/assignment1/sweeps/enexfa0c' target=\"_blank\">https://wandb.ai/da6401-assignments/assignment1/sweeps/enexfa0c</a>"
      ],
      "text/plain": [
       "<IPython.core.display.HTML object>"
      ]
     },
     "metadata": {},
     "output_type": "display_data"
    },
    {
     "data": {
      "text/html": [
       " View run at <a href='https://wandb.ai/da6401-assignments/assignment1/runs/8cmojhrv' target=\"_blank\">https://wandb.ai/da6401-assignments/assignment1/runs/8cmojhrv</a>"
      ],
      "text/plain": [
       "<IPython.core.display.HTML object>"
      ]
     },
     "metadata": {},
     "output_type": "display_data"
    },
    {
     "name": "stdout",
     "output_type": "stream",
     "text": [
      "Sweep Name:  LR: 0.001, AC: relu, BS: 32, Optim: sgd, WI: random, WD: 0, No_HL: 5, HS: 32\n",
      "Epoch 0: Training Loss = 2.2261 Validation Loss = 2.2302\n",
      "Training Accuracy = 0.1653 Validation Accuracy = 0.1665\n",
      "Epoch 1: Training Loss = 2.0861 Validation Loss = 2.0884\n",
      "Training Accuracy = 0.2445 Validation Accuracy = 0.2413\n",
      "Epoch 2: Training Loss = 1.9937 Validation Loss = 1.9937\n",
      "Training Accuracy = 0.3012 Validation Accuracy = 0.2992\n",
      "Epoch 3: Training Loss = 1.9140 Validation Loss = 1.9116\n",
      "Training Accuracy = 0.3398 Validation Accuracy = 0.3445\n",
      "Epoch 4: Training Loss = 1.8409 Validation Loss = 1.8370\n",
      "Training Accuracy = 0.3744 Validation Accuracy = 0.3782\n"
     ]
    },
    {
     "data": {
      "text/html": [],
      "text/plain": [
       "<IPython.core.display.HTML object>"
      ]
     },
     "metadata": {},
     "output_type": "display_data"
    },
    {
     "data": {
      "text/html": [
       "<br>    <style><br>        .wandb-row {<br>            display: flex;<br>            flex-direction: row;<br>            flex-wrap: wrap;<br>            justify-content: flex-start;<br>            width: 100%;<br>        }<br>        .wandb-col {<br>            display: flex;<br>            flex-direction: column;<br>            flex-basis: 100%;<br>            flex: 1;<br>            padding: 10px;<br>        }<br>    </style><br><div class=\"wandb-row\"><div class=\"wandb-col\"><h3>Run history:</h3><br/><table class=\"wandb\"><tr><td>Accuracy</td><td>▁</td></tr><tr><td>epoch</td><td>▁▃▅▆█</td></tr><tr><td>train_acc</td><td>▁▄▆▇█</td></tr><tr><td>train_loss</td><td>█▅▄▂▁</td></tr><tr><td>val_acc</td><td>▁▃▅▇█</td></tr><tr><td>val_loss</td><td>█▅▄▂▁</td></tr></table><br/></div><div class=\"wandb-col\"><h3>Run summary:</h3><br/><table class=\"wandb\"><tr><td>Accuracy</td><td>0.37817</td></tr><tr><td>epoch</td><td>4</td></tr><tr><td>train_acc</td><td>0.37437</td></tr><tr><td>train_loss</td><td>1.84091</td></tr><tr><td>val_acc</td><td>0.37817</td></tr><tr><td>val_loss</td><td>1.83695</td></tr></table><br/></div></div>"
      ],
      "text/plain": [
       "<IPython.core.display.HTML object>"
      ]
     },
     "metadata": {},
     "output_type": "display_data"
    },
    {
     "data": {
      "text/html": [
       " View run <strong style=\"color:#cdcd00\">LR: 0.001, AC: relu, BS: 32, Optim: sgd, WI: random, WD: 0, No_HL: 5, HS: 32</strong> at: <a href='https://wandb.ai/da6401-assignments/assignment1/runs/8cmojhrv' target=\"_blank\">https://wandb.ai/da6401-assignments/assignment1/runs/8cmojhrv</a><br> View project at: <a href='https://wandb.ai/da6401-assignments/assignment1' target=\"_blank\">https://wandb.ai/da6401-assignments/assignment1</a><br>Synced 5 W&B file(s), 0 media file(s), 0 artifact file(s) and 0 other file(s)"
      ],
      "text/plain": [
       "<IPython.core.display.HTML object>"
      ]
     },
     "metadata": {},
     "output_type": "display_data"
    },
    {
     "data": {
      "text/html": [
       "Find logs at: <code>.\\wandb\\run-20250310_025544-8cmojhrv\\logs</code>"
      ],
      "text/plain": [
       "<IPython.core.display.HTML object>"
      ]
     },
     "metadata": {},
     "output_type": "display_data"
    },
    {
     "name": "stderr",
     "output_type": "stream",
     "text": [
      "\u001b[34m\u001b[1mwandb\u001b[0m: Agent Starting Run: fvtugkqr with config:\n",
      "\u001b[34m\u001b[1mwandb\u001b[0m: \tactivationFunc: tanh\n",
      "\u001b[34m\u001b[1mwandb\u001b[0m: \tbatchSize: 16\n",
      "\u001b[34m\u001b[1mwandb\u001b[0m: \thiddenLayer_Size: 128\n",
      "\u001b[34m\u001b[1mwandb\u001b[0m: \tlearningRate: 0.0001\n",
      "\u001b[34m\u001b[1mwandb\u001b[0m: \tnum_epochs: 10\n",
      "\u001b[34m\u001b[1mwandb\u001b[0m: \tnum_hiddenLayers: 4\n",
      "\u001b[34m\u001b[1mwandb\u001b[0m: \toptimizer: rmsprop\n",
      "\u001b[34m\u001b[1mwandb\u001b[0m: \tweightDecay: 0.5\n",
      "\u001b[34m\u001b[1mwandb\u001b[0m: \tweightInit: random\n"
     ]
    },
    {
     "data": {
      "text/html": [
       "Ignoring project 'assignment1' when running a sweep."
      ],
      "text/plain": [
       "<IPython.core.display.HTML object>"
      ]
     },
     "metadata": {},
     "output_type": "display_data"
    },
    {
     "data": {
      "text/html": [
       "Ignoring entity 'da6401-assignments' when running a sweep."
      ],
      "text/plain": [
       "<IPython.core.display.HTML object>"
      ]
     },
     "metadata": {},
     "output_type": "display_data"
    },
    {
     "data": {
      "text/html": [
       "Waiting for wandb.init()..."
      ],
      "text/plain": [
       "<IPython.core.display.HTML object>"
      ]
     },
     "metadata": {},
     "output_type": "display_data"
    },
    {
     "data": {
      "text/html": [
       "Tracking run with wandb version 0.19.8"
      ],
      "text/plain": [
       "<IPython.core.display.HTML object>"
      ]
     },
     "metadata": {},
     "output_type": "display_data"
    },
    {
     "data": {
      "text/html": [
       "Run data is saved locally in <code>c:\\Users\\prajv\\Downloads\\ass1\\DA6401_ASSIGNMENT1\\wandb\\run-20250310_025601-fvtugkqr</code>"
      ],
      "text/plain": [
       "<IPython.core.display.HTML object>"
      ]
     },
     "metadata": {},
     "output_type": "display_data"
    },
    {
     "data": {
      "text/html": [
       "Syncing run <strong><a href='https://wandb.ai/da6401-assignments/assignment1/runs/fvtugkqr' target=\"_blank\">young-sweep-35</a></strong> to <a href='https://wandb.ai/da6401-assignments/assignment1' target=\"_blank\">Weights & Biases</a> (<a href='https://wandb.me/developer-guide' target=\"_blank\">docs</a>)<br>Sweep page: <a href='https://wandb.ai/da6401-assignments/assignment1/sweeps/enexfa0c' target=\"_blank\">https://wandb.ai/da6401-assignments/assignment1/sweeps/enexfa0c</a>"
      ],
      "text/plain": [
       "<IPython.core.display.HTML object>"
      ]
     },
     "metadata": {},
     "output_type": "display_data"
    },
    {
     "data": {
      "text/html": [
       " View project at <a href='https://wandb.ai/da6401-assignments/assignment1' target=\"_blank\">https://wandb.ai/da6401-assignments/assignment1</a>"
      ],
      "text/plain": [
       "<IPython.core.display.HTML object>"
      ]
     },
     "metadata": {},
     "output_type": "display_data"
    },
    {
     "data": {
      "text/html": [
       " View sweep at <a href='https://wandb.ai/da6401-assignments/assignment1/sweeps/enexfa0c' target=\"_blank\">https://wandb.ai/da6401-assignments/assignment1/sweeps/enexfa0c</a>"
      ],
      "text/plain": [
       "<IPython.core.display.HTML object>"
      ]
     },
     "metadata": {},
     "output_type": "display_data"
    },
    {
     "data": {
      "text/html": [
       " View run at <a href='https://wandb.ai/da6401-assignments/assignment1/runs/fvtugkqr' target=\"_blank\">https://wandb.ai/da6401-assignments/assignment1/runs/fvtugkqr</a>"
      ],
      "text/plain": [
       "<IPython.core.display.HTML object>"
      ]
     },
     "metadata": {},
     "output_type": "display_data"
    },
    {
     "name": "stdout",
     "output_type": "stream",
     "text": [
      "Sweep Name:  LR: 0.0001, AC: tanh, BS: 16, Optim: rmsprop, WI: random, WD: 0.5, No_HL: 4, HS: 128\n",
      "Epoch 0: Training Loss = 0.7547 Validation Loss = 0.7632\n",
      "Training Accuracy = 0.7293 Validation Accuracy = 0.7335\n",
      "Epoch 1: Training Loss = 0.6441 Validation Loss = 0.6569\n",
      "Training Accuracy = 0.7683 Validation Accuracy = 0.7703\n",
      "Epoch 2: Training Loss = 0.5887 Validation Loss = 0.6108\n",
      "Training Accuracy = 0.7888 Validation Accuracy = 0.7923\n",
      "Epoch 3: Training Loss = 0.5453 Validation Loss = 0.5746\n",
      "Training Accuracy = 0.8038 Validation Accuracy = 0.8043\n",
      "Epoch 4: Training Loss = 0.5161 Validation Loss = 0.5513\n",
      "Training Accuracy = 0.8134 Validation Accuracy = 0.8137\n",
      "Epoch 5: Training Loss = 0.4926 Validation Loss = 0.5363\n",
      "Training Accuracy = 0.8211 Validation Accuracy = 0.8165\n",
      "Epoch 6: Training Loss = 0.4754 Validation Loss = 0.5273\n",
      "Training Accuracy = 0.8271 Validation Accuracy = 0.8205\n",
      "Epoch 7: Training Loss = 0.4586 Validation Loss = 0.5107\n",
      "Training Accuracy = 0.8339 Validation Accuracy = 0.8220\n",
      "Epoch 8: Training Loss = 0.4465 Validation Loss = 0.5016\n",
      "Training Accuracy = 0.8364 Validation Accuracy = 0.8245\n",
      "Epoch 9: Training Loss = 0.4335 Validation Loss = 0.4951\n",
      "Training Accuracy = 0.8427 Validation Accuracy = 0.8230\n"
     ]
    },
    {
     "data": {
      "text/html": [],
      "text/plain": [
       "<IPython.core.display.HTML object>"
      ]
     },
     "metadata": {},
     "output_type": "display_data"
    },
    {
     "data": {
      "text/html": [
       "<br>    <style><br>        .wandb-row {<br>            display: flex;<br>            flex-direction: row;<br>            flex-wrap: wrap;<br>            justify-content: flex-start;<br>            width: 100%;<br>        }<br>        .wandb-col {<br>            display: flex;<br>            flex-direction: column;<br>            flex-basis: 100%;<br>            flex: 1;<br>            padding: 10px;<br>        }<br>    </style><br><div class=\"wandb-row\"><div class=\"wandb-col\"><h3>Run history:</h3><br/><table class=\"wandb\"><tr><td>Accuracy</td><td>▁</td></tr><tr><td>epoch</td><td>▁▂▃▃▄▅▆▆▇█</td></tr><tr><td>train_acc</td><td>▁▃▅▆▆▇▇▇██</td></tr><tr><td>train_loss</td><td>█▆▄▃▃▂▂▂▁▁</td></tr><tr><td>val_acc</td><td>▁▄▆▆▇▇████</td></tr><tr><td>val_loss</td><td>█▅▄▃▂▂▂▁▁▁</td></tr></table><br/></div><div class=\"wandb-col\"><h3>Run summary:</h3><br/><table class=\"wandb\"><tr><td>Accuracy</td><td>0.823</td></tr><tr><td>epoch</td><td>9</td></tr><tr><td>train_acc</td><td>0.84267</td></tr><tr><td>train_loss</td><td>0.4335</td></tr><tr><td>val_acc</td><td>0.823</td></tr><tr><td>val_loss</td><td>0.4951</td></tr></table><br/></div></div>"
      ],
      "text/plain": [
       "<IPython.core.display.HTML object>"
      ]
     },
     "metadata": {},
     "output_type": "display_data"
    },
    {
     "data": {
      "text/html": [
       " View run <strong style=\"color:#cdcd00\">LR: 0.0001, AC: tanh, BS: 16, Optim: rmsprop, WI: random, WD: 0.5, No_HL: 4, HS: 128</strong> at: <a href='https://wandb.ai/da6401-assignments/assignment1/runs/fvtugkqr' target=\"_blank\">https://wandb.ai/da6401-assignments/assignment1/runs/fvtugkqr</a><br> View project at: <a href='https://wandb.ai/da6401-assignments/assignment1' target=\"_blank\">https://wandb.ai/da6401-assignments/assignment1</a><br>Synced 5 W&B file(s), 0 media file(s), 0 artifact file(s) and 0 other file(s)"
      ],
      "text/plain": [
       "<IPython.core.display.HTML object>"
      ]
     },
     "metadata": {},
     "output_type": "display_data"
    },
    {
     "data": {
      "text/html": [
       "Find logs at: <code>.\\wandb\\run-20250310_025601-fvtugkqr\\logs</code>"
      ],
      "text/plain": [
       "<IPython.core.display.HTML object>"
      ]
     },
     "metadata": {},
     "output_type": "display_data"
    },
    {
     "name": "stderr",
     "output_type": "stream",
     "text": [
      "\u001b[34m\u001b[1mwandb\u001b[0m: Agent Starting Run: q9wy6kad with config:\n",
      "\u001b[34m\u001b[1mwandb\u001b[0m: \tactivationFunc: relu\n",
      "\u001b[34m\u001b[1mwandb\u001b[0m: \tbatchSize: 64\n",
      "\u001b[34m\u001b[1mwandb\u001b[0m: \thiddenLayer_Size: 128\n",
      "\u001b[34m\u001b[1mwandb\u001b[0m: \tlearningRate: 0.0001\n",
      "\u001b[34m\u001b[1mwandb\u001b[0m: \tnum_epochs: 5\n",
      "\u001b[34m\u001b[1mwandb\u001b[0m: \tnum_hiddenLayers: 4\n",
      "\u001b[34m\u001b[1mwandb\u001b[0m: \toptimizer: adam\n",
      "\u001b[34m\u001b[1mwandb\u001b[0m: \tweightDecay: 0.0005\n",
      "\u001b[34m\u001b[1mwandb\u001b[0m: \tweightInit: random\n"
     ]
    },
    {
     "data": {
      "text/html": [
       "Ignoring project 'assignment1' when running a sweep."
      ],
      "text/plain": [
       "<IPython.core.display.HTML object>"
      ]
     },
     "metadata": {},
     "output_type": "display_data"
    },
    {
     "data": {
      "text/html": [
       "Ignoring entity 'da6401-assignments' when running a sweep."
      ],
      "text/plain": [
       "<IPython.core.display.HTML object>"
      ]
     },
     "metadata": {},
     "output_type": "display_data"
    },
    {
     "data": {
      "text/html": [
       "creating run (0.2s)"
      ],
      "text/plain": [
       "<IPython.core.display.HTML object>"
      ]
     },
     "metadata": {},
     "output_type": "display_data"
    },
    {
     "data": {
      "text/html": [
       "Tracking run with wandb version 0.19.8"
      ],
      "text/plain": [
       "<IPython.core.display.HTML object>"
      ]
     },
     "metadata": {},
     "output_type": "display_data"
    },
    {
     "data": {
      "text/html": [
       "Run data is saved locally in <code>c:\\Users\\prajv\\Downloads\\ass1\\DA6401_ASSIGNMENT1\\wandb\\run-20250310_025751-q9wy6kad</code>"
      ],
      "text/plain": [
       "<IPython.core.display.HTML object>"
      ]
     },
     "metadata": {},
     "output_type": "display_data"
    },
    {
     "data": {
      "text/html": [
       "Syncing run <strong><a href='https://wandb.ai/da6401-assignments/assignment1/runs/q9wy6kad' target=\"_blank\">sleek-sweep-36</a></strong> to <a href='https://wandb.ai/da6401-assignments/assignment1' target=\"_blank\">Weights & Biases</a> (<a href='https://wandb.me/developer-guide' target=\"_blank\">docs</a>)<br>Sweep page: <a href='https://wandb.ai/da6401-assignments/assignment1/sweeps/enexfa0c' target=\"_blank\">https://wandb.ai/da6401-assignments/assignment1/sweeps/enexfa0c</a>"
      ],
      "text/plain": [
       "<IPython.core.display.HTML object>"
      ]
     },
     "metadata": {},
     "output_type": "display_data"
    },
    {
     "data": {
      "text/html": [
       " View project at <a href='https://wandb.ai/da6401-assignments/assignment1' target=\"_blank\">https://wandb.ai/da6401-assignments/assignment1</a>"
      ],
      "text/plain": [
       "<IPython.core.display.HTML object>"
      ]
     },
     "metadata": {},
     "output_type": "display_data"
    },
    {
     "data": {
      "text/html": [
       " View sweep at <a href='https://wandb.ai/da6401-assignments/assignment1/sweeps/enexfa0c' target=\"_blank\">https://wandb.ai/da6401-assignments/assignment1/sweeps/enexfa0c</a>"
      ],
      "text/plain": [
       "<IPython.core.display.HTML object>"
      ]
     },
     "metadata": {},
     "output_type": "display_data"
    },
    {
     "data": {
      "text/html": [
       " View run at <a href='https://wandb.ai/da6401-assignments/assignment1/runs/q9wy6kad' target=\"_blank\">https://wandb.ai/da6401-assignments/assignment1/runs/q9wy6kad</a>"
      ],
      "text/plain": [
       "<IPython.core.display.HTML object>"
      ]
     },
     "metadata": {},
     "output_type": "display_data"
    },
    {
     "name": "stdout",
     "output_type": "stream",
     "text": [
      "Sweep Name:  LR: 0.0001, AC: relu, BS: 64, Optim: adam, WI: random, WD: 0.0005, No_HL: 4, HS: 128\n",
      "Epoch 0: Training Loss = 0.9112 Validation Loss = 0.9085\n",
      "Training Accuracy = 0.6840 Validation Accuracy = 0.6892\n",
      "Epoch 1: Training Loss = 0.7803 Validation Loss = 0.7794\n",
      "Training Accuracy = 0.7290 Validation Accuracy = 0.7302\n",
      "Epoch 2: Training Loss = 0.7112 Validation Loss = 0.7136\n",
      "Training Accuracy = 0.7498 Validation Accuracy = 0.7497\n",
      "Epoch 3: Training Loss = 0.6644 Validation Loss = 0.6755\n",
      "Training Accuracy = 0.7636 Validation Accuracy = 0.7610\n",
      "Epoch 4: Training Loss = 0.6314 Validation Loss = 0.6484\n",
      "Training Accuracy = 0.7731 Validation Accuracy = 0.7662\n"
     ]
    },
    {
     "data": {
      "text/html": [],
      "text/plain": [
       "<IPython.core.display.HTML object>"
      ]
     },
     "metadata": {},
     "output_type": "display_data"
    },
    {
     "data": {
      "text/html": [
       "<br>    <style><br>        .wandb-row {<br>            display: flex;<br>            flex-direction: row;<br>            flex-wrap: wrap;<br>            justify-content: flex-start;<br>            width: 100%;<br>        }<br>        .wandb-col {<br>            display: flex;<br>            flex-direction: column;<br>            flex-basis: 100%;<br>            flex: 1;<br>            padding: 10px;<br>        }<br>    </style><br><div class=\"wandb-row\"><div class=\"wandb-col\"><h3>Run history:</h3><br/><table class=\"wandb\"><tr><td>Accuracy</td><td>▁</td></tr><tr><td>epoch</td><td>▁▃▅▆█</td></tr><tr><td>train_acc</td><td>▁▅▆▇█</td></tr><tr><td>train_loss</td><td>█▅▃▂▁</td></tr><tr><td>val_acc</td><td>▁▅▇██</td></tr><tr><td>val_loss</td><td>█▅▃▂▁</td></tr></table><br/></div><div class=\"wandb-col\"><h3>Run summary:</h3><br/><table class=\"wandb\"><tr><td>Accuracy</td><td>0.76617</td></tr><tr><td>epoch</td><td>4</td></tr><tr><td>train_acc</td><td>0.77311</td></tr><tr><td>train_loss</td><td>0.63145</td></tr><tr><td>val_acc</td><td>0.76617</td></tr><tr><td>val_loss</td><td>0.64837</td></tr></table><br/></div></div>"
      ],
      "text/plain": [
       "<IPython.core.display.HTML object>"
      ]
     },
     "metadata": {},
     "output_type": "display_data"
    },
    {
     "data": {
      "text/html": [
       " View run <strong style=\"color:#cdcd00\">LR: 0.0001, AC: relu, BS: 64, Optim: adam, WI: random, WD: 0.0005, No_HL: 4, HS: 128</strong> at: <a href='https://wandb.ai/da6401-assignments/assignment1/runs/q9wy6kad' target=\"_blank\">https://wandb.ai/da6401-assignments/assignment1/runs/q9wy6kad</a><br> View project at: <a href='https://wandb.ai/da6401-assignments/assignment1' target=\"_blank\">https://wandb.ai/da6401-assignments/assignment1</a><br>Synced 5 W&B file(s), 0 media file(s), 0 artifact file(s) and 0 other file(s)"
      ],
      "text/plain": [
       "<IPython.core.display.HTML object>"
      ]
     },
     "metadata": {},
     "output_type": "display_data"
    },
    {
     "data": {
      "text/html": [
       "Find logs at: <code>.\\wandb\\run-20250310_025751-q9wy6kad\\logs</code>"
      ],
      "text/plain": [
       "<IPython.core.display.HTML object>"
      ]
     },
     "metadata": {},
     "output_type": "display_data"
    },
    {
     "name": "stderr",
     "output_type": "stream",
     "text": [
      "\u001b[34m\u001b[1mwandb\u001b[0m: Agent Starting Run: jmtt2x7n with config:\n",
      "\u001b[34m\u001b[1mwandb\u001b[0m: \tactivationFunc: tanh\n",
      "\u001b[34m\u001b[1mwandb\u001b[0m: \tbatchSize: 32\n",
      "\u001b[34m\u001b[1mwandb\u001b[0m: \thiddenLayer_Size: 128\n",
      "\u001b[34m\u001b[1mwandb\u001b[0m: \tlearningRate: 0.0001\n",
      "\u001b[34m\u001b[1mwandb\u001b[0m: \tnum_epochs: 5\n",
      "\u001b[34m\u001b[1mwandb\u001b[0m: \tnum_hiddenLayers: 3\n",
      "\u001b[34m\u001b[1mwandb\u001b[0m: \toptimizer: nadam\n",
      "\u001b[34m\u001b[1mwandb\u001b[0m: \tweightDecay: 0.0005\n",
      "\u001b[34m\u001b[1mwandb\u001b[0m: \tweightInit: xavier\n"
     ]
    },
    {
     "data": {
      "text/html": [
       "Ignoring project 'assignment1' when running a sweep."
      ],
      "text/plain": [
       "<IPython.core.display.HTML object>"
      ]
     },
     "metadata": {},
     "output_type": "display_data"
    },
    {
     "data": {
      "text/html": [
       "Ignoring entity 'da6401-assignments' when running a sweep."
      ],
      "text/plain": [
       "<IPython.core.display.HTML object>"
      ]
     },
     "metadata": {},
     "output_type": "display_data"
    },
    {
     "data": {
      "text/html": [
       "creating run (0.3s)"
      ],
      "text/plain": [
       "<IPython.core.display.HTML object>"
      ]
     },
     "metadata": {},
     "output_type": "display_data"
    },
    {
     "data": {
      "text/html": [
       "Tracking run with wandb version 0.19.8"
      ],
      "text/plain": [
       "<IPython.core.display.HTML object>"
      ]
     },
     "metadata": {},
     "output_type": "display_data"
    },
    {
     "data": {
      "text/html": [
       "Run data is saved locally in <code>c:\\Users\\prajv\\Downloads\\ass1\\DA6401_ASSIGNMENT1\\wandb\\run-20250310_025828-jmtt2x7n</code>"
      ],
      "text/plain": [
       "<IPython.core.display.HTML object>"
      ]
     },
     "metadata": {},
     "output_type": "display_data"
    },
    {
     "data": {
      "text/html": [
       "Syncing run <strong><a href='https://wandb.ai/da6401-assignments/assignment1/runs/jmtt2x7n' target=\"_blank\">laced-sweep-37</a></strong> to <a href='https://wandb.ai/da6401-assignments/assignment1' target=\"_blank\">Weights & Biases</a> (<a href='https://wandb.me/developer-guide' target=\"_blank\">docs</a>)<br>Sweep page: <a href='https://wandb.ai/da6401-assignments/assignment1/sweeps/enexfa0c' target=\"_blank\">https://wandb.ai/da6401-assignments/assignment1/sweeps/enexfa0c</a>"
      ],
      "text/plain": [
       "<IPython.core.display.HTML object>"
      ]
     },
     "metadata": {},
     "output_type": "display_data"
    },
    {
     "data": {
      "text/html": [
       " View project at <a href='https://wandb.ai/da6401-assignments/assignment1' target=\"_blank\">https://wandb.ai/da6401-assignments/assignment1</a>"
      ],
      "text/plain": [
       "<IPython.core.display.HTML object>"
      ]
     },
     "metadata": {},
     "output_type": "display_data"
    },
    {
     "data": {
      "text/html": [
       " View sweep at <a href='https://wandb.ai/da6401-assignments/assignment1/sweeps/enexfa0c' target=\"_blank\">https://wandb.ai/da6401-assignments/assignment1/sweeps/enexfa0c</a>"
      ],
      "text/plain": [
       "<IPython.core.display.HTML object>"
      ]
     },
     "metadata": {},
     "output_type": "display_data"
    },
    {
     "data": {
      "text/html": [
       " View run at <a href='https://wandb.ai/da6401-assignments/assignment1/runs/jmtt2x7n' target=\"_blank\">https://wandb.ai/da6401-assignments/assignment1/runs/jmtt2x7n</a>"
      ],
      "text/plain": [
       "<IPython.core.display.HTML object>"
      ]
     },
     "metadata": {},
     "output_type": "display_data"
    },
    {
     "name": "stdout",
     "output_type": "stream",
     "text": [
      "Sweep Name:  LR: 0.0001, AC: tanh, BS: 32, Optim: nadam, WI: xavier, WD: 0.0005, No_HL: 3, HS: 128\n",
      "Epoch 0: Training Loss = 0.8784 Validation Loss = 0.8952\n",
      "Training Accuracy = 0.6933 Validation Accuracy = 0.6910\n",
      "Epoch 1: Training Loss = 0.7411 Validation Loss = 0.7572\n",
      "Training Accuracy = 0.7360 Validation Accuracy = 0.7397\n",
      "Epoch 2: Training Loss = 0.6674 Validation Loss = 0.6887\n",
      "Training Accuracy = 0.7621 Validation Accuracy = 0.7573\n",
      "Epoch 3: Training Loss = 0.6174 Validation Loss = 0.6440\n",
      "Training Accuracy = 0.7789 Validation Accuracy = 0.7750\n",
      "Epoch 4: Training Loss = 0.5809 Validation Loss = 0.6118\n",
      "Training Accuracy = 0.7921 Validation Accuracy = 0.7887\n"
     ]
    },
    {
     "data": {
      "text/html": [],
      "text/plain": [
       "<IPython.core.display.HTML object>"
      ]
     },
     "metadata": {},
     "output_type": "display_data"
    },
    {
     "data": {
      "text/html": [
       "<br>    <style><br>        .wandb-row {<br>            display: flex;<br>            flex-direction: row;<br>            flex-wrap: wrap;<br>            justify-content: flex-start;<br>            width: 100%;<br>        }<br>        .wandb-col {<br>            display: flex;<br>            flex-direction: column;<br>            flex-basis: 100%;<br>            flex: 1;<br>            padding: 10px;<br>        }<br>    </style><br><div class=\"wandb-row\"><div class=\"wandb-col\"><h3>Run history:</h3><br/><table class=\"wandb\"><tr><td>Accuracy</td><td>▁</td></tr><tr><td>epoch</td><td>▁▃▅▆█</td></tr><tr><td>train_acc</td><td>▁▄▆▇█</td></tr><tr><td>train_loss</td><td>█▅▃▂▁</td></tr><tr><td>val_acc</td><td>▁▄▆▇█</td></tr><tr><td>val_loss</td><td>█▅▃▂▁</td></tr></table><br/></div><div class=\"wandb-col\"><h3>Run summary:</h3><br/><table class=\"wandb\"><tr><td>Accuracy</td><td>0.78867</td></tr><tr><td>epoch</td><td>4</td></tr><tr><td>train_acc</td><td>0.79206</td></tr><tr><td>train_loss</td><td>0.58091</td></tr><tr><td>val_acc</td><td>0.78867</td></tr><tr><td>val_loss</td><td>0.61181</td></tr></table><br/></div></div>"
      ],
      "text/plain": [
       "<IPython.core.display.HTML object>"
      ]
     },
     "metadata": {},
     "output_type": "display_data"
    },
    {
     "data": {
      "text/html": [
       " View run <strong style=\"color:#cdcd00\">LR: 0.0001, AC: tanh, BS: 32, Optim: nadam, WI: xavier, WD: 0.0005, No_HL: 3, HS: 128</strong> at: <a href='https://wandb.ai/da6401-assignments/assignment1/runs/jmtt2x7n' target=\"_blank\">https://wandb.ai/da6401-assignments/assignment1/runs/jmtt2x7n</a><br> View project at: <a href='https://wandb.ai/da6401-assignments/assignment1' target=\"_blank\">https://wandb.ai/da6401-assignments/assignment1</a><br>Synced 5 W&B file(s), 0 media file(s), 0 artifact file(s) and 0 other file(s)"
      ],
      "text/plain": [
       "<IPython.core.display.HTML object>"
      ]
     },
     "metadata": {},
     "output_type": "display_data"
    },
    {
     "data": {
      "text/html": [
       "Find logs at: <code>.\\wandb\\run-20250310_025828-jmtt2x7n\\logs</code>"
      ],
      "text/plain": [
       "<IPython.core.display.HTML object>"
      ]
     },
     "metadata": {},
     "output_type": "display_data"
    },
    {
     "name": "stderr",
     "output_type": "stream",
     "text": [
      "\u001b[34m\u001b[1mwandb\u001b[0m: Agent Starting Run: s9vauzna with config:\n",
      "\u001b[34m\u001b[1mwandb\u001b[0m: \tactivationFunc: tanh\n",
      "\u001b[34m\u001b[1mwandb\u001b[0m: \tbatchSize: 16\n",
      "\u001b[34m\u001b[1mwandb\u001b[0m: \thiddenLayer_Size: 32\n",
      "\u001b[34m\u001b[1mwandb\u001b[0m: \tlearningRate: 0.0001\n",
      "\u001b[34m\u001b[1mwandb\u001b[0m: \tnum_epochs: 10\n",
      "\u001b[34m\u001b[1mwandb\u001b[0m: \tnum_hiddenLayers: 3\n",
      "\u001b[34m\u001b[1mwandb\u001b[0m: \toptimizer: sgd\n",
      "\u001b[34m\u001b[1mwandb\u001b[0m: \tweightDecay: 0.0005\n",
      "\u001b[34m\u001b[1mwandb\u001b[0m: \tweightInit: random\n"
     ]
    },
    {
     "data": {
      "text/html": [
       "Ignoring project 'assignment1' when running a sweep."
      ],
      "text/plain": [
       "<IPython.core.display.HTML object>"
      ]
     },
     "metadata": {},
     "output_type": "display_data"
    },
    {
     "data": {
      "text/html": [
       "Ignoring entity 'da6401-assignments' when running a sweep."
      ],
      "text/plain": [
       "<IPython.core.display.HTML object>"
      ]
     },
     "metadata": {},
     "output_type": "display_data"
    },
    {
     "data": {
      "text/html": [
       "creating run (0.2s)"
      ],
      "text/plain": [
       "<IPython.core.display.HTML object>"
      ]
     },
     "metadata": {},
     "output_type": "display_data"
    },
    {
     "data": {
      "text/html": [
       "Tracking run with wandb version 0.19.8"
      ],
      "text/plain": [
       "<IPython.core.display.HTML object>"
      ]
     },
     "metadata": {},
     "output_type": "display_data"
    },
    {
     "data": {
      "text/html": [
       "Run data is saved locally in <code>c:\\Users\\prajv\\Downloads\\ass1\\DA6401_ASSIGNMENT1\\wandb\\run-20250310_025916-s9vauzna</code>"
      ],
      "text/plain": [
       "<IPython.core.display.HTML object>"
      ]
     },
     "metadata": {},
     "output_type": "display_data"
    },
    {
     "data": {
      "text/html": [
       "Syncing run <strong><a href='https://wandb.ai/da6401-assignments/assignment1/runs/s9vauzna' target=\"_blank\">restful-sweep-38</a></strong> to <a href='https://wandb.ai/da6401-assignments/assignment1' target=\"_blank\">Weights & Biases</a> (<a href='https://wandb.me/developer-guide' target=\"_blank\">docs</a>)<br>Sweep page: <a href='https://wandb.ai/da6401-assignments/assignment1/sweeps/enexfa0c' target=\"_blank\">https://wandb.ai/da6401-assignments/assignment1/sweeps/enexfa0c</a>"
      ],
      "text/plain": [
       "<IPython.core.display.HTML object>"
      ]
     },
     "metadata": {},
     "output_type": "display_data"
    },
    {
     "data": {
      "text/html": [
       " View project at <a href='https://wandb.ai/da6401-assignments/assignment1' target=\"_blank\">https://wandb.ai/da6401-assignments/assignment1</a>"
      ],
      "text/plain": [
       "<IPython.core.display.HTML object>"
      ]
     },
     "metadata": {},
     "output_type": "display_data"
    },
    {
     "data": {
      "text/html": [
       " View sweep at <a href='https://wandb.ai/da6401-assignments/assignment1/sweeps/enexfa0c' target=\"_blank\">https://wandb.ai/da6401-assignments/assignment1/sweeps/enexfa0c</a>"
      ],
      "text/plain": [
       "<IPython.core.display.HTML object>"
      ]
     },
     "metadata": {},
     "output_type": "display_data"
    },
    {
     "data": {
      "text/html": [
       " View run at <a href='https://wandb.ai/da6401-assignments/assignment1/runs/s9vauzna' target=\"_blank\">https://wandb.ai/da6401-assignments/assignment1/runs/s9vauzna</a>"
      ],
      "text/plain": [
       "<IPython.core.display.HTML object>"
      ]
     },
     "metadata": {},
     "output_type": "display_data"
    },
    {
     "name": "stdout",
     "output_type": "stream",
     "text": [
      "Sweep Name:  LR: 0.0001, AC: tanh, BS: 16, Optim: sgd, WI: random, WD: 0.0005, No_HL: 3, HS: 32\n",
      "Epoch 0: Training Loss = 3.9340 Validation Loss = 3.9380\n",
      "Training Accuracy = 0.0967 Validation Accuracy = 0.1005\n",
      "Epoch 1: Training Loss = 3.0660 Validation Loss = 3.0729\n",
      "Training Accuracy = 0.1074 Validation Accuracy = 0.1080\n",
      "Epoch 2: Training Loss = 2.6629 Validation Loss = 2.6694\n",
      "Training Accuracy = 0.1163 Validation Accuracy = 0.1177\n",
      "Epoch 3: Training Loss = 2.4554 Validation Loss = 2.4605\n",
      "Training Accuracy = 0.1305 Validation Accuracy = 0.1340\n",
      "Epoch 4: Training Loss = 2.3304 Validation Loss = 2.3344\n",
      "Training Accuracy = 0.1488 Validation Accuracy = 0.1488\n",
      "Epoch 5: Training Loss = 2.2480 Validation Loss = 2.2510\n",
      "Training Accuracy = 0.1742 Validation Accuracy = 0.1770\n",
      "Epoch 6: Training Loss = 2.1907 Validation Loss = 2.1927\n",
      "Training Accuracy = 0.1992 Validation Accuracy = 0.2035\n",
      "Epoch 7: Training Loss = 2.1481 Validation Loss = 2.1492\n",
      "Training Accuracy = 0.2191 Validation Accuracy = 0.2240\n",
      "Epoch 8: Training Loss = 2.1142 Validation Loss = 2.1146\n",
      "Training Accuracy = 0.2332 Validation Accuracy = 0.2370\n",
      "Epoch 9: Training Loss = 2.0856 Validation Loss = 2.0854\n",
      "Training Accuracy = 0.2444 Validation Accuracy = 0.2447\n"
     ]
    },
    {
     "data": {
      "text/html": [],
      "text/plain": [
       "<IPython.core.display.HTML object>"
      ]
     },
     "metadata": {},
     "output_type": "display_data"
    },
    {
     "data": {
      "text/html": [
       "<br>    <style><br>        .wandb-row {<br>            display: flex;<br>            flex-direction: row;<br>            flex-wrap: wrap;<br>            justify-content: flex-start;<br>            width: 100%;<br>        }<br>        .wandb-col {<br>            display: flex;<br>            flex-direction: column;<br>            flex-basis: 100%;<br>            flex: 1;<br>            padding: 10px;<br>        }<br>    </style><br><div class=\"wandb-row\"><div class=\"wandb-col\"><h3>Run history:</h3><br/><table class=\"wandb\"><tr><td>Accuracy</td><td>▁</td></tr><tr><td>epoch</td><td>▁▂▃▃▄▅▆▆▇█</td></tr><tr><td>train_acc</td><td>▁▂▂▃▃▅▆▇▇█</td></tr><tr><td>train_loss</td><td>█▅▃▂▂▂▁▁▁▁</td></tr><tr><td>val_acc</td><td>▁▁▂▃▃▅▆▇██</td></tr><tr><td>val_loss</td><td>█▅▃▂▂▂▁▁▁▁</td></tr></table><br/></div><div class=\"wandb-col\"><h3>Run summary:</h3><br/><table class=\"wandb\"><tr><td>Accuracy</td><td>0.24467</td></tr><tr><td>epoch</td><td>9</td></tr><tr><td>train_acc</td><td>0.24441</td></tr><tr><td>train_loss</td><td>2.08556</td></tr><tr><td>val_acc</td><td>0.24467</td></tr><tr><td>val_loss</td><td>2.08537</td></tr></table><br/></div></div>"
      ],
      "text/plain": [
       "<IPython.core.display.HTML object>"
      ]
     },
     "metadata": {},
     "output_type": "display_data"
    },
    {
     "data": {
      "text/html": [
       " View run <strong style=\"color:#cdcd00\">LR: 0.0001, AC: tanh, BS: 16, Optim: sgd, WI: random, WD: 0.0005, No_HL: 3, HS: 32</strong> at: <a href='https://wandb.ai/da6401-assignments/assignment1/runs/s9vauzna' target=\"_blank\">https://wandb.ai/da6401-assignments/assignment1/runs/s9vauzna</a><br> View project at: <a href='https://wandb.ai/da6401-assignments/assignment1' target=\"_blank\">https://wandb.ai/da6401-assignments/assignment1</a><br>Synced 5 W&B file(s), 0 media file(s), 0 artifact file(s) and 0 other file(s)"
      ],
      "text/plain": [
       "<IPython.core.display.HTML object>"
      ]
     },
     "metadata": {},
     "output_type": "display_data"
    },
    {
     "data": {
      "text/html": [
       "Find logs at: <code>.\\wandb\\run-20250310_025916-s9vauzna\\logs</code>"
      ],
      "text/plain": [
       "<IPython.core.display.HTML object>"
      ]
     },
     "metadata": {},
     "output_type": "display_data"
    },
    {
     "name": "stderr",
     "output_type": "stream",
     "text": [
      "\u001b[34m\u001b[1mwandb\u001b[0m: Agent Starting Run: p8xjpdpb with config:\n",
      "\u001b[34m\u001b[1mwandb\u001b[0m: \tactivationFunc: tanh\n",
      "\u001b[34m\u001b[1mwandb\u001b[0m: \tbatchSize: 64\n",
      "\u001b[34m\u001b[1mwandb\u001b[0m: \thiddenLayer_Size: 128\n",
      "\u001b[34m\u001b[1mwandb\u001b[0m: \tlearningRate: 0.001\n",
      "\u001b[34m\u001b[1mwandb\u001b[0m: \tnum_epochs: 5\n",
      "\u001b[34m\u001b[1mwandb\u001b[0m: \tnum_hiddenLayers: 3\n",
      "\u001b[34m\u001b[1mwandb\u001b[0m: \toptimizer: sgd\n",
      "\u001b[34m\u001b[1mwandb\u001b[0m: \tweightDecay: 0.5\n",
      "\u001b[34m\u001b[1mwandb\u001b[0m: \tweightInit: random\n"
     ]
    },
    {
     "data": {
      "text/html": [
       "Ignoring project 'assignment1' when running a sweep."
      ],
      "text/plain": [
       "<IPython.core.display.HTML object>"
      ]
     },
     "metadata": {},
     "output_type": "display_data"
    },
    {
     "data": {
      "text/html": [
       "Ignoring entity 'da6401-assignments' when running a sweep."
      ],
      "text/plain": [
       "<IPython.core.display.HTML object>"
      ]
     },
     "metadata": {},
     "output_type": "display_data"
    },
    {
     "data": {
      "text/html": [
       "creating run (0.2s)"
      ],
      "text/plain": [
       "<IPython.core.display.HTML object>"
      ]
     },
     "metadata": {},
     "output_type": "display_data"
    },
    {
     "data": {
      "text/html": [
       "Tracking run with wandb version 0.19.8"
      ],
      "text/plain": [
       "<IPython.core.display.HTML object>"
      ]
     },
     "metadata": {},
     "output_type": "display_data"
    },
    {
     "data": {
      "text/html": [
       "Run data is saved locally in <code>c:\\Users\\prajv\\Downloads\\ass1\\DA6401_ASSIGNMENT1\\wandb\\run-20250310_025937-p8xjpdpb</code>"
      ],
      "text/plain": [
       "<IPython.core.display.HTML object>"
      ]
     },
     "metadata": {},
     "output_type": "display_data"
    },
    {
     "data": {
      "text/html": [
       "Syncing run <strong><a href='https://wandb.ai/da6401-assignments/assignment1/runs/p8xjpdpb' target=\"_blank\">volcanic-sweep-39</a></strong> to <a href='https://wandb.ai/da6401-assignments/assignment1' target=\"_blank\">Weights & Biases</a> (<a href='https://wandb.me/developer-guide' target=\"_blank\">docs</a>)<br>Sweep page: <a href='https://wandb.ai/da6401-assignments/assignment1/sweeps/enexfa0c' target=\"_blank\">https://wandb.ai/da6401-assignments/assignment1/sweeps/enexfa0c</a>"
      ],
      "text/plain": [
       "<IPython.core.display.HTML object>"
      ]
     },
     "metadata": {},
     "output_type": "display_data"
    },
    {
     "data": {
      "text/html": [
       " View project at <a href='https://wandb.ai/da6401-assignments/assignment1' target=\"_blank\">https://wandb.ai/da6401-assignments/assignment1</a>"
      ],
      "text/plain": [
       "<IPython.core.display.HTML object>"
      ]
     },
     "metadata": {},
     "output_type": "display_data"
    },
    {
     "data": {
      "text/html": [
       " View sweep at <a href='https://wandb.ai/da6401-assignments/assignment1/sweeps/enexfa0c' target=\"_blank\">https://wandb.ai/da6401-assignments/assignment1/sweeps/enexfa0c</a>"
      ],
      "text/plain": [
       "<IPython.core.display.HTML object>"
      ]
     },
     "metadata": {},
     "output_type": "display_data"
    },
    {
     "data": {
      "text/html": [
       " View run at <a href='https://wandb.ai/da6401-assignments/assignment1/runs/p8xjpdpb' target=\"_blank\">https://wandb.ai/da6401-assignments/assignment1/runs/p8xjpdpb</a>"
      ],
      "text/plain": [
       "<IPython.core.display.HTML object>"
      ]
     },
     "metadata": {},
     "output_type": "display_data"
    },
    {
     "name": "stdout",
     "output_type": "stream",
     "text": [
      "Sweep Name:  LR: 0.001, AC: tanh, BS: 64, Optim: sgd, WI: random, WD: 0.5, No_HL: 3, HS: 128\n",
      "Epoch 0: Training Loss = 3.4599 Validation Loss = 3.4694\n",
      "Training Accuracy = 0.2026 Validation Accuracy = 0.2028\n",
      "Epoch 1: Training Loss = 2.6091 Validation Loss = 2.6104\n",
      "Training Accuracy = 0.2759 Validation Accuracy = 0.2798\n",
      "Epoch 2: Training Loss = 2.2038 Validation Loss = 2.2091\n",
      "Training Accuracy = 0.3422 Validation Accuracy = 0.3450\n",
      "Epoch 3: Training Loss = 1.9500 Validation Loss = 1.9609\n",
      "Training Accuracy = 0.3937 Validation Accuracy = 0.3962\n",
      "Epoch 4: Training Loss = 1.7762 Validation Loss = 1.7918\n",
      "Training Accuracy = 0.4324 Validation Accuracy = 0.4352\n"
     ]
    },
    {
     "data": {
      "text/html": [],
      "text/plain": [
       "<IPython.core.display.HTML object>"
      ]
     },
     "metadata": {},
     "output_type": "display_data"
    },
    {
     "data": {
      "text/html": [
       "<br>    <style><br>        .wandb-row {<br>            display: flex;<br>            flex-direction: row;<br>            flex-wrap: wrap;<br>            justify-content: flex-start;<br>            width: 100%;<br>        }<br>        .wandb-col {<br>            display: flex;<br>            flex-direction: column;<br>            flex-basis: 100%;<br>            flex: 1;<br>            padding: 10px;<br>        }<br>    </style><br><div class=\"wandb-row\"><div class=\"wandb-col\"><h3>Run history:</h3><br/><table class=\"wandb\"><tr><td>Accuracy</td><td>▁</td></tr><tr><td>epoch</td><td>▁▃▅▆█</td></tr><tr><td>train_acc</td><td>▁▃▅▇█</td></tr><tr><td>train_loss</td><td>█▄▃▂▁</td></tr><tr><td>val_acc</td><td>▁▃▅▇█</td></tr><tr><td>val_loss</td><td>█▄▃▂▁</td></tr></table><br/></div><div class=\"wandb-col\"><h3>Run summary:</h3><br/><table class=\"wandb\"><tr><td>Accuracy</td><td>0.43517</td></tr><tr><td>epoch</td><td>4</td></tr><tr><td>train_acc</td><td>0.43239</td></tr><tr><td>train_loss</td><td>1.77619</td></tr><tr><td>val_acc</td><td>0.43517</td></tr><tr><td>val_loss</td><td>1.79177</td></tr></table><br/></div></div>"
      ],
      "text/plain": [
       "<IPython.core.display.HTML object>"
      ]
     },
     "metadata": {},
     "output_type": "display_data"
    },
    {
     "data": {
      "text/html": [
       " View run <strong style=\"color:#cdcd00\">LR: 0.001, AC: tanh, BS: 64, Optim: sgd, WI: random, WD: 0.5, No_HL: 3, HS: 128</strong> at: <a href='https://wandb.ai/da6401-assignments/assignment1/runs/p8xjpdpb' target=\"_blank\">https://wandb.ai/da6401-assignments/assignment1/runs/p8xjpdpb</a><br> View project at: <a href='https://wandb.ai/da6401-assignments/assignment1' target=\"_blank\">https://wandb.ai/da6401-assignments/assignment1</a><br>Synced 5 W&B file(s), 0 media file(s), 0 artifact file(s) and 0 other file(s)"
      ],
      "text/plain": [
       "<IPython.core.display.HTML object>"
      ]
     },
     "metadata": {},
     "output_type": "display_data"
    },
    {
     "data": {
      "text/html": [
       "Find logs at: <code>.\\wandb\\run-20250310_025937-p8xjpdpb\\logs</code>"
      ],
      "text/plain": [
       "<IPython.core.display.HTML object>"
      ]
     },
     "metadata": {},
     "output_type": "display_data"
    },
    {
     "name": "stderr",
     "output_type": "stream",
     "text": [
      "\u001b[34m\u001b[1mwandb\u001b[0m: Agent Starting Run: j1rn760g with config:\n",
      "\u001b[34m\u001b[1mwandb\u001b[0m: \tactivationFunc: relu\n",
      "\u001b[34m\u001b[1mwandb\u001b[0m: \tbatchSize: 16\n",
      "\u001b[34m\u001b[1mwandb\u001b[0m: \thiddenLayer_Size: 128\n",
      "\u001b[34m\u001b[1mwandb\u001b[0m: \tlearningRate: 0.001\n",
      "\u001b[34m\u001b[1mwandb\u001b[0m: \tnum_epochs: 5\n",
      "\u001b[34m\u001b[1mwandb\u001b[0m: \tnum_hiddenLayers: 5\n",
      "\u001b[34m\u001b[1mwandb\u001b[0m: \toptimizer: sgd\n",
      "\u001b[34m\u001b[1mwandb\u001b[0m: \tweightDecay: 0\n",
      "\u001b[34m\u001b[1mwandb\u001b[0m: \tweightInit: random\n"
     ]
    },
    {
     "data": {
      "text/html": [
       "Ignoring project 'assignment1' when running a sweep."
      ],
      "text/plain": [
       "<IPython.core.display.HTML object>"
      ]
     },
     "metadata": {},
     "output_type": "display_data"
    },
    {
     "data": {
      "text/html": [
       "Ignoring entity 'da6401-assignments' when running a sweep."
      ],
      "text/plain": [
       "<IPython.core.display.HTML object>"
      ]
     },
     "metadata": {},
     "output_type": "display_data"
    },
    {
     "data": {
      "text/html": [
       "creating run (0.2s)"
      ],
      "text/plain": [
       "<IPython.core.display.HTML object>"
      ]
     },
     "metadata": {},
     "output_type": "display_data"
    },
    {
     "data": {
      "text/html": [
       "Tracking run with wandb version 0.19.8"
      ],
      "text/plain": [
       "<IPython.core.display.HTML object>"
      ]
     },
     "metadata": {},
     "output_type": "display_data"
    },
    {
     "data": {
      "text/html": [
       "Run data is saved locally in <code>c:\\Users\\prajv\\Downloads\\ass1\\DA6401_ASSIGNMENT1\\wandb\\run-20250310_025958-j1rn760g</code>"
      ],
      "text/plain": [
       "<IPython.core.display.HTML object>"
      ]
     },
     "metadata": {},
     "output_type": "display_data"
    },
    {
     "data": {
      "text/html": [
       "Syncing run <strong><a href='https://wandb.ai/da6401-assignments/assignment1/runs/j1rn760g' target=\"_blank\">fresh-sweep-40</a></strong> to <a href='https://wandb.ai/da6401-assignments/assignment1' target=\"_blank\">Weights & Biases</a> (<a href='https://wandb.me/developer-guide' target=\"_blank\">docs</a>)<br>Sweep page: <a href='https://wandb.ai/da6401-assignments/assignment1/sweeps/enexfa0c' target=\"_blank\">https://wandb.ai/da6401-assignments/assignment1/sweeps/enexfa0c</a>"
      ],
      "text/plain": [
       "<IPython.core.display.HTML object>"
      ]
     },
     "metadata": {},
     "output_type": "display_data"
    },
    {
     "data": {
      "text/html": [
       " View project at <a href='https://wandb.ai/da6401-assignments/assignment1' target=\"_blank\">https://wandb.ai/da6401-assignments/assignment1</a>"
      ],
      "text/plain": [
       "<IPython.core.display.HTML object>"
      ]
     },
     "metadata": {},
     "output_type": "display_data"
    },
    {
     "data": {
      "text/html": [
       " View sweep at <a href='https://wandb.ai/da6401-assignments/assignment1/sweeps/enexfa0c' target=\"_blank\">https://wandb.ai/da6401-assignments/assignment1/sweeps/enexfa0c</a>"
      ],
      "text/plain": [
       "<IPython.core.display.HTML object>"
      ]
     },
     "metadata": {},
     "output_type": "display_data"
    },
    {
     "data": {
      "text/html": [
       " View run at <a href='https://wandb.ai/da6401-assignments/assignment1/runs/j1rn760g' target=\"_blank\">https://wandb.ai/da6401-assignments/assignment1/runs/j1rn760g</a>"
      ],
      "text/plain": [
       "<IPython.core.display.HTML object>"
      ]
     },
     "metadata": {},
     "output_type": "display_data"
    },
    {
     "name": "stdout",
     "output_type": "stream",
     "text": [
      "Sweep Name:  LR: 0.001, AC: relu, BS: 16, Optim: sgd, WI: random, WD: 0, No_HL: 5, HS: 128\n",
      "Epoch 0: Training Loss = 1.7023 Validation Loss = 1.6924\n",
      "Training Accuracy = 0.3874 Validation Accuracy = 0.3898\n",
      "Epoch 1: Training Loss = 1.4051 Validation Loss = 1.3890\n",
      "Training Accuracy = 0.4831 Validation Accuracy = 0.4893\n",
      "Epoch 2: Training Loss = 1.2456 Validation Loss = 1.2305\n",
      "Training Accuracy = 0.5399 Validation Accuracy = 0.5513\n",
      "Epoch 3: Training Loss = 1.1429 Validation Loss = 1.1286\n",
      "Training Accuracy = 0.5764 Validation Accuracy = 0.5878\n",
      "Epoch 4: Training Loss = 1.0690 Validation Loss = 1.0574\n",
      "Training Accuracy = 0.6044 Validation Accuracy = 0.6140\n"
     ]
    },
    {
     "data": {
      "text/html": [],
      "text/plain": [
       "<IPython.core.display.HTML object>"
      ]
     },
     "metadata": {},
     "output_type": "display_data"
    },
    {
     "data": {
      "text/html": [
       "<br>    <style><br>        .wandb-row {<br>            display: flex;<br>            flex-direction: row;<br>            flex-wrap: wrap;<br>            justify-content: flex-start;<br>            width: 100%;<br>        }<br>        .wandb-col {<br>            display: flex;<br>            flex-direction: column;<br>            flex-basis: 100%;<br>            flex: 1;<br>            padding: 10px;<br>        }<br>    </style><br><div class=\"wandb-row\"><div class=\"wandb-col\"><h3>Run history:</h3><br/><table class=\"wandb\"><tr><td>Accuracy</td><td>▁</td></tr><tr><td>epoch</td><td>▁▃▅▆█</td></tr><tr><td>train_acc</td><td>▁▄▆▇█</td></tr><tr><td>train_loss</td><td>█▅▃▂▁</td></tr><tr><td>val_acc</td><td>▁▄▆▇█</td></tr><tr><td>val_loss</td><td>█▅▃▂▁</td></tr></table><br/></div><div class=\"wandb-col\"><h3>Run summary:</h3><br/><table class=\"wandb\"><tr><td>Accuracy</td><td>0.614</td></tr><tr><td>epoch</td><td>4</td></tr><tr><td>train_acc</td><td>0.60439</td></tr><tr><td>train_loss</td><td>1.06901</td></tr><tr><td>val_acc</td><td>0.614</td></tr><tr><td>val_loss</td><td>1.05739</td></tr></table><br/></div></div>"
      ],
      "text/plain": [
       "<IPython.core.display.HTML object>"
      ]
     },
     "metadata": {},
     "output_type": "display_data"
    },
    {
     "data": {
      "text/html": [
       " View run <strong style=\"color:#cdcd00\">LR: 0.001, AC: relu, BS: 16, Optim: sgd, WI: random, WD: 0, No_HL: 5, HS: 128</strong> at: <a href='https://wandb.ai/da6401-assignments/assignment1/runs/j1rn760g' target=\"_blank\">https://wandb.ai/da6401-assignments/assignment1/runs/j1rn760g</a><br> View project at: <a href='https://wandb.ai/da6401-assignments/assignment1' target=\"_blank\">https://wandb.ai/da6401-assignments/assignment1</a><br>Synced 5 W&B file(s), 0 media file(s), 0 artifact file(s) and 0 other file(s)"
      ],
      "text/plain": [
       "<IPython.core.display.HTML object>"
      ]
     },
     "metadata": {},
     "output_type": "display_data"
    },
    {
     "data": {
      "text/html": [
       "Find logs at: <code>.\\wandb\\run-20250310_025958-j1rn760g\\logs</code>"
      ],
      "text/plain": [
       "<IPython.core.display.HTML object>"
      ]
     },
     "metadata": {},
     "output_type": "display_data"
    }
   ],
   "source": [
    "sweep_ID = wandb.sweep(sweep_config, entity=\"da6401-assignments\", project=\"assignment1\")\n",
    "wandb.agent(sweep_ID, sweep_hyperParameters, count=40)\n",
    "\n",
    "wandb.finish()"
   ]
  },
  {
   "cell_type": "code",
   "execution_count": null,
   "metadata": {},
   "outputs": [],
   "source": []
  }
 ],
 "metadata": {
  "kernelspec": {
   "display_name": "Python 3",
   "language": "python",
   "name": "python3"
  },
  "language_info": {
   "codemirror_mode": {
    "name": "ipython",
    "version": 3
   },
   "file_extension": ".py",
   "mimetype": "text/x-python",
   "name": "python",
   "nbconvert_exporter": "python",
   "pygments_lexer": "ipython3",
   "version": "3.10.12"
  }
 },
 "nbformat": 4,
 "nbformat_minor": 2
}
