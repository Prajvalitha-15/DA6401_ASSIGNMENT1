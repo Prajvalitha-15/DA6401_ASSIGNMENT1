{
 "cells": [
  {
   "cell_type": "code",
   "execution_count": 11,
   "metadata": {},
   "outputs": [],
   "source": [
    "from keras.datasets import fashion_mnist\n",
    "import numpy as np\n",
    "import matplotlib.pyplot as plt\n",
    "import wandb"
   ]
  },
  {
   "cell_type": "code",
   "execution_count": 12,
   "metadata": {},
   "outputs": [
    {
     "data": {
      "text/html": [
       "creating run (0.0s)"
      ],
      "text/plain": [
       "<IPython.core.display.HTML object>"
      ]
     },
     "metadata": {},
     "output_type": "display_data"
    },
    {
     "data": {
      "text/html": [
       "Tracking run with wandb version 0.19.8"
      ],
      "text/plain": [
       "<IPython.core.display.HTML object>"
      ]
     },
     "metadata": {},
     "output_type": "display_data"
    },
    {
     "data": {
      "text/html": [
       "Run data is saved locally in <code>c:\\Users\\prajv\\Downloads\\ass1\\DA6401_ASSIGNMENT1\\wandb\\run-20250309_190109-55i3mdjp</code>"
      ],
      "text/plain": [
       "<IPython.core.display.HTML object>"
      ]
     },
     "metadata": {},
     "output_type": "display_data"
    },
    {
     "data": {
      "text/html": [
       "Syncing run <strong><a href='https://wandb.ai/da6401-assignments/assignment1/runs/55i3mdjp' target=\"_blank\">absurd-aardvark-6</a></strong> to <a href='https://wandb.ai/da6401-assignments/assignment1' target=\"_blank\">Weights & Biases</a> (<a href='https://wandb.me/developer-guide' target=\"_blank\">docs</a>)<br>"
      ],
      "text/plain": [
       "<IPython.core.display.HTML object>"
      ]
     },
     "metadata": {},
     "output_type": "display_data"
    },
    {
     "data": {
      "text/html": [
       " View project at <a href='https://wandb.ai/da6401-assignments/assignment1' target=\"_blank\">https://wandb.ai/da6401-assignments/assignment1</a>"
      ],
      "text/plain": [
       "<IPython.core.display.HTML object>"
      ]
     },
     "metadata": {},
     "output_type": "display_data"
    },
    {
     "data": {
      "text/html": [
       " View run at <a href='https://wandb.ai/da6401-assignments/assignment1/runs/55i3mdjp' target=\"_blank\">https://wandb.ai/da6401-assignments/assignment1/runs/55i3mdjp</a>"
      ],
      "text/plain": [
       "<IPython.core.display.HTML object>"
      ]
     },
     "metadata": {},
     "output_type": "display_data"
    },
    {
     "data": {
      "text/html": [
       "<button onClick=\"this.nextSibling.style.display='block';this.style.display='none';\">Display W&B run</button><iframe src='https://wandb.ai/da6401-assignments/assignment1/runs/55i3mdjp?jupyter=true' style='border:none;width:100%;height:420px;display:none;'></iframe>"
      ],
      "text/plain": [
       "<wandb.sdk.wandb_run.Run at 0x1ca7af9f170>"
      ]
     },
     "execution_count": 12,
     "metadata": {},
     "output_type": "execute_result"
    }
   ],
   "source": [
    "# Initialize WandB\n",
    "wandb.init(project=\"assignment1\", entity=\"da6401-assignments\")"
   ]
  },
  {
   "cell_type": "code",
   "execution_count": null,
   "metadata": {},
   "outputs": [],
   "source": [
    "# Define hyperparameters\n",
    "config = wandb.config\n",
    "config.hidden_layers = [256,128, 64]  # Two hidden layers with 128 and 64 neurons\n",
    "config.input_size = 784  # 28x28 images\n",
    "config.output_size = 10  # 10 classes for Fashion-MNIST"
   ]
  },
  {
   "cell_type": "code",
   "execution_count": 14,
   "metadata": {},
   "outputs": [],
   "source": [
    "# Load the Fashion-MNIST dataset\n",
    "(x_train, y_train), (x_test, y_test) = fashion_mnist.load_data()\n",
    "\n",
    "# Normalize the data\n",
    "x_train = x_train.reshape(-1, config.input_size) / 255.0\n",
    "x_test = x_test.reshape(-1, config.input_size) / 255.0"
   ]
  },
  {
   "cell_type": "code",
   "execution_count": 15,
   "metadata": {},
   "outputs": [],
   "source": [
    "class FeedforwardNeuralNetwork:\n",
    "    def __init__(self, input_size, hidden_layers, output_size):\n",
    "        \"\"\"\n",
    "        Initialize the neural network.\n",
    "        :param input_size: Number of input features (e.g., 784 for 28x28 images).\n",
    "        :param hidden_layers: List containing the number of neurons in each hidden layer.\n",
    "        :param output_size: Number of output classes (e.g., 10 for Fashion-MNIST).\n",
    "        \"\"\"\n",
    "        self.layers = []\n",
    "        self.weights = []\n",
    "        self.biases = []\n",
    "\n",
    "        # Input layer to first hidden layer\n",
    "        prev_size = input_size\n",
    "        for layer_size in hidden_layers:\n",
    "            self.weights.append(np.random.randn(prev_size, layer_size) * 0.01)\n",
    "            self.biases.append(np.zeros((1, layer_size)))\n",
    "            prev_size = layer_size\n",
    "\n",
    "        # Hidden layers to output layer\n",
    "        self.weights.append(np.random.randn(prev_size, output_size) * 0.01)\n",
    "        self.biases.append(np.zeros((1, output_size)))\n",
    "\n",
    "    def sigmoid(self, x):\n",
    "        \"\"\"Sigmoid activation function.\"\"\"\n",
    "        return 1 / (1 + np.exp(-x))\n",
    "\n",
    "    def softmax(self, x):\n",
    "        \"\"\"Softmax activation function.\"\"\"\n",
    "        exp_x = np.exp(x - np.max(x, axis=1, keepdims=True))\n",
    "        return exp_x / np.sum(exp_x, axis=1, keepdims=True)\n",
    "\n",
    "    def forward(self, x):\n",
    "        \"\"\"\n",
    "        Perform a forward pass through the network.\n",
    "        :param x: Input data.\n",
    "        :return: Output probabilities.\n",
    "        \"\"\"\n",
    "        self.layers = [x]\n",
    "        for w, b in zip(self.weights[:-1], self.biases[:-1]):\n",
    "            x = self.sigmoid(np.dot(x, w) + b)\n",
    "            self.layers.append(x)\n",
    "\n",
    "        # Output layer with softmax\n",
    "        output = self.softmax(np.dot(x, self.weights[-1]) + self.biases[-1])\n",
    "        self.layers.append(output)\n",
    "        return output"
   ]
  },
  {
   "cell_type": "code",
   "execution_count": 17,
   "metadata": {},
   "outputs": [
    {
     "name": "stdout",
     "output_type": "stream",
     "text": [
      "[0.10005263 0.10220131 0.10245415 0.10139055 0.10543052 0.10293845\n",
      " 0.09735915 0.10225377 0.09164533 0.09427413]\n"
     ]
    }
   ],
   "source": [
    "network = FeedforwardNeuralNetwork(config.input_size, config.hidden_layers, config.output_size)\n",
    "pred_probs = network.forward(x_train)\n",
    "print(pred_probs[0])\n",
    "wandb.finish()"
   ]
  }
 ],
 "metadata": {
  "kernelspec": {
   "display_name": "Python 3",
   "language": "python",
   "name": "python3"
  },
  "language_info": {
   "codemirror_mode": {
    "name": "ipython",
    "version": 3
   },
   "file_extension": ".py",
   "mimetype": "text/x-python",
   "name": "python",
   "nbconvert_exporter": "python",
   "pygments_lexer": "ipython3",
   "version": "3.12.9"
  }
 },
 "nbformat": 4,
 "nbformat_minor": 2
}
