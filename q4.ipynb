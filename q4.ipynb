{
 "cells": [
  {
   "cell_type": "code",
   "execution_count": 1,
   "metadata": {},
   "outputs": [],
   "source": [
    "from keras.datasets import fashion_mnist\n",
    "import numpy as np\n",
    "from tensorflow.keras.utils import to_categorical\n",
    "import wandb\n",
    "from sklearn.metrics import accuracy_score"
   ]
  },
  {
   "cell_type": "code",
   "execution_count": 2,
   "metadata": {},
   "outputs": [
    {
     "data": {
      "text/plain": [
       "((784, 54000), (10, 54000))"
      ]
     },
     "execution_count": 2,
     "metadata": {},
     "output_type": "execute_result"
    }
   ],
   "source": [
    "# Loading the data\n",
    "(x_train, y_train), (x_test, y_test) = fashion_mnist.load_data()\n",
    "\n",
    "# Normalize the data\n",
    "x_train = x_train.reshape(-1, 784) / 255.0\n",
    "x_test = x_test.reshape(-1, 784) / 255.0\n",
    "\n",
    "# One-hot encode labels\n",
    "y_train, y_test = to_categorical(y_train), to_categorical(y_test)\n",
    "\n",
    "# Split validation data\n",
    "val_split = int(0.1 * x_train.shape[0])\n",
    "\n",
    "# Create validation data\n",
    "x_val, y_val = x_train[:val_split], y_train[:val_split]\n",
    "x_train, y_train = x_train[val_split:], y_train[val_split:]\n",
    "\n",
    "x_train = x_train.T\n",
    "y_train = y_train.T\n",
    "x_val = x_val.T\n",
    "y_val = y_val.T\n",
    "x_test = x_test.T\n",
    "y_test = y_test.T\n",
    "\n",
    "x_train.shape, y_train.shape"
   ]
  },
  {
   "cell_type": "code",
   "execution_count": 3,
   "metadata": {},
   "outputs": [],
   "source": [
    "class FeedforwardNeuralNetwork:\n",
    "    def __init__(self, input_size, hidden_layers, output_size):\n",
    "        \"\"\"\n",
    "        Initialize the neural network.\n",
    "        :param input_size: Number of input features.\n",
    "        :param hidden_layers: List containing the number of neurons in each hidden layer.\n",
    "        :param output_size: Number of output classes.\n",
    "        \"\"\"\n",
    "        self.layers = []\n",
    "        self.weights = []\n",
    "        self.biases = []\n",
    "        self.velocities_w = []  # For momentum-based optimizers\n",
    "        self.velocities_b = []\n",
    "        self.squared_w = []  # For RMSprop/Adam\n",
    "        self.squared_b = []\n",
    "        self.moments_w = []  # For Nadam\n",
    "        self.moments_b = []\n",
    "\n",
    "        # Input layer to first hidden layer\n",
    "        prev_size = input_size\n",
    "        for layer_size in hidden_layers:\n",
    "            self.weights.append(np.random.randn(layer_size, prev_size))\n",
    "            self.biases.append(np.zeros((layer_size, 1)))\n",
    "            self.velocities_w.append(np.zeros((layer_size, prev_size)))\n",
    "            self.velocities_b.append(np.zeros((layer_size, 1)))\n",
    "            self.squared_w.append(np.zeros((layer_size, prev_size)))\n",
    "            self.squared_b.append(np.zeros((layer_size, 1)))\n",
    "            self.moments_w.append(np.zeros((layer_size, prev_size)))\n",
    "            self.moments_b.append(np.zeros((layer_size, 1)))\n",
    "            prev_size = layer_size\n",
    "\n",
    "        # Hidden layers to output layer\n",
    "        self.weights.append(np.random.randn(output_size, prev_size))\n",
    "        self.biases.append(np.zeros((output_size, 1)))\n",
    "        self.velocities_w.append(np.zeros((output_size, prev_size)))\n",
    "        self.velocities_b.append(np.zeros((output_size, 1)))\n",
    "        self.squared_w.append(np.zeros((output_size, prev_size)))\n",
    "        self.squared_b.append(np.zeros((output_size, 1)))\n",
    "        self.moments_w.append(np.zeros((output_size, prev_size)))\n",
    "        self.moments_b.append(np.zeros((output_size, 1)))\n",
    "    \n",
    "    def train(self, x_train, y_train, x_val, y_val, epochs, learning_rate, optimizer='sgd', batch_size=32):\n",
    "        for epoch in range(epochs):\n",
    "            indices = np.arange(x_train.shape[1])\n",
    "            np.random.shuffle(indices)\n",
    "            x_train, y_train = x_train[:,indices], y_train[:,indices]\n",
    "            \n",
    "            for i in range(0, x_train.shape[1], batch_size):\n",
    "                x_batch = x_train[:,i:i+batch_size]\n",
    "                y_batch = y_train[:,i:i+batch_size]\n",
    "                self.forward(x_batch)\n",
    "                self.backpropagation(x_batch, y_batch, learning_rate, optimizer)\n",
    "        \n",
    "            train_pred, val_pred = self.forward(x_train), self.forward(x_val)\n",
    "            train_loss, val_loss = self.cross_entropy(train_pred, y_train), self.cross_entropy(val_pred, y_val)\n",
    "            train_cls, val_cls = np.argmax(train_pred, axis = 0), np.argmax(val_pred, axis = 0)\n",
    "            train_acc, val_acc = accuracy_score(np.argmax(y_train, axis=0), train_cls), accuracy_score(np.argmax(y_val, axis=0), val_cls)\n",
    "\n",
    "            print(f\"Epoch {epoch}: Training Loss = {train_loss:.4f} Validation Loss = {val_loss:.4f}\")\n",
    "            print(f\"Training Accuracy = {train_acc:.4f} Validation Accuracy = {val_acc:.4f}\")\n",
    "\n",
    "            wandb.log({\n",
    "                \"epoch\" : epoch, \n",
    "                \"train_loss\" : train_loss, \n",
    "                \"val_loss\" : val_loss, \n",
    "                \"train_acc\" : train_acc, \n",
    "                \"val_acc\" : val_acc\n",
    "            })\n",
    "        \n",
    "        wandb.log({\"Validation Loss\" : val_loss})\n",
    "        \n",
    "    \n",
    "    @staticmethod\n",
    "    def cross_entropy(y_pred, y_true) :\n",
    "        eps = 1e-8 \n",
    "        y_pred = np.clip(y_pred, eps, 1 - eps)\n",
    "        return -np.sum(y_true * np.log(y_pred)) / y_true.shape[1]\n",
    "\n",
    "    def sigmoid(self, x):\n",
    "        \"\"\"Sigmoid activation function.\"\"\"\n",
    "        return 1 / (1 + np.exp(-x))\n",
    "\n",
    "    def sigmoid_derivative(self, x):\n",
    "        \"\"\"Derivative of the sigmoid function.\"\"\"\n",
    "        return x * (1 - x)\n",
    "\n",
    "    def softmax(self, x):\n",
    "        \"\"\"Softmax activation function.\"\"\"\n",
    "        exp_x = np.exp(x - np.max(x, axis=0, keepdims=True))\n",
    "        return exp_x / np.sum(exp_x, axis=0, keepdims=True)\n",
    "\n",
    "    def forward(self, x):\n",
    "        \"\"\"\n",
    "        Perform a forward pass through the network.\n",
    "        :param x: Input data.\n",
    "        :return: Output probabilities.\n",
    "        \"\"\"\n",
    "        self.layers = [x]\n",
    "        for w, b in zip(self.weights[:-1], self.biases[:-1]):\n",
    "            x = self.sigmoid(np.dot(w,x) + b)\n",
    "            # x = self.sigmoid(np.dot(x, w) + b)\n",
    "            self.layers.append(x)\n",
    "\n",
    "        # Output layer with softmax\n",
    "        output = self.softmax(np.dot(self.weights[-1], x) + self.biases[-1])\n",
    "        self.layers.append(output)\n",
    "        return output\n",
    "\n",
    "    def backpropagation(self, x, y, learning_rate, optimizer='sgd', beta1=0.9, beta2=0.999, epsilon=1e-8):\n",
    "        m = y.shape[1]  # Number of samples\n",
    "        deltas = [self.layers[-1] - y]  # Output layer error\n",
    "\n",
    "        # Backpropagate errors for hidden layers\n",
    "        for i in range(len(self.weights) - 1, 0, -1):\n",
    "            deltas.append(self.weights[i].T.dot(deltas[-1]) * self.sigmoid_derivative(self.layers[i]))\n",
    "        deltas.reverse()\n",
    "\n",
    "        # Update weights and biases based on optimizer\n",
    "        for i in range(len(self.weights)):\n",
    "            dw = (self.layers[i].dot(deltas[i].T)).T / m\n",
    "            db = np.mean(deltas[i], axis=1, keepdims=True)\n",
    "\n",
    "            if optimizer == 'sgd':\n",
    "                self.weights[i] -= learning_rate * dw\n",
    "                self.biases[i] -= learning_rate * db\n",
    "            \n",
    "            elif optimizer == 'momentum':\n",
    "                self.velocities_w[i] = beta1 * self.velocities_w[i] - learning_rate * dw\n",
    "                self.velocities_b[i] = beta1 * self.velocities_b[i] - learning_rate * db\n",
    "                self.weights[i] += self.velocities_w[i]\n",
    "                self.biases[i] += self.velocities_b[i]\n",
    "            \n",
    "            elif optimizer == 'nag':\n",
    "                prev_w = self.velocities_w[i]\n",
    "                prev_b = self.velocities_b[i]\n",
    "                self.velocities_w[i] = beta1 * prev_w - learning_rate * dw\n",
    "                self.velocities_b[i] = beta1 * prev_b - learning_rate * db\n",
    "                self.weights[i] += -beta1 * prev_w + (1 + beta1) * self.velocities_w[i]\n",
    "                self.biases[i] += -beta1 * prev_b + (1 + beta1) * self.velocities_b[i]\n",
    "            \n",
    "            elif optimizer == 'rmsprop':\n",
    "                self.squared_w[i] = beta2 * self.squared_w[i] + (1 - beta2) * (dw ** 2)\n",
    "                self.squared_b[i] = beta2 * self.squared_b[i] + (1 - beta2) * (db ** 2)\n",
    "                self.weights[i] -= learning_rate * dw / (np.sqrt(self.squared_w[i]) + epsilon)\n",
    "                self.biases[i] -= learning_rate * db / (np.sqrt(self.squared_b[i]) + epsilon)\n",
    "            \n",
    "            elif optimizer == 'adam' or optimizer == 'nadam':\n",
    "                self.velocities_w[i] = beta1 * self.velocities_w[i] + (1 - beta1) * dw\n",
    "                self.velocities_b[i] = beta1 * self.velocities_b[i] + (1 - beta1) * db\n",
    "                self.squared_w[i] = beta2 * self.squared_w[i] + (1 - beta2) * (dw ** 2)\n",
    "                self.squared_b[i] = beta2 * self.squared_b[i] + (1 - beta2) * (db ** 2)\n",
    "                if optimizer == 'nadam':\n",
    "                    dw = beta1 * self.velocities_w[i] + (1 - beta1) * dw\n",
    "                    db = beta1 * self.velocities_b[i] + (1 - beta1) * db\n",
    "                self.weights[i] -= learning_rate * dw / (np.sqrt(self.squared_w[i]) + epsilon)\n",
    "                self.biases[i] -= learning_rate * db / (np.sqrt(self.squared_b[i]) + epsilon)"
   ]
  },
  {
   "cell_type": "code",
   "execution_count": 4,
   "metadata": {},
   "outputs": [],
   "source": [
    "sweep_config = {\n",
    "    \"name\": \"Feedforward Network - Hyper parameter search\",\n",
    "    \"metric\": {\n",
    "        \"name\": \"Validation Loss\",\n",
    "        \"goal\": \"minimize\"\n",
    "    },\n",
    "    \"method\": \"random\",\n",
    "    \"parameters\": {\n",
    "        \"num_epochs\": {\n",
    "            \"values\": [5, 10]\n",
    "            },\n",
    "        \"num_hiddenLayers\": {\n",
    "            \"values\": [3, 4, 5]\n",
    "            },\n",
    "        \"hiddenLayer_Size\": {\n",
    "            \"values\": [32, 64, 128]\n",
    "            },\n",
    "        \"weightDecay\": {\n",
    "            \"values\": [0, 0.0005, 0.5]\n",
    "            },\n",
    "        \"learningRate\": {\n",
    "            \"values\": [1e-3, 1e-4]\n",
    "            },\n",
    "        \"optimizer\": {\n",
    "            \"values\": [\"sgd\", \"momentum\", \"nesterov\", \"rmsprop\", \"adam\", \"nadam\"]\n",
    "            },\n",
    "        \"batchSize\": {\n",
    "            \"values\": [16, 32, 64]\n",
    "            },\n",
    "        \"weightInit\": {\n",
    "            \"values\": [\"random\", \"xavier\"]\n",
    "            },\n",
    "        \"activationFunc\": {\n",
    "            \"values\": [\"tanh\", \"relu\", \"sigmoid\"]\n",
    "            }\n",
    "    }\n",
    "    \n",
    "}"
   ]
  },
  {
   "cell_type": "code",
   "execution_count": 5,
   "metadata": {},
   "outputs": [],
   "source": [
    "def sweep_hyperParameters():\n",
    "    default_config = {\n",
    "        'num_epochs': 10,\n",
    "        'num_hiddenLayers': 3,\n",
    "        'hiddenLayer_Size': 40,\n",
    "        'weightDecay': 0,\n",
    "        'learningRate': 1e-3,\n",
    "        'optimizer': 'Nesterov_Accelerated_GD',\n",
    "        'batchSize': 32,\n",
    "        'weightInit': 'xavier',\n",
    "        'activationFunc': 'sigmoid'\n",
    "    }\n",
    "    \n",
    "    wandb.init(project=\"assignment1\", entity=\"da6401-assignments\")\n",
    "    wandb.init(config = default_config)\n",
    "\n",
    "    config = wandb.config # To get the Hyper Parameters from sweep_config\n",
    "    \n",
    "    # Parameters from wandb.config\n",
    "    num_epochs = config.num_epochs\n",
    "    num_hiddenLayers = config.num_hiddenLayers\n",
    "    hiddenLayer_size = config.hiddenLayer_Size\n",
    "    weightDecay = config.weightDecay\n",
    "    learningRate = config.learningRate\n",
    "    optimizer = config.optimizer\n",
    "    batchSize = config.batchSize\n",
    "    weightInit = config.weightInit\n",
    "    activationFunc = config.activationFunc\n",
    "    \n",
    "    # Name\n",
    "    run_name = f\"LR: {learningRate}, AC: {activationFunc}, BS: {batchSize}, Optim: {optimizer}, WI: {weightInit}, WD: {weightDecay}, No_HL: {num_hiddenLayers}, HS: {hiddenLayer_size}\"\n",
    "    print(\"Sweep Name: \",run_name)\n",
    "    \n",
    "    model = FeedforwardNeuralNetwork(x_train.shape[0], [hiddenLayer_size] * num_hiddenLayers, y_train.shape[0])\n",
    "    \n",
    "    wandb.run.name = run_name\n",
    "    \n",
    "    model.train(x_train, y_train, x_val, y_val, num_epochs, learningRate, optimizer, batchSize)\n",
    "\n",
    "    wandb.run.save()\n",
    "\n",
    "    return model "
   ]
  },
  {
   "cell_type": "code",
   "execution_count": 6,
   "metadata": {},
   "outputs": [
    {
     "name": "stderr",
     "output_type": "stream",
     "text": [
      "\u001b[34m\u001b[1mwandb\u001b[0m: Using wandb-core as the SDK backend.  Please refer to https://wandb.me/wandb-core for more information.\n"
     ]
    },
    {
     "name": "stdout",
     "output_type": "stream",
     "text": [
      "Create sweep with ID: syjentp9\n",
      "Sweep URL: https://wandb.ai/da6401-assignments/assignment1/sweeps/syjentp9\n"
     ]
    },
    {
     "name": "stderr",
     "output_type": "stream",
     "text": [
      "\u001b[34m\u001b[1mwandb\u001b[0m: Agent Starting Run: c9c39fpb with config:\n",
      "\u001b[34m\u001b[1mwandb\u001b[0m: \tactivationFunc: tanh\n",
      "\u001b[34m\u001b[1mwandb\u001b[0m: \tbatchSize: 64\n",
      "\u001b[34m\u001b[1mwandb\u001b[0m: \thiddenLayer_Size: 32\n",
      "\u001b[34m\u001b[1mwandb\u001b[0m: \tlearningRate: 0.001\n",
      "\u001b[34m\u001b[1mwandb\u001b[0m: \tnum_epochs: 10\n",
      "\u001b[34m\u001b[1mwandb\u001b[0m: \tnum_hiddenLayers: 3\n",
      "\u001b[34m\u001b[1mwandb\u001b[0m: \toptimizer: sgd\n",
      "\u001b[34m\u001b[1mwandb\u001b[0m: \tweightDecay: 0\n",
      "\u001b[34m\u001b[1mwandb\u001b[0m: \tweightInit: random\n",
      "\u001b[34m\u001b[1mwandb\u001b[0m: Currently logged in as: \u001b[33med20b071\u001b[0m (\u001b[33mda6401-assignments\u001b[0m) to \u001b[32mhttps://api.wandb.ai\u001b[0m. Use \u001b[1m`wandb login --relogin`\u001b[0m to force relogin\n"
     ]
    },
    {
     "data": {
      "text/html": [
       "Ignoring project 'assignment1' when running a sweep."
      ],
      "text/plain": [
       "<IPython.core.display.HTML object>"
      ]
     },
     "metadata": {},
     "output_type": "display_data"
    },
    {
     "data": {
      "text/html": [
       "Ignoring entity 'da6401-assignments' when running a sweep."
      ],
      "text/plain": [
       "<IPython.core.display.HTML object>"
      ]
     },
     "metadata": {},
     "output_type": "display_data"
    },
    {
     "data": {
      "text/html": [
       "creating run (0.0s)"
      ],
      "text/plain": [
       "<IPython.core.display.HTML object>"
      ]
     },
     "metadata": {},
     "output_type": "display_data"
    },
    {
     "data": {
      "text/html": [
       "Tracking run with wandb version 0.19.8"
      ],
      "text/plain": [
       "<IPython.core.display.HTML object>"
      ]
     },
     "metadata": {},
     "output_type": "display_data"
    },
    {
     "data": {
      "text/html": [
       "Run data is saved locally in <code>c:\\Users\\prajv\\Downloads\\ass1\\DA6401_ASSIGNMENT1\\wandb\\run-20250310_002859-c9c39fpb</code>"
      ],
      "text/plain": [
       "<IPython.core.display.HTML object>"
      ]
     },
     "metadata": {},
     "output_type": "display_data"
    },
    {
     "data": {
      "text/html": [
       "Syncing run <strong><a href='https://wandb.ai/da6401-assignments/assignment1/runs/c9c39fpb' target=\"_blank\">lyric-sweep-1</a></strong> to <a href='https://wandb.ai/da6401-assignments/assignment1' target=\"_blank\">Weights & Biases</a> (<a href='https://wandb.me/developer-guide' target=\"_blank\">docs</a>)<br>Sweep page: <a href='https://wandb.ai/da6401-assignments/assignment1/sweeps/syjentp9' target=\"_blank\">https://wandb.ai/da6401-assignments/assignment1/sweeps/syjentp9</a>"
      ],
      "text/plain": [
       "<IPython.core.display.HTML object>"
      ]
     },
     "metadata": {},
     "output_type": "display_data"
    },
    {
     "data": {
      "text/html": [
       " View project at <a href='https://wandb.ai/da6401-assignments/assignment1' target=\"_blank\">https://wandb.ai/da6401-assignments/assignment1</a>"
      ],
      "text/plain": [
       "<IPython.core.display.HTML object>"
      ]
     },
     "metadata": {},
     "output_type": "display_data"
    },
    {
     "data": {
      "text/html": [
       " View sweep at <a href='https://wandb.ai/da6401-assignments/assignment1/sweeps/syjentp9' target=\"_blank\">https://wandb.ai/da6401-assignments/assignment1/sweeps/syjentp9</a>"
      ],
      "text/plain": [
       "<IPython.core.display.HTML object>"
      ]
     },
     "metadata": {},
     "output_type": "display_data"
    },
    {
     "data": {
      "text/html": [
       " View run at <a href='https://wandb.ai/da6401-assignments/assignment1/runs/c9c39fpb' target=\"_blank\">https://wandb.ai/da6401-assignments/assignment1/runs/c9c39fpb</a>"
      ],
      "text/plain": [
       "<IPython.core.display.HTML object>"
      ]
     },
     "metadata": {},
     "output_type": "display_data"
    },
    {
     "name": "stdout",
     "output_type": "stream",
     "text": [
      "Sweep Name:  LR: 0.001, AC: tanh, BS: 64, Optim: sgd, WI: random, WD: 0, No_HL: 3, HS: 32\n",
      "Epoch 0: Training Loss = 2.7349 Validation Loss = 2.7197\n",
      "Training Accuracy = 0.0993 Validation Accuracy = 0.0958\n",
      "Epoch 1: Training Loss = 2.4299 Validation Loss = 2.4256\n",
      "Training Accuracy = 0.1357 Validation Accuracy = 0.1335\n",
      "Epoch 2: Training Loss = 2.2886 Validation Loss = 2.2904\n",
      "Training Accuracy = 0.1751 Validation Accuracy = 0.1685\n",
      "Epoch 3: Training Loss = 2.1954 Validation Loss = 2.1992\n",
      "Training Accuracy = 0.2210 Validation Accuracy = 0.2100\n",
      "Epoch 4: Training Loss = 2.1174 Validation Loss = 2.1217\n",
      "Training Accuracy = 0.2547 Validation Accuracy = 0.2483\n",
      "Epoch 5: Training Loss = 2.0489 Validation Loss = 2.0531\n",
      "Training Accuracy = 0.2817 Validation Accuracy = 0.2730\n",
      "Epoch 6: Training Loss = 1.9881 Validation Loss = 1.9920\n",
      "Training Accuracy = 0.3058 Validation Accuracy = 0.2980\n",
      "Epoch 7: Training Loss = 1.9337 Validation Loss = 1.9371\n",
      "Training Accuracy = 0.3250 Validation Accuracy = 0.3152\n",
      "Epoch 8: Training Loss = 1.8846 Validation Loss = 1.8872\n",
      "Training Accuracy = 0.3431 Validation Accuracy = 0.3360\n"
     ]
    },
    {
     "name": "stderr",
     "output_type": "stream",
     "text": [
      "\u001b[34m\u001b[1mwandb\u001b[0m: \u001b[33mWARNING\u001b[0m Calling wandb.run.save without any arguments is deprecated.Changes to attributes are automatically persisted.\n"
     ]
    },
    {
     "name": "stdout",
     "output_type": "stream",
     "text": [
      "Epoch 9: Training Loss = 1.8398 Validation Loss = 1.8416\n",
      "Training Accuracy = 0.3597 Validation Accuracy = 0.3555\n"
     ]
    },
    {
     "data": {
      "text/html": [],
      "text/plain": [
       "<IPython.core.display.HTML object>"
      ]
     },
     "metadata": {},
     "output_type": "display_data"
    },
    {
     "data": {
      "text/html": [
       "<br>    <style><br>        .wandb-row {<br>            display: flex;<br>            flex-direction: row;<br>            flex-wrap: wrap;<br>            justify-content: flex-start;<br>            width: 100%;<br>        }<br>        .wandb-col {<br>            display: flex;<br>            flex-direction: column;<br>            flex-basis: 100%;<br>            flex: 1;<br>            padding: 10px;<br>        }<br>    </style><br><div class=\"wandb-row\"><div class=\"wandb-col\"><h3>Run history:</h3><br/><table class=\"wandb\"><tr><td>Validation Loss</td><td>▁</td></tr><tr><td>epoch</td><td>▁▂▃▃▄▅▆▆▇█</td></tr><tr><td>train_acc</td><td>▁▂▃▄▅▆▇▇██</td></tr><tr><td>train_loss</td><td>█▆▅▄▃▃▂▂▁▁</td></tr><tr><td>val_acc</td><td>▁▂▃▄▅▆▆▇▇█</td></tr><tr><td>val_loss</td><td>█▆▅▄▃▃▂▂▁▁</td></tr></table><br/></div><div class=\"wandb-col\"><h3>Run summary:</h3><br/><table class=\"wandb\"><tr><td>Validation Loss</td><td>1.84158</td></tr><tr><td>epoch</td><td>9</td></tr><tr><td>train_acc</td><td>0.3597</td></tr><tr><td>train_loss</td><td>1.83977</td></tr><tr><td>val_acc</td><td>0.3555</td></tr><tr><td>val_loss</td><td>1.84158</td></tr></table><br/></div></div>"
      ],
      "text/plain": [
       "<IPython.core.display.HTML object>"
      ]
     },
     "metadata": {},
     "output_type": "display_data"
    },
    {
     "data": {
      "text/html": [
       " View run <strong style=\"color:#cdcd00\">LR: 0.001, AC: tanh, BS: 64, Optim: sgd, WI: random, WD: 0, No_HL: 3, HS: 32</strong> at: <a href='https://wandb.ai/da6401-assignments/assignment1/runs/c9c39fpb' target=\"_blank\">https://wandb.ai/da6401-assignments/assignment1/runs/c9c39fpb</a><br> View project at: <a href='https://wandb.ai/da6401-assignments/assignment1' target=\"_blank\">https://wandb.ai/da6401-assignments/assignment1</a><br>Synced 5 W&B file(s), 0 media file(s), 0 artifact file(s) and 0 other file(s)"
      ],
      "text/plain": [
       "<IPython.core.display.HTML object>"
      ]
     },
     "metadata": {},
     "output_type": "display_data"
    },
    {
     "data": {
      "text/html": [
       "Find logs at: <code>.\\wandb\\run-20250310_002859-c9c39fpb\\logs</code>"
      ],
      "text/plain": [
       "<IPython.core.display.HTML object>"
      ]
     },
     "metadata": {},
     "output_type": "display_data"
    },
    {
     "name": "stderr",
     "output_type": "stream",
     "text": [
      "\u001b[34m\u001b[1mwandb\u001b[0m: Agent Starting Run: u15dtjhm with config:\n",
      "\u001b[34m\u001b[1mwandb\u001b[0m: \tactivationFunc: relu\n",
      "\u001b[34m\u001b[1mwandb\u001b[0m: \tbatchSize: 64\n",
      "\u001b[34m\u001b[1mwandb\u001b[0m: \thiddenLayer_Size: 64\n",
      "\u001b[34m\u001b[1mwandb\u001b[0m: \tlearningRate: 0.0001\n",
      "\u001b[34m\u001b[1mwandb\u001b[0m: \tnum_epochs: 10\n",
      "\u001b[34m\u001b[1mwandb\u001b[0m: \tnum_hiddenLayers: 4\n",
      "\u001b[34m\u001b[1mwandb\u001b[0m: \toptimizer: nadam\n",
      "\u001b[34m\u001b[1mwandb\u001b[0m: \tweightDecay: 0.5\n",
      "\u001b[34m\u001b[1mwandb\u001b[0m: \tweightInit: random\n"
     ]
    },
    {
     "data": {
      "text/html": [
       "Ignoring project 'assignment1' when running a sweep."
      ],
      "text/plain": [
       "<IPython.core.display.HTML object>"
      ]
     },
     "metadata": {},
     "output_type": "display_data"
    },
    {
     "data": {
      "text/html": [
       "Ignoring entity 'da6401-assignments' when running a sweep."
      ],
      "text/plain": [
       "<IPython.core.display.HTML object>"
      ]
     },
     "metadata": {},
     "output_type": "display_data"
    },
    {
     "data": {
      "text/html": [
       "creating run (0.2s)"
      ],
      "text/plain": [
       "<IPython.core.display.HTML object>"
      ]
     },
     "metadata": {},
     "output_type": "display_data"
    },
    {
     "data": {
      "text/html": [
       "Tracking run with wandb version 0.19.8"
      ],
      "text/plain": [
       "<IPython.core.display.HTML object>"
      ]
     },
     "metadata": {},
     "output_type": "display_data"
    },
    {
     "data": {
      "text/html": [
       "Run data is saved locally in <code>c:\\Users\\prajv\\Downloads\\ass1\\DA6401_ASSIGNMENT1\\wandb\\run-20250310_002921-u15dtjhm</code>"
      ],
      "text/plain": [
       "<IPython.core.display.HTML object>"
      ]
     },
     "metadata": {},
     "output_type": "display_data"
    },
    {
     "data": {
      "text/html": [
       "Syncing run <strong><a href='https://wandb.ai/da6401-assignments/assignment1/runs/u15dtjhm' target=\"_blank\">mild-sweep-2</a></strong> to <a href='https://wandb.ai/da6401-assignments/assignment1' target=\"_blank\">Weights & Biases</a> (<a href='https://wandb.me/developer-guide' target=\"_blank\">docs</a>)<br>Sweep page: <a href='https://wandb.ai/da6401-assignments/assignment1/sweeps/syjentp9' target=\"_blank\">https://wandb.ai/da6401-assignments/assignment1/sweeps/syjentp9</a>"
      ],
      "text/plain": [
       "<IPython.core.display.HTML object>"
      ]
     },
     "metadata": {},
     "output_type": "display_data"
    },
    {
     "data": {
      "text/html": [
       " View project at <a href='https://wandb.ai/da6401-assignments/assignment1' target=\"_blank\">https://wandb.ai/da6401-assignments/assignment1</a>"
      ],
      "text/plain": [
       "<IPython.core.display.HTML object>"
      ]
     },
     "metadata": {},
     "output_type": "display_data"
    },
    {
     "data": {
      "text/html": [
       " View sweep at <a href='https://wandb.ai/da6401-assignments/assignment1/sweeps/syjentp9' target=\"_blank\">https://wandb.ai/da6401-assignments/assignment1/sweeps/syjentp9</a>"
      ],
      "text/plain": [
       "<IPython.core.display.HTML object>"
      ]
     },
     "metadata": {},
     "output_type": "display_data"
    },
    {
     "data": {
      "text/html": [
       " View run at <a href='https://wandb.ai/da6401-assignments/assignment1/runs/u15dtjhm' target=\"_blank\">https://wandb.ai/da6401-assignments/assignment1/runs/u15dtjhm</a>"
      ],
      "text/plain": [
       "<IPython.core.display.HTML object>"
      ]
     },
     "metadata": {},
     "output_type": "display_data"
    },
    {
     "name": "stdout",
     "output_type": "stream",
     "text": [
      "Sweep Name:  LR: 0.0001, AC: relu, BS: 64, Optim: nadam, WI: random, WD: 0.5, No_HL: 4, HS: 64\n",
      "Epoch 0: Training Loss = 1.0749 Validation Loss = 1.0576\n",
      "Training Accuracy = 0.6432 Validation Accuracy = 0.6488\n",
      "Epoch 1: Training Loss = 0.8882 Validation Loss = 0.8799\n",
      "Training Accuracy = 0.6943 Validation Accuracy = 0.7003\n",
      "Epoch 2: Training Loss = 0.7969 Validation Loss = 0.7921\n",
      "Training Accuracy = 0.7225 Validation Accuracy = 0.7258\n",
      "Epoch 3: Training Loss = 0.7331 Validation Loss = 0.7310\n",
      "Training Accuracy = 0.7418 Validation Accuracy = 0.7422\n",
      "Epoch 4: Training Loss = 0.6896 Validation Loss = 0.6897\n",
      "Training Accuracy = 0.7557 Validation Accuracy = 0.7550\n",
      "Epoch 5: Training Loss = 0.6555 Validation Loss = 0.6592\n",
      "Training Accuracy = 0.7664 Validation Accuracy = 0.7672\n",
      "Epoch 6: Training Loss = 0.6282 Validation Loss = 0.6353\n",
      "Training Accuracy = 0.7764 Validation Accuracy = 0.7737\n",
      "Epoch 7: Training Loss = 0.6052 Validation Loss = 0.6125\n",
      "Training Accuracy = 0.7846 Validation Accuracy = 0.7818\n",
      "Epoch 8: Training Loss = 0.5870 Validation Loss = 0.5956\n",
      "Training Accuracy = 0.7909 Validation Accuracy = 0.7872\n",
      "Epoch 9: Training Loss = 0.5701 Validation Loss = 0.5799\n",
      "Training Accuracy = 0.7966 Validation Accuracy = 0.7922\n"
     ]
    },
    {
     "data": {
      "text/html": [],
      "text/plain": [
       "<IPython.core.display.HTML object>"
      ]
     },
     "metadata": {},
     "output_type": "display_data"
    },
    {
     "data": {
      "text/html": [
       "<br>    <style><br>        .wandb-row {<br>            display: flex;<br>            flex-direction: row;<br>            flex-wrap: wrap;<br>            justify-content: flex-start;<br>            width: 100%;<br>        }<br>        .wandb-col {<br>            display: flex;<br>            flex-direction: column;<br>            flex-basis: 100%;<br>            flex: 1;<br>            padding: 10px;<br>        }<br>    </style><br><div class=\"wandb-row\"><div class=\"wandb-col\"><h3>Run history:</h3><br/><table class=\"wandb\"><tr><td>Validation Loss</td><td>▁</td></tr><tr><td>epoch</td><td>▁▂▃▃▄▅▆▆▇█</td></tr><tr><td>train_acc</td><td>▁▃▅▅▆▇▇▇██</td></tr><tr><td>train_loss</td><td>█▅▄▃▃▂▂▁▁▁</td></tr><tr><td>val_acc</td><td>▁▄▅▆▆▇▇▇██</td></tr><tr><td>val_loss</td><td>█▅▄▃▃▂▂▁▁▁</td></tr></table><br/></div><div class=\"wandb-col\"><h3>Run summary:</h3><br/><table class=\"wandb\"><tr><td>Validation Loss</td><td>0.57986</td></tr><tr><td>epoch</td><td>9</td></tr><tr><td>train_acc</td><td>0.79665</td></tr><tr><td>train_loss</td><td>0.57012</td></tr><tr><td>val_acc</td><td>0.79217</td></tr><tr><td>val_loss</td><td>0.57986</td></tr></table><br/></div></div>"
      ],
      "text/plain": [
       "<IPython.core.display.HTML object>"
      ]
     },
     "metadata": {},
     "output_type": "display_data"
    },
    {
     "data": {
      "text/html": [
       " View run <strong style=\"color:#cdcd00\">LR: 0.0001, AC: relu, BS: 64, Optim: nadam, WI: random, WD: 0.5, No_HL: 4, HS: 64</strong> at: <a href='https://wandb.ai/da6401-assignments/assignment1/runs/u15dtjhm' target=\"_blank\">https://wandb.ai/da6401-assignments/assignment1/runs/u15dtjhm</a><br> View project at: <a href='https://wandb.ai/da6401-assignments/assignment1' target=\"_blank\">https://wandb.ai/da6401-assignments/assignment1</a><br>Synced 5 W&B file(s), 0 media file(s), 0 artifact file(s) and 0 other file(s)"
      ],
      "text/plain": [
       "<IPython.core.display.HTML object>"
      ]
     },
     "metadata": {},
     "output_type": "display_data"
    },
    {
     "data": {
      "text/html": [
       "Find logs at: <code>.\\wandb\\run-20250310_002921-u15dtjhm\\logs</code>"
      ],
      "text/plain": [
       "<IPython.core.display.HTML object>"
      ]
     },
     "metadata": {},
     "output_type": "display_data"
    },
    {
     "name": "stderr",
     "output_type": "stream",
     "text": [
      "\u001b[34m\u001b[1mwandb\u001b[0m: Agent Starting Run: 38hkgk0l with config:\n",
      "\u001b[34m\u001b[1mwandb\u001b[0m: \tactivationFunc: tanh\n",
      "\u001b[34m\u001b[1mwandb\u001b[0m: \tbatchSize: 16\n",
      "\u001b[34m\u001b[1mwandb\u001b[0m: \thiddenLayer_Size: 64\n",
      "\u001b[34m\u001b[1mwandb\u001b[0m: \tlearningRate: 0.001\n",
      "\u001b[34m\u001b[1mwandb\u001b[0m: \tnum_epochs: 10\n",
      "\u001b[34m\u001b[1mwandb\u001b[0m: \tnum_hiddenLayers: 5\n",
      "\u001b[34m\u001b[1mwandb\u001b[0m: \toptimizer: nadam\n",
      "\u001b[34m\u001b[1mwandb\u001b[0m: \tweightDecay: 0.5\n",
      "\u001b[34m\u001b[1mwandb\u001b[0m: \tweightInit: xavier\n"
     ]
    },
    {
     "data": {
      "text/html": [
       "Ignoring project 'assignment1' when running a sweep."
      ],
      "text/plain": [
       "<IPython.core.display.HTML object>"
      ]
     },
     "metadata": {},
     "output_type": "display_data"
    },
    {
     "data": {
      "text/html": [
       "Ignoring entity 'da6401-assignments' when running a sweep."
      ],
      "text/plain": [
       "<IPython.core.display.HTML object>"
      ]
     },
     "metadata": {},
     "output_type": "display_data"
    },
    {
     "data": {
      "text/html": [
       "Waiting for wandb.init()..."
      ],
      "text/plain": [
       "<IPython.core.display.HTML object>"
      ]
     },
     "metadata": {},
     "output_type": "display_data"
    },
    {
     "data": {
      "text/html": [
       "Tracking run with wandb version 0.19.8"
      ],
      "text/plain": [
       "<IPython.core.display.HTML object>"
      ]
     },
     "metadata": {},
     "output_type": "display_data"
    },
    {
     "data": {
      "text/html": [
       "Run data is saved locally in <code>c:\\Users\\prajv\\Downloads\\ass1\\DA6401_ASSIGNMENT1\\wandb\\run-20250310_003002-38hkgk0l</code>"
      ],
      "text/plain": [
       "<IPython.core.display.HTML object>"
      ]
     },
     "metadata": {},
     "output_type": "display_data"
    },
    {
     "data": {
      "text/html": [
       "Syncing run <strong><a href='https://wandb.ai/da6401-assignments/assignment1/runs/38hkgk0l' target=\"_blank\">ruby-sweep-3</a></strong> to <a href='https://wandb.ai/da6401-assignments/assignment1' target=\"_blank\">Weights & Biases</a> (<a href='https://wandb.me/developer-guide' target=\"_blank\">docs</a>)<br>Sweep page: <a href='https://wandb.ai/da6401-assignments/assignment1/sweeps/syjentp9' target=\"_blank\">https://wandb.ai/da6401-assignments/assignment1/sweeps/syjentp9</a>"
      ],
      "text/plain": [
       "<IPython.core.display.HTML object>"
      ]
     },
     "metadata": {},
     "output_type": "display_data"
    },
    {
     "data": {
      "text/html": [
       " View project at <a href='https://wandb.ai/da6401-assignments/assignment1' target=\"_blank\">https://wandb.ai/da6401-assignments/assignment1</a>"
      ],
      "text/plain": [
       "<IPython.core.display.HTML object>"
      ]
     },
     "metadata": {},
     "output_type": "display_data"
    },
    {
     "data": {
      "text/html": [
       " View sweep at <a href='https://wandb.ai/da6401-assignments/assignment1/sweeps/syjentp9' target=\"_blank\">https://wandb.ai/da6401-assignments/assignment1/sweeps/syjentp9</a>"
      ],
      "text/plain": [
       "<IPython.core.display.HTML object>"
      ]
     },
     "metadata": {},
     "output_type": "display_data"
    },
    {
     "data": {
      "text/html": [
       " View run at <a href='https://wandb.ai/da6401-assignments/assignment1/runs/38hkgk0l' target=\"_blank\">https://wandb.ai/da6401-assignments/assignment1/runs/38hkgk0l</a>"
      ],
      "text/plain": [
       "<IPython.core.display.HTML object>"
      ]
     },
     "metadata": {},
     "output_type": "display_data"
    },
    {
     "name": "stdout",
     "output_type": "stream",
     "text": [
      "Sweep Name:  LR: 0.001, AC: tanh, BS: 16, Optim: nadam, WI: xavier, WD: 0.5, No_HL: 5, HS: 64\n",
      "Epoch 0: Training Loss = 0.5075 Validation Loss = 0.5271\n",
      "Training Accuracy = 0.8116 Validation Accuracy = 0.8063\n",
      "Epoch 1: Training Loss = 0.4463 Validation Loss = 0.4830\n",
      "Training Accuracy = 0.8353 Validation Accuracy = 0.8255\n",
      "Epoch 2: Training Loss = 0.4120 Validation Loss = 0.4598\n",
      "Training Accuracy = 0.8471 Validation Accuracy = 0.8318\n",
      "Epoch 3: Training Loss = 0.4070 Validation Loss = 0.4561\n",
      "Training Accuracy = 0.8488 Validation Accuracy = 0.8363\n",
      "Epoch 4: Training Loss = 0.3860 Validation Loss = 0.4417\n",
      "Training Accuracy = 0.8551 Validation Accuracy = 0.8405\n",
      "Epoch 5: Training Loss = 0.3496 Validation Loss = 0.4158\n",
      "Training Accuracy = 0.8694 Validation Accuracy = 0.8478\n",
      "Epoch 6: Training Loss = 0.3361 Validation Loss = 0.4129\n",
      "Training Accuracy = 0.8736 Validation Accuracy = 0.8520\n",
      "Epoch 7: Training Loss = 0.3362 Validation Loss = 0.4140\n",
      "Training Accuracy = 0.8741 Validation Accuracy = 0.8488\n",
      "Epoch 8: Training Loss = 0.3289 Validation Loss = 0.4142\n",
      "Training Accuracy = 0.8795 Validation Accuracy = 0.8540\n",
      "Epoch 9: Training Loss = 0.3000 Validation Loss = 0.3902\n",
      "Training Accuracy = 0.8879 Validation Accuracy = 0.8602\n"
     ]
    },
    {
     "data": {
      "text/html": [],
      "text/plain": [
       "<IPython.core.display.HTML object>"
      ]
     },
     "metadata": {},
     "output_type": "display_data"
    },
    {
     "data": {
      "text/html": [
       "<br>    <style><br>        .wandb-row {<br>            display: flex;<br>            flex-direction: row;<br>            flex-wrap: wrap;<br>            justify-content: flex-start;<br>            width: 100%;<br>        }<br>        .wandb-col {<br>            display: flex;<br>            flex-direction: column;<br>            flex-basis: 100%;<br>            flex: 1;<br>            padding: 10px;<br>        }<br>    </style><br><div class=\"wandb-row\"><div class=\"wandb-col\"><h3>Run history:</h3><br/><table class=\"wandb\"><tr><td>Validation Loss</td><td>▁</td></tr><tr><td>epoch</td><td>▁▂▃▃▄▅▆▆▇█</td></tr><tr><td>train_acc</td><td>▁▃▄▄▅▆▇▇▇█</td></tr><tr><td>train_loss</td><td>█▆▅▅▄▃▂▂▂▁</td></tr><tr><td>val_acc</td><td>▁▃▄▅▅▆▇▇▇█</td></tr><tr><td>val_loss</td><td>█▆▅▄▄▂▂▂▂▁</td></tr></table><br/></div><div class=\"wandb-col\"><h3>Run summary:</h3><br/><table class=\"wandb\"><tr><td>Validation Loss</td><td>0.39023</td></tr><tr><td>epoch</td><td>9</td></tr><tr><td>train_acc</td><td>0.88789</td></tr><tr><td>train_loss</td><td>0.30005</td></tr><tr><td>val_acc</td><td>0.86017</td></tr><tr><td>val_loss</td><td>0.39023</td></tr></table><br/></div></div>"
      ],
      "text/plain": [
       "<IPython.core.display.HTML object>"
      ]
     },
     "metadata": {},
     "output_type": "display_data"
    },
    {
     "data": {
      "text/html": [
       " View run <strong style=\"color:#cdcd00\">LR: 0.001, AC: tanh, BS: 16, Optim: nadam, WI: xavier, WD: 0.5, No_HL: 5, HS: 64</strong> at: <a href='https://wandb.ai/da6401-assignments/assignment1/runs/38hkgk0l' target=\"_blank\">https://wandb.ai/da6401-assignments/assignment1/runs/38hkgk0l</a><br> View project at: <a href='https://wandb.ai/da6401-assignments/assignment1' target=\"_blank\">https://wandb.ai/da6401-assignments/assignment1</a><br>Synced 5 W&B file(s), 0 media file(s), 0 artifact file(s) and 0 other file(s)"
      ],
      "text/plain": [
       "<IPython.core.display.HTML object>"
      ]
     },
     "metadata": {},
     "output_type": "display_data"
    },
    {
     "data": {
      "text/html": [
       "Find logs at: <code>.\\wandb\\run-20250310_003002-38hkgk0l\\logs</code>"
      ],
      "text/plain": [
       "<IPython.core.display.HTML object>"
      ]
     },
     "metadata": {},
     "output_type": "display_data"
    },
    {
     "name": "stderr",
     "output_type": "stream",
     "text": [
      "\u001b[34m\u001b[1mwandb\u001b[0m: Agent Starting Run: ycxindjs with config:\n",
      "\u001b[34m\u001b[1mwandb\u001b[0m: \tactivationFunc: relu\n",
      "\u001b[34m\u001b[1mwandb\u001b[0m: \tbatchSize: 16\n",
      "\u001b[34m\u001b[1mwandb\u001b[0m: \thiddenLayer_Size: 64\n",
      "\u001b[34m\u001b[1mwandb\u001b[0m: \tlearningRate: 0.0001\n",
      "\u001b[34m\u001b[1mwandb\u001b[0m: \tnum_epochs: 5\n",
      "\u001b[34m\u001b[1mwandb\u001b[0m: \tnum_hiddenLayers: 5\n",
      "\u001b[34m\u001b[1mwandb\u001b[0m: \toptimizer: momentum\n",
      "\u001b[34m\u001b[1mwandb\u001b[0m: \tweightDecay: 0.5\n",
      "\u001b[34m\u001b[1mwandb\u001b[0m: \tweightInit: random\n"
     ]
    },
    {
     "data": {
      "text/html": [
       "Ignoring project 'assignment1' when running a sweep."
      ],
      "text/plain": [
       "<IPython.core.display.HTML object>"
      ]
     },
     "metadata": {},
     "output_type": "display_data"
    },
    {
     "data": {
      "text/html": [
       "Ignoring entity 'da6401-assignments' when running a sweep."
      ],
      "text/plain": [
       "<IPython.core.display.HTML object>"
      ]
     },
     "metadata": {},
     "output_type": "display_data"
    },
    {
     "data": {
      "text/html": [
       "creating run (0.1s)"
      ],
      "text/plain": [
       "<IPython.core.display.HTML object>"
      ]
     },
     "metadata": {},
     "output_type": "display_data"
    },
    {
     "data": {
      "text/html": [
       "Tracking run with wandb version 0.19.8"
      ],
      "text/plain": [
       "<IPython.core.display.HTML object>"
      ]
     },
     "metadata": {},
     "output_type": "display_data"
    },
    {
     "data": {
      "text/html": [
       "Run data is saved locally in <code>c:\\Users\\prajv\\Downloads\\ass1\\DA6401_ASSIGNMENT1\\wandb\\run-20250310_003121-ycxindjs</code>"
      ],
      "text/plain": [
       "<IPython.core.display.HTML object>"
      ]
     },
     "metadata": {},
     "output_type": "display_data"
    },
    {
     "data": {
      "text/html": [
       "Syncing run <strong><a href='https://wandb.ai/da6401-assignments/assignment1/runs/ycxindjs' target=\"_blank\">misunderstood-sweep-4</a></strong> to <a href='https://wandb.ai/da6401-assignments/assignment1' target=\"_blank\">Weights & Biases</a> (<a href='https://wandb.me/developer-guide' target=\"_blank\">docs</a>)<br>Sweep page: <a href='https://wandb.ai/da6401-assignments/assignment1/sweeps/syjentp9' target=\"_blank\">https://wandb.ai/da6401-assignments/assignment1/sweeps/syjentp9</a>"
      ],
      "text/plain": [
       "<IPython.core.display.HTML object>"
      ]
     },
     "metadata": {},
     "output_type": "display_data"
    },
    {
     "data": {
      "text/html": [
       " View project at <a href='https://wandb.ai/da6401-assignments/assignment1' target=\"_blank\">https://wandb.ai/da6401-assignments/assignment1</a>"
      ],
      "text/plain": [
       "<IPython.core.display.HTML object>"
      ]
     },
     "metadata": {},
     "output_type": "display_data"
    },
    {
     "data": {
      "text/html": [
       " View sweep at <a href='https://wandb.ai/da6401-assignments/assignment1/sweeps/syjentp9' target=\"_blank\">https://wandb.ai/da6401-assignments/assignment1/sweeps/syjentp9</a>"
      ],
      "text/plain": [
       "<IPython.core.display.HTML object>"
      ]
     },
     "metadata": {},
     "output_type": "display_data"
    },
    {
     "data": {
      "text/html": [
       " View run at <a href='https://wandb.ai/da6401-assignments/assignment1/runs/ycxindjs' target=\"_blank\">https://wandb.ai/da6401-assignments/assignment1/runs/ycxindjs</a>"
      ],
      "text/plain": [
       "<IPython.core.display.HTML object>"
      ]
     },
     "metadata": {},
     "output_type": "display_data"
    },
    {
     "name": "stdout",
     "output_type": "stream",
     "text": [
      "Sweep Name:  LR: 0.0001, AC: relu, BS: 16, Optim: momentum, WI: random, WD: 0.5, No_HL: 5, HS: 64\n",
      "Epoch 0: Training Loss = 1.8232 Validation Loss = 1.8068\n",
      "Training Accuracy = 0.3512 Validation Accuracy = 0.3552\n",
      "Epoch 1: Training Loss = 1.5730 Validation Loss = 1.5564\n",
      "Training Accuracy = 0.4439 Validation Accuracy = 0.4538\n",
      "Epoch 2: Training Loss = 1.4264 Validation Loss = 1.4082\n",
      "Training Accuracy = 0.4940 Validation Accuracy = 0.5047\n",
      "Epoch 3: Training Loss = 1.3244 Validation Loss = 1.3043\n",
      "Training Accuracy = 0.5278 Validation Accuracy = 0.5353\n",
      "Epoch 4: Training Loss = 1.2469 Validation Loss = 1.2253\n",
      "Training Accuracy = 0.5519 Validation Accuracy = 0.5593\n"
     ]
    },
    {
     "data": {
      "text/html": [],
      "text/plain": [
       "<IPython.core.display.HTML object>"
      ]
     },
     "metadata": {},
     "output_type": "display_data"
    },
    {
     "data": {
      "text/html": [
       "<br>    <style><br>        .wandb-row {<br>            display: flex;<br>            flex-direction: row;<br>            flex-wrap: wrap;<br>            justify-content: flex-start;<br>            width: 100%;<br>        }<br>        .wandb-col {<br>            display: flex;<br>            flex-direction: column;<br>            flex-basis: 100%;<br>            flex: 1;<br>            padding: 10px;<br>        }<br>    </style><br><div class=\"wandb-row\"><div class=\"wandb-col\"><h3>Run history:</h3><br/><table class=\"wandb\"><tr><td>Validation Loss</td><td>▁</td></tr><tr><td>epoch</td><td>▁▃▅▆█</td></tr><tr><td>train_acc</td><td>▁▄▆▇█</td></tr><tr><td>train_loss</td><td>█▅▃▂▁</td></tr><tr><td>val_acc</td><td>▁▄▆▇█</td></tr><tr><td>val_loss</td><td>█▅▃▂▁</td></tr></table><br/></div><div class=\"wandb-col\"><h3>Run summary:</h3><br/><table class=\"wandb\"><tr><td>Validation Loss</td><td>1.22527</td></tr><tr><td>epoch</td><td>4</td></tr><tr><td>train_acc</td><td>0.55191</td></tr><tr><td>train_loss</td><td>1.24688</td></tr><tr><td>val_acc</td><td>0.55933</td></tr><tr><td>val_loss</td><td>1.22527</td></tr></table><br/></div></div>"
      ],
      "text/plain": [
       "<IPython.core.display.HTML object>"
      ]
     },
     "metadata": {},
     "output_type": "display_data"
    },
    {
     "data": {
      "text/html": [
       " View run <strong style=\"color:#cdcd00\">LR: 0.0001, AC: relu, BS: 16, Optim: momentum, WI: random, WD: 0.5, No_HL: 5, HS: 64</strong> at: <a href='https://wandb.ai/da6401-assignments/assignment1/runs/ycxindjs' target=\"_blank\">https://wandb.ai/da6401-assignments/assignment1/runs/ycxindjs</a><br> View project at: <a href='https://wandb.ai/da6401-assignments/assignment1' target=\"_blank\">https://wandb.ai/da6401-assignments/assignment1</a><br>Synced 5 W&B file(s), 0 media file(s), 0 artifact file(s) and 0 other file(s)"
      ],
      "text/plain": [
       "<IPython.core.display.HTML object>"
      ]
     },
     "metadata": {},
     "output_type": "display_data"
    },
    {
     "data": {
      "text/html": [
       "Find logs at: <code>.\\wandb\\run-20250310_003121-ycxindjs\\logs</code>"
      ],
      "text/plain": [
       "<IPython.core.display.HTML object>"
      ]
     },
     "metadata": {},
     "output_type": "display_data"
    },
    {
     "name": "stderr",
     "output_type": "stream",
     "text": [
      "\u001b[34m\u001b[1mwandb\u001b[0m: Agent Starting Run: 1p8zbiij with config:\n",
      "\u001b[34m\u001b[1mwandb\u001b[0m: \tactivationFunc: sigmoid\n",
      "\u001b[34m\u001b[1mwandb\u001b[0m: \tbatchSize: 32\n",
      "\u001b[34m\u001b[1mwandb\u001b[0m: \thiddenLayer_Size: 64\n",
      "\u001b[34m\u001b[1mwandb\u001b[0m: \tlearningRate: 0.0001\n",
      "\u001b[34m\u001b[1mwandb\u001b[0m: \tnum_epochs: 10\n",
      "\u001b[34m\u001b[1mwandb\u001b[0m: \tnum_hiddenLayers: 5\n",
      "\u001b[34m\u001b[1mwandb\u001b[0m: \toptimizer: nadam\n",
      "\u001b[34m\u001b[1mwandb\u001b[0m: \tweightDecay: 0\n",
      "\u001b[34m\u001b[1mwandb\u001b[0m: \tweightInit: random\n"
     ]
    },
    {
     "data": {
      "text/html": [
       "Ignoring project 'assignment1' when running a sweep."
      ],
      "text/plain": [
       "<IPython.core.display.HTML object>"
      ]
     },
     "metadata": {},
     "output_type": "display_data"
    },
    {
     "data": {
      "text/html": [
       "Ignoring entity 'da6401-assignments' when running a sweep."
      ],
      "text/plain": [
       "<IPython.core.display.HTML object>"
      ]
     },
     "metadata": {},
     "output_type": "display_data"
    },
    {
     "data": {
      "text/html": [
       "creating run (0.3s)"
      ],
      "text/plain": [
       "<IPython.core.display.HTML object>"
      ]
     },
     "metadata": {},
     "output_type": "display_data"
    },
    {
     "data": {
      "text/html": [
       "Tracking run with wandb version 0.19.8"
      ],
      "text/plain": [
       "<IPython.core.display.HTML object>"
      ]
     },
     "metadata": {},
     "output_type": "display_data"
    },
    {
     "data": {
      "text/html": [
       "Run data is saved locally in <code>c:\\Users\\prajv\\Downloads\\ass1\\DA6401_ASSIGNMENT1\\wandb\\run-20250310_003154-1p8zbiij</code>"
      ],
      "text/plain": [
       "<IPython.core.display.HTML object>"
      ]
     },
     "metadata": {},
     "output_type": "display_data"
    },
    {
     "data": {
      "text/html": [
       "Syncing run <strong><a href='https://wandb.ai/da6401-assignments/assignment1/runs/1p8zbiij' target=\"_blank\">logical-sweep-5</a></strong> to <a href='https://wandb.ai/da6401-assignments/assignment1' target=\"_blank\">Weights & Biases</a> (<a href='https://wandb.me/developer-guide' target=\"_blank\">docs</a>)<br>Sweep page: <a href='https://wandb.ai/da6401-assignments/assignment1/sweeps/syjentp9' target=\"_blank\">https://wandb.ai/da6401-assignments/assignment1/sweeps/syjentp9</a>"
      ],
      "text/plain": [
       "<IPython.core.display.HTML object>"
      ]
     },
     "metadata": {},
     "output_type": "display_data"
    },
    {
     "data": {
      "text/html": [
       " View project at <a href='https://wandb.ai/da6401-assignments/assignment1' target=\"_blank\">https://wandb.ai/da6401-assignments/assignment1</a>"
      ],
      "text/plain": [
       "<IPython.core.display.HTML object>"
      ]
     },
     "metadata": {},
     "output_type": "display_data"
    },
    {
     "data": {
      "text/html": [
       " View sweep at <a href='https://wandb.ai/da6401-assignments/assignment1/sweeps/syjentp9' target=\"_blank\">https://wandb.ai/da6401-assignments/assignment1/sweeps/syjentp9</a>"
      ],
      "text/plain": [
       "<IPython.core.display.HTML object>"
      ]
     },
     "metadata": {},
     "output_type": "display_data"
    },
    {
     "data": {
      "text/html": [
       " View run at <a href='https://wandb.ai/da6401-assignments/assignment1/runs/1p8zbiij' target=\"_blank\">https://wandb.ai/da6401-assignments/assignment1/runs/1p8zbiij</a>"
      ],
      "text/plain": [
       "<IPython.core.display.HTML object>"
      ]
     },
     "metadata": {},
     "output_type": "display_data"
    },
    {
     "name": "stdout",
     "output_type": "stream",
     "text": [
      "Sweep Name:  LR: 0.0001, AC: sigmoid, BS: 32, Optim: nadam, WI: random, WD: 0, No_HL: 5, HS: 64\n",
      "Epoch 0: Training Loss = 0.9031 Validation Loss = 0.9083\n",
      "Training Accuracy = 0.6847 Validation Accuracy = 0.6877\n",
      "Epoch 1: Training Loss = 0.7629 Validation Loss = 0.7758\n",
      "Training Accuracy = 0.7310 Validation Accuracy = 0.7278\n",
      "Epoch 2: Training Loss = 0.6897 Validation Loss = 0.7035\n",
      "Training Accuracy = 0.7551 Validation Accuracy = 0.7497\n",
      "Epoch 3: Training Loss = 0.6427 Validation Loss = 0.6565\n",
      "Training Accuracy = 0.7682 Validation Accuracy = 0.7637\n",
      "Epoch 4: Training Loss = 0.6089 Validation Loss = 0.6266\n",
      "Training Accuracy = 0.7804 Validation Accuracy = 0.7768\n",
      "Epoch 5: Training Loss = 0.5829 Validation Loss = 0.6008\n",
      "Training Accuracy = 0.7889 Validation Accuracy = 0.7852\n",
      "Epoch 6: Training Loss = 0.5628 Validation Loss = 0.5832\n",
      "Training Accuracy = 0.7961 Validation Accuracy = 0.7910\n",
      "Epoch 7: Training Loss = 0.5454 Validation Loss = 0.5671\n",
      "Training Accuracy = 0.8022 Validation Accuracy = 0.7922\n",
      "Epoch 8: Training Loss = 0.5312 Validation Loss = 0.5581\n",
      "Training Accuracy = 0.8077 Validation Accuracy = 0.7950\n",
      "Epoch 9: Training Loss = 0.5169 Validation Loss = 0.5456\n",
      "Training Accuracy = 0.8125 Validation Accuracy = 0.7990\n"
     ]
    },
    {
     "data": {
      "text/html": [],
      "text/plain": [
       "<IPython.core.display.HTML object>"
      ]
     },
     "metadata": {},
     "output_type": "display_data"
    },
    {
     "data": {
      "text/html": [
       "<br>    <style><br>        .wandb-row {<br>            display: flex;<br>            flex-direction: row;<br>            flex-wrap: wrap;<br>            justify-content: flex-start;<br>            width: 100%;<br>        }<br>        .wandb-col {<br>            display: flex;<br>            flex-direction: column;<br>            flex-basis: 100%;<br>            flex: 1;<br>            padding: 10px;<br>        }<br>    </style><br><div class=\"wandb-row\"><div class=\"wandb-col\"><h3>Run history:</h3><br/><table class=\"wandb\"><tr><td>Validation Loss</td><td>▁</td></tr><tr><td>epoch</td><td>▁▂▃▃▄▅▆▆▇█</td></tr><tr><td>train_acc</td><td>▁▄▅▆▆▇▇▇██</td></tr><tr><td>train_loss</td><td>█▅▄▃▃▂▂▂▁▁</td></tr><tr><td>val_acc</td><td>▁▄▅▆▇▇▇███</td></tr><tr><td>val_loss</td><td>█▅▄▃▃▂▂▁▁▁</td></tr></table><br/></div><div class=\"wandb-col\"><h3>Run summary:</h3><br/><table class=\"wandb\"><tr><td>Validation Loss</td><td>0.54561</td></tr><tr><td>epoch</td><td>9</td></tr><tr><td>train_acc</td><td>0.81246</td></tr><tr><td>train_loss</td><td>0.51695</td></tr><tr><td>val_acc</td><td>0.799</td></tr><tr><td>val_loss</td><td>0.54561</td></tr></table><br/></div></div>"
      ],
      "text/plain": [
       "<IPython.core.display.HTML object>"
      ]
     },
     "metadata": {},
     "output_type": "display_data"
    },
    {
     "data": {
      "text/html": [
       " View run <strong style=\"color:#cdcd00\">LR: 0.0001, AC: sigmoid, BS: 32, Optim: nadam, WI: random, WD: 0, No_HL: 5, HS: 64</strong> at: <a href='https://wandb.ai/da6401-assignments/assignment1/runs/1p8zbiij' target=\"_blank\">https://wandb.ai/da6401-assignments/assignment1/runs/1p8zbiij</a><br> View project at: <a href='https://wandb.ai/da6401-assignments/assignment1' target=\"_blank\">https://wandb.ai/da6401-assignments/assignment1</a><br>Synced 5 W&B file(s), 0 media file(s), 0 artifact file(s) and 0 other file(s)"
      ],
      "text/plain": [
       "<IPython.core.display.HTML object>"
      ]
     },
     "metadata": {},
     "output_type": "display_data"
    },
    {
     "data": {
      "text/html": [
       "Find logs at: <code>.\\wandb\\run-20250310_003154-1p8zbiij\\logs</code>"
      ],
      "text/plain": [
       "<IPython.core.display.HTML object>"
      ]
     },
     "metadata": {},
     "output_type": "display_data"
    },
    {
     "name": "stderr",
     "output_type": "stream",
     "text": [
      "\u001b[34m\u001b[1mwandb\u001b[0m: Agent Starting Run: iv9h98g2 with config:\n",
      "\u001b[34m\u001b[1mwandb\u001b[0m: \tactivationFunc: relu\n",
      "\u001b[34m\u001b[1mwandb\u001b[0m: \tbatchSize: 64\n",
      "\u001b[34m\u001b[1mwandb\u001b[0m: \thiddenLayer_Size: 32\n",
      "\u001b[34m\u001b[1mwandb\u001b[0m: \tlearningRate: 0.001\n",
      "\u001b[34m\u001b[1mwandb\u001b[0m: \tnum_epochs: 5\n",
      "\u001b[34m\u001b[1mwandb\u001b[0m: \tnum_hiddenLayers: 4\n",
      "\u001b[34m\u001b[1mwandb\u001b[0m: \toptimizer: momentum\n",
      "\u001b[34m\u001b[1mwandb\u001b[0m: \tweightDecay: 0.5\n",
      "\u001b[34m\u001b[1mwandb\u001b[0m: \tweightInit: random\n"
     ]
    },
    {
     "data": {
      "text/html": [
       "Ignoring project 'assignment1' when running a sweep."
      ],
      "text/plain": [
       "<IPython.core.display.HTML object>"
      ]
     },
     "metadata": {},
     "output_type": "display_data"
    },
    {
     "data": {
      "text/html": [
       "Ignoring entity 'da6401-assignments' when running a sweep."
      ],
      "text/plain": [
       "<IPython.core.display.HTML object>"
      ]
     },
     "metadata": {},
     "output_type": "display_data"
    },
    {
     "data": {
      "text/html": [
       "creating run (0.1s)"
      ],
      "text/plain": [
       "<IPython.core.display.HTML object>"
      ]
     },
     "metadata": {},
     "output_type": "display_data"
    },
    {
     "data": {
      "text/html": [
       "Tracking run with wandb version 0.19.8"
      ],
      "text/plain": [
       "<IPython.core.display.HTML object>"
      ]
     },
     "metadata": {},
     "output_type": "display_data"
    },
    {
     "data": {
      "text/html": [
       "Run data is saved locally in <code>c:\\Users\\prajv\\Downloads\\ass1\\DA6401_ASSIGNMENT1\\wandb\\run-20250310_003252-iv9h98g2</code>"
      ],
      "text/plain": [
       "<IPython.core.display.HTML object>"
      ]
     },
     "metadata": {},
     "output_type": "display_data"
    },
    {
     "data": {
      "text/html": [
       "Syncing run <strong><a href='https://wandb.ai/da6401-assignments/assignment1/runs/iv9h98g2' target=\"_blank\">sage-sweep-6</a></strong> to <a href='https://wandb.ai/da6401-assignments/assignment1' target=\"_blank\">Weights & Biases</a> (<a href='https://wandb.me/developer-guide' target=\"_blank\">docs</a>)<br>Sweep page: <a href='https://wandb.ai/da6401-assignments/assignment1/sweeps/syjentp9' target=\"_blank\">https://wandb.ai/da6401-assignments/assignment1/sweeps/syjentp9</a>"
      ],
      "text/plain": [
       "<IPython.core.display.HTML object>"
      ]
     },
     "metadata": {},
     "output_type": "display_data"
    },
    {
     "data": {
      "text/html": [
       " View project at <a href='https://wandb.ai/da6401-assignments/assignment1' target=\"_blank\">https://wandb.ai/da6401-assignments/assignment1</a>"
      ],
      "text/plain": [
       "<IPython.core.display.HTML object>"
      ]
     },
     "metadata": {},
     "output_type": "display_data"
    },
    {
     "data": {
      "text/html": [
       " View sweep at <a href='https://wandb.ai/da6401-assignments/assignment1/sweeps/syjentp9' target=\"_blank\">https://wandb.ai/da6401-assignments/assignment1/sweeps/syjentp9</a>"
      ],
      "text/plain": [
       "<IPython.core.display.HTML object>"
      ]
     },
     "metadata": {},
     "output_type": "display_data"
    },
    {
     "data": {
      "text/html": [
       " View run at <a href='https://wandb.ai/da6401-assignments/assignment1/runs/iv9h98g2' target=\"_blank\">https://wandb.ai/da6401-assignments/assignment1/runs/iv9h98g2</a>"
      ],
      "text/plain": [
       "<IPython.core.display.HTML object>"
      ]
     },
     "metadata": {},
     "output_type": "display_data"
    },
    {
     "name": "stdout",
     "output_type": "stream",
     "text": [
      "Sweep Name:  LR: 0.001, AC: relu, BS: 64, Optim: momentum, WI: random, WD: 0.5, No_HL: 4, HS: 32\n",
      "Epoch 0: Training Loss = 2.1066 Validation Loss = 2.1018\n",
      "Training Accuracy = 0.2901 Validation Accuracy = 0.2943\n",
      "Epoch 1: Training Loss = 1.7709 Validation Loss = 1.7629\n",
      "Training Accuracy = 0.4519 Validation Accuracy = 0.4507\n",
      "Epoch 2: Training Loss = 1.5051 Validation Loss = 1.4974\n",
      "Training Accuracy = 0.5157 Validation Accuracy = 0.5148\n",
      "Epoch 3: Training Loss = 1.3417 Validation Loss = 1.3345\n",
      "Training Accuracy = 0.5518 Validation Accuracy = 0.5550\n",
      "Epoch 4: Training Loss = 1.2284 Validation Loss = 1.2219\n",
      "Training Accuracy = 0.5797 Validation Accuracy = 0.5882\n"
     ]
    },
    {
     "data": {
      "text/html": [],
      "text/plain": [
       "<IPython.core.display.HTML object>"
      ]
     },
     "metadata": {},
     "output_type": "display_data"
    },
    {
     "data": {
      "text/html": [
       "<br>    <style><br>        .wandb-row {<br>            display: flex;<br>            flex-direction: row;<br>            flex-wrap: wrap;<br>            justify-content: flex-start;<br>            width: 100%;<br>        }<br>        .wandb-col {<br>            display: flex;<br>            flex-direction: column;<br>            flex-basis: 100%;<br>            flex: 1;<br>            padding: 10px;<br>        }<br>    </style><br><div class=\"wandb-row\"><div class=\"wandb-col\"><h3>Run history:</h3><br/><table class=\"wandb\"><tr><td>Validation Loss</td><td>▁</td></tr><tr><td>epoch</td><td>▁▃▅▆█</td></tr><tr><td>train_acc</td><td>▁▅▆▇█</td></tr><tr><td>train_loss</td><td>█▅▃▂▁</td></tr><tr><td>val_acc</td><td>▁▅▆▇█</td></tr><tr><td>val_loss</td><td>█▅▃▂▁</td></tr></table><br/></div><div class=\"wandb-col\"><h3>Run summary:</h3><br/><table class=\"wandb\"><tr><td>Validation Loss</td><td>1.22189</td></tr><tr><td>epoch</td><td>4</td></tr><tr><td>train_acc</td><td>0.57967</td></tr><tr><td>train_loss</td><td>1.22841</td></tr><tr><td>val_acc</td><td>0.58817</td></tr><tr><td>val_loss</td><td>1.22189</td></tr></table><br/></div></div>"
      ],
      "text/plain": [
       "<IPython.core.display.HTML object>"
      ]
     },
     "metadata": {},
     "output_type": "display_data"
    },
    {
     "data": {
      "text/html": [
       " View run <strong style=\"color:#cdcd00\">LR: 0.001, AC: relu, BS: 64, Optim: momentum, WI: random, WD: 0.5, No_HL: 4, HS: 32</strong> at: <a href='https://wandb.ai/da6401-assignments/assignment1/runs/iv9h98g2' target=\"_blank\">https://wandb.ai/da6401-assignments/assignment1/runs/iv9h98g2</a><br> View project at: <a href='https://wandb.ai/da6401-assignments/assignment1' target=\"_blank\">https://wandb.ai/da6401-assignments/assignment1</a><br>Synced 5 W&B file(s), 0 media file(s), 0 artifact file(s) and 0 other file(s)"
      ],
      "text/plain": [
       "<IPython.core.display.HTML object>"
      ]
     },
     "metadata": {},
     "output_type": "display_data"
    },
    {
     "data": {
      "text/html": [
       "Find logs at: <code>.\\wandb\\run-20250310_003252-iv9h98g2\\logs</code>"
      ],
      "text/plain": [
       "<IPython.core.display.HTML object>"
      ]
     },
     "metadata": {},
     "output_type": "display_data"
    },
    {
     "name": "stderr",
     "output_type": "stream",
     "text": [
      "\u001b[34m\u001b[1mwandb\u001b[0m: Agent Starting Run: bhap7x1z with config:\n",
      "\u001b[34m\u001b[1mwandb\u001b[0m: \tactivationFunc: tanh\n",
      "\u001b[34m\u001b[1mwandb\u001b[0m: \tbatchSize: 32\n",
      "\u001b[34m\u001b[1mwandb\u001b[0m: \thiddenLayer_Size: 128\n",
      "\u001b[34m\u001b[1mwandb\u001b[0m: \tlearningRate: 0.001\n",
      "\u001b[34m\u001b[1mwandb\u001b[0m: \tnum_epochs: 5\n",
      "\u001b[34m\u001b[1mwandb\u001b[0m: \tnum_hiddenLayers: 4\n",
      "\u001b[34m\u001b[1mwandb\u001b[0m: \toptimizer: sgd\n",
      "\u001b[34m\u001b[1mwandb\u001b[0m: \tweightDecay: 0.5\n",
      "\u001b[34m\u001b[1mwandb\u001b[0m: \tweightInit: xavier\n"
     ]
    },
    {
     "data": {
      "text/html": [
       "Ignoring project 'assignment1' when running a sweep."
      ],
      "text/plain": [
       "<IPython.core.display.HTML object>"
      ]
     },
     "metadata": {},
     "output_type": "display_data"
    },
    {
     "data": {
      "text/html": [
       "Ignoring entity 'da6401-assignments' when running a sweep."
      ],
      "text/plain": [
       "<IPython.core.display.HTML object>"
      ]
     },
     "metadata": {},
     "output_type": "display_data"
    },
    {
     "data": {
      "text/html": [
       "creating run (0.2s)"
      ],
      "text/plain": [
       "<IPython.core.display.HTML object>"
      ]
     },
     "metadata": {},
     "output_type": "display_data"
    },
    {
     "data": {
      "text/html": [
       "Tracking run with wandb version 0.19.8"
      ],
      "text/plain": [
       "<IPython.core.display.HTML object>"
      ]
     },
     "metadata": {},
     "output_type": "display_data"
    },
    {
     "data": {
      "text/html": [
       "Run data is saved locally in <code>c:\\Users\\prajv\\Downloads\\ass1\\DA6401_ASSIGNMENT1\\wandb\\run-20250310_003308-bhap7x1z</code>"
      ],
      "text/plain": [
       "<IPython.core.display.HTML object>"
      ]
     },
     "metadata": {},
     "output_type": "display_data"
    },
    {
     "data": {
      "text/html": [
       "Syncing run <strong><a href='https://wandb.ai/da6401-assignments/assignment1/runs/bhap7x1z' target=\"_blank\">soft-sweep-7</a></strong> to <a href='https://wandb.ai/da6401-assignments/assignment1' target=\"_blank\">Weights & Biases</a> (<a href='https://wandb.me/developer-guide' target=\"_blank\">docs</a>)<br>Sweep page: <a href='https://wandb.ai/da6401-assignments/assignment1/sweeps/syjentp9' target=\"_blank\">https://wandb.ai/da6401-assignments/assignment1/sweeps/syjentp9</a>"
      ],
      "text/plain": [
       "<IPython.core.display.HTML object>"
      ]
     },
     "metadata": {},
     "output_type": "display_data"
    },
    {
     "data": {
      "text/html": [
       " View project at <a href='https://wandb.ai/da6401-assignments/assignment1' target=\"_blank\">https://wandb.ai/da6401-assignments/assignment1</a>"
      ],
      "text/plain": [
       "<IPython.core.display.HTML object>"
      ]
     },
     "metadata": {},
     "output_type": "display_data"
    },
    {
     "data": {
      "text/html": [
       " View sweep at <a href='https://wandb.ai/da6401-assignments/assignment1/sweeps/syjentp9' target=\"_blank\">https://wandb.ai/da6401-assignments/assignment1/sweeps/syjentp9</a>"
      ],
      "text/plain": [
       "<IPython.core.display.HTML object>"
      ]
     },
     "metadata": {},
     "output_type": "display_data"
    },
    {
     "data": {
      "text/html": [
       " View run at <a href='https://wandb.ai/da6401-assignments/assignment1/runs/bhap7x1z' target=\"_blank\">https://wandb.ai/da6401-assignments/assignment1/runs/bhap7x1z</a>"
      ],
      "text/plain": [
       "<IPython.core.display.HTML object>"
      ]
     },
     "metadata": {},
     "output_type": "display_data"
    },
    {
     "name": "stdout",
     "output_type": "stream",
     "text": [
      "Sweep Name:  LR: 0.001, AC: tanh, BS: 32, Optim: sgd, WI: xavier, WD: 0.5, No_HL: 4, HS: 128\n",
      "Epoch 0: Training Loss = 2.0402 Validation Loss = 2.0253\n",
      "Training Accuracy = 0.3523 Validation Accuracy = 0.3537\n",
      "Epoch 1: Training Loss = 1.6346 Validation Loss = 1.6328\n",
      "Training Accuracy = 0.4557 Validation Accuracy = 0.4585\n",
      "Epoch 2: Training Loss = 1.4360 Validation Loss = 1.4351\n",
      "Training Accuracy = 0.5123 Validation Accuracy = 0.5173\n",
      "Epoch 3: Training Loss = 1.3118 Validation Loss = 1.3096\n",
      "Training Accuracy = 0.5499 Validation Accuracy = 0.5583\n",
      "Epoch 4: Training Loss = 1.2256 Validation Loss = 1.2224\n",
      "Training Accuracy = 0.5768 Validation Accuracy = 0.5828\n"
     ]
    },
    {
     "data": {
      "text/html": [],
      "text/plain": [
       "<IPython.core.display.HTML object>"
      ]
     },
     "metadata": {},
     "output_type": "display_data"
    },
    {
     "data": {
      "text/html": [
       "<br>    <style><br>        .wandb-row {<br>            display: flex;<br>            flex-direction: row;<br>            flex-wrap: wrap;<br>            justify-content: flex-start;<br>            width: 100%;<br>        }<br>        .wandb-col {<br>            display: flex;<br>            flex-direction: column;<br>            flex-basis: 100%;<br>            flex: 1;<br>            padding: 10px;<br>        }<br>    </style><br><div class=\"wandb-row\"><div class=\"wandb-col\"><h3>Run history:</h3><br/><table class=\"wandb\"><tr><td>Validation Loss</td><td>▁</td></tr><tr><td>epoch</td><td>▁▃▅▆█</td></tr><tr><td>train_acc</td><td>▁▄▆▇█</td></tr><tr><td>train_loss</td><td>█▅▃▂▁</td></tr><tr><td>val_acc</td><td>▁▄▆▇█</td></tr><tr><td>val_loss</td><td>█▅▃▂▁</td></tr></table><br/></div><div class=\"wandb-col\"><h3>Run summary:</h3><br/><table class=\"wandb\"><tr><td>Validation Loss</td><td>1.22236</td></tr><tr><td>epoch</td><td>4</td></tr><tr><td>train_acc</td><td>0.5768</td></tr><tr><td>train_loss</td><td>1.22564</td></tr><tr><td>val_acc</td><td>0.58283</td></tr><tr><td>val_loss</td><td>1.22236</td></tr></table><br/></div></div>"
      ],
      "text/plain": [
       "<IPython.core.display.HTML object>"
      ]
     },
     "metadata": {},
     "output_type": "display_data"
    },
    {
     "data": {
      "text/html": [
       " View run <strong style=\"color:#cdcd00\">LR: 0.001, AC: tanh, BS: 32, Optim: sgd, WI: xavier, WD: 0.5, No_HL: 4, HS: 128</strong> at: <a href='https://wandb.ai/da6401-assignments/assignment1/runs/bhap7x1z' target=\"_blank\">https://wandb.ai/da6401-assignments/assignment1/runs/bhap7x1z</a><br> View project at: <a href='https://wandb.ai/da6401-assignments/assignment1' target=\"_blank\">https://wandb.ai/da6401-assignments/assignment1</a><br>Synced 5 W&B file(s), 0 media file(s), 0 artifact file(s) and 0 other file(s)"
      ],
      "text/plain": [
       "<IPython.core.display.HTML object>"
      ]
     },
     "metadata": {},
     "output_type": "display_data"
    },
    {
     "data": {
      "text/html": [
       "Find logs at: <code>.\\wandb\\run-20250310_003308-bhap7x1z\\logs</code>"
      ],
      "text/plain": [
       "<IPython.core.display.HTML object>"
      ]
     },
     "metadata": {},
     "output_type": "display_data"
    },
    {
     "name": "stderr",
     "output_type": "stream",
     "text": [
      "\u001b[34m\u001b[1mwandb\u001b[0m: Sweep Agent: Waiting for job.\n",
      "\u001b[34m\u001b[1mwandb\u001b[0m: Job received.\n",
      "\u001b[34m\u001b[1mwandb\u001b[0m: Agent Starting Run: tnnly4ki with config:\n",
      "\u001b[34m\u001b[1mwandb\u001b[0m: \tactivationFunc: tanh\n",
      "\u001b[34m\u001b[1mwandb\u001b[0m: \tbatchSize: 64\n",
      "\u001b[34m\u001b[1mwandb\u001b[0m: \thiddenLayer_Size: 128\n",
      "\u001b[34m\u001b[1mwandb\u001b[0m: \tlearningRate: 0.001\n",
      "\u001b[34m\u001b[1mwandb\u001b[0m: \tnum_epochs: 10\n",
      "\u001b[34m\u001b[1mwandb\u001b[0m: \tnum_hiddenLayers: 4\n",
      "\u001b[34m\u001b[1mwandb\u001b[0m: \toptimizer: nadam\n",
      "\u001b[34m\u001b[1mwandb\u001b[0m: \tweightDecay: 0\n",
      "\u001b[34m\u001b[1mwandb\u001b[0m: \tweightInit: random\n"
     ]
    },
    {
     "data": {
      "text/html": [
       "Ignoring project 'assignment1' when running a sweep."
      ],
      "text/plain": [
       "<IPython.core.display.HTML object>"
      ]
     },
     "metadata": {},
     "output_type": "display_data"
    },
    {
     "data": {
      "text/html": [
       "Ignoring entity 'da6401-assignments' when running a sweep."
      ],
      "text/plain": [
       "<IPython.core.display.HTML object>"
      ]
     },
     "metadata": {},
     "output_type": "display_data"
    },
    {
     "data": {
      "text/html": [
       "creating run (0.2s)"
      ],
      "text/plain": [
       "<IPython.core.display.HTML object>"
      ]
     },
     "metadata": {},
     "output_type": "display_data"
    },
    {
     "data": {
      "text/html": [
       "Tracking run with wandb version 0.19.8"
      ],
      "text/plain": [
       "<IPython.core.display.HTML object>"
      ]
     },
     "metadata": {},
     "output_type": "display_data"
    },
    {
     "data": {
      "text/html": [
       "Run data is saved locally in <code>c:\\Users\\prajv\\Downloads\\ass1\\DA6401_ASSIGNMENT1\\wandb\\run-20250310_003349-tnnly4ki</code>"
      ],
      "text/plain": [
       "<IPython.core.display.HTML object>"
      ]
     },
     "metadata": {},
     "output_type": "display_data"
    },
    {
     "data": {
      "text/html": [
       "Syncing run <strong><a href='https://wandb.ai/da6401-assignments/assignment1/runs/tnnly4ki' target=\"_blank\">exalted-sweep-8</a></strong> to <a href='https://wandb.ai/da6401-assignments/assignment1' target=\"_blank\">Weights & Biases</a> (<a href='https://wandb.me/developer-guide' target=\"_blank\">docs</a>)<br>Sweep page: <a href='https://wandb.ai/da6401-assignments/assignment1/sweeps/syjentp9' target=\"_blank\">https://wandb.ai/da6401-assignments/assignment1/sweeps/syjentp9</a>"
      ],
      "text/plain": [
       "<IPython.core.display.HTML object>"
      ]
     },
     "metadata": {},
     "output_type": "display_data"
    },
    {
     "data": {
      "text/html": [
       " View project at <a href='https://wandb.ai/da6401-assignments/assignment1' target=\"_blank\">https://wandb.ai/da6401-assignments/assignment1</a>"
      ],
      "text/plain": [
       "<IPython.core.display.HTML object>"
      ]
     },
     "metadata": {},
     "output_type": "display_data"
    },
    {
     "data": {
      "text/html": [
       " View sweep at <a href='https://wandb.ai/da6401-assignments/assignment1/sweeps/syjentp9' target=\"_blank\">https://wandb.ai/da6401-assignments/assignment1/sweeps/syjentp9</a>"
      ],
      "text/plain": [
       "<IPython.core.display.HTML object>"
      ]
     },
     "metadata": {},
     "output_type": "display_data"
    },
    {
     "data": {
      "text/html": [
       " View run at <a href='https://wandb.ai/da6401-assignments/assignment1/runs/tnnly4ki' target=\"_blank\">https://wandb.ai/da6401-assignments/assignment1/runs/tnnly4ki</a>"
      ],
      "text/plain": [
       "<IPython.core.display.HTML object>"
      ]
     },
     "metadata": {},
     "output_type": "display_data"
    },
    {
     "name": "stdout",
     "output_type": "stream",
     "text": [
      "Sweep Name:  LR: 0.001, AC: tanh, BS: 64, Optim: nadam, WI: random, WD: 0, No_HL: 4, HS: 128\n",
      "Epoch 0: Training Loss = 0.5235 Validation Loss = 0.5438\n",
      "Training Accuracy = 0.8110 Validation Accuracy = 0.8087\n",
      "Epoch 1: Training Loss = 0.4562 Validation Loss = 0.4906\n",
      "Training Accuracy = 0.8352 Validation Accuracy = 0.8245\n",
      "Epoch 2: Training Loss = 0.4189 Validation Loss = 0.4618\n",
      "Training Accuracy = 0.8459 Validation Accuracy = 0.8337\n",
      "Epoch 3: Training Loss = 0.3843 Validation Loss = 0.4407\n",
      "Training Accuracy = 0.8608 Validation Accuracy = 0.8442\n",
      "Epoch 4: Training Loss = 0.3680 Validation Loss = 0.4253\n",
      "Training Accuracy = 0.8635 Validation Accuracy = 0.8462\n",
      "Epoch 5: Training Loss = 0.3522 Validation Loss = 0.4199\n",
      "Training Accuracy = 0.8710 Validation Accuracy = 0.8488\n",
      "Epoch 6: Training Loss = 0.3270 Validation Loss = 0.4125\n",
      "Training Accuracy = 0.8820 Validation Accuracy = 0.8527\n",
      "Epoch 7: Training Loss = 0.3211 Validation Loss = 0.4112\n",
      "Training Accuracy = 0.8820 Validation Accuracy = 0.8545\n",
      "Epoch 8: Training Loss = 0.2987 Validation Loss = 0.4005\n",
      "Training Accuracy = 0.8920 Validation Accuracy = 0.8567\n",
      "Epoch 9: Training Loss = 0.2932 Validation Loss = 0.4087\n",
      "Training Accuracy = 0.8927 Validation Accuracy = 0.8565\n"
     ]
    },
    {
     "data": {
      "text/html": [],
      "text/plain": [
       "<IPython.core.display.HTML object>"
      ]
     },
     "metadata": {},
     "output_type": "display_data"
    },
    {
     "data": {
      "text/html": [
       "<br>    <style><br>        .wandb-row {<br>            display: flex;<br>            flex-direction: row;<br>            flex-wrap: wrap;<br>            justify-content: flex-start;<br>            width: 100%;<br>        }<br>        .wandb-col {<br>            display: flex;<br>            flex-direction: column;<br>            flex-basis: 100%;<br>            flex: 1;<br>            padding: 10px;<br>        }<br>    </style><br><div class=\"wandb-row\"><div class=\"wandb-col\"><h3>Run history:</h3><br/><table class=\"wandb\"><tr><td>Validation Loss</td><td>▁</td></tr><tr><td>epoch</td><td>▁▂▃▃▄▅▆▆▇█</td></tr><tr><td>train_acc</td><td>▁▃▄▅▅▆▇▇██</td></tr><tr><td>train_loss</td><td>█▆▅▄▃▃▂▂▁▁</td></tr><tr><td>val_acc</td><td>▁▃▅▆▆▇▇███</td></tr><tr><td>val_loss</td><td>█▅▄▃▂▂▂▂▁▁</td></tr></table><br/></div><div class=\"wandb-col\"><h3>Run summary:</h3><br/><table class=\"wandb\"><tr><td>Validation Loss</td><td>0.40873</td></tr><tr><td>epoch</td><td>9</td></tr><tr><td>train_acc</td><td>0.89272</td></tr><tr><td>train_loss</td><td>0.2932</td></tr><tr><td>val_acc</td><td>0.8565</td></tr><tr><td>val_loss</td><td>0.40873</td></tr></table><br/></div></div>"
      ],
      "text/plain": [
       "<IPython.core.display.HTML object>"
      ]
     },
     "metadata": {},
     "output_type": "display_data"
    },
    {
     "data": {
      "text/html": [
       " View run <strong style=\"color:#cdcd00\">LR: 0.001, AC: tanh, BS: 64, Optim: nadam, WI: random, WD: 0, No_HL: 4, HS: 128</strong> at: <a href='https://wandb.ai/da6401-assignments/assignment1/runs/tnnly4ki' target=\"_blank\">https://wandb.ai/da6401-assignments/assignment1/runs/tnnly4ki</a><br> View project at: <a href='https://wandb.ai/da6401-assignments/assignment1' target=\"_blank\">https://wandb.ai/da6401-assignments/assignment1</a><br>Synced 5 W&B file(s), 0 media file(s), 0 artifact file(s) and 0 other file(s)"
      ],
      "text/plain": [
       "<IPython.core.display.HTML object>"
      ]
     },
     "metadata": {},
     "output_type": "display_data"
    },
    {
     "data": {
      "text/html": [
       "Find logs at: <code>.\\wandb\\run-20250310_003349-tnnly4ki\\logs</code>"
      ],
      "text/plain": [
       "<IPython.core.display.HTML object>"
      ]
     },
     "metadata": {},
     "output_type": "display_data"
    },
    {
     "name": "stderr",
     "output_type": "stream",
     "text": [
      "\u001b[34m\u001b[1mwandb\u001b[0m: Agent Starting Run: ok8d8nac with config:\n",
      "\u001b[34m\u001b[1mwandb\u001b[0m: \tactivationFunc: sigmoid\n",
      "\u001b[34m\u001b[1mwandb\u001b[0m: \tbatchSize: 32\n",
      "\u001b[34m\u001b[1mwandb\u001b[0m: \thiddenLayer_Size: 128\n",
      "\u001b[34m\u001b[1mwandb\u001b[0m: \tlearningRate: 0.001\n",
      "\u001b[34m\u001b[1mwandb\u001b[0m: \tnum_epochs: 5\n",
      "\u001b[34m\u001b[1mwandb\u001b[0m: \tnum_hiddenLayers: 3\n",
      "\u001b[34m\u001b[1mwandb\u001b[0m: \toptimizer: momentum\n",
      "\u001b[34m\u001b[1mwandb\u001b[0m: \tweightDecay: 0.5\n",
      "\u001b[34m\u001b[1mwandb\u001b[0m: \tweightInit: random\n"
     ]
    },
    {
     "data": {
      "text/html": [
       "Ignoring project 'assignment1' when running a sweep."
      ],
      "text/plain": [
       "<IPython.core.display.HTML object>"
      ]
     },
     "metadata": {},
     "output_type": "display_data"
    },
    {
     "data": {
      "text/html": [
       "Ignoring entity 'da6401-assignments' when running a sweep."
      ],
      "text/plain": [
       "<IPython.core.display.HTML object>"
      ]
     },
     "metadata": {},
     "output_type": "display_data"
    },
    {
     "data": {
      "text/html": [
       "creating run (0.2s)"
      ],
      "text/plain": [
       "<IPython.core.display.HTML object>"
      ]
     },
     "metadata": {},
     "output_type": "display_data"
    },
    {
     "data": {
      "text/html": [
       "Tracking run with wandb version 0.19.8"
      ],
      "text/plain": [
       "<IPython.core.display.HTML object>"
      ]
     },
     "metadata": {},
     "output_type": "display_data"
    },
    {
     "data": {
      "text/html": [
       "Run data is saved locally in <code>c:\\Users\\prajv\\Downloads\\ass1\\DA6401_ASSIGNMENT1\\wandb\\run-20250310_003458-ok8d8nac</code>"
      ],
      "text/plain": [
       "<IPython.core.display.HTML object>"
      ]
     },
     "metadata": {},
     "output_type": "display_data"
    },
    {
     "data": {
      "text/html": [
       "Syncing run <strong><a href='https://wandb.ai/da6401-assignments/assignment1/runs/ok8d8nac' target=\"_blank\">visionary-sweep-9</a></strong> to <a href='https://wandb.ai/da6401-assignments/assignment1' target=\"_blank\">Weights & Biases</a> (<a href='https://wandb.me/developer-guide' target=\"_blank\">docs</a>)<br>Sweep page: <a href='https://wandb.ai/da6401-assignments/assignment1/sweeps/syjentp9' target=\"_blank\">https://wandb.ai/da6401-assignments/assignment1/sweeps/syjentp9</a>"
      ],
      "text/plain": [
       "<IPython.core.display.HTML object>"
      ]
     },
     "metadata": {},
     "output_type": "display_data"
    },
    {
     "data": {
      "text/html": [
       " View project at <a href='https://wandb.ai/da6401-assignments/assignment1' target=\"_blank\">https://wandb.ai/da6401-assignments/assignment1</a>"
      ],
      "text/plain": [
       "<IPython.core.display.HTML object>"
      ]
     },
     "metadata": {},
     "output_type": "display_data"
    },
    {
     "data": {
      "text/html": [
       " View sweep at <a href='https://wandb.ai/da6401-assignments/assignment1/sweeps/syjentp9' target=\"_blank\">https://wandb.ai/da6401-assignments/assignment1/sweeps/syjentp9</a>"
      ],
      "text/plain": [
       "<IPython.core.display.HTML object>"
      ]
     },
     "metadata": {},
     "output_type": "display_data"
    },
    {
     "data": {
      "text/html": [
       " View run at <a href='https://wandb.ai/da6401-assignments/assignment1/runs/ok8d8nac' target=\"_blank\">https://wandb.ai/da6401-assignments/assignment1/runs/ok8d8nac</a>"
      ],
      "text/plain": [
       "<IPython.core.display.HTML object>"
      ]
     },
     "metadata": {},
     "output_type": "display_data"
    },
    {
     "name": "stdout",
     "output_type": "stream",
     "text": [
      "Sweep Name:  LR: 0.001, AC: sigmoid, BS: 32, Optim: momentum, WI: random, WD: 0.5, No_HL: 3, HS: 128\n",
      "Epoch 0: Training Loss = 1.1079 Validation Loss = 1.1043\n",
      "Training Accuracy = 0.6231 Validation Accuracy = 0.6200\n",
      "Epoch 1: Training Loss = 0.9187 Validation Loss = 0.9168\n",
      "Training Accuracy = 0.6753 Validation Accuracy = 0.6802\n",
      "Epoch 2: Training Loss = 0.8329 Validation Loss = 0.8334\n",
      "Training Accuracy = 0.7063 Validation Accuracy = 0.7112\n",
      "Epoch 3: Training Loss = 0.7829 Validation Loss = 0.7866\n",
      "Training Accuracy = 0.7216 Validation Accuracy = 0.7222\n",
      "Epoch 4: Training Loss = 0.7489 Validation Loss = 0.7568\n",
      "Training Accuracy = 0.7312 Validation Accuracy = 0.7300\n"
     ]
    },
    {
     "data": {
      "text/html": [],
      "text/plain": [
       "<IPython.core.display.HTML object>"
      ]
     },
     "metadata": {},
     "output_type": "display_data"
    },
    {
     "data": {
      "text/html": [
       "<br>    <style><br>        .wandb-row {<br>            display: flex;<br>            flex-direction: row;<br>            flex-wrap: wrap;<br>            justify-content: flex-start;<br>            width: 100%;<br>        }<br>        .wandb-col {<br>            display: flex;<br>            flex-direction: column;<br>            flex-basis: 100%;<br>            flex: 1;<br>            padding: 10px;<br>        }<br>    </style><br><div class=\"wandb-row\"><div class=\"wandb-col\"><h3>Run history:</h3><br/><table class=\"wandb\"><tr><td>Validation Loss</td><td>▁</td></tr><tr><td>epoch</td><td>▁▃▅▆█</td></tr><tr><td>train_acc</td><td>▁▄▆▇█</td></tr><tr><td>train_loss</td><td>█▄▃▂▁</td></tr><tr><td>val_acc</td><td>▁▅▇██</td></tr><tr><td>val_loss</td><td>█▄▃▂▁</td></tr></table><br/></div><div class=\"wandb-col\"><h3>Run summary:</h3><br/><table class=\"wandb\"><tr><td>Validation Loss</td><td>0.75684</td></tr><tr><td>epoch</td><td>4</td></tr><tr><td>train_acc</td><td>0.73122</td></tr><tr><td>train_loss</td><td>0.74892</td></tr><tr><td>val_acc</td><td>0.73</td></tr><tr><td>val_loss</td><td>0.75684</td></tr></table><br/></div></div>"
      ],
      "text/plain": [
       "<IPython.core.display.HTML object>"
      ]
     },
     "metadata": {},
     "output_type": "display_data"
    },
    {
     "data": {
      "text/html": [
       " View run <strong style=\"color:#cdcd00\">LR: 0.001, AC: sigmoid, BS: 32, Optim: momentum, WI: random, WD: 0.5, No_HL: 3, HS: 128</strong> at: <a href='https://wandb.ai/da6401-assignments/assignment1/runs/ok8d8nac' target=\"_blank\">https://wandb.ai/da6401-assignments/assignment1/runs/ok8d8nac</a><br> View project at: <a href='https://wandb.ai/da6401-assignments/assignment1' target=\"_blank\">https://wandb.ai/da6401-assignments/assignment1</a><br>Synced 5 W&B file(s), 0 media file(s), 0 artifact file(s) and 0 other file(s)"
      ],
      "text/plain": [
       "<IPython.core.display.HTML object>"
      ]
     },
     "metadata": {},
     "output_type": "display_data"
    },
    {
     "data": {
      "text/html": [
       "Find logs at: <code>.\\wandb\\run-20250310_003458-ok8d8nac\\logs</code>"
      ],
      "text/plain": [
       "<IPython.core.display.HTML object>"
      ]
     },
     "metadata": {},
     "output_type": "display_data"
    },
    {
     "name": "stderr",
     "output_type": "stream",
     "text": [
      "\u001b[34m\u001b[1mwandb\u001b[0m: Agent Starting Run: u0kbe7ns with config:\n",
      "\u001b[34m\u001b[1mwandb\u001b[0m: \tactivationFunc: tanh\n",
      "\u001b[34m\u001b[1mwandb\u001b[0m: \tbatchSize: 16\n",
      "\u001b[34m\u001b[1mwandb\u001b[0m: \thiddenLayer_Size: 64\n",
      "\u001b[34m\u001b[1mwandb\u001b[0m: \tlearningRate: 0.001\n",
      "\u001b[34m\u001b[1mwandb\u001b[0m: \tnum_epochs: 5\n",
      "\u001b[34m\u001b[1mwandb\u001b[0m: \tnum_hiddenLayers: 3\n",
      "\u001b[34m\u001b[1mwandb\u001b[0m: \toptimizer: sgd\n",
      "\u001b[34m\u001b[1mwandb\u001b[0m: \tweightDecay: 0.0005\n",
      "\u001b[34m\u001b[1mwandb\u001b[0m: \tweightInit: random\n"
     ]
    },
    {
     "data": {
      "text/html": [
       "Ignoring project 'assignment1' when running a sweep."
      ],
      "text/plain": [
       "<IPython.core.display.HTML object>"
      ]
     },
     "metadata": {},
     "output_type": "display_data"
    },
    {
     "data": {
      "text/html": [
       "Ignoring entity 'da6401-assignments' when running a sweep."
      ],
      "text/plain": [
       "<IPython.core.display.HTML object>"
      ]
     },
     "metadata": {},
     "output_type": "display_data"
    },
    {
     "data": {
      "text/html": [
       "creating run (0.2s)"
      ],
      "text/plain": [
       "<IPython.core.display.HTML object>"
      ]
     },
     "metadata": {},
     "output_type": "display_data"
    },
    {
     "data": {
      "text/html": [
       "Tracking run with wandb version 0.19.8"
      ],
      "text/plain": [
       "<IPython.core.display.HTML object>"
      ]
     },
     "metadata": {},
     "output_type": "display_data"
    },
    {
     "data": {
      "text/html": [
       "Run data is saved locally in <code>c:\\Users\\prajv\\Downloads\\ass1\\DA6401_ASSIGNMENT1\\wandb\\run-20250310_003532-u0kbe7ns</code>"
      ],
      "text/plain": [
       "<IPython.core.display.HTML object>"
      ]
     },
     "metadata": {},
     "output_type": "display_data"
    },
    {
     "data": {
      "text/html": [
       "Syncing run <strong><a href='https://wandb.ai/da6401-assignments/assignment1/runs/u0kbe7ns' target=\"_blank\">woven-sweep-10</a></strong> to <a href='https://wandb.ai/da6401-assignments/assignment1' target=\"_blank\">Weights & Biases</a> (<a href='https://wandb.me/developer-guide' target=\"_blank\">docs</a>)<br>Sweep page: <a href='https://wandb.ai/da6401-assignments/assignment1/sweeps/syjentp9' target=\"_blank\">https://wandb.ai/da6401-assignments/assignment1/sweeps/syjentp9</a>"
      ],
      "text/plain": [
       "<IPython.core.display.HTML object>"
      ]
     },
     "metadata": {},
     "output_type": "display_data"
    },
    {
     "data": {
      "text/html": [
       " View project at <a href='https://wandb.ai/da6401-assignments/assignment1' target=\"_blank\">https://wandb.ai/da6401-assignments/assignment1</a>"
      ],
      "text/plain": [
       "<IPython.core.display.HTML object>"
      ]
     },
     "metadata": {},
     "output_type": "display_data"
    },
    {
     "data": {
      "text/html": [
       " View sweep at <a href='https://wandb.ai/da6401-assignments/assignment1/sweeps/syjentp9' target=\"_blank\">https://wandb.ai/da6401-assignments/assignment1/sweeps/syjentp9</a>"
      ],
      "text/plain": [
       "<IPython.core.display.HTML object>"
      ]
     },
     "metadata": {},
     "output_type": "display_data"
    },
    {
     "data": {
      "text/html": [
       " View run at <a href='https://wandb.ai/da6401-assignments/assignment1/runs/u0kbe7ns' target=\"_blank\">https://wandb.ai/da6401-assignments/assignment1/runs/u0kbe7ns</a>"
      ],
      "text/plain": [
       "<IPython.core.display.HTML object>"
      ]
     },
     "metadata": {},
     "output_type": "display_data"
    },
    {
     "name": "stdout",
     "output_type": "stream",
     "text": [
      "Sweep Name:  LR: 0.001, AC: tanh, BS: 16, Optim: sgd, WI: random, WD: 0.0005, No_HL: 3, HS: 64\n",
      "Epoch 0: Training Loss = 1.8394 Validation Loss = 1.8353\n",
      "Training Accuracy = 0.3739 Validation Accuracy = 0.3757\n",
      "Epoch 1: Training Loss = 1.5205 Validation Loss = 1.5117\n",
      "Training Accuracy = 0.4804 Validation Accuracy = 0.4898\n",
      "Epoch 2: Training Loss = 1.3449 Validation Loss = 1.3373\n",
      "Training Accuracy = 0.5379 Validation Accuracy = 0.5510\n",
      "Epoch 3: Training Loss = 1.2334 Validation Loss = 1.2269\n",
      "Training Accuracy = 0.5721 Validation Accuracy = 0.5848\n",
      "Epoch 4: Training Loss = 1.1560 Validation Loss = 1.1519\n",
      "Training Accuracy = 0.5977 Validation Accuracy = 0.6122\n"
     ]
    },
    {
     "data": {
      "text/html": [],
      "text/plain": [
       "<IPython.core.display.HTML object>"
      ]
     },
     "metadata": {},
     "output_type": "display_data"
    },
    {
     "data": {
      "text/html": [
       "<br>    <style><br>        .wandb-row {<br>            display: flex;<br>            flex-direction: row;<br>            flex-wrap: wrap;<br>            justify-content: flex-start;<br>            width: 100%;<br>        }<br>        .wandb-col {<br>            display: flex;<br>            flex-direction: column;<br>            flex-basis: 100%;<br>            flex: 1;<br>            padding: 10px;<br>        }<br>    </style><br><div class=\"wandb-row\"><div class=\"wandb-col\"><h3>Run history:</h3><br/><table class=\"wandb\"><tr><td>Validation Loss</td><td>▁</td></tr><tr><td>epoch</td><td>▁▃▅▆█</td></tr><tr><td>train_acc</td><td>▁▄▆▇█</td></tr><tr><td>train_loss</td><td>█▅▃▂▁</td></tr><tr><td>val_acc</td><td>▁▄▆▇█</td></tr><tr><td>val_loss</td><td>█▅▃▂▁</td></tr></table><br/></div><div class=\"wandb-col\"><h3>Run summary:</h3><br/><table class=\"wandb\"><tr><td>Validation Loss</td><td>1.15193</td></tr><tr><td>epoch</td><td>4</td></tr><tr><td>train_acc</td><td>0.5977</td></tr><tr><td>train_loss</td><td>1.15601</td></tr><tr><td>val_acc</td><td>0.61217</td></tr><tr><td>val_loss</td><td>1.15193</td></tr></table><br/></div></div>"
      ],
      "text/plain": [
       "<IPython.core.display.HTML object>"
      ]
     },
     "metadata": {},
     "output_type": "display_data"
    },
    {
     "data": {
      "text/html": [
       " View run <strong style=\"color:#cdcd00\">LR: 0.001, AC: tanh, BS: 16, Optim: sgd, WI: random, WD: 0.0005, No_HL: 3, HS: 64</strong> at: <a href='https://wandb.ai/da6401-assignments/assignment1/runs/u0kbe7ns' target=\"_blank\">https://wandb.ai/da6401-assignments/assignment1/runs/u0kbe7ns</a><br> View project at: <a href='https://wandb.ai/da6401-assignments/assignment1' target=\"_blank\">https://wandb.ai/da6401-assignments/assignment1</a><br>Synced 5 W&B file(s), 0 media file(s), 0 artifact file(s) and 0 other file(s)"
      ],
      "text/plain": [
       "<IPython.core.display.HTML object>"
      ]
     },
     "metadata": {},
     "output_type": "display_data"
    },
    {
     "data": {
      "text/html": [
       "Find logs at: <code>.\\wandb\\run-20250310_003532-u0kbe7ns\\logs</code>"
      ],
      "text/plain": [
       "<IPython.core.display.HTML object>"
      ]
     },
     "metadata": {},
     "output_type": "display_data"
    },
    {
     "name": "stderr",
     "output_type": "stream",
     "text": [
      "\u001b[34m\u001b[1mwandb\u001b[0m: Sweep Agent: Waiting for job.\n",
      "\u001b[34m\u001b[1mwandb\u001b[0m: Job received.\n",
      "\u001b[34m\u001b[1mwandb\u001b[0m: Agent Starting Run: l8vxjz09 with config:\n",
      "\u001b[34m\u001b[1mwandb\u001b[0m: \tactivationFunc: tanh\n",
      "\u001b[34m\u001b[1mwandb\u001b[0m: \tbatchSize: 32\n",
      "\u001b[34m\u001b[1mwandb\u001b[0m: \thiddenLayer_Size: 64\n",
      "\u001b[34m\u001b[1mwandb\u001b[0m: \tlearningRate: 0.001\n",
      "\u001b[34m\u001b[1mwandb\u001b[0m: \tnum_epochs: 10\n",
      "\u001b[34m\u001b[1mwandb\u001b[0m: \tnum_hiddenLayers: 3\n",
      "\u001b[34m\u001b[1mwandb\u001b[0m: \toptimizer: rmsprop\n",
      "\u001b[34m\u001b[1mwandb\u001b[0m: \tweightDecay: 0.5\n",
      "\u001b[34m\u001b[1mwandb\u001b[0m: \tweightInit: random\n"
     ]
    },
    {
     "data": {
      "text/html": [
       "Ignoring project 'assignment1' when running a sweep."
      ],
      "text/plain": [
       "<IPython.core.display.HTML object>"
      ]
     },
     "metadata": {},
     "output_type": "display_data"
    },
    {
     "data": {
      "text/html": [
       "Ignoring entity 'da6401-assignments' when running a sweep."
      ],
      "text/plain": [
       "<IPython.core.display.HTML object>"
      ]
     },
     "metadata": {},
     "output_type": "display_data"
    },
    {
     "data": {
      "text/html": [
       "creating run (0.4s)"
      ],
      "text/plain": [
       "<IPython.core.display.HTML object>"
      ]
     },
     "metadata": {},
     "output_type": "display_data"
    },
    {
     "data": {
      "text/html": [
       "Tracking run with wandb version 0.19.8"
      ],
      "text/plain": [
       "<IPython.core.display.HTML object>"
      ]
     },
     "metadata": {},
     "output_type": "display_data"
    },
    {
     "data": {
      "text/html": [
       "Run data is saved locally in <code>c:\\Users\\prajv\\Downloads\\ass1\\DA6401_ASSIGNMENT1\\wandb\\run-20250310_003601-l8vxjz09</code>"
      ],
      "text/plain": [
       "<IPython.core.display.HTML object>"
      ]
     },
     "metadata": {},
     "output_type": "display_data"
    },
    {
     "data": {
      "text/html": [
       "Syncing run <strong><a href='https://wandb.ai/da6401-assignments/assignment1/runs/l8vxjz09' target=\"_blank\">jumping-sweep-11</a></strong> to <a href='https://wandb.ai/da6401-assignments/assignment1' target=\"_blank\">Weights & Biases</a> (<a href='https://wandb.me/developer-guide' target=\"_blank\">docs</a>)<br>Sweep page: <a href='https://wandb.ai/da6401-assignments/assignment1/sweeps/syjentp9' target=\"_blank\">https://wandb.ai/da6401-assignments/assignment1/sweeps/syjentp9</a>"
      ],
      "text/plain": [
       "<IPython.core.display.HTML object>"
      ]
     },
     "metadata": {},
     "output_type": "display_data"
    },
    {
     "data": {
      "text/html": [
       " View project at <a href='https://wandb.ai/da6401-assignments/assignment1' target=\"_blank\">https://wandb.ai/da6401-assignments/assignment1</a>"
      ],
      "text/plain": [
       "<IPython.core.display.HTML object>"
      ]
     },
     "metadata": {},
     "output_type": "display_data"
    },
    {
     "data": {
      "text/html": [
       " View sweep at <a href='https://wandb.ai/da6401-assignments/assignment1/sweeps/syjentp9' target=\"_blank\">https://wandb.ai/da6401-assignments/assignment1/sweeps/syjentp9</a>"
      ],
      "text/plain": [
       "<IPython.core.display.HTML object>"
      ]
     },
     "metadata": {},
     "output_type": "display_data"
    },
    {
     "data": {
      "text/html": [
       " View run at <a href='https://wandb.ai/da6401-assignments/assignment1/runs/l8vxjz09' target=\"_blank\">https://wandb.ai/da6401-assignments/assignment1/runs/l8vxjz09</a>"
      ],
      "text/plain": [
       "<IPython.core.display.HTML object>"
      ]
     },
     "metadata": {},
     "output_type": "display_data"
    },
    {
     "name": "stdout",
     "output_type": "stream",
     "text": [
      "Sweep Name:  LR: 0.001, AC: tanh, BS: 32, Optim: rmsprop, WI: random, WD: 0.5, No_HL: 3, HS: 64\n",
      "Epoch 0: Training Loss = 0.5237 Validation Loss = 0.5341\n",
      "Training Accuracy = 0.8117 Validation Accuracy = 0.8127\n",
      "Epoch 1: Training Loss = 0.4742 Validation Loss = 0.4912\n",
      "Training Accuracy = 0.8256 Validation Accuracy = 0.8272\n",
      "Epoch 2: Training Loss = 0.4323 Validation Loss = 0.4623\n",
      "Training Accuracy = 0.8458 Validation Accuracy = 0.8355\n",
      "Epoch 3: Training Loss = 0.4021 Validation Loss = 0.4400\n",
      "Training Accuracy = 0.8536 Validation Accuracy = 0.8420\n",
      "Epoch 4: Training Loss = 0.3897 Validation Loss = 0.4351\n",
      "Training Accuracy = 0.8582 Validation Accuracy = 0.8413\n",
      "Epoch 5: Training Loss = 0.3656 Validation Loss = 0.4187\n",
      "Training Accuracy = 0.8667 Validation Accuracy = 0.8528\n",
      "Epoch 6: Training Loss = 0.3480 Validation Loss = 0.4021\n",
      "Training Accuracy = 0.8727 Validation Accuracy = 0.8545\n",
      "Epoch 7: Training Loss = 0.3374 Validation Loss = 0.4005\n",
      "Training Accuracy = 0.8765 Validation Accuracy = 0.8578\n",
      "Epoch 8: Training Loss = 0.3297 Validation Loss = 0.3881\n",
      "Training Accuracy = 0.8801 Validation Accuracy = 0.8627\n",
      "Epoch 9: Training Loss = 0.3197 Validation Loss = 0.3898\n",
      "Training Accuracy = 0.8824 Validation Accuracy = 0.8587\n"
     ]
    },
    {
     "data": {
      "text/html": [],
      "text/plain": [
       "<IPython.core.display.HTML object>"
      ]
     },
     "metadata": {},
     "output_type": "display_data"
    },
    {
     "data": {
      "text/html": [
       "<br>    <style><br>        .wandb-row {<br>            display: flex;<br>            flex-direction: row;<br>            flex-wrap: wrap;<br>            justify-content: flex-start;<br>            width: 100%;<br>        }<br>        .wandb-col {<br>            display: flex;<br>            flex-direction: column;<br>            flex-basis: 100%;<br>            flex: 1;<br>            padding: 10px;<br>        }<br>    </style><br><div class=\"wandb-row\"><div class=\"wandb-col\"><h3>Run history:</h3><br/><table class=\"wandb\"><tr><td>Validation Loss</td><td>▁</td></tr><tr><td>epoch</td><td>▁▂▃▃▄▅▆▆▇█</td></tr><tr><td>train_acc</td><td>▁▂▄▅▆▆▇▇██</td></tr><tr><td>train_loss</td><td>█▆▅▄▃▃▂▂▁▁</td></tr><tr><td>val_acc</td><td>▁▃▄▅▅▇▇▇█▇</td></tr><tr><td>val_loss</td><td>█▆▅▃▃▂▂▂▁▁</td></tr></table><br/></div><div class=\"wandb-col\"><h3>Run summary:</h3><br/><table class=\"wandb\"><tr><td>Validation Loss</td><td>0.38975</td></tr><tr><td>epoch</td><td>9</td></tr><tr><td>train_acc</td><td>0.88244</td></tr><tr><td>train_loss</td><td>0.31968</td></tr><tr><td>val_acc</td><td>0.85867</td></tr><tr><td>val_loss</td><td>0.38975</td></tr></table><br/></div></div>"
      ],
      "text/plain": [
       "<IPython.core.display.HTML object>"
      ]
     },
     "metadata": {},
     "output_type": "display_data"
    },
    {
     "data": {
      "text/html": [
       " View run <strong style=\"color:#cdcd00\">LR: 0.001, AC: tanh, BS: 32, Optim: rmsprop, WI: random, WD: 0.5, No_HL: 3, HS: 64</strong> at: <a href='https://wandb.ai/da6401-assignments/assignment1/runs/l8vxjz09' target=\"_blank\">https://wandb.ai/da6401-assignments/assignment1/runs/l8vxjz09</a><br> View project at: <a href='https://wandb.ai/da6401-assignments/assignment1' target=\"_blank\">https://wandb.ai/da6401-assignments/assignment1</a><br>Synced 5 W&B file(s), 0 media file(s), 0 artifact file(s) and 0 other file(s)"
      ],
      "text/plain": [
       "<IPython.core.display.HTML object>"
      ]
     },
     "metadata": {},
     "output_type": "display_data"
    },
    {
     "data": {
      "text/html": [
       "Find logs at: <code>.\\wandb\\run-20250310_003601-l8vxjz09\\logs</code>"
      ],
      "text/plain": [
       "<IPython.core.display.HTML object>"
      ]
     },
     "metadata": {},
     "output_type": "display_data"
    },
    {
     "name": "stderr",
     "output_type": "stream",
     "text": [
      "\u001b[34m\u001b[1mwandb\u001b[0m: Agent Starting Run: 9wbdktg6 with config:\n",
      "\u001b[34m\u001b[1mwandb\u001b[0m: \tactivationFunc: tanh\n",
      "\u001b[34m\u001b[1mwandb\u001b[0m: \tbatchSize: 16\n",
      "\u001b[34m\u001b[1mwandb\u001b[0m: \thiddenLayer_Size: 32\n",
      "\u001b[34m\u001b[1mwandb\u001b[0m: \tlearningRate: 0.0001\n",
      "\u001b[34m\u001b[1mwandb\u001b[0m: \tnum_epochs: 10\n",
      "\u001b[34m\u001b[1mwandb\u001b[0m: \tnum_hiddenLayers: 4\n",
      "\u001b[34m\u001b[1mwandb\u001b[0m: \toptimizer: nesterov\n",
      "\u001b[34m\u001b[1mwandb\u001b[0m: \tweightDecay: 0\n",
      "\u001b[34m\u001b[1mwandb\u001b[0m: \tweightInit: xavier\n"
     ]
    },
    {
     "data": {
      "text/html": [
       "Ignoring project 'assignment1' when running a sweep."
      ],
      "text/plain": [
       "<IPython.core.display.HTML object>"
      ]
     },
     "metadata": {},
     "output_type": "display_data"
    },
    {
     "data": {
      "text/html": [
       "Ignoring entity 'da6401-assignments' when running a sweep."
      ],
      "text/plain": [
       "<IPython.core.display.HTML object>"
      ]
     },
     "metadata": {},
     "output_type": "display_data"
    },
    {
     "data": {
      "text/html": [
       "creating run (0.2s)"
      ],
      "text/plain": [
       "<IPython.core.display.HTML object>"
      ]
     },
     "metadata": {},
     "output_type": "display_data"
    },
    {
     "data": {
      "text/html": [
       "Tracking run with wandb version 0.19.8"
      ],
      "text/plain": [
       "<IPython.core.display.HTML object>"
      ]
     },
     "metadata": {},
     "output_type": "display_data"
    },
    {
     "data": {
      "text/html": [
       "Run data is saved locally in <code>c:\\Users\\prajv\\Downloads\\ass1\\DA6401_ASSIGNMENT1\\wandb\\run-20250310_003639-9wbdktg6</code>"
      ],
      "text/plain": [
       "<IPython.core.display.HTML object>"
      ]
     },
     "metadata": {},
     "output_type": "display_data"
    },
    {
     "data": {
      "text/html": [
       "Syncing run <strong><a href='https://wandb.ai/da6401-assignments/assignment1/runs/9wbdktg6' target=\"_blank\">vocal-sweep-12</a></strong> to <a href='https://wandb.ai/da6401-assignments/assignment1' target=\"_blank\">Weights & Biases</a> (<a href='https://wandb.me/developer-guide' target=\"_blank\">docs</a>)<br>Sweep page: <a href='https://wandb.ai/da6401-assignments/assignment1/sweeps/syjentp9' target=\"_blank\">https://wandb.ai/da6401-assignments/assignment1/sweeps/syjentp9</a>"
      ],
      "text/plain": [
       "<IPython.core.display.HTML object>"
      ]
     },
     "metadata": {},
     "output_type": "display_data"
    },
    {
     "data": {
      "text/html": [
       " View project at <a href='https://wandb.ai/da6401-assignments/assignment1' target=\"_blank\">https://wandb.ai/da6401-assignments/assignment1</a>"
      ],
      "text/plain": [
       "<IPython.core.display.HTML object>"
      ]
     },
     "metadata": {},
     "output_type": "display_data"
    },
    {
     "data": {
      "text/html": [
       " View sweep at <a href='https://wandb.ai/da6401-assignments/assignment1/sweeps/syjentp9' target=\"_blank\">https://wandb.ai/da6401-assignments/assignment1/sweeps/syjentp9</a>"
      ],
      "text/plain": [
       "<IPython.core.display.HTML object>"
      ]
     },
     "metadata": {},
     "output_type": "display_data"
    },
    {
     "data": {
      "text/html": [
       " View run at <a href='https://wandb.ai/da6401-assignments/assignment1/runs/9wbdktg6' target=\"_blank\">https://wandb.ai/da6401-assignments/assignment1/runs/9wbdktg6</a>"
      ],
      "text/plain": [
       "<IPython.core.display.HTML object>"
      ]
     },
     "metadata": {},
     "output_type": "display_data"
    },
    {
     "name": "stdout",
     "output_type": "stream",
     "text": [
      "Sweep Name:  LR: 0.0001, AC: tanh, BS: 16, Optim: nesterov, WI: xavier, WD: 0, No_HL: 4, HS: 32\n",
      "Epoch 0: Training Loss = 8.0000 Validation Loss = 8.0113\n",
      "Training Accuracy = 0.0998 Validation Accuracy = 0.1020\n",
      "Epoch 1: Training Loss = 8.0000 Validation Loss = 8.0113\n",
      "Training Accuracy = 0.0998 Validation Accuracy = 0.1020\n",
      "Epoch 2: Training Loss = 8.0000 Validation Loss = 8.0113\n",
      "Training Accuracy = 0.0998 Validation Accuracy = 0.1020\n",
      "Epoch 3: Training Loss = 8.0000 Validation Loss = 8.0113\n",
      "Training Accuracy = 0.0998 Validation Accuracy = 0.1020\n",
      "Epoch 4: Training Loss = 8.0000 Validation Loss = 8.0113\n",
      "Training Accuracy = 0.0998 Validation Accuracy = 0.1020\n",
      "Epoch 5: Training Loss = 8.0000 Validation Loss = 8.0113\n",
      "Training Accuracy = 0.0998 Validation Accuracy = 0.1020\n",
      "Epoch 6: Training Loss = 8.0000 Validation Loss = 8.0113\n",
      "Training Accuracy = 0.0998 Validation Accuracy = 0.1020\n",
      "Epoch 7: Training Loss = 8.0000 Validation Loss = 8.0113\n",
      "Training Accuracy = 0.0998 Validation Accuracy = 0.1020\n",
      "Epoch 8: Training Loss = 8.0000 Validation Loss = 8.0113\n",
      "Training Accuracy = 0.0998 Validation Accuracy = 0.1020\n",
      "Epoch 9: Training Loss = 8.0000 Validation Loss = 8.0113\n",
      "Training Accuracy = 0.0998 Validation Accuracy = 0.1020\n"
     ]
    },
    {
     "data": {
      "text/html": [],
      "text/plain": [
       "<IPython.core.display.HTML object>"
      ]
     },
     "metadata": {},
     "output_type": "display_data"
    },
    {
     "data": {
      "text/html": [
       "<br>    <style><br>        .wandb-row {<br>            display: flex;<br>            flex-direction: row;<br>            flex-wrap: wrap;<br>            justify-content: flex-start;<br>            width: 100%;<br>        }<br>        .wandb-col {<br>            display: flex;<br>            flex-direction: column;<br>            flex-basis: 100%;<br>            flex: 1;<br>            padding: 10px;<br>        }<br>    </style><br><div class=\"wandb-row\"><div class=\"wandb-col\"><h3>Run history:</h3><br/><table class=\"wandb\"><tr><td>Validation Loss</td><td>▁</td></tr><tr><td>epoch</td><td>▁▂▃▃▄▅▆▆▇█</td></tr><tr><td>train_acc</td><td>▁▁▁▁▁▁▁▁▁▁</td></tr><tr><td>train_loss</td><td>▁▁▁▁▁▁▁▁▁▁</td></tr><tr><td>val_acc</td><td>▁▁▁▁▁▁▁▁▁▁</td></tr><tr><td>val_loss</td><td>▁▁▁▁▁▁▁▁▁▁</td></tr></table><br/></div><div class=\"wandb-col\"><h3>Run summary:</h3><br/><table class=\"wandb\"><tr><td>Validation Loss</td><td>8.01132</td></tr><tr><td>epoch</td><td>9</td></tr><tr><td>train_acc</td><td>0.09978</td></tr><tr><td>train_loss</td><td>8.00001</td></tr><tr><td>val_acc</td><td>0.102</td></tr><tr><td>val_loss</td><td>8.01132</td></tr></table><br/></div></div>"
      ],
      "text/plain": [
       "<IPython.core.display.HTML object>"
      ]
     },
     "metadata": {},
     "output_type": "display_data"
    },
    {
     "data": {
      "text/html": [
       " View run <strong style=\"color:#cdcd00\">LR: 0.0001, AC: tanh, BS: 16, Optim: nesterov, WI: xavier, WD: 0, No_HL: 4, HS: 32</strong> at: <a href='https://wandb.ai/da6401-assignments/assignment1/runs/9wbdktg6' target=\"_blank\">https://wandb.ai/da6401-assignments/assignment1/runs/9wbdktg6</a><br> View project at: <a href='https://wandb.ai/da6401-assignments/assignment1' target=\"_blank\">https://wandb.ai/da6401-assignments/assignment1</a><br>Synced 5 W&B file(s), 0 media file(s), 0 artifact file(s) and 0 other file(s)"
      ],
      "text/plain": [
       "<IPython.core.display.HTML object>"
      ]
     },
     "metadata": {},
     "output_type": "display_data"
    },
    {
     "data": {
      "text/html": [
       "Find logs at: <code>.\\wandb\\run-20250310_003639-9wbdktg6\\logs</code>"
      ],
      "text/plain": [
       "<IPython.core.display.HTML object>"
      ]
     },
     "metadata": {},
     "output_type": "display_data"
    },
    {
     "name": "stderr",
     "output_type": "stream",
     "text": [
      "\u001b[34m\u001b[1mwandb\u001b[0m: Agent Starting Run: u43bm1g9 with config:\n",
      "\u001b[34m\u001b[1mwandb\u001b[0m: \tactivationFunc: sigmoid\n",
      "\u001b[34m\u001b[1mwandb\u001b[0m: \tbatchSize: 16\n",
      "\u001b[34m\u001b[1mwandb\u001b[0m: \thiddenLayer_Size: 32\n",
      "\u001b[34m\u001b[1mwandb\u001b[0m: \tlearningRate: 0.001\n",
      "\u001b[34m\u001b[1mwandb\u001b[0m: \tnum_epochs: 5\n",
      "\u001b[34m\u001b[1mwandb\u001b[0m: \tnum_hiddenLayers: 4\n",
      "\u001b[34m\u001b[1mwandb\u001b[0m: \toptimizer: sgd\n",
      "\u001b[34m\u001b[1mwandb\u001b[0m: \tweightDecay: 0\n",
      "\u001b[34m\u001b[1mwandb\u001b[0m: \tweightInit: xavier\n"
     ]
    },
    {
     "data": {
      "text/html": [
       "Ignoring project 'assignment1' when running a sweep."
      ],
      "text/plain": [
       "<IPython.core.display.HTML object>"
      ]
     },
     "metadata": {},
     "output_type": "display_data"
    },
    {
     "data": {
      "text/html": [
       "Ignoring entity 'da6401-assignments' when running a sweep."
      ],
      "text/plain": [
       "<IPython.core.display.HTML object>"
      ]
     },
     "metadata": {},
     "output_type": "display_data"
    },
    {
     "data": {
      "text/html": [
       "creating run (0.2s)"
      ],
      "text/plain": [
       "<IPython.core.display.HTML object>"
      ]
     },
     "metadata": {},
     "output_type": "display_data"
    },
    {
     "data": {
      "text/html": [
       "Tracking run with wandb version 0.19.8"
      ],
      "text/plain": [
       "<IPython.core.display.HTML object>"
      ]
     },
     "metadata": {},
     "output_type": "display_data"
    },
    {
     "data": {
      "text/html": [
       "Run data is saved locally in <code>c:\\Users\\prajv\\Downloads\\ass1\\DA6401_ASSIGNMENT1\\wandb\\run-20250310_003700-u43bm1g9</code>"
      ],
      "text/plain": [
       "<IPython.core.display.HTML object>"
      ]
     },
     "metadata": {},
     "output_type": "display_data"
    },
    {
     "data": {
      "text/html": [
       "Syncing run <strong><a href='https://wandb.ai/da6401-assignments/assignment1/runs/u43bm1g9' target=\"_blank\">true-sweep-13</a></strong> to <a href='https://wandb.ai/da6401-assignments/assignment1' target=\"_blank\">Weights & Biases</a> (<a href='https://wandb.me/developer-guide' target=\"_blank\">docs</a>)<br>Sweep page: <a href='https://wandb.ai/da6401-assignments/assignment1/sweeps/syjentp9' target=\"_blank\">https://wandb.ai/da6401-assignments/assignment1/sweeps/syjentp9</a>"
      ],
      "text/plain": [
       "<IPython.core.display.HTML object>"
      ]
     },
     "metadata": {},
     "output_type": "display_data"
    },
    {
     "data": {
      "text/html": [
       " View project at <a href='https://wandb.ai/da6401-assignments/assignment1' target=\"_blank\">https://wandb.ai/da6401-assignments/assignment1</a>"
      ],
      "text/plain": [
       "<IPython.core.display.HTML object>"
      ]
     },
     "metadata": {},
     "output_type": "display_data"
    },
    {
     "data": {
      "text/html": [
       " View sweep at <a href='https://wandb.ai/da6401-assignments/assignment1/sweeps/syjentp9' target=\"_blank\">https://wandb.ai/da6401-assignments/assignment1/sweeps/syjentp9</a>"
      ],
      "text/plain": [
       "<IPython.core.display.HTML object>"
      ]
     },
     "metadata": {},
     "output_type": "display_data"
    },
    {
     "data": {
      "text/html": [
       " View run at <a href='https://wandb.ai/da6401-assignments/assignment1/runs/u43bm1g9' target=\"_blank\">https://wandb.ai/da6401-assignments/assignment1/runs/u43bm1g9</a>"
      ],
      "text/plain": [
       "<IPython.core.display.HTML object>"
      ]
     },
     "metadata": {},
     "output_type": "display_data"
    },
    {
     "name": "stdout",
     "output_type": "stream",
     "text": [
      "Sweep Name:  LR: 0.001, AC: sigmoid, BS: 16, Optim: sgd, WI: xavier, WD: 0, No_HL: 4, HS: 32\n",
      "Epoch 0: Training Loss = 2.2695 Validation Loss = 2.2604\n",
      "Training Accuracy = 0.1808 Validation Accuracy = 0.1818\n",
      "Epoch 1: Training Loss = 2.0962 Validation Loss = 2.0858\n",
      "Training Accuracy = 0.2935 Validation Accuracy = 0.2957\n",
      "Epoch 2: Training Loss = 1.9524 Validation Loss = 1.9418\n",
      "Training Accuracy = 0.3624 Validation Accuracy = 0.3683\n",
      "Epoch 3: Training Loss = 1.8270 Validation Loss = 1.8159\n",
      "Training Accuracy = 0.4106 Validation Accuracy = 0.4152\n",
      "Epoch 4: Training Loss = 1.7213 Validation Loss = 1.7103\n",
      "Training Accuracy = 0.4446 Validation Accuracy = 0.4513\n"
     ]
    },
    {
     "data": {
      "text/html": [],
      "text/plain": [
       "<IPython.core.display.HTML object>"
      ]
     },
     "metadata": {},
     "output_type": "display_data"
    },
    {
     "data": {
      "text/html": [
       "<br>    <style><br>        .wandb-row {<br>            display: flex;<br>            flex-direction: row;<br>            flex-wrap: wrap;<br>            justify-content: flex-start;<br>            width: 100%;<br>        }<br>        .wandb-col {<br>            display: flex;<br>            flex-direction: column;<br>            flex-basis: 100%;<br>            flex: 1;<br>            padding: 10px;<br>        }<br>    </style><br><div class=\"wandb-row\"><div class=\"wandb-col\"><h3>Run history:</h3><br/><table class=\"wandb\"><tr><td>Validation Loss</td><td>▁</td></tr><tr><td>epoch</td><td>▁▃▅▆█</td></tr><tr><td>train_acc</td><td>▁▄▆▇█</td></tr><tr><td>train_loss</td><td>█▆▄▂▁</td></tr><tr><td>val_acc</td><td>▁▄▆▇█</td></tr><tr><td>val_loss</td><td>█▆▄▂▁</td></tr></table><br/></div><div class=\"wandb-col\"><h3>Run summary:</h3><br/><table class=\"wandb\"><tr><td>Validation Loss</td><td>1.71034</td></tr><tr><td>epoch</td><td>4</td></tr><tr><td>train_acc</td><td>0.44456</td></tr><tr><td>train_loss</td><td>1.72129</td></tr><tr><td>val_acc</td><td>0.45133</td></tr><tr><td>val_loss</td><td>1.71034</td></tr></table><br/></div></div>"
      ],
      "text/plain": [
       "<IPython.core.display.HTML object>"
      ]
     },
     "metadata": {},
     "output_type": "display_data"
    },
    {
     "data": {
      "text/html": [
       " View run <strong style=\"color:#cdcd00\">LR: 0.001, AC: sigmoid, BS: 16, Optim: sgd, WI: xavier, WD: 0, No_HL: 4, HS: 32</strong> at: <a href='https://wandb.ai/da6401-assignments/assignment1/runs/u43bm1g9' target=\"_blank\">https://wandb.ai/da6401-assignments/assignment1/runs/u43bm1g9</a><br> View project at: <a href='https://wandb.ai/da6401-assignments/assignment1' target=\"_blank\">https://wandb.ai/da6401-assignments/assignment1</a><br>Synced 5 W&B file(s), 0 media file(s), 0 artifact file(s) and 0 other file(s)"
      ],
      "text/plain": [
       "<IPython.core.display.HTML object>"
      ]
     },
     "metadata": {},
     "output_type": "display_data"
    },
    {
     "data": {
      "text/html": [
       "Find logs at: <code>.\\wandb\\run-20250310_003700-u43bm1g9\\logs</code>"
      ],
      "text/plain": [
       "<IPython.core.display.HTML object>"
      ]
     },
     "metadata": {},
     "output_type": "display_data"
    },
    {
     "name": "stderr",
     "output_type": "stream",
     "text": [
      "\u001b[34m\u001b[1mwandb\u001b[0m: Agent Starting Run: xtqyrwra with config:\n",
      "\u001b[34m\u001b[1mwandb\u001b[0m: \tactivationFunc: relu\n",
      "\u001b[34m\u001b[1mwandb\u001b[0m: \tbatchSize: 16\n",
      "\u001b[34m\u001b[1mwandb\u001b[0m: \thiddenLayer_Size: 32\n",
      "\u001b[34m\u001b[1mwandb\u001b[0m: \tlearningRate: 0.001\n",
      "\u001b[34m\u001b[1mwandb\u001b[0m: \tnum_epochs: 10\n",
      "\u001b[34m\u001b[1mwandb\u001b[0m: \tnum_hiddenLayers: 5\n",
      "\u001b[34m\u001b[1mwandb\u001b[0m: \toptimizer: adam\n",
      "\u001b[34m\u001b[1mwandb\u001b[0m: \tweightDecay: 0\n",
      "\u001b[34m\u001b[1mwandb\u001b[0m: \tweightInit: xavier\n"
     ]
    },
    {
     "data": {
      "text/html": [
       "Ignoring project 'assignment1' when running a sweep."
      ],
      "text/plain": [
       "<IPython.core.display.HTML object>"
      ]
     },
     "metadata": {},
     "output_type": "display_data"
    },
    {
     "data": {
      "text/html": [
       "Ignoring entity 'da6401-assignments' when running a sweep."
      ],
      "text/plain": [
       "<IPython.core.display.HTML object>"
      ]
     },
     "metadata": {},
     "output_type": "display_data"
    },
    {
     "data": {
      "text/html": [
       "creating run (0.1s)"
      ],
      "text/plain": [
       "<IPython.core.display.HTML object>"
      ]
     },
     "metadata": {},
     "output_type": "display_data"
    },
    {
     "data": {
      "text/html": [
       "Tracking run with wandb version 0.19.8"
      ],
      "text/plain": [
       "<IPython.core.display.HTML object>"
      ]
     },
     "metadata": {},
     "output_type": "display_data"
    },
    {
     "data": {
      "text/html": [
       "Run data is saved locally in <code>c:\\Users\\prajv\\Downloads\\ass1\\DA6401_ASSIGNMENT1\\wandb\\run-20250310_003717-xtqyrwra</code>"
      ],
      "text/plain": [
       "<IPython.core.display.HTML object>"
      ]
     },
     "metadata": {},
     "output_type": "display_data"
    },
    {
     "data": {
      "text/html": [
       "Syncing run <strong><a href='https://wandb.ai/da6401-assignments/assignment1/runs/xtqyrwra' target=\"_blank\">flowing-sweep-14</a></strong> to <a href='https://wandb.ai/da6401-assignments/assignment1' target=\"_blank\">Weights & Biases</a> (<a href='https://wandb.me/developer-guide' target=\"_blank\">docs</a>)<br>Sweep page: <a href='https://wandb.ai/da6401-assignments/assignment1/sweeps/syjentp9' target=\"_blank\">https://wandb.ai/da6401-assignments/assignment1/sweeps/syjentp9</a>"
      ],
      "text/plain": [
       "<IPython.core.display.HTML object>"
      ]
     },
     "metadata": {},
     "output_type": "display_data"
    },
    {
     "data": {
      "text/html": [
       " View project at <a href='https://wandb.ai/da6401-assignments/assignment1' target=\"_blank\">https://wandb.ai/da6401-assignments/assignment1</a>"
      ],
      "text/plain": [
       "<IPython.core.display.HTML object>"
      ]
     },
     "metadata": {},
     "output_type": "display_data"
    },
    {
     "data": {
      "text/html": [
       " View sweep at <a href='https://wandb.ai/da6401-assignments/assignment1/sweeps/syjentp9' target=\"_blank\">https://wandb.ai/da6401-assignments/assignment1/sweeps/syjentp9</a>"
      ],
      "text/plain": [
       "<IPython.core.display.HTML object>"
      ]
     },
     "metadata": {},
     "output_type": "display_data"
    },
    {
     "data": {
      "text/html": [
       " View run at <a href='https://wandb.ai/da6401-assignments/assignment1/runs/xtqyrwra' target=\"_blank\">https://wandb.ai/da6401-assignments/assignment1/runs/xtqyrwra</a>"
      ],
      "text/plain": [
       "<IPython.core.display.HTML object>"
      ]
     },
     "metadata": {},
     "output_type": "display_data"
    },
    {
     "name": "stdout",
     "output_type": "stream",
     "text": [
      "Sweep Name:  LR: 0.001, AC: relu, BS: 16, Optim: adam, WI: xavier, WD: 0, No_HL: 5, HS: 32\n",
      "Epoch 0: Training Loss = 0.5774 Validation Loss = 0.5830\n",
      "Training Accuracy = 0.7943 Validation Accuracy = 0.7953\n",
      "Epoch 1: Training Loss = 0.4986 Validation Loss = 0.5086\n",
      "Training Accuracy = 0.8223 Validation Accuracy = 0.8198\n",
      "Epoch 2: Training Loss = 0.4617 Validation Loss = 0.4774\n",
      "Training Accuracy = 0.8332 Validation Accuracy = 0.8300\n",
      "Epoch 3: Training Loss = 0.4296 Validation Loss = 0.4525\n",
      "Training Accuracy = 0.8442 Validation Accuracy = 0.8345\n",
      "Epoch 4: Training Loss = 0.4240 Validation Loss = 0.4551\n",
      "Training Accuracy = 0.8475 Validation Accuracy = 0.8337\n",
      "Epoch 5: Training Loss = 0.4019 Validation Loss = 0.4379\n",
      "Training Accuracy = 0.8548 Validation Accuracy = 0.8428\n",
      "Epoch 6: Training Loss = 0.3787 Validation Loss = 0.4161\n",
      "Training Accuracy = 0.8633 Validation Accuracy = 0.8518\n",
      "Epoch 7: Training Loss = 0.3780 Validation Loss = 0.4197\n",
      "Training Accuracy = 0.8634 Validation Accuracy = 0.8558\n",
      "Epoch 8: Training Loss = 0.3630 Validation Loss = 0.4070\n",
      "Training Accuracy = 0.8692 Validation Accuracy = 0.8522\n",
      "Epoch 9: Training Loss = 0.3604 Validation Loss = 0.4137\n",
      "Training Accuracy = 0.8673 Validation Accuracy = 0.8533\n"
     ]
    },
    {
     "data": {
      "text/html": [],
      "text/plain": [
       "<IPython.core.display.HTML object>"
      ]
     },
     "metadata": {},
     "output_type": "display_data"
    },
    {
     "data": {
      "text/html": [
       "<br>    <style><br>        .wandb-row {<br>            display: flex;<br>            flex-direction: row;<br>            flex-wrap: wrap;<br>            justify-content: flex-start;<br>            width: 100%;<br>        }<br>        .wandb-col {<br>            display: flex;<br>            flex-direction: column;<br>            flex-basis: 100%;<br>            flex: 1;<br>            padding: 10px;<br>        }<br>    </style><br><div class=\"wandb-row\"><div class=\"wandb-col\"><h3>Run history:</h3><br/><table class=\"wandb\"><tr><td>Validation Loss</td><td>▁</td></tr><tr><td>epoch</td><td>▁▂▃▃▄▅▆▆▇█</td></tr><tr><td>train_acc</td><td>▁▄▅▆▆▇▇▇██</td></tr><tr><td>train_loss</td><td>█▅▄▃▃▂▂▂▁▁</td></tr><tr><td>val_acc</td><td>▁▄▅▆▅▆████</td></tr><tr><td>val_loss</td><td>█▅▄▃▃▂▁▂▁▁</td></tr></table><br/></div><div class=\"wandb-col\"><h3>Run summary:</h3><br/><table class=\"wandb\"><tr><td>Validation Loss</td><td>0.41366</td></tr><tr><td>epoch</td><td>9</td></tr><tr><td>train_acc</td><td>0.86731</td></tr><tr><td>train_loss</td><td>0.36041</td></tr><tr><td>val_acc</td><td>0.85333</td></tr><tr><td>val_loss</td><td>0.41366</td></tr></table><br/></div></div>"
      ],
      "text/plain": [
       "<IPython.core.display.HTML object>"
      ]
     },
     "metadata": {},
     "output_type": "display_data"
    },
    {
     "data": {
      "text/html": [
       " View run <strong style=\"color:#cdcd00\">LR: 0.001, AC: relu, BS: 16, Optim: adam, WI: xavier, WD: 0, No_HL: 5, HS: 32</strong> at: <a href='https://wandb.ai/da6401-assignments/assignment1/runs/xtqyrwra' target=\"_blank\">https://wandb.ai/da6401-assignments/assignment1/runs/xtqyrwra</a><br> View project at: <a href='https://wandb.ai/da6401-assignments/assignment1' target=\"_blank\">https://wandb.ai/da6401-assignments/assignment1</a><br>Synced 5 W&B file(s), 0 media file(s), 0 artifact file(s) and 0 other file(s)"
      ],
      "text/plain": [
       "<IPython.core.display.HTML object>"
      ]
     },
     "metadata": {},
     "output_type": "display_data"
    },
    {
     "data": {
      "text/html": [
       "Find logs at: <code>.\\wandb\\run-20250310_003717-xtqyrwra\\logs</code>"
      ],
      "text/plain": [
       "<IPython.core.display.HTML object>"
      ]
     },
     "metadata": {},
     "output_type": "display_data"
    },
    {
     "name": "stderr",
     "output_type": "stream",
     "text": [
      "\u001b[34m\u001b[1mwandb\u001b[0m: Sweep Agent: Waiting for job.\n",
      "\u001b[34m\u001b[1mwandb\u001b[0m: Job received.\n",
      "\u001b[34m\u001b[1mwandb\u001b[0m: Agent Starting Run: 27phnyt9 with config:\n",
      "\u001b[34m\u001b[1mwandb\u001b[0m: \tactivationFunc: tanh\n",
      "\u001b[34m\u001b[1mwandb\u001b[0m: \tbatchSize: 16\n",
      "\u001b[34m\u001b[1mwandb\u001b[0m: \thiddenLayer_Size: 64\n",
      "\u001b[34m\u001b[1mwandb\u001b[0m: \tlearningRate: 0.001\n",
      "\u001b[34m\u001b[1mwandb\u001b[0m: \tnum_epochs: 10\n",
      "\u001b[34m\u001b[1mwandb\u001b[0m: \tnum_hiddenLayers: 5\n",
      "\u001b[34m\u001b[1mwandb\u001b[0m: \toptimizer: rmsprop\n",
      "\u001b[34m\u001b[1mwandb\u001b[0m: \tweightDecay: 0\n",
      "\u001b[34m\u001b[1mwandb\u001b[0m: \tweightInit: random\n"
     ]
    },
    {
     "data": {
      "text/html": [
       "Ignoring project 'assignment1' when running a sweep."
      ],
      "text/plain": [
       "<IPython.core.display.HTML object>"
      ]
     },
     "metadata": {},
     "output_type": "display_data"
    },
    {
     "data": {
      "text/html": [
       "Ignoring entity 'da6401-assignments' when running a sweep."
      ],
      "text/plain": [
       "<IPython.core.display.HTML object>"
      ]
     },
     "metadata": {},
     "output_type": "display_data"
    },
    {
     "data": {
      "text/html": [
       "Waiting for wandb.init()..."
      ],
      "text/plain": [
       "<IPython.core.display.HTML object>"
      ]
     },
     "metadata": {},
     "output_type": "display_data"
    },
    {
     "data": {
      "text/html": [
       "Tracking run with wandb version 0.19.8"
      ],
      "text/plain": [
       "<IPython.core.display.HTML object>"
      ]
     },
     "metadata": {},
     "output_type": "display_data"
    },
    {
     "data": {
      "text/html": [
       "Run data is saved locally in <code>c:\\Users\\prajv\\Downloads\\ass1\\DA6401_ASSIGNMENT1\\wandb\\run-20250310_003808-27phnyt9</code>"
      ],
      "text/plain": [
       "<IPython.core.display.HTML object>"
      ]
     },
     "metadata": {},
     "output_type": "display_data"
    },
    {
     "data": {
      "text/html": [
       "Syncing run <strong><a href='https://wandb.ai/da6401-assignments/assignment1/runs/27phnyt9' target=\"_blank\">stilted-sweep-15</a></strong> to <a href='https://wandb.ai/da6401-assignments/assignment1' target=\"_blank\">Weights & Biases</a> (<a href='https://wandb.me/developer-guide' target=\"_blank\">docs</a>)<br>Sweep page: <a href='https://wandb.ai/da6401-assignments/assignment1/sweeps/syjentp9' target=\"_blank\">https://wandb.ai/da6401-assignments/assignment1/sweeps/syjentp9</a>"
      ],
      "text/plain": [
       "<IPython.core.display.HTML object>"
      ]
     },
     "metadata": {},
     "output_type": "display_data"
    },
    {
     "data": {
      "text/html": [
       " View project at <a href='https://wandb.ai/da6401-assignments/assignment1' target=\"_blank\">https://wandb.ai/da6401-assignments/assignment1</a>"
      ],
      "text/plain": [
       "<IPython.core.display.HTML object>"
      ]
     },
     "metadata": {},
     "output_type": "display_data"
    },
    {
     "data": {
      "text/html": [
       " View sweep at <a href='https://wandb.ai/da6401-assignments/assignment1/sweeps/syjentp9' target=\"_blank\">https://wandb.ai/da6401-assignments/assignment1/sweeps/syjentp9</a>"
      ],
      "text/plain": [
       "<IPython.core.display.HTML object>"
      ]
     },
     "metadata": {},
     "output_type": "display_data"
    },
    {
     "data": {
      "text/html": [
       " View run at <a href='https://wandb.ai/da6401-assignments/assignment1/runs/27phnyt9' target=\"_blank\">https://wandb.ai/da6401-assignments/assignment1/runs/27phnyt9</a>"
      ],
      "text/plain": [
       "<IPython.core.display.HTML object>"
      ]
     },
     "metadata": {},
     "output_type": "display_data"
    },
    {
     "name": "stdout",
     "output_type": "stream",
     "text": [
      "Sweep Name:  LR: 0.001, AC: tanh, BS: 16, Optim: rmsprop, WI: random, WD: 0, No_HL: 5, HS: 64\n",
      "Epoch 0: Training Loss = 0.5054 Validation Loss = 0.5167\n",
      "Training Accuracy = 0.8162 Validation Accuracy = 0.8150\n",
      "Epoch 1: Training Loss = 0.4525 Validation Loss = 0.4766\n",
      "Training Accuracy = 0.8322 Validation Accuracy = 0.8282\n",
      "Epoch 2: Training Loss = 0.4126 Validation Loss = 0.4347\n",
      "Training Accuracy = 0.8506 Validation Accuracy = 0.8457\n",
      "Epoch 3: Training Loss = 0.3847 Validation Loss = 0.4156\n",
      "Training Accuracy = 0.8601 Validation Accuracy = 0.8485\n",
      "Epoch 4: Training Loss = 0.3719 Validation Loss = 0.4103\n",
      "Training Accuracy = 0.8664 Validation Accuracy = 0.8540\n",
      "Epoch 5: Training Loss = 0.3515 Validation Loss = 0.4004\n",
      "Training Accuracy = 0.8710 Validation Accuracy = 0.8597\n",
      "Epoch 6: Training Loss = 0.3433 Validation Loss = 0.3944\n",
      "Training Accuracy = 0.8731 Validation Accuracy = 0.8665\n",
      "Epoch 7: Training Loss = 0.3241 Validation Loss = 0.3809\n",
      "Training Accuracy = 0.8809 Validation Accuracy = 0.8700\n",
      "Epoch 8: Training Loss = 0.3263 Validation Loss = 0.3842\n",
      "Training Accuracy = 0.8797 Validation Accuracy = 0.8640\n",
      "Epoch 9: Training Loss = 0.3180 Validation Loss = 0.3891\n",
      "Training Accuracy = 0.8849 Validation Accuracy = 0.8620\n"
     ]
    },
    {
     "data": {
      "text/html": [],
      "text/plain": [
       "<IPython.core.display.HTML object>"
      ]
     },
     "metadata": {},
     "output_type": "display_data"
    },
    {
     "data": {
      "text/html": [
       "<br>    <style><br>        .wandb-row {<br>            display: flex;<br>            flex-direction: row;<br>            flex-wrap: wrap;<br>            justify-content: flex-start;<br>            width: 100%;<br>        }<br>        .wandb-col {<br>            display: flex;<br>            flex-direction: column;<br>            flex-basis: 100%;<br>            flex: 1;<br>            padding: 10px;<br>        }<br>    </style><br><div class=\"wandb-row\"><div class=\"wandb-col\"><h3>Run history:</h3><br/><table class=\"wandb\"><tr><td>Validation Loss</td><td>▁</td></tr><tr><td>epoch</td><td>▁▂▃▃▄▅▆▆▇█</td></tr><tr><td>train_acc</td><td>▁▃▄▅▆▇▇█▇█</td></tr><tr><td>train_loss</td><td>█▆▅▃▃▂▂▁▁▁</td></tr><tr><td>val_acc</td><td>▁▃▅▅▆▇██▇▇</td></tr><tr><td>val_loss</td><td>█▆▄▃▃▂▂▁▁▁</td></tr></table><br/></div><div class=\"wandb-col\"><h3>Run summary:</h3><br/><table class=\"wandb\"><tr><td>Validation Loss</td><td>0.38912</td></tr><tr><td>epoch</td><td>9</td></tr><tr><td>train_acc</td><td>0.88494</td></tr><tr><td>train_loss</td><td>0.31802</td></tr><tr><td>val_acc</td><td>0.862</td></tr><tr><td>val_loss</td><td>0.38912</td></tr></table><br/></div></div>"
      ],
      "text/plain": [
       "<IPython.core.display.HTML object>"
      ]
     },
     "metadata": {},
     "output_type": "display_data"
    },
    {
     "data": {
      "text/html": [
       " View run <strong style=\"color:#cdcd00\">LR: 0.001, AC: tanh, BS: 16, Optim: rmsprop, WI: random, WD: 0, No_HL: 5, HS: 64</strong> at: <a href='https://wandb.ai/da6401-assignments/assignment1/runs/27phnyt9' target=\"_blank\">https://wandb.ai/da6401-assignments/assignment1/runs/27phnyt9</a><br> View project at: <a href='https://wandb.ai/da6401-assignments/assignment1' target=\"_blank\">https://wandb.ai/da6401-assignments/assignment1</a><br>Synced 5 W&B file(s), 0 media file(s), 0 artifact file(s) and 0 other file(s)"
      ],
      "text/plain": [
       "<IPython.core.display.HTML object>"
      ]
     },
     "metadata": {},
     "output_type": "display_data"
    },
    {
     "data": {
      "text/html": [
       "Find logs at: <code>.\\wandb\\run-20250310_003808-27phnyt9\\logs</code>"
      ],
      "text/plain": [
       "<IPython.core.display.HTML object>"
      ]
     },
     "metadata": {},
     "output_type": "display_data"
    },
    {
     "name": "stderr",
     "output_type": "stream",
     "text": [
      "\u001b[34m\u001b[1mwandb\u001b[0m: Agent Starting Run: 3fluu0wv with config:\n",
      "\u001b[34m\u001b[1mwandb\u001b[0m: \tactivationFunc: relu\n",
      "\u001b[34m\u001b[1mwandb\u001b[0m: \tbatchSize: 64\n",
      "\u001b[34m\u001b[1mwandb\u001b[0m: \thiddenLayer_Size: 32\n",
      "\u001b[34m\u001b[1mwandb\u001b[0m: \tlearningRate: 0.0001\n",
      "\u001b[34m\u001b[1mwandb\u001b[0m: \tnum_epochs: 10\n",
      "\u001b[34m\u001b[1mwandb\u001b[0m: \tnum_hiddenLayers: 3\n",
      "\u001b[34m\u001b[1mwandb\u001b[0m: \toptimizer: sgd\n",
      "\u001b[34m\u001b[1mwandb\u001b[0m: \tweightDecay: 0\n",
      "\u001b[34m\u001b[1mwandb\u001b[0m: \tweightInit: xavier\n"
     ]
    },
    {
     "data": {
      "text/html": [
       "Ignoring project 'assignment1' when running a sweep."
      ],
      "text/plain": [
       "<IPython.core.display.HTML object>"
      ]
     },
     "metadata": {},
     "output_type": "display_data"
    },
    {
     "data": {
      "text/html": [
       "Ignoring entity 'da6401-assignments' when running a sweep."
      ],
      "text/plain": [
       "<IPython.core.display.HTML object>"
      ]
     },
     "metadata": {},
     "output_type": "display_data"
    },
    {
     "data": {
      "text/html": [
       "creating run (0.1s)"
      ],
      "text/plain": [
       "<IPython.core.display.HTML object>"
      ]
     },
     "metadata": {},
     "output_type": "display_data"
    },
    {
     "data": {
      "text/html": [
       "Tracking run with wandb version 0.19.8"
      ],
      "text/plain": [
       "<IPython.core.display.HTML object>"
      ]
     },
     "metadata": {},
     "output_type": "display_data"
    },
    {
     "data": {
      "text/html": [
       "Run data is saved locally in <code>c:\\Users\\prajv\\Downloads\\ass1\\DA6401_ASSIGNMENT1\\wandb\\run-20250310_003912-3fluu0wv</code>"
      ],
      "text/plain": [
       "<IPython.core.display.HTML object>"
      ]
     },
     "metadata": {},
     "output_type": "display_data"
    },
    {
     "data": {
      "text/html": [
       "Syncing run <strong><a href='https://wandb.ai/da6401-assignments/assignment1/runs/3fluu0wv' target=\"_blank\">usual-sweep-16</a></strong> to <a href='https://wandb.ai/da6401-assignments/assignment1' target=\"_blank\">Weights & Biases</a> (<a href='https://wandb.me/developer-guide' target=\"_blank\">docs</a>)<br>Sweep page: <a href='https://wandb.ai/da6401-assignments/assignment1/sweeps/syjentp9' target=\"_blank\">https://wandb.ai/da6401-assignments/assignment1/sweeps/syjentp9</a>"
      ],
      "text/plain": [
       "<IPython.core.display.HTML object>"
      ]
     },
     "metadata": {},
     "output_type": "display_data"
    },
    {
     "data": {
      "text/html": [
       " View project at <a href='https://wandb.ai/da6401-assignments/assignment1' target=\"_blank\">https://wandb.ai/da6401-assignments/assignment1</a>"
      ],
      "text/plain": [
       "<IPython.core.display.HTML object>"
      ]
     },
     "metadata": {},
     "output_type": "display_data"
    },
    {
     "data": {
      "text/html": [
       " View sweep at <a href='https://wandb.ai/da6401-assignments/assignment1/sweeps/syjentp9' target=\"_blank\">https://wandb.ai/da6401-assignments/assignment1/sweeps/syjentp9</a>"
      ],
      "text/plain": [
       "<IPython.core.display.HTML object>"
      ]
     },
     "metadata": {},
     "output_type": "display_data"
    },
    {
     "data": {
      "text/html": [
       " View run at <a href='https://wandb.ai/da6401-assignments/assignment1/runs/3fluu0wv' target=\"_blank\">https://wandb.ai/da6401-assignments/assignment1/runs/3fluu0wv</a>"
      ],
      "text/plain": [
       "<IPython.core.display.HTML object>"
      ]
     },
     "metadata": {},
     "output_type": "display_data"
    },
    {
     "name": "stdout",
     "output_type": "stream",
     "text": [
      "Sweep Name:  LR: 0.0001, AC: relu, BS: 64, Optim: sgd, WI: xavier, WD: 0, No_HL: 3, HS: 32\n",
      "Epoch 0: Training Loss = 6.3908 Validation Loss = 6.4228\n",
      "Training Accuracy = 0.0997 Validation Accuracy = 0.1010\n",
      "Epoch 1: Training Loss = 5.5380 Validation Loss = 5.5675\n",
      "Training Accuracy = 0.0889 Validation Accuracy = 0.0905\n",
      "Epoch 2: Training Loss = 5.0291 Validation Loss = 5.0566\n",
      "Training Accuracy = 0.0695 Validation Accuracy = 0.0737\n",
      "Epoch 3: Training Loss = 4.6557 Validation Loss = 4.6823\n",
      "Training Accuracy = 0.0610 Validation Accuracy = 0.0615\n",
      "Epoch 4: Training Loss = 4.3445 Validation Loss = 4.3704\n",
      "Training Accuracy = 0.0574 Validation Accuracy = 0.0588\n",
      "Epoch 5: Training Loss = 4.0779 Validation Loss = 4.1030\n",
      "Training Accuracy = 0.0555 Validation Accuracy = 0.0558\n",
      "Epoch 6: Training Loss = 3.8516 Validation Loss = 3.8756\n",
      "Training Accuracy = 0.0545 Validation Accuracy = 0.0557\n",
      "Epoch 7: Training Loss = 3.6627 Validation Loss = 3.6855\n",
      "Training Accuracy = 0.0537 Validation Accuracy = 0.0548\n",
      "Epoch 8: Training Loss = 3.5069 Validation Loss = 3.5285\n",
      "Training Accuracy = 0.0532 Validation Accuracy = 0.0543\n",
      "Epoch 9: Training Loss = 3.3785 Validation Loss = 3.3989\n",
      "Training Accuracy = 0.0545 Validation Accuracy = 0.0550\n"
     ]
    },
    {
     "data": {
      "text/html": [],
      "text/plain": [
       "<IPython.core.display.HTML object>"
      ]
     },
     "metadata": {},
     "output_type": "display_data"
    },
    {
     "data": {
      "text/html": [
       "<br>    <style><br>        .wandb-row {<br>            display: flex;<br>            flex-direction: row;<br>            flex-wrap: wrap;<br>            justify-content: flex-start;<br>            width: 100%;<br>        }<br>        .wandb-col {<br>            display: flex;<br>            flex-direction: column;<br>            flex-basis: 100%;<br>            flex: 1;<br>            padding: 10px;<br>        }<br>    </style><br><div class=\"wandb-row\"><div class=\"wandb-col\"><h3>Run history:</h3><br/><table class=\"wandb\"><tr><td>Validation Loss</td><td>▁</td></tr><tr><td>epoch</td><td>▁▂▃▃▄▅▆▆▇█</td></tr><tr><td>train_acc</td><td>█▆▃▂▂▁▁▁▁▁</td></tr><tr><td>train_loss</td><td>█▆▅▄▃▃▂▂▁▁</td></tr><tr><td>val_acc</td><td>█▆▄▂▂▁▁▁▁▁</td></tr><tr><td>val_loss</td><td>█▆▅▄▃▃▂▂▁▁</td></tr></table><br/></div><div class=\"wandb-col\"><h3>Run summary:</h3><br/><table class=\"wandb\"><tr><td>Validation Loss</td><td>3.39893</td></tr><tr><td>epoch</td><td>9</td></tr><tr><td>train_acc</td><td>0.05452</td></tr><tr><td>train_loss</td><td>3.37854</td></tr><tr><td>val_acc</td><td>0.055</td></tr><tr><td>val_loss</td><td>3.39893</td></tr></table><br/></div></div>"
      ],
      "text/plain": [
       "<IPython.core.display.HTML object>"
      ]
     },
     "metadata": {},
     "output_type": "display_data"
    },
    {
     "data": {
      "text/html": [
       " View run <strong style=\"color:#cdcd00\">LR: 0.0001, AC: relu, BS: 64, Optim: sgd, WI: xavier, WD: 0, No_HL: 3, HS: 32</strong> at: <a href='https://wandb.ai/da6401-assignments/assignment1/runs/3fluu0wv' target=\"_blank\">https://wandb.ai/da6401-assignments/assignment1/runs/3fluu0wv</a><br> View project at: <a href='https://wandb.ai/da6401-assignments/assignment1' target=\"_blank\">https://wandb.ai/da6401-assignments/assignment1</a><br>Synced 5 W&B file(s), 0 media file(s), 0 artifact file(s) and 0 other file(s)"
      ],
      "text/plain": [
       "<IPython.core.display.HTML object>"
      ]
     },
     "metadata": {},
     "output_type": "display_data"
    },
    {
     "data": {
      "text/html": [
       "Find logs at: <code>.\\wandb\\run-20250310_003912-3fluu0wv\\logs</code>"
      ],
      "text/plain": [
       "<IPython.core.display.HTML object>"
      ]
     },
     "metadata": {},
     "output_type": "display_data"
    },
    {
     "name": "stderr",
     "output_type": "stream",
     "text": [
      "\u001b[34m\u001b[1mwandb\u001b[0m: Agent Starting Run: bqdr224k with config:\n",
      "\u001b[34m\u001b[1mwandb\u001b[0m: \tactivationFunc: relu\n",
      "\u001b[34m\u001b[1mwandb\u001b[0m: \tbatchSize: 64\n",
      "\u001b[34m\u001b[1mwandb\u001b[0m: \thiddenLayer_Size: 32\n",
      "\u001b[34m\u001b[1mwandb\u001b[0m: \tlearningRate: 0.001\n",
      "\u001b[34m\u001b[1mwandb\u001b[0m: \tnum_epochs: 5\n",
      "\u001b[34m\u001b[1mwandb\u001b[0m: \tnum_hiddenLayers: 5\n",
      "\u001b[34m\u001b[1mwandb\u001b[0m: \toptimizer: adam\n",
      "\u001b[34m\u001b[1mwandb\u001b[0m: \tweightDecay: 0\n",
      "\u001b[34m\u001b[1mwandb\u001b[0m: \tweightInit: xavier\n"
     ]
    },
    {
     "data": {
      "text/html": [
       "Ignoring project 'assignment1' when running a sweep."
      ],
      "text/plain": [
       "<IPython.core.display.HTML object>"
      ]
     },
     "metadata": {},
     "output_type": "display_data"
    },
    {
     "data": {
      "text/html": [
       "Ignoring entity 'da6401-assignments' when running a sweep."
      ],
      "text/plain": [
       "<IPython.core.display.HTML object>"
      ]
     },
     "metadata": {},
     "output_type": "display_data"
    },
    {
     "data": {
      "text/html": [
       "creating run (0.2s)"
      ],
      "text/plain": [
       "<IPython.core.display.HTML object>"
      ]
     },
     "metadata": {},
     "output_type": "display_data"
    },
    {
     "data": {
      "text/html": [
       "Tracking run with wandb version 0.19.8"
      ],
      "text/plain": [
       "<IPython.core.display.HTML object>"
      ]
     },
     "metadata": {},
     "output_type": "display_data"
    },
    {
     "data": {
      "text/html": [
       "Run data is saved locally in <code>c:\\Users\\prajv\\Downloads\\ass1\\DA6401_ASSIGNMENT1\\wandb\\run-20250310_003928-bqdr224k</code>"
      ],
      "text/plain": [
       "<IPython.core.display.HTML object>"
      ]
     },
     "metadata": {},
     "output_type": "display_data"
    },
    {
     "data": {
      "text/html": [
       "Syncing run <strong><a href='https://wandb.ai/da6401-assignments/assignment1/runs/bqdr224k' target=\"_blank\">true-sweep-17</a></strong> to <a href='https://wandb.ai/da6401-assignments/assignment1' target=\"_blank\">Weights & Biases</a> (<a href='https://wandb.me/developer-guide' target=\"_blank\">docs</a>)<br>Sweep page: <a href='https://wandb.ai/da6401-assignments/assignment1/sweeps/syjentp9' target=\"_blank\">https://wandb.ai/da6401-assignments/assignment1/sweeps/syjentp9</a>"
      ],
      "text/plain": [
       "<IPython.core.display.HTML object>"
      ]
     },
     "metadata": {},
     "output_type": "display_data"
    },
    {
     "data": {
      "text/html": [
       " View project at <a href='https://wandb.ai/da6401-assignments/assignment1' target=\"_blank\">https://wandb.ai/da6401-assignments/assignment1</a>"
      ],
      "text/plain": [
       "<IPython.core.display.HTML object>"
      ]
     },
     "metadata": {},
     "output_type": "display_data"
    },
    {
     "data": {
      "text/html": [
       " View sweep at <a href='https://wandb.ai/da6401-assignments/assignment1/sweeps/syjentp9' target=\"_blank\">https://wandb.ai/da6401-assignments/assignment1/sweeps/syjentp9</a>"
      ],
      "text/plain": [
       "<IPython.core.display.HTML object>"
      ]
     },
     "metadata": {},
     "output_type": "display_data"
    },
    {
     "data": {
      "text/html": [
       " View run at <a href='https://wandb.ai/da6401-assignments/assignment1/runs/bqdr224k' target=\"_blank\">https://wandb.ai/da6401-assignments/assignment1/runs/bqdr224k</a>"
      ],
      "text/plain": [
       "<IPython.core.display.HTML object>"
      ]
     },
     "metadata": {},
     "output_type": "display_data"
    },
    {
     "name": "stdout",
     "output_type": "stream",
     "text": [
      "Sweep Name:  LR: 0.001, AC: relu, BS: 64, Optim: adam, WI: xavier, WD: 0, No_HL: 5, HS: 32\n",
      "Epoch 0: Training Loss = 0.6149 Validation Loss = 0.6139\n",
      "Training Accuracy = 0.7770 Validation Accuracy = 0.7787\n",
      "Epoch 1: Training Loss = 0.5350 Validation Loss = 0.5517\n",
      "Training Accuracy = 0.8075 Validation Accuracy = 0.8047\n",
      "Epoch 2: Training Loss = 0.4957 Validation Loss = 0.5178\n",
      "Training Accuracy = 0.8209 Validation Accuracy = 0.8183\n",
      "Epoch 3: Training Loss = 0.4706 Validation Loss = 0.5045\n",
      "Training Accuracy = 0.8277 Validation Accuracy = 0.8217\n",
      "Epoch 4: Training Loss = 0.4611 Validation Loss = 0.4967\n",
      "Training Accuracy = 0.8302 Validation Accuracy = 0.8203\n"
     ]
    },
    {
     "data": {
      "text/html": [],
      "text/plain": [
       "<IPython.core.display.HTML object>"
      ]
     },
     "metadata": {},
     "output_type": "display_data"
    },
    {
     "data": {
      "text/html": [
       "<br>    <style><br>        .wandb-row {<br>            display: flex;<br>            flex-direction: row;<br>            flex-wrap: wrap;<br>            justify-content: flex-start;<br>            width: 100%;<br>        }<br>        .wandb-col {<br>            display: flex;<br>            flex-direction: column;<br>            flex-basis: 100%;<br>            flex: 1;<br>            padding: 10px;<br>        }<br>    </style><br><div class=\"wandb-row\"><div class=\"wandb-col\"><h3>Run history:</h3><br/><table class=\"wandb\"><tr><td>Validation Loss</td><td>▁</td></tr><tr><td>epoch</td><td>▁▃▅▆█</td></tr><tr><td>train_acc</td><td>▁▅▇██</td></tr><tr><td>train_loss</td><td>█▄▃▁▁</td></tr><tr><td>val_acc</td><td>▁▅▇██</td></tr><tr><td>val_loss</td><td>█▄▂▁▁</td></tr></table><br/></div><div class=\"wandb-col\"><h3>Run summary:</h3><br/><table class=\"wandb\"><tr><td>Validation Loss</td><td>0.49673</td></tr><tr><td>epoch</td><td>4</td></tr><tr><td>train_acc</td><td>0.83024</td></tr><tr><td>train_loss</td><td>0.46106</td></tr><tr><td>val_acc</td><td>0.82033</td></tr><tr><td>val_loss</td><td>0.49673</td></tr></table><br/></div></div>"
      ],
      "text/plain": [
       "<IPython.core.display.HTML object>"
      ]
     },
     "metadata": {},
     "output_type": "display_data"
    },
    {
     "data": {
      "text/html": [
       " View run <strong style=\"color:#cdcd00\">LR: 0.001, AC: relu, BS: 64, Optim: adam, WI: xavier, WD: 0, No_HL: 5, HS: 32</strong> at: <a href='https://wandb.ai/da6401-assignments/assignment1/runs/bqdr224k' target=\"_blank\">https://wandb.ai/da6401-assignments/assignment1/runs/bqdr224k</a><br> View project at: <a href='https://wandb.ai/da6401-assignments/assignment1' target=\"_blank\">https://wandb.ai/da6401-assignments/assignment1</a><br>Synced 5 W&B file(s), 0 media file(s), 0 artifact file(s) and 0 other file(s)"
      ],
      "text/plain": [
       "<IPython.core.display.HTML object>"
      ]
     },
     "metadata": {},
     "output_type": "display_data"
    },
    {
     "data": {
      "text/html": [
       "Find logs at: <code>.\\wandb\\run-20250310_003928-bqdr224k\\logs</code>"
      ],
      "text/plain": [
       "<IPython.core.display.HTML object>"
      ]
     },
     "metadata": {},
     "output_type": "display_data"
    },
    {
     "name": "stderr",
     "output_type": "stream",
     "text": [
      "\u001b[34m\u001b[1mwandb\u001b[0m: Agent Starting Run: sh7cpptx with config:\n",
      "\u001b[34m\u001b[1mwandb\u001b[0m: \tactivationFunc: relu\n",
      "\u001b[34m\u001b[1mwandb\u001b[0m: \tbatchSize: 32\n",
      "\u001b[34m\u001b[1mwandb\u001b[0m: \thiddenLayer_Size: 128\n",
      "\u001b[34m\u001b[1mwandb\u001b[0m: \tlearningRate: 0.001\n",
      "\u001b[34m\u001b[1mwandb\u001b[0m: \tnum_epochs: 10\n",
      "\u001b[34m\u001b[1mwandb\u001b[0m: \tnum_hiddenLayers: 5\n",
      "\u001b[34m\u001b[1mwandb\u001b[0m: \toptimizer: adam\n",
      "\u001b[34m\u001b[1mwandb\u001b[0m: \tweightDecay: 0.0005\n",
      "\u001b[34m\u001b[1mwandb\u001b[0m: \tweightInit: random\n"
     ]
    },
    {
     "data": {
      "text/html": [
       "Ignoring project 'assignment1' when running a sweep."
      ],
      "text/plain": [
       "<IPython.core.display.HTML object>"
      ]
     },
     "metadata": {},
     "output_type": "display_data"
    },
    {
     "data": {
      "text/html": [
       "Ignoring entity 'da6401-assignments' when running a sweep."
      ],
      "text/plain": [
       "<IPython.core.display.HTML object>"
      ]
     },
     "metadata": {},
     "output_type": "display_data"
    },
    {
     "data": {
      "text/html": [
       "creating run (0.2s)"
      ],
      "text/plain": [
       "<IPython.core.display.HTML object>"
      ]
     },
     "metadata": {},
     "output_type": "display_data"
    },
    {
     "data": {
      "text/html": [
       "Tracking run with wandb version 0.19.8"
      ],
      "text/plain": [
       "<IPython.core.display.HTML object>"
      ]
     },
     "metadata": {},
     "output_type": "display_data"
    },
    {
     "data": {
      "text/html": [
       "Run data is saved locally in <code>c:\\Users\\prajv\\Downloads\\ass1\\DA6401_ASSIGNMENT1\\wandb\\run-20250310_003944-sh7cpptx</code>"
      ],
      "text/plain": [
       "<IPython.core.display.HTML object>"
      ]
     },
     "metadata": {},
     "output_type": "display_data"
    },
    {
     "data": {
      "text/html": [
       "Syncing run <strong><a href='https://wandb.ai/da6401-assignments/assignment1/runs/sh7cpptx' target=\"_blank\">dainty-sweep-18</a></strong> to <a href='https://wandb.ai/da6401-assignments/assignment1' target=\"_blank\">Weights & Biases</a> (<a href='https://wandb.me/developer-guide' target=\"_blank\">docs</a>)<br>Sweep page: <a href='https://wandb.ai/da6401-assignments/assignment1/sweeps/syjentp9' target=\"_blank\">https://wandb.ai/da6401-assignments/assignment1/sweeps/syjentp9</a>"
      ],
      "text/plain": [
       "<IPython.core.display.HTML object>"
      ]
     },
     "metadata": {},
     "output_type": "display_data"
    },
    {
     "data": {
      "text/html": [
       " View project at <a href='https://wandb.ai/da6401-assignments/assignment1' target=\"_blank\">https://wandb.ai/da6401-assignments/assignment1</a>"
      ],
      "text/plain": [
       "<IPython.core.display.HTML object>"
      ]
     },
     "metadata": {},
     "output_type": "display_data"
    },
    {
     "data": {
      "text/html": [
       " View sweep at <a href='https://wandb.ai/da6401-assignments/assignment1/sweeps/syjentp9' target=\"_blank\">https://wandb.ai/da6401-assignments/assignment1/sweeps/syjentp9</a>"
      ],
      "text/plain": [
       "<IPython.core.display.HTML object>"
      ]
     },
     "metadata": {},
     "output_type": "display_data"
    },
    {
     "data": {
      "text/html": [
       " View run at <a href='https://wandb.ai/da6401-assignments/assignment1/runs/sh7cpptx' target=\"_blank\">https://wandb.ai/da6401-assignments/assignment1/runs/sh7cpptx</a>"
      ],
      "text/plain": [
       "<IPython.core.display.HTML object>"
      ]
     },
     "metadata": {},
     "output_type": "display_data"
    },
    {
     "name": "stdout",
     "output_type": "stream",
     "text": [
      "Sweep Name:  LR: 0.001, AC: relu, BS: 32, Optim: adam, WI: random, WD: 0.0005, No_HL: 5, HS: 128\n",
      "Epoch 0: Training Loss = 0.5068 Validation Loss = 0.5308\n",
      "Training Accuracy = 0.8140 Validation Accuracy = 0.8093\n",
      "Epoch 1: Training Loss = 0.4418 Validation Loss = 0.4867\n",
      "Training Accuracy = 0.8375 Validation Accuracy = 0.8205\n",
      "Epoch 2: Training Loss = 0.4038 Validation Loss = 0.4592\n",
      "Training Accuracy = 0.8526 Validation Accuracy = 0.8353\n",
      "Epoch 3: Training Loss = 0.4008 Validation Loss = 0.4542\n",
      "Training Accuracy = 0.8528 Validation Accuracy = 0.8382\n",
      "Epoch 4: Training Loss = 0.3914 Validation Loss = 0.4602\n",
      "Training Accuracy = 0.8562 Validation Accuracy = 0.8368\n",
      "Epoch 5: Training Loss = 0.3724 Validation Loss = 0.4411\n",
      "Training Accuracy = 0.8626 Validation Accuracy = 0.8423\n",
      "Epoch 6: Training Loss = 0.3397 Validation Loss = 0.4189\n",
      "Training Accuracy = 0.8741 Validation Accuracy = 0.8508\n",
      "Epoch 7: Training Loss = 0.3210 Validation Loss = 0.4007\n",
      "Training Accuracy = 0.8805 Validation Accuracy = 0.8558\n",
      "Epoch 8: Training Loss = 0.3210 Validation Loss = 0.4153\n",
      "Training Accuracy = 0.8829 Validation Accuracy = 0.8550\n",
      "Epoch 9: Training Loss = 0.2900 Validation Loss = 0.3885\n",
      "Training Accuracy = 0.8918 Validation Accuracy = 0.8590\n"
     ]
    },
    {
     "data": {
      "text/html": [],
      "text/plain": [
       "<IPython.core.display.HTML object>"
      ]
     },
     "metadata": {},
     "output_type": "display_data"
    },
    {
     "data": {
      "text/html": [
       "<br>    <style><br>        .wandb-row {<br>            display: flex;<br>            flex-direction: row;<br>            flex-wrap: wrap;<br>            justify-content: flex-start;<br>            width: 100%;<br>        }<br>        .wandb-col {<br>            display: flex;<br>            flex-direction: column;<br>            flex-basis: 100%;<br>            flex: 1;<br>            padding: 10px;<br>        }<br>    </style><br><div class=\"wandb-row\"><div class=\"wandb-col\"><h3>Run history:</h3><br/><table class=\"wandb\"><tr><td>Validation Loss</td><td>▁</td></tr><tr><td>epoch</td><td>▁▂▃▃▄▅▆▆▇█</td></tr><tr><td>train_acc</td><td>▁▃▄▄▅▅▆▇▇█</td></tr><tr><td>train_loss</td><td>█▆▅▅▄▄▃▂▂▁</td></tr><tr><td>val_acc</td><td>▁▃▅▅▅▆▇█▇█</td></tr><tr><td>val_loss</td><td>█▆▄▄▅▄▂▂▂▁</td></tr></table><br/></div><div class=\"wandb-col\"><h3>Run summary:</h3><br/><table class=\"wandb\"><tr><td>Validation Loss</td><td>0.38849</td></tr><tr><td>epoch</td><td>9</td></tr><tr><td>train_acc</td><td>0.89183</td></tr><tr><td>train_loss</td><td>0.29004</td></tr><tr><td>val_acc</td><td>0.859</td></tr><tr><td>val_loss</td><td>0.38849</td></tr></table><br/></div></div>"
      ],
      "text/plain": [
       "<IPython.core.display.HTML object>"
      ]
     },
     "metadata": {},
     "output_type": "display_data"
    },
    {
     "data": {
      "text/html": [
       " View run <strong style=\"color:#cdcd00\">LR: 0.001, AC: relu, BS: 32, Optim: adam, WI: random, WD: 0.0005, No_HL: 5, HS: 128</strong> at: <a href='https://wandb.ai/da6401-assignments/assignment1/runs/sh7cpptx' target=\"_blank\">https://wandb.ai/da6401-assignments/assignment1/runs/sh7cpptx</a><br> View project at: <a href='https://wandb.ai/da6401-assignments/assignment1' target=\"_blank\">https://wandb.ai/da6401-assignments/assignment1</a><br>Synced 5 W&B file(s), 0 media file(s), 0 artifact file(s) and 0 other file(s)"
      ],
      "text/plain": [
       "<IPython.core.display.HTML object>"
      ]
     },
     "metadata": {},
     "output_type": "display_data"
    },
    {
     "data": {
      "text/html": [
       "Find logs at: <code>.\\wandb\\run-20250310_003944-sh7cpptx\\logs</code>"
      ],
      "text/plain": [
       "<IPython.core.display.HTML object>"
      ]
     },
     "metadata": {},
     "output_type": "display_data"
    },
    {
     "name": "stderr",
     "output_type": "stream",
     "text": [
      "\u001b[34m\u001b[1mwandb\u001b[0m: Agent Starting Run: d2q6pz4l with config:\n",
      "\u001b[34m\u001b[1mwandb\u001b[0m: \tactivationFunc: tanh\n",
      "\u001b[34m\u001b[1mwandb\u001b[0m: \tbatchSize: 16\n",
      "\u001b[34m\u001b[1mwandb\u001b[0m: \thiddenLayer_Size: 32\n",
      "\u001b[34m\u001b[1mwandb\u001b[0m: \tlearningRate: 0.001\n",
      "\u001b[34m\u001b[1mwandb\u001b[0m: \tnum_epochs: 10\n",
      "\u001b[34m\u001b[1mwandb\u001b[0m: \tnum_hiddenLayers: 4\n",
      "\u001b[34m\u001b[1mwandb\u001b[0m: \toptimizer: rmsprop\n",
      "\u001b[34m\u001b[1mwandb\u001b[0m: \tweightDecay: 0.0005\n",
      "\u001b[34m\u001b[1mwandb\u001b[0m: \tweightInit: random\n"
     ]
    },
    {
     "data": {
      "text/html": [
       "Ignoring project 'assignment1' when running a sweep."
      ],
      "text/plain": [
       "<IPython.core.display.HTML object>"
      ]
     },
     "metadata": {},
     "output_type": "display_data"
    },
    {
     "data": {
      "text/html": [
       "Ignoring entity 'da6401-assignments' when running a sweep."
      ],
      "text/plain": [
       "<IPython.core.display.HTML object>"
      ]
     },
     "metadata": {},
     "output_type": "display_data"
    },
    {
     "data": {
      "text/html": [
       "creating run (0.2s)"
      ],
      "text/plain": [
       "<IPython.core.display.HTML object>"
      ]
     },
     "metadata": {},
     "output_type": "display_data"
    },
    {
     "data": {
      "text/html": [
       "Tracking run with wandb version 0.19.8"
      ],
      "text/plain": [
       "<IPython.core.display.HTML object>"
      ]
     },
     "metadata": {},
     "output_type": "display_data"
    },
    {
     "data": {
      "text/html": [
       "Run data is saved locally in <code>c:\\Users\\prajv\\Downloads\\ass1\\DA6401_ASSIGNMENT1\\wandb\\run-20250310_004140-d2q6pz4l</code>"
      ],
      "text/plain": [
       "<IPython.core.display.HTML object>"
      ]
     },
     "metadata": {},
     "output_type": "display_data"
    },
    {
     "data": {
      "text/html": [
       "Syncing run <strong><a href='https://wandb.ai/da6401-assignments/assignment1/runs/d2q6pz4l' target=\"_blank\">splendid-sweep-19</a></strong> to <a href='https://wandb.ai/da6401-assignments/assignment1' target=\"_blank\">Weights & Biases</a> (<a href='https://wandb.me/developer-guide' target=\"_blank\">docs</a>)<br>Sweep page: <a href='https://wandb.ai/da6401-assignments/assignment1/sweeps/syjentp9' target=\"_blank\">https://wandb.ai/da6401-assignments/assignment1/sweeps/syjentp9</a>"
      ],
      "text/plain": [
       "<IPython.core.display.HTML object>"
      ]
     },
     "metadata": {},
     "output_type": "display_data"
    },
    {
     "data": {
      "text/html": [
       " View project at <a href='https://wandb.ai/da6401-assignments/assignment1' target=\"_blank\">https://wandb.ai/da6401-assignments/assignment1</a>"
      ],
      "text/plain": [
       "<IPython.core.display.HTML object>"
      ]
     },
     "metadata": {},
     "output_type": "display_data"
    },
    {
     "data": {
      "text/html": [
       " View sweep at <a href='https://wandb.ai/da6401-assignments/assignment1/sweeps/syjentp9' target=\"_blank\">https://wandb.ai/da6401-assignments/assignment1/sweeps/syjentp9</a>"
      ],
      "text/plain": [
       "<IPython.core.display.HTML object>"
      ]
     },
     "metadata": {},
     "output_type": "display_data"
    },
    {
     "data": {
      "text/html": [
       " View run at <a href='https://wandb.ai/da6401-assignments/assignment1/runs/d2q6pz4l' target=\"_blank\">https://wandb.ai/da6401-assignments/assignment1/runs/d2q6pz4l</a>"
      ],
      "text/plain": [
       "<IPython.core.display.HTML object>"
      ]
     },
     "metadata": {},
     "output_type": "display_data"
    },
    {
     "name": "stdout",
     "output_type": "stream",
     "text": [
      "Sweep Name:  LR: 0.001, AC: tanh, BS: 16, Optim: rmsprop, WI: random, WD: 0.0005, No_HL: 4, HS: 32\n",
      "Epoch 0: Training Loss = 0.5626 Validation Loss = 0.5749\n",
      "Training Accuracy = 0.8008 Validation Accuracy = 0.7957\n",
      "Epoch 1: Training Loss = 0.5024 Validation Loss = 0.5225\n",
      "Training Accuracy = 0.8197 Validation Accuracy = 0.8133\n",
      "Epoch 2: Training Loss = 0.4606 Validation Loss = 0.4862\n",
      "Training Accuracy = 0.8343 Validation Accuracy = 0.8258\n",
      "Epoch 3: Training Loss = 0.4311 Validation Loss = 0.4610\n",
      "Training Accuracy = 0.8423 Validation Accuracy = 0.8322\n",
      "Epoch 4: Training Loss = 0.4150 Validation Loss = 0.4430\n",
      "Training Accuracy = 0.8491 Validation Accuracy = 0.8405\n",
      "Epoch 5: Training Loss = 0.3936 Validation Loss = 0.4313\n",
      "Training Accuracy = 0.8578 Validation Accuracy = 0.8433\n",
      "Epoch 6: Training Loss = 0.3899 Validation Loss = 0.4229\n",
      "Training Accuracy = 0.8587 Validation Accuracy = 0.8480\n",
      "Epoch 7: Training Loss = 0.3687 Validation Loss = 0.4102\n",
      "Training Accuracy = 0.8674 Validation Accuracy = 0.8582\n",
      "Epoch 8: Training Loss = 0.3598 Validation Loss = 0.4056\n",
      "Training Accuracy = 0.8696 Validation Accuracy = 0.8565\n",
      "Epoch 9: Training Loss = 0.3634 Validation Loss = 0.4221\n",
      "Training Accuracy = 0.8655 Validation Accuracy = 0.8478\n"
     ]
    },
    {
     "data": {
      "text/html": [],
      "text/plain": [
       "<IPython.core.display.HTML object>"
      ]
     },
     "metadata": {},
     "output_type": "display_data"
    },
    {
     "data": {
      "text/html": [
       "<br>    <style><br>        .wandb-row {<br>            display: flex;<br>            flex-direction: row;<br>            flex-wrap: wrap;<br>            justify-content: flex-start;<br>            width: 100%;<br>        }<br>        .wandb-col {<br>            display: flex;<br>            flex-direction: column;<br>            flex-basis: 100%;<br>            flex: 1;<br>            padding: 10px;<br>        }<br>    </style><br><div class=\"wandb-row\"><div class=\"wandb-col\"><h3>Run history:</h3><br/><table class=\"wandb\"><tr><td>Validation Loss</td><td>▁</td></tr><tr><td>epoch</td><td>▁▂▃▃▄▅▆▆▇█</td></tr><tr><td>train_acc</td><td>▁▃▄▅▆▇▇███</td></tr><tr><td>train_loss</td><td>█▆▄▃▃▂▂▁▁▁</td></tr><tr><td>val_acc</td><td>▁▃▄▅▆▆▇██▇</td></tr><tr><td>val_loss</td><td>█▆▄▃▃▂▂▁▁▂</td></tr></table><br/></div><div class=\"wandb-col\"><h3>Run summary:</h3><br/><table class=\"wandb\"><tr><td>Validation Loss</td><td>0.4221</td></tr><tr><td>epoch</td><td>9</td></tr><tr><td>train_acc</td><td>0.86546</td></tr><tr><td>train_loss</td><td>0.36338</td></tr><tr><td>val_acc</td><td>0.84783</td></tr><tr><td>val_loss</td><td>0.4221</td></tr></table><br/></div></div>"
      ],
      "text/plain": [
       "<IPython.core.display.HTML object>"
      ]
     },
     "metadata": {},
     "output_type": "display_data"
    },
    {
     "data": {
      "text/html": [
       " View run <strong style=\"color:#cdcd00\">LR: 0.001, AC: tanh, BS: 16, Optim: rmsprop, WI: random, WD: 0.0005, No_HL: 4, HS: 32</strong> at: <a href='https://wandb.ai/da6401-assignments/assignment1/runs/d2q6pz4l' target=\"_blank\">https://wandb.ai/da6401-assignments/assignment1/runs/d2q6pz4l</a><br> View project at: <a href='https://wandb.ai/da6401-assignments/assignment1' target=\"_blank\">https://wandb.ai/da6401-assignments/assignment1</a><br>Synced 5 W&B file(s), 0 media file(s), 0 artifact file(s) and 0 other file(s)"
      ],
      "text/plain": [
       "<IPython.core.display.HTML object>"
      ]
     },
     "metadata": {},
     "output_type": "display_data"
    },
    {
     "data": {
      "text/html": [
       "Find logs at: <code>.\\wandb\\run-20250310_004140-d2q6pz4l\\logs</code>"
      ],
      "text/plain": [
       "<IPython.core.display.HTML object>"
      ]
     },
     "metadata": {},
     "output_type": "display_data"
    },
    {
     "name": "stderr",
     "output_type": "stream",
     "text": [
      "\u001b[34m\u001b[1mwandb\u001b[0m: Sweep Agent: Waiting for job.\n",
      "\u001b[34m\u001b[1mwandb\u001b[0m: Job received.\n",
      "\u001b[34m\u001b[1mwandb\u001b[0m: Agent Starting Run: 4x07mqy8 with config:\n",
      "\u001b[34m\u001b[1mwandb\u001b[0m: \tactivationFunc: relu\n",
      "\u001b[34m\u001b[1mwandb\u001b[0m: \tbatchSize: 16\n",
      "\u001b[34m\u001b[1mwandb\u001b[0m: \thiddenLayer_Size: 64\n",
      "\u001b[34m\u001b[1mwandb\u001b[0m: \tlearningRate: 0.001\n",
      "\u001b[34m\u001b[1mwandb\u001b[0m: \tnum_epochs: 5\n",
      "\u001b[34m\u001b[1mwandb\u001b[0m: \tnum_hiddenLayers: 4\n",
      "\u001b[34m\u001b[1mwandb\u001b[0m: \toptimizer: nesterov\n",
      "\u001b[34m\u001b[1mwandb\u001b[0m: \tweightDecay: 0\n",
      "\u001b[34m\u001b[1mwandb\u001b[0m: \tweightInit: xavier\n"
     ]
    },
    {
     "data": {
      "text/html": [
       "Ignoring project 'assignment1' when running a sweep."
      ],
      "text/plain": [
       "<IPython.core.display.HTML object>"
      ]
     },
     "metadata": {},
     "output_type": "display_data"
    },
    {
     "data": {
      "text/html": [
       "Ignoring entity 'da6401-assignments' when running a sweep."
      ],
      "text/plain": [
       "<IPython.core.display.HTML object>"
      ]
     },
     "metadata": {},
     "output_type": "display_data"
    },
    {
     "data": {
      "text/html": [
       "creating run (0.3s)"
      ],
      "text/plain": [
       "<IPython.core.display.HTML object>"
      ]
     },
     "metadata": {},
     "output_type": "display_data"
    },
    {
     "data": {
      "text/html": [
       "Tracking run with wandb version 0.19.8"
      ],
      "text/plain": [
       "<IPython.core.display.HTML object>"
      ]
     },
     "metadata": {},
     "output_type": "display_data"
    },
    {
     "data": {
      "text/html": [
       "Run data is saved locally in <code>c:\\Users\\prajv\\Downloads\\ass1\\DA6401_ASSIGNMENT1\\wandb\\run-20250310_004222-4x07mqy8</code>"
      ],
      "text/plain": [
       "<IPython.core.display.HTML object>"
      ]
     },
     "metadata": {},
     "output_type": "display_data"
    },
    {
     "data": {
      "text/html": [
       "Syncing run <strong><a href='https://wandb.ai/da6401-assignments/assignment1/runs/4x07mqy8' target=\"_blank\">worldly-sweep-20</a></strong> to <a href='https://wandb.ai/da6401-assignments/assignment1' target=\"_blank\">Weights & Biases</a> (<a href='https://wandb.me/developer-guide' target=\"_blank\">docs</a>)<br>Sweep page: <a href='https://wandb.ai/da6401-assignments/assignment1/sweeps/syjentp9' target=\"_blank\">https://wandb.ai/da6401-assignments/assignment1/sweeps/syjentp9</a>"
      ],
      "text/plain": [
       "<IPython.core.display.HTML object>"
      ]
     },
     "metadata": {},
     "output_type": "display_data"
    },
    {
     "data": {
      "text/html": [
       " View project at <a href='https://wandb.ai/da6401-assignments/assignment1' target=\"_blank\">https://wandb.ai/da6401-assignments/assignment1</a>"
      ],
      "text/plain": [
       "<IPython.core.display.HTML object>"
      ]
     },
     "metadata": {},
     "output_type": "display_data"
    },
    {
     "data": {
      "text/html": [
       " View sweep at <a href='https://wandb.ai/da6401-assignments/assignment1/sweeps/syjentp9' target=\"_blank\">https://wandb.ai/da6401-assignments/assignment1/sweeps/syjentp9</a>"
      ],
      "text/plain": [
       "<IPython.core.display.HTML object>"
      ]
     },
     "metadata": {},
     "output_type": "display_data"
    },
    {
     "data": {
      "text/html": [
       " View run at <a href='https://wandb.ai/da6401-assignments/assignment1/runs/4x07mqy8' target=\"_blank\">https://wandb.ai/da6401-assignments/assignment1/runs/4x07mqy8</a>"
      ],
      "text/plain": [
       "<IPython.core.display.HTML object>"
      ]
     },
     "metadata": {},
     "output_type": "display_data"
    },
    {
     "name": "stdout",
     "output_type": "stream",
     "text": [
      "Sweep Name:  LR: 0.001, AC: relu, BS: 16, Optim: nesterov, WI: xavier, WD: 0, No_HL: 4, HS: 64\n",
      "Epoch 0: Training Loss = 12.2945 Validation Loss = 12.2886\n",
      "Training Accuracy = 0.0990 Validation Accuracy = 0.1010\n",
      "Epoch 1: Training Loss = 12.2945 Validation Loss = 12.2886\n",
      "Training Accuracy = 0.0990 Validation Accuracy = 0.1010\n",
      "Epoch 2: Training Loss = 12.2945 Validation Loss = 12.2886\n",
      "Training Accuracy = 0.0990 Validation Accuracy = 0.1010\n",
      "Epoch 3: Training Loss = 12.2945 Validation Loss = 12.2886\n",
      "Training Accuracy = 0.0990 Validation Accuracy = 0.1010\n",
      "Epoch 4: Training Loss = 12.2945 Validation Loss = 12.2886\n",
      "Training Accuracy = 0.0990 Validation Accuracy = 0.1010\n"
     ]
    },
    {
     "data": {
      "text/html": [],
      "text/plain": [
       "<IPython.core.display.HTML object>"
      ]
     },
     "metadata": {},
     "output_type": "display_data"
    },
    {
     "data": {
      "text/html": [
       "<br>    <style><br>        .wandb-row {<br>            display: flex;<br>            flex-direction: row;<br>            flex-wrap: wrap;<br>            justify-content: flex-start;<br>            width: 100%;<br>        }<br>        .wandb-col {<br>            display: flex;<br>            flex-direction: column;<br>            flex-basis: 100%;<br>            flex: 1;<br>            padding: 10px;<br>        }<br>    </style><br><div class=\"wandb-row\"><div class=\"wandb-col\"><h3>Run history:</h3><br/><table class=\"wandb\"><tr><td>Validation Loss</td><td>▁</td></tr><tr><td>epoch</td><td>▁▃▅▆█</td></tr><tr><td>train_acc</td><td>▁▁▁▁▁</td></tr><tr><td>train_loss</td><td>▁▁▁▁▁</td></tr><tr><td>val_acc</td><td>▁▁▁▁▁</td></tr><tr><td>val_loss</td><td>▁▁▁▁▁</td></tr></table><br/></div><div class=\"wandb-col\"><h3>Run summary:</h3><br/><table class=\"wandb\"><tr><td>Validation Loss</td><td>12.28857</td></tr><tr><td>epoch</td><td>4</td></tr><tr><td>train_acc</td><td>0.099</td></tr><tr><td>train_loss</td><td>12.2945</td></tr><tr><td>val_acc</td><td>0.101</td></tr><tr><td>val_loss</td><td>12.28857</td></tr></table><br/></div></div>"
      ],
      "text/plain": [
       "<IPython.core.display.HTML object>"
      ]
     },
     "metadata": {},
     "output_type": "display_data"
    },
    {
     "data": {
      "text/html": [
       " View run <strong style=\"color:#cdcd00\">LR: 0.001, AC: relu, BS: 16, Optim: nesterov, WI: xavier, WD: 0, No_HL: 4, HS: 64</strong> at: <a href='https://wandb.ai/da6401-assignments/assignment1/runs/4x07mqy8' target=\"_blank\">https://wandb.ai/da6401-assignments/assignment1/runs/4x07mqy8</a><br> View project at: <a href='https://wandb.ai/da6401-assignments/assignment1' target=\"_blank\">https://wandb.ai/da6401-assignments/assignment1</a><br>Synced 5 W&B file(s), 0 media file(s), 0 artifact file(s) and 0 other file(s)"
      ],
      "text/plain": [
       "<IPython.core.display.HTML object>"
      ]
     },
     "metadata": {},
     "output_type": "display_data"
    },
    {
     "data": {
      "text/html": [
       "Find logs at: <code>.\\wandb\\run-20250310_004222-4x07mqy8\\logs</code>"
      ],
      "text/plain": [
       "<IPython.core.display.HTML object>"
      ]
     },
     "metadata": {},
     "output_type": "display_data"
    },
    {
     "name": "stderr",
     "output_type": "stream",
     "text": [
      "\u001b[34m\u001b[1mwandb\u001b[0m: Agent Starting Run: 04fkft0k with config:\n",
      "\u001b[34m\u001b[1mwandb\u001b[0m: \tactivationFunc: sigmoid\n",
      "\u001b[34m\u001b[1mwandb\u001b[0m: \tbatchSize: 16\n",
      "\u001b[34m\u001b[1mwandb\u001b[0m: \thiddenLayer_Size: 128\n",
      "\u001b[34m\u001b[1mwandb\u001b[0m: \tlearningRate: 0.0001\n",
      "\u001b[34m\u001b[1mwandb\u001b[0m: \tnum_epochs: 5\n",
      "\u001b[34m\u001b[1mwandb\u001b[0m: \tnum_hiddenLayers: 5\n",
      "\u001b[34m\u001b[1mwandb\u001b[0m: \toptimizer: sgd\n",
      "\u001b[34m\u001b[1mwandb\u001b[0m: \tweightDecay: 0.5\n",
      "\u001b[34m\u001b[1mwandb\u001b[0m: \tweightInit: random\n"
     ]
    },
    {
     "data": {
      "text/html": [
       "Ignoring project 'assignment1' when running a sweep."
      ],
      "text/plain": [
       "<IPython.core.display.HTML object>"
      ]
     },
     "metadata": {},
     "output_type": "display_data"
    },
    {
     "data": {
      "text/html": [
       "Ignoring entity 'da6401-assignments' when running a sweep."
      ],
      "text/plain": [
       "<IPython.core.display.HTML object>"
      ]
     },
     "metadata": {},
     "output_type": "display_data"
    },
    {
     "data": {
      "text/html": [
       "creating run (0.2s)"
      ],
      "text/plain": [
       "<IPython.core.display.HTML object>"
      ]
     },
     "metadata": {},
     "output_type": "display_data"
    },
    {
     "data": {
      "text/html": [
       "Tracking run with wandb version 0.19.8"
      ],
      "text/plain": [
       "<IPython.core.display.HTML object>"
      ]
     },
     "metadata": {},
     "output_type": "display_data"
    },
    {
     "data": {
      "text/html": [
       "Run data is saved locally in <code>c:\\Users\\prajv\\Downloads\\ass1\\DA6401_ASSIGNMENT1\\wandb\\run-20250310_004244-04fkft0k</code>"
      ],
      "text/plain": [
       "<IPython.core.display.HTML object>"
      ]
     },
     "metadata": {},
     "output_type": "display_data"
    },
    {
     "data": {
      "text/html": [
       "Syncing run <strong><a href='https://wandb.ai/da6401-assignments/assignment1/runs/04fkft0k' target=\"_blank\">peach-sweep-21</a></strong> to <a href='https://wandb.ai/da6401-assignments/assignment1' target=\"_blank\">Weights & Biases</a> (<a href='https://wandb.me/developer-guide' target=\"_blank\">docs</a>)<br>Sweep page: <a href='https://wandb.ai/da6401-assignments/assignment1/sweeps/syjentp9' target=\"_blank\">https://wandb.ai/da6401-assignments/assignment1/sweeps/syjentp9</a>"
      ],
      "text/plain": [
       "<IPython.core.display.HTML object>"
      ]
     },
     "metadata": {},
     "output_type": "display_data"
    },
    {
     "data": {
      "text/html": [
       " View project at <a href='https://wandb.ai/da6401-assignments/assignment1' target=\"_blank\">https://wandb.ai/da6401-assignments/assignment1</a>"
      ],
      "text/plain": [
       "<IPython.core.display.HTML object>"
      ]
     },
     "metadata": {},
     "output_type": "display_data"
    },
    {
     "data": {
      "text/html": [
       " View sweep at <a href='https://wandb.ai/da6401-assignments/assignment1/sweeps/syjentp9' target=\"_blank\">https://wandb.ai/da6401-assignments/assignment1/sweeps/syjentp9</a>"
      ],
      "text/plain": [
       "<IPython.core.display.HTML object>"
      ]
     },
     "metadata": {},
     "output_type": "display_data"
    },
    {
     "data": {
      "text/html": [
       " View run at <a href='https://wandb.ai/da6401-assignments/assignment1/runs/04fkft0k' target=\"_blank\">https://wandb.ai/da6401-assignments/assignment1/runs/04fkft0k</a>"
      ],
      "text/plain": [
       "<IPython.core.display.HTML object>"
      ]
     },
     "metadata": {},
     "output_type": "display_data"
    },
    {
     "name": "stdout",
     "output_type": "stream",
     "text": [
      "Sweep Name:  LR: 0.0001, AC: sigmoid, BS: 16, Optim: sgd, WI: random, WD: 0.5, No_HL: 5, HS: 128\n",
      "Epoch 0: Training Loss = 5.4589 Validation Loss = 5.5324\n",
      "Training Accuracy = 0.1226 Validation Accuracy = 0.1275\n",
      "Epoch 1: Training Loss = 3.5563 Validation Loss = 3.5923\n",
      "Training Accuracy = 0.1449 Validation Accuracy = 0.1503\n",
      "Epoch 2: Training Loss = 2.8468 Validation Loss = 2.8589\n",
      "Training Accuracy = 0.1830 Validation Accuracy = 0.1868\n",
      "Epoch 3: Training Loss = 2.4065 Validation Loss = 2.3993\n",
      "Training Accuracy = 0.2243 Validation Accuracy = 0.2315\n",
      "Epoch 4: Training Loss = 2.2110 Validation Loss = 2.1988\n",
      "Training Accuracy = 0.2607 Validation Accuracy = 0.2713\n"
     ]
    },
    {
     "data": {
      "text/html": [],
      "text/plain": [
       "<IPython.core.display.HTML object>"
      ]
     },
     "metadata": {},
     "output_type": "display_data"
    },
    {
     "data": {
      "text/html": [
       "<br>    <style><br>        .wandb-row {<br>            display: flex;<br>            flex-direction: row;<br>            flex-wrap: wrap;<br>            justify-content: flex-start;<br>            width: 100%;<br>        }<br>        .wandb-col {<br>            display: flex;<br>            flex-direction: column;<br>            flex-basis: 100%;<br>            flex: 1;<br>            padding: 10px;<br>        }<br>    </style><br><div class=\"wandb-row\"><div class=\"wandb-col\"><h3>Run history:</h3><br/><table class=\"wandb\"><tr><td>Validation Loss</td><td>▁</td></tr><tr><td>epoch</td><td>▁▃▅▆█</td></tr><tr><td>train_acc</td><td>▁▂▄▆█</td></tr><tr><td>train_loss</td><td>█▄▂▁▁</td></tr><tr><td>val_acc</td><td>▁▂▄▆█</td></tr><tr><td>val_loss</td><td>█▄▂▁▁</td></tr></table><br/></div><div class=\"wandb-col\"><h3>Run summary:</h3><br/><table class=\"wandb\"><tr><td>Validation Loss</td><td>2.19876</td></tr><tr><td>epoch</td><td>4</td></tr><tr><td>train_acc</td><td>0.26069</td></tr><tr><td>train_loss</td><td>2.21099</td></tr><tr><td>val_acc</td><td>0.27133</td></tr><tr><td>val_loss</td><td>2.19876</td></tr></table><br/></div></div>"
      ],
      "text/plain": [
       "<IPython.core.display.HTML object>"
      ]
     },
     "metadata": {},
     "output_type": "display_data"
    },
    {
     "data": {
      "text/html": [
       " View run <strong style=\"color:#cdcd00\">LR: 0.0001, AC: sigmoid, BS: 16, Optim: sgd, WI: random, WD: 0.5, No_HL: 5, HS: 128</strong> at: <a href='https://wandb.ai/da6401-assignments/assignment1/runs/04fkft0k' target=\"_blank\">https://wandb.ai/da6401-assignments/assignment1/runs/04fkft0k</a><br> View project at: <a href='https://wandb.ai/da6401-assignments/assignment1' target=\"_blank\">https://wandb.ai/da6401-assignments/assignment1</a><br>Synced 5 W&B file(s), 0 media file(s), 0 artifact file(s) and 0 other file(s)"
      ],
      "text/plain": [
       "<IPython.core.display.HTML object>"
      ]
     },
     "metadata": {},
     "output_type": "display_data"
    },
    {
     "data": {
      "text/html": [
       "Find logs at: <code>.\\wandb\\run-20250310_004244-04fkft0k\\logs</code>"
      ],
      "text/plain": [
       "<IPython.core.display.HTML object>"
      ]
     },
     "metadata": {},
     "output_type": "display_data"
    },
    {
     "name": "stderr",
     "output_type": "stream",
     "text": [
      "\u001b[34m\u001b[1mwandb\u001b[0m: Agent Starting Run: 145yiue2 with config:\n",
      "\u001b[34m\u001b[1mwandb\u001b[0m: \tactivationFunc: relu\n",
      "\u001b[34m\u001b[1mwandb\u001b[0m: \tbatchSize: 16\n",
      "\u001b[34m\u001b[1mwandb\u001b[0m: \thiddenLayer_Size: 64\n",
      "\u001b[34m\u001b[1mwandb\u001b[0m: \tlearningRate: 0.001\n",
      "\u001b[34m\u001b[1mwandb\u001b[0m: \tnum_epochs: 10\n",
      "\u001b[34m\u001b[1mwandb\u001b[0m: \tnum_hiddenLayers: 4\n",
      "\u001b[34m\u001b[1mwandb\u001b[0m: \toptimizer: nadam\n",
      "\u001b[34m\u001b[1mwandb\u001b[0m: \tweightDecay: 0\n",
      "\u001b[34m\u001b[1mwandb\u001b[0m: \tweightInit: xavier\n"
     ]
    },
    {
     "data": {
      "text/html": [
       "Ignoring project 'assignment1' when running a sweep."
      ],
      "text/plain": [
       "<IPython.core.display.HTML object>"
      ]
     },
     "metadata": {},
     "output_type": "display_data"
    },
    {
     "data": {
      "text/html": [
       "Ignoring entity 'da6401-assignments' when running a sweep."
      ],
      "text/plain": [
       "<IPython.core.display.HTML object>"
      ]
     },
     "metadata": {},
     "output_type": "display_data"
    },
    {
     "data": {
      "text/html": [
       "creating run (0.2s)"
      ],
      "text/plain": [
       "<IPython.core.display.HTML object>"
      ]
     },
     "metadata": {},
     "output_type": "display_data"
    },
    {
     "data": {
      "text/html": [
       "Tracking run with wandb version 0.19.8"
      ],
      "text/plain": [
       "<IPython.core.display.HTML object>"
      ]
     },
     "metadata": {},
     "output_type": "display_data"
    },
    {
     "data": {
      "text/html": [
       "Run data is saved locally in <code>c:\\Users\\prajv\\Downloads\\ass1\\DA6401_ASSIGNMENT1\\wandb\\run-20250310_004332-145yiue2</code>"
      ],
      "text/plain": [
       "<IPython.core.display.HTML object>"
      ]
     },
     "metadata": {},
     "output_type": "display_data"
    },
    {
     "data": {
      "text/html": [
       "Syncing run <strong><a href='https://wandb.ai/da6401-assignments/assignment1/runs/145yiue2' target=\"_blank\">floral-sweep-22</a></strong> to <a href='https://wandb.ai/da6401-assignments/assignment1' target=\"_blank\">Weights & Biases</a> (<a href='https://wandb.me/developer-guide' target=\"_blank\">docs</a>)<br>Sweep page: <a href='https://wandb.ai/da6401-assignments/assignment1/sweeps/syjentp9' target=\"_blank\">https://wandb.ai/da6401-assignments/assignment1/sweeps/syjentp9</a>"
      ],
      "text/plain": [
       "<IPython.core.display.HTML object>"
      ]
     },
     "metadata": {},
     "output_type": "display_data"
    },
    {
     "data": {
      "text/html": [
       " View project at <a href='https://wandb.ai/da6401-assignments/assignment1' target=\"_blank\">https://wandb.ai/da6401-assignments/assignment1</a>"
      ],
      "text/plain": [
       "<IPython.core.display.HTML object>"
      ]
     },
     "metadata": {},
     "output_type": "display_data"
    },
    {
     "data": {
      "text/html": [
       " View sweep at <a href='https://wandb.ai/da6401-assignments/assignment1/sweeps/syjentp9' target=\"_blank\">https://wandb.ai/da6401-assignments/assignment1/sweeps/syjentp9</a>"
      ],
      "text/plain": [
       "<IPython.core.display.HTML object>"
      ]
     },
     "metadata": {},
     "output_type": "display_data"
    },
    {
     "data": {
      "text/html": [
       " View run at <a href='https://wandb.ai/da6401-assignments/assignment1/runs/145yiue2' target=\"_blank\">https://wandb.ai/da6401-assignments/assignment1/runs/145yiue2</a>"
      ],
      "text/plain": [
       "<IPython.core.display.HTML object>"
      ]
     },
     "metadata": {},
     "output_type": "display_data"
    },
    {
     "name": "stdout",
     "output_type": "stream",
     "text": [
      "Sweep Name:  LR: 0.001, AC: relu, BS: 16, Optim: nadam, WI: xavier, WD: 0, No_HL: 4, HS: 64\n",
      "Epoch 0: Training Loss = 0.5125 Validation Loss = 0.5294\n",
      "Training Accuracy = 0.8145 Validation Accuracy = 0.8088\n",
      "Epoch 1: Training Loss = 0.4415 Validation Loss = 0.4587\n",
      "Training Accuracy = 0.8379 Validation Accuracy = 0.8303\n",
      "Epoch 2: Training Loss = 0.4011 Validation Loss = 0.4251\n",
      "Training Accuracy = 0.8533 Validation Accuracy = 0.8443\n",
      "Epoch 3: Training Loss = 0.3817 Validation Loss = 0.4152\n",
      "Training Accuracy = 0.8588 Validation Accuracy = 0.8505\n",
      "Epoch 4: Training Loss = 0.3611 Validation Loss = 0.4076\n",
      "Training Accuracy = 0.8679 Validation Accuracy = 0.8523\n",
      "Epoch 5: Training Loss = 0.3425 Validation Loss = 0.3885\n",
      "Training Accuracy = 0.8737 Validation Accuracy = 0.8612\n",
      "Epoch 6: Training Loss = 0.3278 Validation Loss = 0.3819\n",
      "Training Accuracy = 0.8798 Validation Accuracy = 0.8583\n",
      "Epoch 7: Training Loss = 0.3124 Validation Loss = 0.3732\n",
      "Training Accuracy = 0.8852 Validation Accuracy = 0.8682\n",
      "Epoch 8: Training Loss = 0.3023 Validation Loss = 0.3692\n",
      "Training Accuracy = 0.8894 Validation Accuracy = 0.8688\n",
      "Epoch 9: Training Loss = 0.3052 Validation Loss = 0.3719\n",
      "Training Accuracy = 0.8878 Validation Accuracy = 0.8708\n"
     ]
    },
    {
     "data": {
      "text/html": [],
      "text/plain": [
       "<IPython.core.display.HTML object>"
      ]
     },
     "metadata": {},
     "output_type": "display_data"
    },
    {
     "data": {
      "text/html": [
       "<br>    <style><br>        .wandb-row {<br>            display: flex;<br>            flex-direction: row;<br>            flex-wrap: wrap;<br>            justify-content: flex-start;<br>            width: 100%;<br>        }<br>        .wandb-col {<br>            display: flex;<br>            flex-direction: column;<br>            flex-basis: 100%;<br>            flex: 1;<br>            padding: 10px;<br>        }<br>    </style><br><div class=\"wandb-row\"><div class=\"wandb-col\"><h3>Run history:</h3><br/><table class=\"wandb\"><tr><td>Validation Loss</td><td>▁</td></tr><tr><td>epoch</td><td>▁▂▃▃▄▅▆▆▇█</td></tr><tr><td>train_acc</td><td>▁▃▅▅▆▇▇███</td></tr><tr><td>train_loss</td><td>█▆▄▄▃▂▂▁▁▁</td></tr><tr><td>val_acc</td><td>▁▃▅▆▆▇▇███</td></tr><tr><td>val_loss</td><td>█▅▃▃▃▂▂▁▁▁</td></tr></table><br/></div><div class=\"wandb-col\"><h3>Run summary:</h3><br/><table class=\"wandb\"><tr><td>Validation Loss</td><td>0.37193</td></tr><tr><td>epoch</td><td>9</td></tr><tr><td>train_acc</td><td>0.8878</td></tr><tr><td>train_loss</td><td>0.30516</td></tr><tr><td>val_acc</td><td>0.87083</td></tr><tr><td>val_loss</td><td>0.37193</td></tr></table><br/></div></div>"
      ],
      "text/plain": [
       "<IPython.core.display.HTML object>"
      ]
     },
     "metadata": {},
     "output_type": "display_data"
    },
    {
     "data": {
      "text/html": [
       " View run <strong style=\"color:#cdcd00\">LR: 0.001, AC: relu, BS: 16, Optim: nadam, WI: xavier, WD: 0, No_HL: 4, HS: 64</strong> at: <a href='https://wandb.ai/da6401-assignments/assignment1/runs/145yiue2' target=\"_blank\">https://wandb.ai/da6401-assignments/assignment1/runs/145yiue2</a><br> View project at: <a href='https://wandb.ai/da6401-assignments/assignment1' target=\"_blank\">https://wandb.ai/da6401-assignments/assignment1</a><br>Synced 5 W&B file(s), 0 media file(s), 0 artifact file(s) and 0 other file(s)"
      ],
      "text/plain": [
       "<IPython.core.display.HTML object>"
      ]
     },
     "metadata": {},
     "output_type": "display_data"
    },
    {
     "data": {
      "text/html": [
       "Find logs at: <code>.\\wandb\\run-20250310_004332-145yiue2\\logs</code>"
      ],
      "text/plain": [
       "<IPython.core.display.HTML object>"
      ]
     },
     "metadata": {},
     "output_type": "display_data"
    },
    {
     "name": "stderr",
     "output_type": "stream",
     "text": [
      "\u001b[34m\u001b[1mwandb\u001b[0m: Agent Starting Run: f3ven5qt with config:\n",
      "\u001b[34m\u001b[1mwandb\u001b[0m: \tactivationFunc: tanh\n",
      "\u001b[34m\u001b[1mwandb\u001b[0m: \tbatchSize: 32\n",
      "\u001b[34m\u001b[1mwandb\u001b[0m: \thiddenLayer_Size: 64\n",
      "\u001b[34m\u001b[1mwandb\u001b[0m: \tlearningRate: 0.001\n",
      "\u001b[34m\u001b[1mwandb\u001b[0m: \tnum_epochs: 5\n",
      "\u001b[34m\u001b[1mwandb\u001b[0m: \tnum_hiddenLayers: 5\n",
      "\u001b[34m\u001b[1mwandb\u001b[0m: \toptimizer: nadam\n",
      "\u001b[34m\u001b[1mwandb\u001b[0m: \tweightDecay: 0\n",
      "\u001b[34m\u001b[1mwandb\u001b[0m: \tweightInit: random\n"
     ]
    },
    {
     "data": {
      "text/html": [
       "Ignoring project 'assignment1' when running a sweep."
      ],
      "text/plain": [
       "<IPython.core.display.HTML object>"
      ]
     },
     "metadata": {},
     "output_type": "display_data"
    },
    {
     "data": {
      "text/html": [
       "Ignoring entity 'da6401-assignments' when running a sweep."
      ],
      "text/plain": [
       "<IPython.core.display.HTML object>"
      ]
     },
     "metadata": {},
     "output_type": "display_data"
    },
    {
     "data": {
      "text/html": [
       "creating run (0.2s)"
      ],
      "text/plain": [
       "<IPython.core.display.HTML object>"
      ]
     },
     "metadata": {},
     "output_type": "display_data"
    },
    {
     "data": {
      "text/html": [
       "Tracking run with wandb version 0.19.8"
      ],
      "text/plain": [
       "<IPython.core.display.HTML object>"
      ]
     },
     "metadata": {},
     "output_type": "display_data"
    },
    {
     "data": {
      "text/html": [
       "Run data is saved locally in <code>c:\\Users\\prajv\\Downloads\\ass1\\DA6401_ASSIGNMENT1\\wandb\\run-20250310_004446-f3ven5qt</code>"
      ],
      "text/plain": [
       "<IPython.core.display.HTML object>"
      ]
     },
     "metadata": {},
     "output_type": "display_data"
    },
    {
     "data": {
      "text/html": [
       "Syncing run <strong><a href='https://wandb.ai/da6401-assignments/assignment1/runs/f3ven5qt' target=\"_blank\">olive-sweep-23</a></strong> to <a href='https://wandb.ai/da6401-assignments/assignment1' target=\"_blank\">Weights & Biases</a> (<a href='https://wandb.me/developer-guide' target=\"_blank\">docs</a>)<br>Sweep page: <a href='https://wandb.ai/da6401-assignments/assignment1/sweeps/syjentp9' target=\"_blank\">https://wandb.ai/da6401-assignments/assignment1/sweeps/syjentp9</a>"
      ],
      "text/plain": [
       "<IPython.core.display.HTML object>"
      ]
     },
     "metadata": {},
     "output_type": "display_data"
    },
    {
     "data": {
      "text/html": [
       " View project at <a href='https://wandb.ai/da6401-assignments/assignment1' target=\"_blank\">https://wandb.ai/da6401-assignments/assignment1</a>"
      ],
      "text/plain": [
       "<IPython.core.display.HTML object>"
      ]
     },
     "metadata": {},
     "output_type": "display_data"
    },
    {
     "data": {
      "text/html": [
       " View sweep at <a href='https://wandb.ai/da6401-assignments/assignment1/sweeps/syjentp9' target=\"_blank\">https://wandb.ai/da6401-assignments/assignment1/sweeps/syjentp9</a>"
      ],
      "text/plain": [
       "<IPython.core.display.HTML object>"
      ]
     },
     "metadata": {},
     "output_type": "display_data"
    },
    {
     "data": {
      "text/html": [
       " View run at <a href='https://wandb.ai/da6401-assignments/assignment1/runs/f3ven5qt' target=\"_blank\">https://wandb.ai/da6401-assignments/assignment1/runs/f3ven5qt</a>"
      ],
      "text/plain": [
       "<IPython.core.display.HTML object>"
      ]
     },
     "metadata": {},
     "output_type": "display_data"
    },
    {
     "name": "stdout",
     "output_type": "stream",
     "text": [
      "Sweep Name:  LR: 0.001, AC: tanh, BS: 32, Optim: nadam, WI: random, WD: 0, No_HL: 5, HS: 64\n",
      "Epoch 0: Training Loss = 0.5066 Validation Loss = 0.5210\n",
      "Training Accuracy = 0.8133 Validation Accuracy = 0.8073\n",
      "Epoch 1: Training Loss = 0.4628 Validation Loss = 0.4925\n",
      "Training Accuracy = 0.8256 Validation Accuracy = 0.8158\n",
      "Epoch 2: Training Loss = 0.4311 Validation Loss = 0.4647\n",
      "Training Accuracy = 0.8373 Validation Accuracy = 0.8288\n",
      "Epoch 3: Training Loss = 0.3970 Validation Loss = 0.4400\n",
      "Training Accuracy = 0.8517 Validation Accuracy = 0.8372\n",
      "Epoch 4: Training Loss = 0.3997 Validation Loss = 0.4466\n",
      "Training Accuracy = 0.8526 Validation Accuracy = 0.8327\n"
     ]
    },
    {
     "data": {
      "text/html": [],
      "text/plain": [
       "<IPython.core.display.HTML object>"
      ]
     },
     "metadata": {},
     "output_type": "display_data"
    },
    {
     "data": {
      "text/html": [
       "<br>    <style><br>        .wandb-row {<br>            display: flex;<br>            flex-direction: row;<br>            flex-wrap: wrap;<br>            justify-content: flex-start;<br>            width: 100%;<br>        }<br>        .wandb-col {<br>            display: flex;<br>            flex-direction: column;<br>            flex-basis: 100%;<br>            flex: 1;<br>            padding: 10px;<br>        }<br>    </style><br><div class=\"wandb-row\"><div class=\"wandb-col\"><h3>Run history:</h3><br/><table class=\"wandb\"><tr><td>Validation Loss</td><td>▁</td></tr><tr><td>epoch</td><td>▁▃▅▆█</td></tr><tr><td>train_acc</td><td>▁▃▅██</td></tr><tr><td>train_loss</td><td>█▅▃▁▁</td></tr><tr><td>val_acc</td><td>▁▃▆█▇</td></tr><tr><td>val_loss</td><td>█▆▃▁▂</td></tr></table><br/></div><div class=\"wandb-col\"><h3>Run summary:</h3><br/><table class=\"wandb\"><tr><td>Validation Loss</td><td>0.44661</td></tr><tr><td>epoch</td><td>4</td></tr><tr><td>train_acc</td><td>0.85265</td></tr><tr><td>train_loss</td><td>0.39969</td></tr><tr><td>val_acc</td><td>0.83267</td></tr><tr><td>val_loss</td><td>0.44661</td></tr></table><br/></div></div>"
      ],
      "text/plain": [
       "<IPython.core.display.HTML object>"
      ]
     },
     "metadata": {},
     "output_type": "display_data"
    },
    {
     "data": {
      "text/html": [
       " View run <strong style=\"color:#cdcd00\">LR: 0.001, AC: tanh, BS: 32, Optim: nadam, WI: random, WD: 0, No_HL: 5, HS: 64</strong> at: <a href='https://wandb.ai/da6401-assignments/assignment1/runs/f3ven5qt' target=\"_blank\">https://wandb.ai/da6401-assignments/assignment1/runs/f3ven5qt</a><br> View project at: <a href='https://wandb.ai/da6401-assignments/assignment1' target=\"_blank\">https://wandb.ai/da6401-assignments/assignment1</a><br>Synced 5 W&B file(s), 0 media file(s), 0 artifact file(s) and 0 other file(s)"
      ],
      "text/plain": [
       "<IPython.core.display.HTML object>"
      ]
     },
     "metadata": {},
     "output_type": "display_data"
    },
    {
     "data": {
      "text/html": [
       "Find logs at: <code>.\\wandb\\run-20250310_004446-f3ven5qt\\logs</code>"
      ],
      "text/plain": [
       "<IPython.core.display.HTML object>"
      ]
     },
     "metadata": {},
     "output_type": "display_data"
    },
    {
     "name": "stderr",
     "output_type": "stream",
     "text": [
      "\u001b[34m\u001b[1mwandb\u001b[0m: Agent Starting Run: 76ptxtz2 with config:\n",
      "\u001b[34m\u001b[1mwandb\u001b[0m: \tactivationFunc: relu\n",
      "\u001b[34m\u001b[1mwandb\u001b[0m: \tbatchSize: 64\n",
      "\u001b[34m\u001b[1mwandb\u001b[0m: \thiddenLayer_Size: 128\n",
      "\u001b[34m\u001b[1mwandb\u001b[0m: \tlearningRate: 0.0001\n",
      "\u001b[34m\u001b[1mwandb\u001b[0m: \tnum_epochs: 10\n",
      "\u001b[34m\u001b[1mwandb\u001b[0m: \tnum_hiddenLayers: 5\n",
      "\u001b[34m\u001b[1mwandb\u001b[0m: \toptimizer: nesterov\n",
      "\u001b[34m\u001b[1mwandb\u001b[0m: \tweightDecay: 0.0005\n",
      "\u001b[34m\u001b[1mwandb\u001b[0m: \tweightInit: random\n"
     ]
    },
    {
     "data": {
      "text/html": [
       "Ignoring project 'assignment1' when running a sweep."
      ],
      "text/plain": [
       "<IPython.core.display.HTML object>"
      ]
     },
     "metadata": {},
     "output_type": "display_data"
    },
    {
     "data": {
      "text/html": [
       "Ignoring entity 'da6401-assignments' when running a sweep."
      ],
      "text/plain": [
       "<IPython.core.display.HTML object>"
      ]
     },
     "metadata": {},
     "output_type": "display_data"
    },
    {
     "data": {
      "text/html": [
       "creating run (0.2s)"
      ],
      "text/plain": [
       "<IPython.core.display.HTML object>"
      ]
     },
     "metadata": {},
     "output_type": "display_data"
    },
    {
     "data": {
      "text/html": [
       "Tracking run with wandb version 0.19.8"
      ],
      "text/plain": [
       "<IPython.core.display.HTML object>"
      ]
     },
     "metadata": {},
     "output_type": "display_data"
    },
    {
     "data": {
      "text/html": [
       "Run data is saved locally in <code>c:\\Users\\prajv\\Downloads\\ass1\\DA6401_ASSIGNMENT1\\wandb\\run-20250310_004517-76ptxtz2</code>"
      ],
      "text/plain": [
       "<IPython.core.display.HTML object>"
      ]
     },
     "metadata": {},
     "output_type": "display_data"
    },
    {
     "data": {
      "text/html": [
       "Syncing run <strong><a href='https://wandb.ai/da6401-assignments/assignment1/runs/76ptxtz2' target=\"_blank\">major-sweep-24</a></strong> to <a href='https://wandb.ai/da6401-assignments/assignment1' target=\"_blank\">Weights & Biases</a> (<a href='https://wandb.me/developer-guide' target=\"_blank\">docs</a>)<br>Sweep page: <a href='https://wandb.ai/da6401-assignments/assignment1/sweeps/syjentp9' target=\"_blank\">https://wandb.ai/da6401-assignments/assignment1/sweeps/syjentp9</a>"
      ],
      "text/plain": [
       "<IPython.core.display.HTML object>"
      ]
     },
     "metadata": {},
     "output_type": "display_data"
    },
    {
     "data": {
      "text/html": [
       " View project at <a href='https://wandb.ai/da6401-assignments/assignment1' target=\"_blank\">https://wandb.ai/da6401-assignments/assignment1</a>"
      ],
      "text/plain": [
       "<IPython.core.display.HTML object>"
      ]
     },
     "metadata": {},
     "output_type": "display_data"
    },
    {
     "data": {
      "text/html": [
       " View sweep at <a href='https://wandb.ai/da6401-assignments/assignment1/sweeps/syjentp9' target=\"_blank\">https://wandb.ai/da6401-assignments/assignment1/sweeps/syjentp9</a>"
      ],
      "text/plain": [
       "<IPython.core.display.HTML object>"
      ]
     },
     "metadata": {},
     "output_type": "display_data"
    },
    {
     "data": {
      "text/html": [
       " View run at <a href='https://wandb.ai/da6401-assignments/assignment1/runs/76ptxtz2' target=\"_blank\">https://wandb.ai/da6401-assignments/assignment1/runs/76ptxtz2</a>"
      ],
      "text/plain": [
       "<IPython.core.display.HTML object>"
      ]
     },
     "metadata": {},
     "output_type": "display_data"
    },
    {
     "name": "stdout",
     "output_type": "stream",
     "text": [
      "Sweep Name:  LR: 0.0001, AC: relu, BS: 64, Optim: nesterov, WI: random, WD: 0.0005, No_HL: 5, HS: 128\n",
      "Epoch 0: Training Loss = 8.8878 Validation Loss = 8.9146\n",
      "Training Accuracy = 0.1284 Validation Accuracy = 0.1282\n",
      "Epoch 1: Training Loss = 8.8878 Validation Loss = 8.9146\n",
      "Training Accuracy = 0.1284 Validation Accuracy = 0.1282\n",
      "Epoch 2: Training Loss = 8.8878 Validation Loss = 8.9146\n",
      "Training Accuracy = 0.1284 Validation Accuracy = 0.1282\n",
      "Epoch 3: Training Loss = 8.8878 Validation Loss = 8.9146\n",
      "Training Accuracy = 0.1284 Validation Accuracy = 0.1282\n",
      "Epoch 4: Training Loss = 8.8878 Validation Loss = 8.9146\n",
      "Training Accuracy = 0.1284 Validation Accuracy = 0.1282\n",
      "Epoch 5: Training Loss = 8.8878 Validation Loss = 8.9146\n",
      "Training Accuracy = 0.1284 Validation Accuracy = 0.1282\n",
      "Epoch 6: Training Loss = 8.8878 Validation Loss = 8.9146\n",
      "Training Accuracy = 0.1284 Validation Accuracy = 0.1282\n",
      "Epoch 7: Training Loss = 8.8878 Validation Loss = 8.9146\n",
      "Training Accuracy = 0.1284 Validation Accuracy = 0.1282\n",
      "Epoch 8: Training Loss = 8.8878 Validation Loss = 8.9146\n",
      "Training Accuracy = 0.1284 Validation Accuracy = 0.1282\n",
      "Epoch 9: Training Loss = 8.8878 Validation Loss = 8.9146\n",
      "Training Accuracy = 0.1284 Validation Accuracy = 0.1282\n"
     ]
    },
    {
     "data": {
      "text/html": [],
      "text/plain": [
       "<IPython.core.display.HTML object>"
      ]
     },
     "metadata": {},
     "output_type": "display_data"
    },
    {
     "data": {
      "text/html": [
       "<br>    <style><br>        .wandb-row {<br>            display: flex;<br>            flex-direction: row;<br>            flex-wrap: wrap;<br>            justify-content: flex-start;<br>            width: 100%;<br>        }<br>        .wandb-col {<br>            display: flex;<br>            flex-direction: column;<br>            flex-basis: 100%;<br>            flex: 1;<br>            padding: 10px;<br>        }<br>    </style><br><div class=\"wandb-row\"><div class=\"wandb-col\"><h3>Run history:</h3><br/><table class=\"wandb\"><tr><td>Validation Loss</td><td>▁</td></tr><tr><td>epoch</td><td>▁▂▃▃▄▅▆▆▇█</td></tr><tr><td>train_acc</td><td>▁▁▁▁▁▁▁▁▁▁</td></tr><tr><td>train_loss</td><td>▁▁▁▁▁▁▁▁▁▁</td></tr><tr><td>val_acc</td><td>▁▁▁▁▁▁▁▁▁▁</td></tr><tr><td>val_loss</td><td>▁▁▁▁▁▁▁▁▁▁</td></tr></table><br/></div><div class=\"wandb-col\"><h3>Run summary:</h3><br/><table class=\"wandb\"><tr><td>Validation Loss</td><td>8.91459</td></tr><tr><td>epoch</td><td>9</td></tr><tr><td>train_acc</td><td>0.12837</td></tr><tr><td>train_loss</td><td>8.88782</td></tr><tr><td>val_acc</td><td>0.12817</td></tr><tr><td>val_loss</td><td>8.91459</td></tr></table><br/></div></div>"
      ],
      "text/plain": [
       "<IPython.core.display.HTML object>"
      ]
     },
     "metadata": {},
     "output_type": "display_data"
    },
    {
     "data": {
      "text/html": [
       " View run <strong style=\"color:#cdcd00\">LR: 0.0001, AC: relu, BS: 64, Optim: nesterov, WI: random, WD: 0.0005, No_HL: 5, HS: 128</strong> at: <a href='https://wandb.ai/da6401-assignments/assignment1/runs/76ptxtz2' target=\"_blank\">https://wandb.ai/da6401-assignments/assignment1/runs/76ptxtz2</a><br> View project at: <a href='https://wandb.ai/da6401-assignments/assignment1' target=\"_blank\">https://wandb.ai/da6401-assignments/assignment1</a><br>Synced 5 W&B file(s), 0 media file(s), 0 artifact file(s) and 0 other file(s)"
      ],
      "text/plain": [
       "<IPython.core.display.HTML object>"
      ]
     },
     "metadata": {},
     "output_type": "display_data"
    },
    {
     "data": {
      "text/html": [
       "Find logs at: <code>.\\wandb\\run-20250310_004517-76ptxtz2\\logs</code>"
      ],
      "text/plain": [
       "<IPython.core.display.HTML object>"
      ]
     },
     "metadata": {},
     "output_type": "display_data"
    },
    {
     "name": "stderr",
     "output_type": "stream",
     "text": [
      "\u001b[34m\u001b[1mwandb\u001b[0m: Agent Starting Run: ujedhhm4 with config:\n",
      "\u001b[34m\u001b[1mwandb\u001b[0m: \tactivationFunc: sigmoid\n",
      "\u001b[34m\u001b[1mwandb\u001b[0m: \tbatchSize: 16\n",
      "\u001b[34m\u001b[1mwandb\u001b[0m: \thiddenLayer_Size: 64\n",
      "\u001b[34m\u001b[1mwandb\u001b[0m: \tlearningRate: 0.0001\n",
      "\u001b[34m\u001b[1mwandb\u001b[0m: \tnum_epochs: 5\n",
      "\u001b[34m\u001b[1mwandb\u001b[0m: \tnum_hiddenLayers: 4\n",
      "\u001b[34m\u001b[1mwandb\u001b[0m: \toptimizer: rmsprop\n",
      "\u001b[34m\u001b[1mwandb\u001b[0m: \tweightDecay: 0.5\n",
      "\u001b[34m\u001b[1mwandb\u001b[0m: \tweightInit: random\n"
     ]
    },
    {
     "data": {
      "text/html": [
       "Ignoring project 'assignment1' when running a sweep."
      ],
      "text/plain": [
       "<IPython.core.display.HTML object>"
      ]
     },
     "metadata": {},
     "output_type": "display_data"
    },
    {
     "data": {
      "text/html": [
       "Ignoring entity 'da6401-assignments' when running a sweep."
      ],
      "text/plain": [
       "<IPython.core.display.HTML object>"
      ]
     },
     "metadata": {},
     "output_type": "display_data"
    },
    {
     "data": {
      "text/html": [
       "creating run (0.2s)"
      ],
      "text/plain": [
       "<IPython.core.display.HTML object>"
      ]
     },
     "metadata": {},
     "output_type": "display_data"
    },
    {
     "data": {
      "text/html": [
       "Tracking run with wandb version 0.19.8"
      ],
      "text/plain": [
       "<IPython.core.display.HTML object>"
      ]
     },
     "metadata": {},
     "output_type": "display_data"
    },
    {
     "data": {
      "text/html": [
       "Run data is saved locally in <code>c:\\Users\\prajv\\Downloads\\ass1\\DA6401_ASSIGNMENT1\\wandb\\run-20250310_004605-ujedhhm4</code>"
      ],
      "text/plain": [
       "<IPython.core.display.HTML object>"
      ]
     },
     "metadata": {},
     "output_type": "display_data"
    },
    {
     "data": {
      "text/html": [
       "Syncing run <strong><a href='https://wandb.ai/da6401-assignments/assignment1/runs/ujedhhm4' target=\"_blank\">sweet-sweep-25</a></strong> to <a href='https://wandb.ai/da6401-assignments/assignment1' target=\"_blank\">Weights & Biases</a> (<a href='https://wandb.me/developer-guide' target=\"_blank\">docs</a>)<br>Sweep page: <a href='https://wandb.ai/da6401-assignments/assignment1/sweeps/syjentp9' target=\"_blank\">https://wandb.ai/da6401-assignments/assignment1/sweeps/syjentp9</a>"
      ],
      "text/plain": [
       "<IPython.core.display.HTML object>"
      ]
     },
     "metadata": {},
     "output_type": "display_data"
    },
    {
     "data": {
      "text/html": [
       " View project at <a href='https://wandb.ai/da6401-assignments/assignment1' target=\"_blank\">https://wandb.ai/da6401-assignments/assignment1</a>"
      ],
      "text/plain": [
       "<IPython.core.display.HTML object>"
      ]
     },
     "metadata": {},
     "output_type": "display_data"
    },
    {
     "data": {
      "text/html": [
       " View sweep at <a href='https://wandb.ai/da6401-assignments/assignment1/sweeps/syjentp9' target=\"_blank\">https://wandb.ai/da6401-assignments/assignment1/sweeps/syjentp9</a>"
      ],
      "text/plain": [
       "<IPython.core.display.HTML object>"
      ]
     },
     "metadata": {},
     "output_type": "display_data"
    },
    {
     "data": {
      "text/html": [
       " View run at <a href='https://wandb.ai/da6401-assignments/assignment1/runs/ujedhhm4' target=\"_blank\">https://wandb.ai/da6401-assignments/assignment1/runs/ujedhhm4</a>"
      ],
      "text/plain": [
       "<IPython.core.display.HTML object>"
      ]
     },
     "metadata": {},
     "output_type": "display_data"
    },
    {
     "name": "stdout",
     "output_type": "stream",
     "text": [
      "Sweep Name:  LR: 0.0001, AC: sigmoid, BS: 16, Optim: rmsprop, WI: random, WD: 0.5, No_HL: 4, HS: 64\n",
      "Epoch 0: Training Loss = 0.8836 Validation Loss = 0.8780\n",
      "Training Accuracy = 0.6867 Validation Accuracy = 0.6917\n",
      "Epoch 1: Training Loss = 0.7327 Validation Loss = 0.7366\n",
      "Training Accuracy = 0.7317 Validation Accuracy = 0.7323\n",
      "Epoch 2: Training Loss = 0.6597 Validation Loss = 0.6667\n",
      "Training Accuracy = 0.7577 Validation Accuracy = 0.7562\n",
      "Epoch 3: Training Loss = 0.6161 Validation Loss = 0.6301\n",
      "Training Accuracy = 0.7731 Validation Accuracy = 0.7682\n",
      "Epoch 4: Training Loss = 0.5799 Validation Loss = 0.5981\n",
      "Training Accuracy = 0.7878 Validation Accuracy = 0.7765\n"
     ]
    },
    {
     "data": {
      "text/html": [],
      "text/plain": [
       "<IPython.core.display.HTML object>"
      ]
     },
     "metadata": {},
     "output_type": "display_data"
    },
    {
     "data": {
      "text/html": [
       "<br>    <style><br>        .wandb-row {<br>            display: flex;<br>            flex-direction: row;<br>            flex-wrap: wrap;<br>            justify-content: flex-start;<br>            width: 100%;<br>        }<br>        .wandb-col {<br>            display: flex;<br>            flex-direction: column;<br>            flex-basis: 100%;<br>            flex: 1;<br>            padding: 10px;<br>        }<br>    </style><br><div class=\"wandb-row\"><div class=\"wandb-col\"><h3>Run history:</h3><br/><table class=\"wandb\"><tr><td>Validation Loss</td><td>▁</td></tr><tr><td>epoch</td><td>▁▃▅▆█</td></tr><tr><td>train_acc</td><td>▁▄▆▇█</td></tr><tr><td>train_loss</td><td>█▅▃▂▁</td></tr><tr><td>val_acc</td><td>▁▄▆▇█</td></tr><tr><td>val_loss</td><td>█▄▃▂▁</td></tr></table><br/></div><div class=\"wandb-col\"><h3>Run summary:</h3><br/><table class=\"wandb\"><tr><td>Validation Loss</td><td>0.59814</td></tr><tr><td>epoch</td><td>4</td></tr><tr><td>train_acc</td><td>0.78783</td></tr><tr><td>train_loss</td><td>0.57985</td></tr><tr><td>val_acc</td><td>0.7765</td></tr><tr><td>val_loss</td><td>0.59814</td></tr></table><br/></div></div>"
      ],
      "text/plain": [
       "<IPython.core.display.HTML object>"
      ]
     },
     "metadata": {},
     "output_type": "display_data"
    },
    {
     "data": {
      "text/html": [
       " View run <strong style=\"color:#cdcd00\">LR: 0.0001, AC: sigmoid, BS: 16, Optim: rmsprop, WI: random, WD: 0.5, No_HL: 4, HS: 64</strong> at: <a href='https://wandb.ai/da6401-assignments/assignment1/runs/ujedhhm4' target=\"_blank\">https://wandb.ai/da6401-assignments/assignment1/runs/ujedhhm4</a><br> View project at: <a href='https://wandb.ai/da6401-assignments/assignment1' target=\"_blank\">https://wandb.ai/da6401-assignments/assignment1</a><br>Synced 5 W&B file(s), 0 media file(s), 0 artifact file(s) and 0 other file(s)"
      ],
      "text/plain": [
       "<IPython.core.display.HTML object>"
      ]
     },
     "metadata": {},
     "output_type": "display_data"
    },
    {
     "data": {
      "text/html": [
       "Find logs at: <code>.\\wandb\\run-20250310_004605-ujedhhm4\\logs</code>"
      ],
      "text/plain": [
       "<IPython.core.display.HTML object>"
      ]
     },
     "metadata": {},
     "output_type": "display_data"
    },
    {
     "name": "stderr",
     "output_type": "stream",
     "text": [
      "\u001b[34m\u001b[1mwandb\u001b[0m: Sweep Agent: Waiting for job.\n",
      "\u001b[34m\u001b[1mwandb\u001b[0m: Job received.\n",
      "\u001b[34m\u001b[1mwandb\u001b[0m: Agent Starting Run: n31pirlu with config:\n",
      "\u001b[34m\u001b[1mwandb\u001b[0m: \tactivationFunc: tanh\n",
      "\u001b[34m\u001b[1mwandb\u001b[0m: \tbatchSize: 32\n",
      "\u001b[34m\u001b[1mwandb\u001b[0m: \thiddenLayer_Size: 128\n",
      "\u001b[34m\u001b[1mwandb\u001b[0m: \tlearningRate: 0.0001\n",
      "\u001b[34m\u001b[1mwandb\u001b[0m: \tnum_epochs: 10\n",
      "\u001b[34m\u001b[1mwandb\u001b[0m: \tnum_hiddenLayers: 5\n",
      "\u001b[34m\u001b[1mwandb\u001b[0m: \toptimizer: momentum\n",
      "\u001b[34m\u001b[1mwandb\u001b[0m: \tweightDecay: 0\n",
      "\u001b[34m\u001b[1mwandb\u001b[0m: \tweightInit: random\n"
     ]
    },
    {
     "data": {
      "text/html": [
       "Ignoring project 'assignment1' when running a sweep."
      ],
      "text/plain": [
       "<IPython.core.display.HTML object>"
      ]
     },
     "metadata": {},
     "output_type": "display_data"
    },
    {
     "data": {
      "text/html": [
       "Ignoring entity 'da6401-assignments' when running a sweep."
      ],
      "text/plain": [
       "<IPython.core.display.HTML object>"
      ]
     },
     "metadata": {},
     "output_type": "display_data"
    },
    {
     "data": {
      "text/html": [
       "creating run (0.3s)"
      ],
      "text/plain": [
       "<IPython.core.display.HTML object>"
      ]
     },
     "metadata": {},
     "output_type": "display_data"
    },
    {
     "data": {
      "text/html": [
       "Tracking run with wandb version 0.19.8"
      ],
      "text/plain": [
       "<IPython.core.display.HTML object>"
      ]
     },
     "metadata": {},
     "output_type": "display_data"
    },
    {
     "data": {
      "text/html": [
       "Run data is saved locally in <code>c:\\Users\\prajv\\Downloads\\ass1\\DA6401_ASSIGNMENT1\\wandb\\run-20250310_004646-n31pirlu</code>"
      ],
      "text/plain": [
       "<IPython.core.display.HTML object>"
      ]
     },
     "metadata": {},
     "output_type": "display_data"
    },
    {
     "data": {
      "text/html": [
       "Syncing run <strong><a href='https://wandb.ai/da6401-assignments/assignment1/runs/n31pirlu' target=\"_blank\">serene-sweep-26</a></strong> to <a href='https://wandb.ai/da6401-assignments/assignment1' target=\"_blank\">Weights & Biases</a> (<a href='https://wandb.me/developer-guide' target=\"_blank\">docs</a>)<br>Sweep page: <a href='https://wandb.ai/da6401-assignments/assignment1/sweeps/syjentp9' target=\"_blank\">https://wandb.ai/da6401-assignments/assignment1/sweeps/syjentp9</a>"
      ],
      "text/plain": [
       "<IPython.core.display.HTML object>"
      ]
     },
     "metadata": {},
     "output_type": "display_data"
    },
    {
     "data": {
      "text/html": [
       " View project at <a href='https://wandb.ai/da6401-assignments/assignment1' target=\"_blank\">https://wandb.ai/da6401-assignments/assignment1</a>"
      ],
      "text/plain": [
       "<IPython.core.display.HTML object>"
      ]
     },
     "metadata": {},
     "output_type": "display_data"
    },
    {
     "data": {
      "text/html": [
       " View sweep at <a href='https://wandb.ai/da6401-assignments/assignment1/sweeps/syjentp9' target=\"_blank\">https://wandb.ai/da6401-assignments/assignment1/sweeps/syjentp9</a>"
      ],
      "text/plain": [
       "<IPython.core.display.HTML object>"
      ]
     },
     "metadata": {},
     "output_type": "display_data"
    },
    {
     "data": {
      "text/html": [
       " View run at <a href='https://wandb.ai/da6401-assignments/assignment1/runs/n31pirlu' target=\"_blank\">https://wandb.ai/da6401-assignments/assignment1/runs/n31pirlu</a>"
      ],
      "text/plain": [
       "<IPython.core.display.HTML object>"
      ]
     },
     "metadata": {},
     "output_type": "display_data"
    },
    {
     "name": "stdout",
     "output_type": "stream",
     "text": [
      "Sweep Name:  LR: 0.0001, AC: tanh, BS: 32, Optim: momentum, WI: random, WD: 0, No_HL: 5, HS: 128\n",
      "Epoch 0: Training Loss = 1.9703 Validation Loss = 1.9813\n",
      "Training Accuracy = 0.3089 Validation Accuracy = 0.3037\n",
      "Epoch 1: Training Loss = 1.6063 Validation Loss = 1.6179\n",
      "Training Accuracy = 0.4332 Validation Accuracy = 0.4288\n",
      "Epoch 2: Training Loss = 1.4366 Validation Loss = 1.4439\n",
      "Training Accuracy = 0.4928 Validation Accuracy = 0.4920\n",
      "Epoch 3: Training Loss = 1.3281 Validation Loss = 1.3340\n",
      "Training Accuracy = 0.5295 Validation Accuracy = 0.5347\n",
      "Epoch 4: Training Loss = 1.2498 Validation Loss = 1.2533\n",
      "Training Accuracy = 0.5567 Validation Accuracy = 0.5630\n",
      "Epoch 5: Training Loss = 1.1897 Validation Loss = 1.1907\n",
      "Training Accuracy = 0.5788 Validation Accuracy = 0.5813\n",
      "Epoch 6: Training Loss = 1.1409 Validation Loss = 1.1406\n",
      "Training Accuracy = 0.5951 Validation Accuracy = 0.5973\n",
      "Epoch 7: Training Loss = 1.1003 Validation Loss = 1.0996\n",
      "Training Accuracy = 0.6097 Validation Accuracy = 0.6128\n",
      "Epoch 8: Training Loss = 1.0664 Validation Loss = 1.0663\n",
      "Training Accuracy = 0.6225 Validation Accuracy = 0.6230\n",
      "Epoch 9: Training Loss = 1.0374 Validation Loss = 1.0374\n",
      "Training Accuracy = 0.6322 Validation Accuracy = 0.6307\n"
     ]
    },
    {
     "data": {
      "text/html": [],
      "text/plain": [
       "<IPython.core.display.HTML object>"
      ]
     },
     "metadata": {},
     "output_type": "display_data"
    },
    {
     "data": {
      "text/html": [
       "<br>    <style><br>        .wandb-row {<br>            display: flex;<br>            flex-direction: row;<br>            flex-wrap: wrap;<br>            justify-content: flex-start;<br>            width: 100%;<br>        }<br>        .wandb-col {<br>            display: flex;<br>            flex-direction: column;<br>            flex-basis: 100%;<br>            flex: 1;<br>            padding: 10px;<br>        }<br>    </style><br><div class=\"wandb-row\"><div class=\"wandb-col\"><h3>Run history:</h3><br/><table class=\"wandb\"><tr><td>Validation Loss</td><td>▁</td></tr><tr><td>epoch</td><td>▁▂▃▃▄▅▆▆▇█</td></tr><tr><td>train_acc</td><td>▁▄▅▆▆▇▇███</td></tr><tr><td>train_loss</td><td>█▅▄▃▃▂▂▁▁▁</td></tr><tr><td>val_acc</td><td>▁▄▅▆▇▇▇███</td></tr><tr><td>val_loss</td><td>█▅▄▃▃▂▂▁▁▁</td></tr></table><br/></div><div class=\"wandb-col\"><h3>Run summary:</h3><br/><table class=\"wandb\"><tr><td>Validation Loss</td><td>1.03736</td></tr><tr><td>epoch</td><td>9</td></tr><tr><td>train_acc</td><td>0.63219</td></tr><tr><td>train_loss</td><td>1.03737</td></tr><tr><td>val_acc</td><td>0.63067</td></tr><tr><td>val_loss</td><td>1.03736</td></tr></table><br/></div></div>"
      ],
      "text/plain": [
       "<IPython.core.display.HTML object>"
      ]
     },
     "metadata": {},
     "output_type": "display_data"
    },
    {
     "data": {
      "text/html": [
       " View run <strong style=\"color:#cdcd00\">LR: 0.0001, AC: tanh, BS: 32, Optim: momentum, WI: random, WD: 0, No_HL: 5, HS: 128</strong> at: <a href='https://wandb.ai/da6401-assignments/assignment1/runs/n31pirlu' target=\"_blank\">https://wandb.ai/da6401-assignments/assignment1/runs/n31pirlu</a><br> View project at: <a href='https://wandb.ai/da6401-assignments/assignment1' target=\"_blank\">https://wandb.ai/da6401-assignments/assignment1</a><br>Synced 5 W&B file(s), 0 media file(s), 0 artifact file(s) and 0 other file(s)"
      ],
      "text/plain": [
       "<IPython.core.display.HTML object>"
      ]
     },
     "metadata": {},
     "output_type": "display_data"
    },
    {
     "data": {
      "text/html": [
       "Find logs at: <code>.\\wandb\\run-20250310_004646-n31pirlu\\logs</code>"
      ],
      "text/plain": [
       "<IPython.core.display.HTML object>"
      ]
     },
     "metadata": {},
     "output_type": "display_data"
    },
    {
     "name": "stderr",
     "output_type": "stream",
     "text": [
      "\u001b[34m\u001b[1mwandb\u001b[0m: Agent Starting Run: iyb7vqsl with config:\n",
      "\u001b[34m\u001b[1mwandb\u001b[0m: \tactivationFunc: sigmoid\n",
      "\u001b[34m\u001b[1mwandb\u001b[0m: \tbatchSize: 32\n",
      "\u001b[34m\u001b[1mwandb\u001b[0m: \thiddenLayer_Size: 128\n",
      "\u001b[34m\u001b[1mwandb\u001b[0m: \tlearningRate: 0.001\n",
      "\u001b[34m\u001b[1mwandb\u001b[0m: \tnum_epochs: 10\n",
      "\u001b[34m\u001b[1mwandb\u001b[0m: \tnum_hiddenLayers: 4\n",
      "\u001b[34m\u001b[1mwandb\u001b[0m: \toptimizer: sgd\n",
      "\u001b[34m\u001b[1mwandb\u001b[0m: \tweightDecay: 0.5\n",
      "\u001b[34m\u001b[1mwandb\u001b[0m: \tweightInit: random\n"
     ]
    },
    {
     "data": {
      "text/html": [
       "Ignoring project 'assignment1' when running a sweep."
      ],
      "text/plain": [
       "<IPython.core.display.HTML object>"
      ]
     },
     "metadata": {},
     "output_type": "display_data"
    },
    {
     "data": {
      "text/html": [
       "Ignoring entity 'da6401-assignments' when running a sweep."
      ],
      "text/plain": [
       "<IPython.core.display.HTML object>"
      ]
     },
     "metadata": {},
     "output_type": "display_data"
    },
    {
     "data": {
      "text/html": [
       "creating run (0.2s)"
      ],
      "text/plain": [
       "<IPython.core.display.HTML object>"
      ]
     },
     "metadata": {},
     "output_type": "display_data"
    },
    {
     "data": {
      "text/html": [
       "Tracking run with wandb version 0.19.8"
      ],
      "text/plain": [
       "<IPython.core.display.HTML object>"
      ]
     },
     "metadata": {},
     "output_type": "display_data"
    },
    {
     "data": {
      "text/html": [
       "Run data is saved locally in <code>c:\\Users\\prajv\\Downloads\\ass1\\DA6401_ASSIGNMENT1\\wandb\\run-20250310_004757-iyb7vqsl</code>"
      ],
      "text/plain": [
       "<IPython.core.display.HTML object>"
      ]
     },
     "metadata": {},
     "output_type": "display_data"
    },
    {
     "data": {
      "text/html": [
       "Syncing run <strong><a href='https://wandb.ai/da6401-assignments/assignment1/runs/iyb7vqsl' target=\"_blank\">still-sweep-27</a></strong> to <a href='https://wandb.ai/da6401-assignments/assignment1' target=\"_blank\">Weights & Biases</a> (<a href='https://wandb.me/developer-guide' target=\"_blank\">docs</a>)<br>Sweep page: <a href='https://wandb.ai/da6401-assignments/assignment1/sweeps/syjentp9' target=\"_blank\">https://wandb.ai/da6401-assignments/assignment1/sweeps/syjentp9</a>"
      ],
      "text/plain": [
       "<IPython.core.display.HTML object>"
      ]
     },
     "metadata": {},
     "output_type": "display_data"
    },
    {
     "data": {
      "text/html": [
       " View project at <a href='https://wandb.ai/da6401-assignments/assignment1' target=\"_blank\">https://wandb.ai/da6401-assignments/assignment1</a>"
      ],
      "text/plain": [
       "<IPython.core.display.HTML object>"
      ]
     },
     "metadata": {},
     "output_type": "display_data"
    },
    {
     "data": {
      "text/html": [
       " View sweep at <a href='https://wandb.ai/da6401-assignments/assignment1/sweeps/syjentp9' target=\"_blank\">https://wandb.ai/da6401-assignments/assignment1/sweeps/syjentp9</a>"
      ],
      "text/plain": [
       "<IPython.core.display.HTML object>"
      ]
     },
     "metadata": {},
     "output_type": "display_data"
    },
    {
     "data": {
      "text/html": [
       " View run at <a href='https://wandb.ai/da6401-assignments/assignment1/runs/iyb7vqsl' target=\"_blank\">https://wandb.ai/da6401-assignments/assignment1/runs/iyb7vqsl</a>"
      ],
      "text/plain": [
       "<IPython.core.display.HTML object>"
      ]
     },
     "metadata": {},
     "output_type": "display_data"
    },
    {
     "name": "stdout",
     "output_type": "stream",
     "text": [
      "Sweep Name:  LR: 0.001, AC: sigmoid, BS: 32, Optim: sgd, WI: random, WD: 0.5, No_HL: 4, HS: 128\n",
      "Epoch 0: Training Loss = 2.1573 Validation Loss = 2.1515\n",
      "Training Accuracy = 0.3114 Validation Accuracy = 0.3152\n",
      "Epoch 1: Training Loss = 1.7446 Validation Loss = 1.7475\n",
      "Training Accuracy = 0.4087 Validation Accuracy = 0.4160\n",
      "Epoch 2: Training Loss = 1.5348 Validation Loss = 1.5382\n",
      "Training Accuracy = 0.4670 Validation Accuracy = 0.4730\n",
      "Epoch 3: Training Loss = 1.4027 Validation Loss = 1.4035\n",
      "Training Accuracy = 0.5051 Validation Accuracy = 0.5123\n",
      "Epoch 4: Training Loss = 1.3108 Validation Loss = 1.3117\n",
      "Training Accuracy = 0.5380 Validation Accuracy = 0.5447\n",
      "Epoch 5: Training Loss = 1.2434 Validation Loss = 1.2441\n",
      "Training Accuracy = 0.5579 Validation Accuracy = 0.5628\n",
      "Epoch 6: Training Loss = 1.1904 Validation Loss = 1.1912\n",
      "Training Accuracy = 0.5761 Validation Accuracy = 0.5788\n",
      "Epoch 7: Training Loss = 1.1474 Validation Loss = 1.1477\n",
      "Training Accuracy = 0.5894 Validation Accuracy = 0.5885\n",
      "Epoch 8: Training Loss = 1.1121 Validation Loss = 1.1124\n",
      "Training Accuracy = 0.6010 Validation Accuracy = 0.6030\n",
      "Epoch 9: Training Loss = 1.0815 Validation Loss = 1.0822\n",
      "Training Accuracy = 0.6112 Validation Accuracy = 0.6127\n"
     ]
    },
    {
     "data": {
      "text/html": [],
      "text/plain": [
       "<IPython.core.display.HTML object>"
      ]
     },
     "metadata": {},
     "output_type": "display_data"
    },
    {
     "data": {
      "text/html": [
       "<br>    <style><br>        .wandb-row {<br>            display: flex;<br>            flex-direction: row;<br>            flex-wrap: wrap;<br>            justify-content: flex-start;<br>            width: 100%;<br>        }<br>        .wandb-col {<br>            display: flex;<br>            flex-direction: column;<br>            flex-basis: 100%;<br>            flex: 1;<br>            padding: 10px;<br>        }<br>    </style><br><div class=\"wandb-row\"><div class=\"wandb-col\"><h3>Run history:</h3><br/><table class=\"wandb\"><tr><td>Validation Loss</td><td>▁</td></tr><tr><td>epoch</td><td>▁▂▃▃▄▅▆▆▇█</td></tr><tr><td>train_acc</td><td>▁▃▅▆▆▇▇▇██</td></tr><tr><td>train_loss</td><td>█▅▄▃▂▂▂▁▁▁</td></tr><tr><td>val_acc</td><td>▁▃▅▆▆▇▇▇██</td></tr><tr><td>val_loss</td><td>█▅▄▃▃▂▂▁▁▁</td></tr></table><br/></div><div class=\"wandb-col\"><h3>Run summary:</h3><br/><table class=\"wandb\"><tr><td>Validation Loss</td><td>1.08218</td></tr><tr><td>epoch</td><td>9</td></tr><tr><td>train_acc</td><td>0.61124</td></tr><tr><td>train_loss</td><td>1.08148</td></tr><tr><td>val_acc</td><td>0.61267</td></tr><tr><td>val_loss</td><td>1.08218</td></tr></table><br/></div></div>"
      ],
      "text/plain": [
       "<IPython.core.display.HTML object>"
      ]
     },
     "metadata": {},
     "output_type": "display_data"
    },
    {
     "data": {
      "text/html": [
       " View run <strong style=\"color:#cdcd00\">LR: 0.001, AC: sigmoid, BS: 32, Optim: sgd, WI: random, WD: 0.5, No_HL: 4, HS: 128</strong> at: <a href='https://wandb.ai/da6401-assignments/assignment1/runs/iyb7vqsl' target=\"_blank\">https://wandb.ai/da6401-assignments/assignment1/runs/iyb7vqsl</a><br> View project at: <a href='https://wandb.ai/da6401-assignments/assignment1' target=\"_blank\">https://wandb.ai/da6401-assignments/assignment1</a><br>Synced 5 W&B file(s), 0 media file(s), 0 artifact file(s) and 0 other file(s)"
      ],
      "text/plain": [
       "<IPython.core.display.HTML object>"
      ]
     },
     "metadata": {},
     "output_type": "display_data"
    },
    {
     "data": {
      "text/html": [
       "Find logs at: <code>.\\wandb\\run-20250310_004757-iyb7vqsl\\logs</code>"
      ],
      "text/plain": [
       "<IPython.core.display.HTML object>"
      ]
     },
     "metadata": {},
     "output_type": "display_data"
    },
    {
     "name": "stderr",
     "output_type": "stream",
     "text": [
      "\u001b[34m\u001b[1mwandb\u001b[0m: Agent Starting Run: q3n66mgy with config:\n",
      "\u001b[34m\u001b[1mwandb\u001b[0m: \tactivationFunc: tanh\n",
      "\u001b[34m\u001b[1mwandb\u001b[0m: \tbatchSize: 32\n",
      "\u001b[34m\u001b[1mwandb\u001b[0m: \thiddenLayer_Size: 64\n",
      "\u001b[34m\u001b[1mwandb\u001b[0m: \tlearningRate: 0.0001\n",
      "\u001b[34m\u001b[1mwandb\u001b[0m: \tnum_epochs: 10\n",
      "\u001b[34m\u001b[1mwandb\u001b[0m: \tnum_hiddenLayers: 3\n",
      "\u001b[34m\u001b[1mwandb\u001b[0m: \toptimizer: nesterov\n",
      "\u001b[34m\u001b[1mwandb\u001b[0m: \tweightDecay: 0.0005\n",
      "\u001b[34m\u001b[1mwandb\u001b[0m: \tweightInit: random\n"
     ]
    },
    {
     "data": {
      "text/html": [
       "Ignoring project 'assignment1' when running a sweep."
      ],
      "text/plain": [
       "<IPython.core.display.HTML object>"
      ]
     },
     "metadata": {},
     "output_type": "display_data"
    },
    {
     "data": {
      "text/html": [
       "Ignoring entity 'da6401-assignments' when running a sweep."
      ],
      "text/plain": [
       "<IPython.core.display.HTML object>"
      ]
     },
     "metadata": {},
     "output_type": "display_data"
    },
    {
     "data": {
      "text/html": [
       "Waiting for wandb.init()..."
      ],
      "text/plain": [
       "<IPython.core.display.HTML object>"
      ]
     },
     "metadata": {},
     "output_type": "display_data"
    },
    {
     "data": {
      "text/html": [
       "Tracking run with wandb version 0.19.8"
      ],
      "text/plain": [
       "<IPython.core.display.HTML object>"
      ]
     },
     "metadata": {},
     "output_type": "display_data"
    },
    {
     "data": {
      "text/html": [
       "Run data is saved locally in <code>c:\\Users\\prajv\\Downloads\\ass1\\DA6401_ASSIGNMENT1\\wandb\\run-20250310_004850-q3n66mgy</code>"
      ],
      "text/plain": [
       "<IPython.core.display.HTML object>"
      ]
     },
     "metadata": {},
     "output_type": "display_data"
    },
    {
     "data": {
      "text/html": [
       "Syncing run <strong><a href='https://wandb.ai/da6401-assignments/assignment1/runs/q3n66mgy' target=\"_blank\">hearty-sweep-28</a></strong> to <a href='https://wandb.ai/da6401-assignments/assignment1' target=\"_blank\">Weights & Biases</a> (<a href='https://wandb.me/developer-guide' target=\"_blank\">docs</a>)<br>Sweep page: <a href='https://wandb.ai/da6401-assignments/assignment1/sweeps/syjentp9' target=\"_blank\">https://wandb.ai/da6401-assignments/assignment1/sweeps/syjentp9</a>"
      ],
      "text/plain": [
       "<IPython.core.display.HTML object>"
      ]
     },
     "metadata": {},
     "output_type": "display_data"
    },
    {
     "data": {
      "text/html": [
       " View project at <a href='https://wandb.ai/da6401-assignments/assignment1' target=\"_blank\">https://wandb.ai/da6401-assignments/assignment1</a>"
      ],
      "text/plain": [
       "<IPython.core.display.HTML object>"
      ]
     },
     "metadata": {},
     "output_type": "display_data"
    },
    {
     "data": {
      "text/html": [
       " View sweep at <a href='https://wandb.ai/da6401-assignments/assignment1/sweeps/syjentp9' target=\"_blank\">https://wandb.ai/da6401-assignments/assignment1/sweeps/syjentp9</a>"
      ],
      "text/plain": [
       "<IPython.core.display.HTML object>"
      ]
     },
     "metadata": {},
     "output_type": "display_data"
    },
    {
     "data": {
      "text/html": [
       " View run at <a href='https://wandb.ai/da6401-assignments/assignment1/runs/q3n66mgy' target=\"_blank\">https://wandb.ai/da6401-assignments/assignment1/runs/q3n66mgy</a>"
      ],
      "text/plain": [
       "<IPython.core.display.HTML object>"
      ]
     },
     "metadata": {},
     "output_type": "display_data"
    },
    {
     "name": "stdout",
     "output_type": "stream",
     "text": [
      "Sweep Name:  LR: 0.0001, AC: tanh, BS: 32, Optim: nesterov, WI: random, WD: 0.0005, No_HL: 3, HS: 64\n",
      "Epoch 0: Training Loss = 9.6017 Validation Loss = 9.5158\n",
      "Training Accuracy = 0.0899 Validation Accuracy = 0.0923\n",
      "Epoch 1: Training Loss = 9.6017 Validation Loss = 9.5158\n",
      "Training Accuracy = 0.0899 Validation Accuracy = 0.0923\n",
      "Epoch 2: Training Loss = 9.6017 Validation Loss = 9.5158\n",
      "Training Accuracy = 0.0899 Validation Accuracy = 0.0923\n",
      "Epoch 3: Training Loss = 9.6017 Validation Loss = 9.5158\n",
      "Training Accuracy = 0.0899 Validation Accuracy = 0.0923\n",
      "Epoch 4: Training Loss = 9.6017 Validation Loss = 9.5158\n",
      "Training Accuracy = 0.0899 Validation Accuracy = 0.0923\n",
      "Epoch 5: Training Loss = 9.6017 Validation Loss = 9.5158\n",
      "Training Accuracy = 0.0899 Validation Accuracy = 0.0923\n",
      "Epoch 6: Training Loss = 9.6017 Validation Loss = 9.5158\n",
      "Training Accuracy = 0.0899 Validation Accuracy = 0.0923\n",
      "Epoch 7: Training Loss = 9.6017 Validation Loss = 9.5158\n",
      "Training Accuracy = 0.0899 Validation Accuracy = 0.0923\n",
      "Epoch 8: Training Loss = 9.6017 Validation Loss = 9.5158\n",
      "Training Accuracy = 0.0899 Validation Accuracy = 0.0923\n",
      "Epoch 9: Training Loss = 9.6017 Validation Loss = 9.5158\n",
      "Training Accuracy = 0.0899 Validation Accuracy = 0.0923\n"
     ]
    },
    {
     "data": {
      "text/html": [],
      "text/plain": [
       "<IPython.core.display.HTML object>"
      ]
     },
     "metadata": {},
     "output_type": "display_data"
    },
    {
     "data": {
      "text/html": [
       "<br>    <style><br>        .wandb-row {<br>            display: flex;<br>            flex-direction: row;<br>            flex-wrap: wrap;<br>            justify-content: flex-start;<br>            width: 100%;<br>        }<br>        .wandb-col {<br>            display: flex;<br>            flex-direction: column;<br>            flex-basis: 100%;<br>            flex: 1;<br>            padding: 10px;<br>        }<br>    </style><br><div class=\"wandb-row\"><div class=\"wandb-col\"><h3>Run history:</h3><br/><table class=\"wandb\"><tr><td>Validation Loss</td><td>▁</td></tr><tr><td>epoch</td><td>▁▂▃▃▄▅▆▆▇█</td></tr><tr><td>train_acc</td><td>▁▁▁▁▁▁▁▁▁▁</td></tr><tr><td>train_loss</td><td>▁▁▁▁▁▁▁▁▁▁</td></tr><tr><td>val_acc</td><td>▁▁▁▁▁▁▁▁▁▁</td></tr><tr><td>val_loss</td><td>▁▁▁▁▁▁▁▁▁▁</td></tr></table><br/></div><div class=\"wandb-col\"><h3>Run summary:</h3><br/><table class=\"wandb\"><tr><td>Validation Loss</td><td>9.51577</td></tr><tr><td>epoch</td><td>9</td></tr><tr><td>train_acc</td><td>0.08994</td></tr><tr><td>train_loss</td><td>9.60173</td></tr><tr><td>val_acc</td><td>0.09233</td></tr><tr><td>val_loss</td><td>9.51577</td></tr></table><br/></div></div>"
      ],
      "text/plain": [
       "<IPython.core.display.HTML object>"
      ]
     },
     "metadata": {},
     "output_type": "display_data"
    },
    {
     "data": {
      "text/html": [
       " View run <strong style=\"color:#cdcd00\">LR: 0.0001, AC: tanh, BS: 32, Optim: nesterov, WI: random, WD: 0.0005, No_HL: 3, HS: 64</strong> at: <a href='https://wandb.ai/da6401-assignments/assignment1/runs/q3n66mgy' target=\"_blank\">https://wandb.ai/da6401-assignments/assignment1/runs/q3n66mgy</a><br> View project at: <a href='https://wandb.ai/da6401-assignments/assignment1' target=\"_blank\">https://wandb.ai/da6401-assignments/assignment1</a><br>Synced 5 W&B file(s), 0 media file(s), 0 artifact file(s) and 0 other file(s)"
      ],
      "text/plain": [
       "<IPython.core.display.HTML object>"
      ]
     },
     "metadata": {},
     "output_type": "display_data"
    },
    {
     "data": {
      "text/html": [
       "Find logs at: <code>.\\wandb\\run-20250310_004850-q3n66mgy\\logs</code>"
      ],
      "text/plain": [
       "<IPython.core.display.HTML object>"
      ]
     },
     "metadata": {},
     "output_type": "display_data"
    },
    {
     "name": "stderr",
     "output_type": "stream",
     "text": [
      "\u001b[34m\u001b[1mwandb\u001b[0m: Agent Starting Run: zaz6rfa7 with config:\n",
      "\u001b[34m\u001b[1mwandb\u001b[0m: \tactivationFunc: relu\n",
      "\u001b[34m\u001b[1mwandb\u001b[0m: \tbatchSize: 64\n",
      "\u001b[34m\u001b[1mwandb\u001b[0m: \thiddenLayer_Size: 128\n",
      "\u001b[34m\u001b[1mwandb\u001b[0m: \tlearningRate: 0.0001\n",
      "\u001b[34m\u001b[1mwandb\u001b[0m: \tnum_epochs: 5\n",
      "\u001b[34m\u001b[1mwandb\u001b[0m: \tnum_hiddenLayers: 5\n",
      "\u001b[34m\u001b[1mwandb\u001b[0m: \toptimizer: momentum\n",
      "\u001b[34m\u001b[1mwandb\u001b[0m: \tweightDecay: 0.5\n",
      "\u001b[34m\u001b[1mwandb\u001b[0m: \tweightInit: xavier\n"
     ]
    },
    {
     "data": {
      "text/html": [
       "Ignoring project 'assignment1' when running a sweep."
      ],
      "text/plain": [
       "<IPython.core.display.HTML object>"
      ]
     },
     "metadata": {},
     "output_type": "display_data"
    },
    {
     "data": {
      "text/html": [
       "Ignoring entity 'da6401-assignments' when running a sweep."
      ],
      "text/plain": [
       "<IPython.core.display.HTML object>"
      ]
     },
     "metadata": {},
     "output_type": "display_data"
    },
    {
     "data": {
      "text/html": [
       "Waiting for wandb.init()..."
      ],
      "text/plain": [
       "<IPython.core.display.HTML object>"
      ]
     },
     "metadata": {},
     "output_type": "display_data"
    },
    {
     "data": {
      "text/html": [
       "Tracking run with wandb version 0.19.8"
      ],
      "text/plain": [
       "<IPython.core.display.HTML object>"
      ]
     },
     "metadata": {},
     "output_type": "display_data"
    },
    {
     "data": {
      "text/html": [
       "Run data is saved locally in <code>c:\\Users\\prajv\\Downloads\\ass1\\DA6401_ASSIGNMENT1\\wandb\\run-20250310_004916-zaz6rfa7</code>"
      ],
      "text/plain": [
       "<IPython.core.display.HTML object>"
      ]
     },
     "metadata": {},
     "output_type": "display_data"
    },
    {
     "data": {
      "text/html": [
       "Syncing run <strong><a href='https://wandb.ai/da6401-assignments/assignment1/runs/zaz6rfa7' target=\"_blank\">easy-sweep-29</a></strong> to <a href='https://wandb.ai/da6401-assignments/assignment1' target=\"_blank\">Weights & Biases</a> (<a href='https://wandb.me/developer-guide' target=\"_blank\">docs</a>)<br>Sweep page: <a href='https://wandb.ai/da6401-assignments/assignment1/sweeps/syjentp9' target=\"_blank\">https://wandb.ai/da6401-assignments/assignment1/sweeps/syjentp9</a>"
      ],
      "text/plain": [
       "<IPython.core.display.HTML object>"
      ]
     },
     "metadata": {},
     "output_type": "display_data"
    },
    {
     "data": {
      "text/html": [
       " View project at <a href='https://wandb.ai/da6401-assignments/assignment1' target=\"_blank\">https://wandb.ai/da6401-assignments/assignment1</a>"
      ],
      "text/plain": [
       "<IPython.core.display.HTML object>"
      ]
     },
     "metadata": {},
     "output_type": "display_data"
    },
    {
     "data": {
      "text/html": [
       " View sweep at <a href='https://wandb.ai/da6401-assignments/assignment1/sweeps/syjentp9' target=\"_blank\">https://wandb.ai/da6401-assignments/assignment1/sweeps/syjentp9</a>"
      ],
      "text/plain": [
       "<IPython.core.display.HTML object>"
      ]
     },
     "metadata": {},
     "output_type": "display_data"
    },
    {
     "data": {
      "text/html": [
       " View run at <a href='https://wandb.ai/da6401-assignments/assignment1/runs/zaz6rfa7' target=\"_blank\">https://wandb.ai/da6401-assignments/assignment1/runs/zaz6rfa7</a>"
      ],
      "text/plain": [
       "<IPython.core.display.HTML object>"
      ]
     },
     "metadata": {},
     "output_type": "display_data"
    },
    {
     "name": "stdout",
     "output_type": "stream",
     "text": [
      "Sweep Name:  LR: 0.0001, AC: relu, BS: 64, Optim: momentum, WI: xavier, WD: 0.5, No_HL: 5, HS: 128\n",
      "Epoch 0: Training Loss = 2.4391 Validation Loss = 2.4373\n",
      "Training Accuracy = 0.2749 Validation Accuracy = 0.2725\n",
      "Epoch 1: Training Loss = 1.9702 Validation Loss = 1.9823\n",
      "Training Accuracy = 0.3751 Validation Accuracy = 0.3658\n",
      "Epoch 2: Training Loss = 1.7253 Validation Loss = 1.7332\n",
      "Training Accuracy = 0.4357 Validation Accuracy = 0.4322\n",
      "Epoch 3: Training Loss = 1.5765 Validation Loss = 1.5799\n",
      "Training Accuracy = 0.4749 Validation Accuracy = 0.4772\n",
      "Epoch 4: Training Loss = 1.4748 Validation Loss = 1.4758\n",
      "Training Accuracy = 0.5037 Validation Accuracy = 0.5083\n"
     ]
    },
    {
     "data": {
      "text/html": [],
      "text/plain": [
       "<IPython.core.display.HTML object>"
      ]
     },
     "metadata": {},
     "output_type": "display_data"
    },
    {
     "data": {
      "text/html": [
       "<br>    <style><br>        .wandb-row {<br>            display: flex;<br>            flex-direction: row;<br>            flex-wrap: wrap;<br>            justify-content: flex-start;<br>            width: 100%;<br>        }<br>        .wandb-col {<br>            display: flex;<br>            flex-direction: column;<br>            flex-basis: 100%;<br>            flex: 1;<br>            padding: 10px;<br>        }<br>    </style><br><div class=\"wandb-row\"><div class=\"wandb-col\"><h3>Run history:</h3><br/><table class=\"wandb\"><tr><td>Validation Loss</td><td>▁</td></tr><tr><td>epoch</td><td>▁▃▅▆█</td></tr><tr><td>train_acc</td><td>▁▄▆▇█</td></tr><tr><td>train_loss</td><td>█▅▃▂▁</td></tr><tr><td>val_acc</td><td>▁▄▆▇█</td></tr><tr><td>val_loss</td><td>█▅▃▂▁</td></tr></table><br/></div><div class=\"wandb-col\"><h3>Run summary:</h3><br/><table class=\"wandb\"><tr><td>Validation Loss</td><td>1.4758</td></tr><tr><td>epoch</td><td>4</td></tr><tr><td>train_acc</td><td>0.50372</td></tr><tr><td>train_loss</td><td>1.47479</td></tr><tr><td>val_acc</td><td>0.50833</td></tr><tr><td>val_loss</td><td>1.4758</td></tr></table><br/></div></div>"
      ],
      "text/plain": [
       "<IPython.core.display.HTML object>"
      ]
     },
     "metadata": {},
     "output_type": "display_data"
    },
    {
     "data": {
      "text/html": [
       " View run <strong style=\"color:#cdcd00\">LR: 0.0001, AC: relu, BS: 64, Optim: momentum, WI: xavier, WD: 0.5, No_HL: 5, HS: 128</strong> at: <a href='https://wandb.ai/da6401-assignments/assignment1/runs/zaz6rfa7' target=\"_blank\">https://wandb.ai/da6401-assignments/assignment1/runs/zaz6rfa7</a><br> View project at: <a href='https://wandb.ai/da6401-assignments/assignment1' target=\"_blank\">https://wandb.ai/da6401-assignments/assignment1</a><br>Synced 5 W&B file(s), 0 media file(s), 0 artifact file(s) and 0 other file(s)"
      ],
      "text/plain": [
       "<IPython.core.display.HTML object>"
      ]
     },
     "metadata": {},
     "output_type": "display_data"
    },
    {
     "data": {
      "text/html": [
       "Find logs at: <code>.\\wandb\\run-20250310_004916-zaz6rfa7\\logs</code>"
      ],
      "text/plain": [
       "<IPython.core.display.HTML object>"
      ]
     },
     "metadata": {},
     "output_type": "display_data"
    },
    {
     "name": "stderr",
     "output_type": "stream",
     "text": [
      "\u001b[34m\u001b[1mwandb\u001b[0m: Agent Starting Run: 2yr7jpz3 with config:\n",
      "\u001b[34m\u001b[1mwandb\u001b[0m: \tactivationFunc: sigmoid\n",
      "\u001b[34m\u001b[1mwandb\u001b[0m: \tbatchSize: 16\n",
      "\u001b[34m\u001b[1mwandb\u001b[0m: \thiddenLayer_Size: 64\n",
      "\u001b[34m\u001b[1mwandb\u001b[0m: \tlearningRate: 0.001\n",
      "\u001b[34m\u001b[1mwandb\u001b[0m: \tnum_epochs: 5\n",
      "\u001b[34m\u001b[1mwandb\u001b[0m: \tnum_hiddenLayers: 5\n",
      "\u001b[34m\u001b[1mwandb\u001b[0m: \toptimizer: sgd\n",
      "\u001b[34m\u001b[1mwandb\u001b[0m: \tweightDecay: 0.0005\n",
      "\u001b[34m\u001b[1mwandb\u001b[0m: \tweightInit: xavier\n"
     ]
    },
    {
     "data": {
      "text/html": [
       "Ignoring project 'assignment1' when running a sweep."
      ],
      "text/plain": [
       "<IPython.core.display.HTML object>"
      ]
     },
     "metadata": {},
     "output_type": "display_data"
    },
    {
     "data": {
      "text/html": [
       "Ignoring entity 'da6401-assignments' when running a sweep."
      ],
      "text/plain": [
       "<IPython.core.display.HTML object>"
      ]
     },
     "metadata": {},
     "output_type": "display_data"
    },
    {
     "data": {
      "text/html": [
       "Waiting for wandb.init()..."
      ],
      "text/plain": [
       "<IPython.core.display.HTML object>"
      ]
     },
     "metadata": {},
     "output_type": "display_data"
    },
    {
     "data": {
      "text/html": [
       "Tracking run with wandb version 0.19.8"
      ],
      "text/plain": [
       "<IPython.core.display.HTML object>"
      ]
     },
     "metadata": {},
     "output_type": "display_data"
    },
    {
     "data": {
      "text/html": [
       "Run data is saved locally in <code>c:\\Users\\prajv\\Downloads\\ass1\\DA6401_ASSIGNMENT1\\wandb\\run-20250310_004948-2yr7jpz3</code>"
      ],
      "text/plain": [
       "<IPython.core.display.HTML object>"
      ]
     },
     "metadata": {},
     "output_type": "display_data"
    },
    {
     "data": {
      "text/html": [
       "Syncing run <strong><a href='https://wandb.ai/da6401-assignments/assignment1/runs/2yr7jpz3' target=\"_blank\">snowy-sweep-30</a></strong> to <a href='https://wandb.ai/da6401-assignments/assignment1' target=\"_blank\">Weights & Biases</a> (<a href='https://wandb.me/developer-guide' target=\"_blank\">docs</a>)<br>Sweep page: <a href='https://wandb.ai/da6401-assignments/assignment1/sweeps/syjentp9' target=\"_blank\">https://wandb.ai/da6401-assignments/assignment1/sweeps/syjentp9</a>"
      ],
      "text/plain": [
       "<IPython.core.display.HTML object>"
      ]
     },
     "metadata": {},
     "output_type": "display_data"
    },
    {
     "data": {
      "text/html": [
       " View project at <a href='https://wandb.ai/da6401-assignments/assignment1' target=\"_blank\">https://wandb.ai/da6401-assignments/assignment1</a>"
      ],
      "text/plain": [
       "<IPython.core.display.HTML object>"
      ]
     },
     "metadata": {},
     "output_type": "display_data"
    },
    {
     "data": {
      "text/html": [
       " View sweep at <a href='https://wandb.ai/da6401-assignments/assignment1/sweeps/syjentp9' target=\"_blank\">https://wandb.ai/da6401-assignments/assignment1/sweeps/syjentp9</a>"
      ],
      "text/plain": [
       "<IPython.core.display.HTML object>"
      ]
     },
     "metadata": {},
     "output_type": "display_data"
    },
    {
     "data": {
      "text/html": [
       " View run at <a href='https://wandb.ai/da6401-assignments/assignment1/runs/2yr7jpz3' target=\"_blank\">https://wandb.ai/da6401-assignments/assignment1/runs/2yr7jpz3</a>"
      ],
      "text/plain": [
       "<IPython.core.display.HTML object>"
      ]
     },
     "metadata": {},
     "output_type": "display_data"
    },
    {
     "name": "stdout",
     "output_type": "stream",
     "text": [
      "Sweep Name:  LR: 0.001, AC: sigmoid, BS: 16, Optim: sgd, WI: xavier, WD: 0.0005, No_HL: 5, HS: 64\n",
      "Epoch 0: Training Loss = 1.8984 Validation Loss = 1.8983\n",
      "Training Accuracy = 0.3160 Validation Accuracy = 0.3120\n",
      "Epoch 1: Training Loss = 1.6336 Validation Loss = 1.6344\n",
      "Training Accuracy = 0.4329 Validation Accuracy = 0.4333\n",
      "Epoch 2: Training Loss = 1.4626 Validation Loss = 1.4614\n",
      "Training Accuracy = 0.5186 Validation Accuracy = 0.5195\n",
      "Epoch 3: Training Loss = 1.3414 Validation Loss = 1.3372\n",
      "Training Accuracy = 0.5583 Validation Accuracy = 0.5603\n",
      "Epoch 4: Training Loss = 1.2486 Validation Loss = 1.2421\n",
      "Training Accuracy = 0.5845 Validation Accuracy = 0.5888\n"
     ]
    },
    {
     "data": {
      "text/html": [],
      "text/plain": [
       "<IPython.core.display.HTML object>"
      ]
     },
     "metadata": {},
     "output_type": "display_data"
    },
    {
     "data": {
      "text/html": [
       "<br>    <style><br>        .wandb-row {<br>            display: flex;<br>            flex-direction: row;<br>            flex-wrap: wrap;<br>            justify-content: flex-start;<br>            width: 100%;<br>        }<br>        .wandb-col {<br>            display: flex;<br>            flex-direction: column;<br>            flex-basis: 100%;<br>            flex: 1;<br>            padding: 10px;<br>        }<br>    </style><br><div class=\"wandb-row\"><div class=\"wandb-col\"><h3>Run history:</h3><br/><table class=\"wandb\"><tr><td>Validation Loss</td><td>▁</td></tr><tr><td>epoch</td><td>▁▃▅▆█</td></tr><tr><td>train_acc</td><td>▁▄▆▇█</td></tr><tr><td>train_loss</td><td>█▅▃▂▁</td></tr><tr><td>val_acc</td><td>▁▄▆▇█</td></tr><tr><td>val_loss</td><td>█▅▃▂▁</td></tr></table><br/></div><div class=\"wandb-col\"><h3>Run summary:</h3><br/><table class=\"wandb\"><tr><td>Validation Loss</td><td>1.24213</td></tr><tr><td>epoch</td><td>4</td></tr><tr><td>train_acc</td><td>0.58452</td></tr><tr><td>train_loss</td><td>1.24862</td></tr><tr><td>val_acc</td><td>0.58883</td></tr><tr><td>val_loss</td><td>1.24213</td></tr></table><br/></div></div>"
      ],
      "text/plain": [
       "<IPython.core.display.HTML object>"
      ]
     },
     "metadata": {},
     "output_type": "display_data"
    },
    {
     "data": {
      "text/html": [
       " View run <strong style=\"color:#cdcd00\">LR: 0.001, AC: sigmoid, BS: 16, Optim: sgd, WI: xavier, WD: 0.0005, No_HL: 5, HS: 64</strong> at: <a href='https://wandb.ai/da6401-assignments/assignment1/runs/2yr7jpz3' target=\"_blank\">https://wandb.ai/da6401-assignments/assignment1/runs/2yr7jpz3</a><br> View project at: <a href='https://wandb.ai/da6401-assignments/assignment1' target=\"_blank\">https://wandb.ai/da6401-assignments/assignment1</a><br>Synced 5 W&B file(s), 0 media file(s), 0 artifact file(s) and 0 other file(s)"
      ],
      "text/plain": [
       "<IPython.core.display.HTML object>"
      ]
     },
     "metadata": {},
     "output_type": "display_data"
    },
    {
     "data": {
      "text/html": [
       "Find logs at: <code>.\\wandb\\run-20250310_004948-2yr7jpz3\\logs</code>"
      ],
      "text/plain": [
       "<IPython.core.display.HTML object>"
      ]
     },
     "metadata": {},
     "output_type": "display_data"
    },
    {
     "name": "stderr",
     "output_type": "stream",
     "text": [
      "\u001b[34m\u001b[1mwandb\u001b[0m: Agent Starting Run: 7b83ducw with config:\n",
      "\u001b[34m\u001b[1mwandb\u001b[0m: \tactivationFunc: sigmoid\n",
      "\u001b[34m\u001b[1mwandb\u001b[0m: \tbatchSize: 64\n",
      "\u001b[34m\u001b[1mwandb\u001b[0m: \thiddenLayer_Size: 128\n",
      "\u001b[34m\u001b[1mwandb\u001b[0m: \tlearningRate: 0.0001\n",
      "\u001b[34m\u001b[1mwandb\u001b[0m: \tnum_epochs: 10\n",
      "\u001b[34m\u001b[1mwandb\u001b[0m: \tnum_hiddenLayers: 3\n",
      "\u001b[34m\u001b[1mwandb\u001b[0m: \toptimizer: nadam\n",
      "\u001b[34m\u001b[1mwandb\u001b[0m: \tweightDecay: 0.5\n",
      "\u001b[34m\u001b[1mwandb\u001b[0m: \tweightInit: random\n"
     ]
    },
    {
     "data": {
      "text/html": [
       "Ignoring project 'assignment1' when running a sweep."
      ],
      "text/plain": [
       "<IPython.core.display.HTML object>"
      ]
     },
     "metadata": {},
     "output_type": "display_data"
    },
    {
     "data": {
      "text/html": [
       "Ignoring entity 'da6401-assignments' when running a sweep."
      ],
      "text/plain": [
       "<IPython.core.display.HTML object>"
      ]
     },
     "metadata": {},
     "output_type": "display_data"
    },
    {
     "data": {
      "text/html": [
       "creating run (0.4s)"
      ],
      "text/plain": [
       "<IPython.core.display.HTML object>"
      ]
     },
     "metadata": {},
     "output_type": "display_data"
    },
    {
     "data": {
      "text/html": [
       "Tracking run with wandb version 0.19.8"
      ],
      "text/plain": [
       "<IPython.core.display.HTML object>"
      ]
     },
     "metadata": {},
     "output_type": "display_data"
    },
    {
     "data": {
      "text/html": [
       "Run data is saved locally in <code>c:\\Users\\prajv\\Downloads\\ass1\\DA6401_ASSIGNMENT1\\wandb\\run-20250310_005015-7b83ducw</code>"
      ],
      "text/plain": [
       "<IPython.core.display.HTML object>"
      ]
     },
     "metadata": {},
     "output_type": "display_data"
    },
    {
     "data": {
      "text/html": [
       "Syncing run <strong><a href='https://wandb.ai/da6401-assignments/assignment1/runs/7b83ducw' target=\"_blank\">playful-sweep-31</a></strong> to <a href='https://wandb.ai/da6401-assignments/assignment1' target=\"_blank\">Weights & Biases</a> (<a href='https://wandb.me/developer-guide' target=\"_blank\">docs</a>)<br>Sweep page: <a href='https://wandb.ai/da6401-assignments/assignment1/sweeps/syjentp9' target=\"_blank\">https://wandb.ai/da6401-assignments/assignment1/sweeps/syjentp9</a>"
      ],
      "text/plain": [
       "<IPython.core.display.HTML object>"
      ]
     },
     "metadata": {},
     "output_type": "display_data"
    },
    {
     "data": {
      "text/html": [
       " View project at <a href='https://wandb.ai/da6401-assignments/assignment1' target=\"_blank\">https://wandb.ai/da6401-assignments/assignment1</a>"
      ],
      "text/plain": [
       "<IPython.core.display.HTML object>"
      ]
     },
     "metadata": {},
     "output_type": "display_data"
    },
    {
     "data": {
      "text/html": [
       " View sweep at <a href='https://wandb.ai/da6401-assignments/assignment1/sweeps/syjentp9' target=\"_blank\">https://wandb.ai/da6401-assignments/assignment1/sweeps/syjentp9</a>"
      ],
      "text/plain": [
       "<IPython.core.display.HTML object>"
      ]
     },
     "metadata": {},
     "output_type": "display_data"
    },
    {
     "data": {
      "text/html": [
       " View run at <a href='https://wandb.ai/da6401-assignments/assignment1/runs/7b83ducw' target=\"_blank\">https://wandb.ai/da6401-assignments/assignment1/runs/7b83ducw</a>"
      ],
      "text/plain": [
       "<IPython.core.display.HTML object>"
      ]
     },
     "metadata": {},
     "output_type": "display_data"
    },
    {
     "name": "stdout",
     "output_type": "stream",
     "text": [
      "Sweep Name:  LR: 0.0001, AC: sigmoid, BS: 64, Optim: nadam, WI: random, WD: 0.5, No_HL: 3, HS: 128\n",
      "Epoch 0: Training Loss = 0.9211 Validation Loss = 0.9235\n",
      "Training Accuracy = 0.6924 Validation Accuracy = 0.6942\n",
      "Epoch 1: Training Loss = 0.7711 Validation Loss = 0.7791\n",
      "Training Accuracy = 0.7358 Validation Accuracy = 0.7282\n",
      "Epoch 2: Training Loss = 0.7010 Validation Loss = 0.7099\n",
      "Training Accuracy = 0.7564 Validation Accuracy = 0.7493\n",
      "Epoch 3: Training Loss = 0.6549 Validation Loss = 0.6688\n",
      "Training Accuracy = 0.7704 Validation Accuracy = 0.7647\n",
      "Epoch 4: Training Loss = 0.6226 Validation Loss = 0.6403\n",
      "Training Accuracy = 0.7804 Validation Accuracy = 0.7733\n",
      "Epoch 5: Training Loss = 0.5967 Validation Loss = 0.6144\n",
      "Training Accuracy = 0.7891 Validation Accuracy = 0.7775\n",
      "Epoch 6: Training Loss = 0.5745 Validation Loss = 0.5989\n",
      "Training Accuracy = 0.7939 Validation Accuracy = 0.7852\n",
      "Epoch 7: Training Loss = 0.5556 Validation Loss = 0.5820\n",
      "Training Accuracy = 0.8011 Validation Accuracy = 0.7902\n",
      "Epoch 8: Training Loss = 0.5392 Validation Loss = 0.5716\n",
      "Training Accuracy = 0.8072 Validation Accuracy = 0.7952\n",
      "Epoch 9: Training Loss = 0.5261 Validation Loss = 0.5620\n",
      "Training Accuracy = 0.8112 Validation Accuracy = 0.8003\n"
     ]
    },
    {
     "data": {
      "text/html": [],
      "text/plain": [
       "<IPython.core.display.HTML object>"
      ]
     },
     "metadata": {},
     "output_type": "display_data"
    },
    {
     "data": {
      "text/html": [
       "<br>    <style><br>        .wandb-row {<br>            display: flex;<br>            flex-direction: row;<br>            flex-wrap: wrap;<br>            justify-content: flex-start;<br>            width: 100%;<br>        }<br>        .wandb-col {<br>            display: flex;<br>            flex-direction: column;<br>            flex-basis: 100%;<br>            flex: 1;<br>            padding: 10px;<br>        }<br>    </style><br><div class=\"wandb-row\"><div class=\"wandb-col\"><h3>Run history:</h3><br/><table class=\"wandb\"><tr><td>Validation Loss</td><td>▁</td></tr><tr><td>epoch</td><td>▁▂▃▃▄▅▆▆▇█</td></tr><tr><td>train_acc</td><td>▁▄▅▆▆▇▇▇██</td></tr><tr><td>train_loss</td><td>█▅▄▃▃▂▂▂▁▁</td></tr><tr><td>val_acc</td><td>▁▃▅▆▆▆▇▇██</td></tr><tr><td>val_loss</td><td>█▅▄▃▃▂▂▁▁▁</td></tr></table><br/></div><div class=\"wandb-col\"><h3>Run summary:</h3><br/><table class=\"wandb\"><tr><td>Validation Loss</td><td>0.562</td></tr><tr><td>epoch</td><td>9</td></tr><tr><td>train_acc</td><td>0.81124</td></tr><tr><td>train_loss</td><td>0.52609</td></tr><tr><td>val_acc</td><td>0.80033</td></tr><tr><td>val_loss</td><td>0.562</td></tr></table><br/></div></div>"
      ],
      "text/plain": [
       "<IPython.core.display.HTML object>"
      ]
     },
     "metadata": {},
     "output_type": "display_data"
    },
    {
     "data": {
      "text/html": [
       " View run <strong style=\"color:#cdcd00\">LR: 0.0001, AC: sigmoid, BS: 64, Optim: nadam, WI: random, WD: 0.5, No_HL: 3, HS: 128</strong> at: <a href='https://wandb.ai/da6401-assignments/assignment1/runs/7b83ducw' target=\"_blank\">https://wandb.ai/da6401-assignments/assignment1/runs/7b83ducw</a><br> View project at: <a href='https://wandb.ai/da6401-assignments/assignment1' target=\"_blank\">https://wandb.ai/da6401-assignments/assignment1</a><br>Synced 5 W&B file(s), 0 media file(s), 0 artifact file(s) and 0 other file(s)"
      ],
      "text/plain": [
       "<IPython.core.display.HTML object>"
      ]
     },
     "metadata": {},
     "output_type": "display_data"
    },
    {
     "data": {
      "text/html": [
       "Find logs at: <code>.\\wandb\\run-20250310_005015-7b83ducw\\logs</code>"
      ],
      "text/plain": [
       "<IPython.core.display.HTML object>"
      ]
     },
     "metadata": {},
     "output_type": "display_data"
    },
    {
     "name": "stderr",
     "output_type": "stream",
     "text": [
      "\u001b[34m\u001b[1mwandb\u001b[0m: Agent Starting Run: rrrz4pmi with config:\n",
      "\u001b[34m\u001b[1mwandb\u001b[0m: \tactivationFunc: sigmoid\n",
      "\u001b[34m\u001b[1mwandb\u001b[0m: \tbatchSize: 16\n",
      "\u001b[34m\u001b[1mwandb\u001b[0m: \thiddenLayer_Size: 64\n",
      "\u001b[34m\u001b[1mwandb\u001b[0m: \tlearningRate: 0.0001\n",
      "\u001b[34m\u001b[1mwandb\u001b[0m: \tnum_epochs: 10\n",
      "\u001b[34m\u001b[1mwandb\u001b[0m: \tnum_hiddenLayers: 4\n",
      "\u001b[34m\u001b[1mwandb\u001b[0m: \toptimizer: adam\n",
      "\u001b[34m\u001b[1mwandb\u001b[0m: \tweightDecay: 0.5\n",
      "\u001b[34m\u001b[1mwandb\u001b[0m: \tweightInit: random\n"
     ]
    },
    {
     "data": {
      "text/html": [
       "Ignoring project 'assignment1' when running a sweep."
      ],
      "text/plain": [
       "<IPython.core.display.HTML object>"
      ]
     },
     "metadata": {},
     "output_type": "display_data"
    },
    {
     "data": {
      "text/html": [
       "Ignoring entity 'da6401-assignments' when running a sweep."
      ],
      "text/plain": [
       "<IPython.core.display.HTML object>"
      ]
     },
     "metadata": {},
     "output_type": "display_data"
    },
    {
     "data": {
      "text/html": [
       "creating run (0.2s)"
      ],
      "text/plain": [
       "<IPython.core.display.HTML object>"
      ]
     },
     "metadata": {},
     "output_type": "display_data"
    },
    {
     "data": {
      "text/html": [
       "Tracking run with wandb version 0.19.8"
      ],
      "text/plain": [
       "<IPython.core.display.HTML object>"
      ]
     },
     "metadata": {},
     "output_type": "display_data"
    },
    {
     "data": {
      "text/html": [
       "Run data is saved locally in <code>c:\\Users\\prajv\\Downloads\\ass1\\DA6401_ASSIGNMENT1\\wandb\\run-20250310_005108-rrrz4pmi</code>"
      ],
      "text/plain": [
       "<IPython.core.display.HTML object>"
      ]
     },
     "metadata": {},
     "output_type": "display_data"
    },
    {
     "data": {
      "text/html": [
       "Syncing run <strong><a href='https://wandb.ai/da6401-assignments/assignment1/runs/rrrz4pmi' target=\"_blank\">revived-sweep-32</a></strong> to <a href='https://wandb.ai/da6401-assignments/assignment1' target=\"_blank\">Weights & Biases</a> (<a href='https://wandb.me/developer-guide' target=\"_blank\">docs</a>)<br>Sweep page: <a href='https://wandb.ai/da6401-assignments/assignment1/sweeps/syjentp9' target=\"_blank\">https://wandb.ai/da6401-assignments/assignment1/sweeps/syjentp9</a>"
      ],
      "text/plain": [
       "<IPython.core.display.HTML object>"
      ]
     },
     "metadata": {},
     "output_type": "display_data"
    },
    {
     "data": {
      "text/html": [
       " View project at <a href='https://wandb.ai/da6401-assignments/assignment1' target=\"_blank\">https://wandb.ai/da6401-assignments/assignment1</a>"
      ],
      "text/plain": [
       "<IPython.core.display.HTML object>"
      ]
     },
     "metadata": {},
     "output_type": "display_data"
    },
    {
     "data": {
      "text/html": [
       " View sweep at <a href='https://wandb.ai/da6401-assignments/assignment1/sweeps/syjentp9' target=\"_blank\">https://wandb.ai/da6401-assignments/assignment1/sweeps/syjentp9</a>"
      ],
      "text/plain": [
       "<IPython.core.display.HTML object>"
      ]
     },
     "metadata": {},
     "output_type": "display_data"
    },
    {
     "data": {
      "text/html": [
       " View run at <a href='https://wandb.ai/da6401-assignments/assignment1/runs/rrrz4pmi' target=\"_blank\">https://wandb.ai/da6401-assignments/assignment1/runs/rrrz4pmi</a>"
      ],
      "text/plain": [
       "<IPython.core.display.HTML object>"
      ]
     },
     "metadata": {},
     "output_type": "display_data"
    },
    {
     "name": "stdout",
     "output_type": "stream",
     "text": [
      "Sweep Name:  LR: 0.0001, AC: sigmoid, BS: 16, Optim: adam, WI: random, WD: 0.5, No_HL: 4, HS: 64\n",
      "Epoch 0: Training Loss = 0.8571 Validation Loss = 0.8530\n",
      "Training Accuracy = 0.6864 Validation Accuracy = 0.6858\n",
      "Epoch 1: Training Loss = 0.7394 Validation Loss = 0.7453\n",
      "Training Accuracy = 0.7283 Validation Accuracy = 0.7278\n",
      "Epoch 2: Training Loss = 0.6738 Validation Loss = 0.6851\n",
      "Training Accuracy = 0.7514 Validation Accuracy = 0.7518\n",
      "Epoch 3: Training Loss = 0.6318 Validation Loss = 0.6468\n",
      "Training Accuracy = 0.7689 Validation Accuracy = 0.7683\n",
      "Epoch 4: Training Loss = 0.5957 Validation Loss = 0.6146\n",
      "Training Accuracy = 0.7827 Validation Accuracy = 0.7822\n",
      "Epoch 5: Training Loss = 0.5715 Validation Loss = 0.5958\n",
      "Training Accuracy = 0.7913 Validation Accuracy = 0.7895\n",
      "Epoch 6: Training Loss = 0.5489 Validation Loss = 0.5744\n",
      "Training Accuracy = 0.8013 Validation Accuracy = 0.7977\n",
      "Epoch 7: Training Loss = 0.5295 Validation Loss = 0.5579\n",
      "Training Accuracy = 0.8067 Validation Accuracy = 0.8037\n",
      "Epoch 8: Training Loss = 0.5138 Validation Loss = 0.5446\n",
      "Training Accuracy = 0.8132 Validation Accuracy = 0.8102\n",
      "Epoch 9: Training Loss = 0.5014 Validation Loss = 0.5329\n",
      "Training Accuracy = 0.8168 Validation Accuracy = 0.8137\n"
     ]
    },
    {
     "data": {
      "text/html": [],
      "text/plain": [
       "<IPython.core.display.HTML object>"
      ]
     },
     "metadata": {},
     "output_type": "display_data"
    },
    {
     "data": {
      "text/html": [
       "<br>    <style><br>        .wandb-row {<br>            display: flex;<br>            flex-direction: row;<br>            flex-wrap: wrap;<br>            justify-content: flex-start;<br>            width: 100%;<br>        }<br>        .wandb-col {<br>            display: flex;<br>            flex-direction: column;<br>            flex-basis: 100%;<br>            flex: 1;<br>            padding: 10px;<br>        }<br>    </style><br><div class=\"wandb-row\"><div class=\"wandb-col\"><h3>Run history:</h3><br/><table class=\"wandb\"><tr><td>Validation Loss</td><td>▁</td></tr><tr><td>epoch</td><td>▁▂▃▃▄▅▆▆▇█</td></tr><tr><td>train_acc</td><td>▁▃▄▅▆▇▇▇██</td></tr><tr><td>train_loss</td><td>█▆▄▄▃▂▂▂▁▁</td></tr><tr><td>val_acc</td><td>▁▃▅▆▆▇▇▇██</td></tr><tr><td>val_loss</td><td>█▆▄▃▃▂▂▂▁▁</td></tr></table><br/></div><div class=\"wandb-col\"><h3>Run summary:</h3><br/><table class=\"wandb\"><tr><td>Validation Loss</td><td>0.53294</td></tr><tr><td>epoch</td><td>9</td></tr><tr><td>train_acc</td><td>0.8168</td></tr><tr><td>train_loss</td><td>0.50139</td></tr><tr><td>val_acc</td><td>0.81367</td></tr><tr><td>val_loss</td><td>0.53294</td></tr></table><br/></div></div>"
      ],
      "text/plain": [
       "<IPython.core.display.HTML object>"
      ]
     },
     "metadata": {},
     "output_type": "display_data"
    },
    {
     "data": {
      "text/html": [
       " View run <strong style=\"color:#cdcd00\">LR: 0.0001, AC: sigmoid, BS: 16, Optim: adam, WI: random, WD: 0.5, No_HL: 4, HS: 64</strong> at: <a href='https://wandb.ai/da6401-assignments/assignment1/runs/rrrz4pmi' target=\"_blank\">https://wandb.ai/da6401-assignments/assignment1/runs/rrrz4pmi</a><br> View project at: <a href='https://wandb.ai/da6401-assignments/assignment1' target=\"_blank\">https://wandb.ai/da6401-assignments/assignment1</a><br>Synced 5 W&B file(s), 0 media file(s), 0 artifact file(s) and 0 other file(s)"
      ],
      "text/plain": [
       "<IPython.core.display.HTML object>"
      ]
     },
     "metadata": {},
     "output_type": "display_data"
    },
    {
     "data": {
      "text/html": [
       "Find logs at: <code>.\\wandb\\run-20250310_005108-rrrz4pmi\\logs</code>"
      ],
      "text/plain": [
       "<IPython.core.display.HTML object>"
      ]
     },
     "metadata": {},
     "output_type": "display_data"
    },
    {
     "name": "stderr",
     "output_type": "stream",
     "text": [
      "\u001b[34m\u001b[1mwandb\u001b[0m: Agent Starting Run: uagymwb9 with config:\n",
      "\u001b[34m\u001b[1mwandb\u001b[0m: \tactivationFunc: relu\n",
      "\u001b[34m\u001b[1mwandb\u001b[0m: \tbatchSize: 16\n",
      "\u001b[34m\u001b[1mwandb\u001b[0m: \thiddenLayer_Size: 128\n",
      "\u001b[34m\u001b[1mwandb\u001b[0m: \tlearningRate: 0.001\n",
      "\u001b[34m\u001b[1mwandb\u001b[0m: \tnum_epochs: 5\n",
      "\u001b[34m\u001b[1mwandb\u001b[0m: \tnum_hiddenLayers: 4\n",
      "\u001b[34m\u001b[1mwandb\u001b[0m: \toptimizer: momentum\n",
      "\u001b[34m\u001b[1mwandb\u001b[0m: \tweightDecay: 0\n",
      "\u001b[34m\u001b[1mwandb\u001b[0m: \tweightInit: random\n"
     ]
    },
    {
     "data": {
      "text/html": [
       "Ignoring project 'assignment1' when running a sweep."
      ],
      "text/plain": [
       "<IPython.core.display.HTML object>"
      ]
     },
     "metadata": {},
     "output_type": "display_data"
    },
    {
     "data": {
      "text/html": [
       "Ignoring entity 'da6401-assignments' when running a sweep."
      ],
      "text/plain": [
       "<IPython.core.display.HTML object>"
      ]
     },
     "metadata": {},
     "output_type": "display_data"
    },
    {
     "data": {
      "text/html": [
       "creating run (0.2s)"
      ],
      "text/plain": [
       "<IPython.core.display.HTML object>"
      ]
     },
     "metadata": {},
     "output_type": "display_data"
    },
    {
     "data": {
      "text/html": [
       "Tracking run with wandb version 0.19.8"
      ],
      "text/plain": [
       "<IPython.core.display.HTML object>"
      ]
     },
     "metadata": {},
     "output_type": "display_data"
    },
    {
     "data": {
      "text/html": [
       "Run data is saved locally in <code>c:\\Users\\prajv\\Downloads\\ass1\\DA6401_ASSIGNMENT1\\wandb\\run-20250310_005206-uagymwb9</code>"
      ],
      "text/plain": [
       "<IPython.core.display.HTML object>"
      ]
     },
     "metadata": {},
     "output_type": "display_data"
    },
    {
     "data": {
      "text/html": [
       "Syncing run <strong><a href='https://wandb.ai/da6401-assignments/assignment1/runs/uagymwb9' target=\"_blank\">smooth-sweep-33</a></strong> to <a href='https://wandb.ai/da6401-assignments/assignment1' target=\"_blank\">Weights & Biases</a> (<a href='https://wandb.me/developer-guide' target=\"_blank\">docs</a>)<br>Sweep page: <a href='https://wandb.ai/da6401-assignments/assignment1/sweeps/syjentp9' target=\"_blank\">https://wandb.ai/da6401-assignments/assignment1/sweeps/syjentp9</a>"
      ],
      "text/plain": [
       "<IPython.core.display.HTML object>"
      ]
     },
     "metadata": {},
     "output_type": "display_data"
    },
    {
     "data": {
      "text/html": [
       " View project at <a href='https://wandb.ai/da6401-assignments/assignment1' target=\"_blank\">https://wandb.ai/da6401-assignments/assignment1</a>"
      ],
      "text/plain": [
       "<IPython.core.display.HTML object>"
      ]
     },
     "metadata": {},
     "output_type": "display_data"
    },
    {
     "data": {
      "text/html": [
       " View sweep at <a href='https://wandb.ai/da6401-assignments/assignment1/sweeps/syjentp9' target=\"_blank\">https://wandb.ai/da6401-assignments/assignment1/sweeps/syjentp9</a>"
      ],
      "text/plain": [
       "<IPython.core.display.HTML object>"
      ]
     },
     "metadata": {},
     "output_type": "display_data"
    },
    {
     "data": {
      "text/html": [
       " View run at <a href='https://wandb.ai/da6401-assignments/assignment1/runs/uagymwb9' target=\"_blank\">https://wandb.ai/da6401-assignments/assignment1/runs/uagymwb9</a>"
      ],
      "text/plain": [
       "<IPython.core.display.HTML object>"
      ]
     },
     "metadata": {},
     "output_type": "display_data"
    },
    {
     "name": "stdout",
     "output_type": "stream",
     "text": [
      "Sweep Name:  LR: 0.001, AC: relu, BS: 16, Optim: momentum, WI: random, WD: 0, No_HL: 4, HS: 128\n",
      "Epoch 0: Training Loss = 0.9068 Validation Loss = 0.8988\n",
      "Training Accuracy = 0.6819 Validation Accuracy = 0.6827\n",
      "Epoch 1: Training Loss = 0.7738 Validation Loss = 0.7766\n",
      "Training Accuracy = 0.7245 Validation Accuracy = 0.7232\n",
      "Epoch 2: Training Loss = 0.7039 Validation Loss = 0.7156\n",
      "Training Accuracy = 0.7495 Validation Accuracy = 0.7460\n",
      "Epoch 3: Training Loss = 0.6670 Validation Loss = 0.6864\n",
      "Training Accuracy = 0.7617 Validation Accuracy = 0.7592\n",
      "Epoch 4: Training Loss = 0.6341 Validation Loss = 0.6583\n",
      "Training Accuracy = 0.7731 Validation Accuracy = 0.7680\n"
     ]
    },
    {
     "data": {
      "text/html": [],
      "text/plain": [
       "<IPython.core.display.HTML object>"
      ]
     },
     "metadata": {},
     "output_type": "display_data"
    },
    {
     "data": {
      "text/html": [
       "<br>    <style><br>        .wandb-row {<br>            display: flex;<br>            flex-direction: row;<br>            flex-wrap: wrap;<br>            justify-content: flex-start;<br>            width: 100%;<br>        }<br>        .wandb-col {<br>            display: flex;<br>            flex-direction: column;<br>            flex-basis: 100%;<br>            flex: 1;<br>            padding: 10px;<br>        }<br>    </style><br><div class=\"wandb-row\"><div class=\"wandb-col\"><h3>Run history:</h3><br/><table class=\"wandb\"><tr><td>Validation Loss</td><td>▁</td></tr><tr><td>epoch</td><td>▁▃▅▆█</td></tr><tr><td>train_acc</td><td>▁▄▆▇█</td></tr><tr><td>train_loss</td><td>█▅▃▂▁</td></tr><tr><td>val_acc</td><td>▁▄▆▇█</td></tr><tr><td>val_loss</td><td>█▄▃▂▁</td></tr></table><br/></div><div class=\"wandb-col\"><h3>Run summary:</h3><br/><table class=\"wandb\"><tr><td>Validation Loss</td><td>0.65827</td></tr><tr><td>epoch</td><td>4</td></tr><tr><td>train_acc</td><td>0.77306</td></tr><tr><td>train_loss</td><td>0.63407</td></tr><tr><td>val_acc</td><td>0.768</td></tr><tr><td>val_loss</td><td>0.65827</td></tr></table><br/></div></div>"
      ],
      "text/plain": [
       "<IPython.core.display.HTML object>"
      ]
     },
     "metadata": {},
     "output_type": "display_data"
    },
    {
     "data": {
      "text/html": [
       " View run <strong style=\"color:#cdcd00\">LR: 0.001, AC: relu, BS: 16, Optim: momentum, WI: random, WD: 0, No_HL: 4, HS: 128</strong> at: <a href='https://wandb.ai/da6401-assignments/assignment1/runs/uagymwb9' target=\"_blank\">https://wandb.ai/da6401-assignments/assignment1/runs/uagymwb9</a><br> View project at: <a href='https://wandb.ai/da6401-assignments/assignment1' target=\"_blank\">https://wandb.ai/da6401-assignments/assignment1</a><br>Synced 5 W&B file(s), 0 media file(s), 0 artifact file(s) and 0 other file(s)"
      ],
      "text/plain": [
       "<IPython.core.display.HTML object>"
      ]
     },
     "metadata": {},
     "output_type": "display_data"
    },
    {
     "data": {
      "text/html": [
       "Find logs at: <code>.\\wandb\\run-20250310_005206-uagymwb9\\logs</code>"
      ],
      "text/plain": [
       "<IPython.core.display.HTML object>"
      ]
     },
     "metadata": {},
     "output_type": "display_data"
    },
    {
     "name": "stderr",
     "output_type": "stream",
     "text": [
      "\u001b[34m\u001b[1mwandb\u001b[0m: Agent Starting Run: 8tv8qf6g with config:\n",
      "\u001b[34m\u001b[1mwandb\u001b[0m: \tactivationFunc: sigmoid\n",
      "\u001b[34m\u001b[1mwandb\u001b[0m: \tbatchSize: 32\n",
      "\u001b[34m\u001b[1mwandb\u001b[0m: \thiddenLayer_Size: 128\n",
      "\u001b[34m\u001b[1mwandb\u001b[0m: \tlearningRate: 0.0001\n",
      "\u001b[34m\u001b[1mwandb\u001b[0m: \tnum_epochs: 10\n",
      "\u001b[34m\u001b[1mwandb\u001b[0m: \tnum_hiddenLayers: 5\n",
      "\u001b[34m\u001b[1mwandb\u001b[0m: \toptimizer: sgd\n",
      "\u001b[34m\u001b[1mwandb\u001b[0m: \tweightDecay: 0.0005\n",
      "\u001b[34m\u001b[1mwandb\u001b[0m: \tweightInit: xavier\n"
     ]
    },
    {
     "data": {
      "text/html": [
       "Ignoring project 'assignment1' when running a sweep."
      ],
      "text/plain": [
       "<IPython.core.display.HTML object>"
      ]
     },
     "metadata": {},
     "output_type": "display_data"
    },
    {
     "data": {
      "text/html": [
       "Ignoring entity 'da6401-assignments' when running a sweep."
      ],
      "text/plain": [
       "<IPython.core.display.HTML object>"
      ]
     },
     "metadata": {},
     "output_type": "display_data"
    },
    {
     "data": {
      "text/html": [
       "creating run (0.1s)"
      ],
      "text/plain": [
       "<IPython.core.display.HTML object>"
      ]
     },
     "metadata": {},
     "output_type": "display_data"
    },
    {
     "data": {
      "text/html": [
       "Tracking run with wandb version 0.19.8"
      ],
      "text/plain": [
       "<IPython.core.display.HTML object>"
      ]
     },
     "metadata": {},
     "output_type": "display_data"
    },
    {
     "data": {
      "text/html": [
       "Run data is saved locally in <code>c:\\Users\\prajv\\Downloads\\ass1\\DA6401_ASSIGNMENT1\\wandb\\run-20250310_005248-8tv8qf6g</code>"
      ],
      "text/plain": [
       "<IPython.core.display.HTML object>"
      ]
     },
     "metadata": {},
     "output_type": "display_data"
    },
    {
     "data": {
      "text/html": [
       "Syncing run <strong><a href='https://wandb.ai/da6401-assignments/assignment1/runs/8tv8qf6g' target=\"_blank\">deep-sweep-34</a></strong> to <a href='https://wandb.ai/da6401-assignments/assignment1' target=\"_blank\">Weights & Biases</a> (<a href='https://wandb.me/developer-guide' target=\"_blank\">docs</a>)<br>Sweep page: <a href='https://wandb.ai/da6401-assignments/assignment1/sweeps/syjentp9' target=\"_blank\">https://wandb.ai/da6401-assignments/assignment1/sweeps/syjentp9</a>"
      ],
      "text/plain": [
       "<IPython.core.display.HTML object>"
      ]
     },
     "metadata": {},
     "output_type": "display_data"
    },
    {
     "data": {
      "text/html": [
       " View project at <a href='https://wandb.ai/da6401-assignments/assignment1' target=\"_blank\">https://wandb.ai/da6401-assignments/assignment1</a>"
      ],
      "text/plain": [
       "<IPython.core.display.HTML object>"
      ]
     },
     "metadata": {},
     "output_type": "display_data"
    },
    {
     "data": {
      "text/html": [
       " View sweep at <a href='https://wandb.ai/da6401-assignments/assignment1/sweeps/syjentp9' target=\"_blank\">https://wandb.ai/da6401-assignments/assignment1/sweeps/syjentp9</a>"
      ],
      "text/plain": [
       "<IPython.core.display.HTML object>"
      ]
     },
     "metadata": {},
     "output_type": "display_data"
    },
    {
     "data": {
      "text/html": [
       " View run at <a href='https://wandb.ai/da6401-assignments/assignment1/runs/8tv8qf6g' target=\"_blank\">https://wandb.ai/da6401-assignments/assignment1/runs/8tv8qf6g</a>"
      ],
      "text/plain": [
       "<IPython.core.display.HTML object>"
      ]
     },
     "metadata": {},
     "output_type": "display_data"
    },
    {
     "name": "stdout",
     "output_type": "stream",
     "text": [
      "Sweep Name:  LR: 0.0001, AC: sigmoid, BS: 32, Optim: sgd, WI: xavier, WD: 0.0005, No_HL: 5, HS: 128\n",
      "Epoch 0: Training Loss = 7.3270 Validation Loss = 7.4088\n",
      "Training Accuracy = 0.1033 Validation Accuracy = 0.1047\n",
      "Epoch 1: Training Loss = 6.6100 Validation Loss = 6.6656\n",
      "Training Accuracy = 0.1187 Validation Accuracy = 0.1253\n",
      "Epoch 2: Training Loss = 5.9505 Validation Loss = 5.9931\n",
      "Training Accuracy = 0.1316 Validation Accuracy = 0.1373\n",
      "Epoch 3: Training Loss = 5.3027 Validation Loss = 5.3320\n",
      "Training Accuracy = 0.1439 Validation Accuracy = 0.1507\n",
      "Epoch 4: Training Loss = 4.5789 Validation Loss = 4.5955\n",
      "Training Accuracy = 0.1525 Validation Accuracy = 0.1573\n",
      "Epoch 5: Training Loss = 3.8791 Validation Loss = 3.8799\n",
      "Training Accuracy = 0.1604 Validation Accuracy = 0.1648\n",
      "Epoch 6: Training Loss = 3.3678 Validation Loss = 3.3555\n",
      "Training Accuracy = 0.1766 Validation Accuracy = 0.1808\n",
      "Epoch 7: Training Loss = 3.0586 Validation Loss = 3.0400\n",
      "Training Accuracy = 0.2046 Validation Accuracy = 0.2103\n",
      "Epoch 8: Training Loss = 2.8294 Validation Loss = 2.8090\n",
      "Training Accuracy = 0.2225 Validation Accuracy = 0.2292\n",
      "Epoch 9: Training Loss = 2.6225 Validation Loss = 2.6013\n",
      "Training Accuracy = 0.2354 Validation Accuracy = 0.2412\n"
     ]
    },
    {
     "data": {
      "text/html": [],
      "text/plain": [
       "<IPython.core.display.HTML object>"
      ]
     },
     "metadata": {},
     "output_type": "display_data"
    },
    {
     "data": {
      "text/html": [
       "<br>    <style><br>        .wandb-row {<br>            display: flex;<br>            flex-direction: row;<br>            flex-wrap: wrap;<br>            justify-content: flex-start;<br>            width: 100%;<br>        }<br>        .wandb-col {<br>            display: flex;<br>            flex-direction: column;<br>            flex-basis: 100%;<br>            flex: 1;<br>            padding: 10px;<br>        }<br>    </style><br><div class=\"wandb-row\"><div class=\"wandb-col\"><h3>Run history:</h3><br/><table class=\"wandb\"><tr><td>Validation Loss</td><td>▁</td></tr><tr><td>epoch</td><td>▁▂▃▃▄▅▆▆▇█</td></tr><tr><td>train_acc</td><td>▁▂▂▃▄▄▅▆▇█</td></tr><tr><td>train_loss</td><td>█▇▆▅▄▃▂▂▁▁</td></tr><tr><td>val_acc</td><td>▁▂▃▃▄▄▅▆▇█</td></tr><tr><td>val_loss</td><td>█▇▆▅▄▃▂▂▁▁</td></tr></table><br/></div><div class=\"wandb-col\"><h3>Run summary:</h3><br/><table class=\"wandb\"><tr><td>Validation Loss</td><td>2.60131</td></tr><tr><td>epoch</td><td>9</td></tr><tr><td>train_acc</td><td>0.23543</td></tr><tr><td>train_loss</td><td>2.62247</td></tr><tr><td>val_acc</td><td>0.24117</td></tr><tr><td>val_loss</td><td>2.60131</td></tr></table><br/></div></div>"
      ],
      "text/plain": [
       "<IPython.core.display.HTML object>"
      ]
     },
     "metadata": {},
     "output_type": "display_data"
    },
    {
     "data": {
      "text/html": [
       " View run <strong style=\"color:#cdcd00\">LR: 0.0001, AC: sigmoid, BS: 32, Optim: sgd, WI: xavier, WD: 0.0005, No_HL: 5, HS: 128</strong> at: <a href='https://wandb.ai/da6401-assignments/assignment1/runs/8tv8qf6g' target=\"_blank\">https://wandb.ai/da6401-assignments/assignment1/runs/8tv8qf6g</a><br> View project at: <a href='https://wandb.ai/da6401-assignments/assignment1' target=\"_blank\">https://wandb.ai/da6401-assignments/assignment1</a><br>Synced 5 W&B file(s), 0 media file(s), 0 artifact file(s) and 0 other file(s)"
      ],
      "text/plain": [
       "<IPython.core.display.HTML object>"
      ]
     },
     "metadata": {},
     "output_type": "display_data"
    },
    {
     "data": {
      "text/html": [
       "Find logs at: <code>.\\wandb\\run-20250310_005248-8tv8qf6g\\logs</code>"
      ],
      "text/plain": [
       "<IPython.core.display.HTML object>"
      ]
     },
     "metadata": {},
     "output_type": "display_data"
    },
    {
     "name": "stderr",
     "output_type": "stream",
     "text": [
      "\u001b[34m\u001b[1mwandb\u001b[0m: Agent Starting Run: kl39xi5c with config:\n",
      "\u001b[34m\u001b[1mwandb\u001b[0m: \tactivationFunc: tanh\n",
      "\u001b[34m\u001b[1mwandb\u001b[0m: \tbatchSize: 16\n",
      "\u001b[34m\u001b[1mwandb\u001b[0m: \thiddenLayer_Size: 128\n",
      "\u001b[34m\u001b[1mwandb\u001b[0m: \tlearningRate: 0.001\n",
      "\u001b[34m\u001b[1mwandb\u001b[0m: \tnum_epochs: 5\n",
      "\u001b[34m\u001b[1mwandb\u001b[0m: \tnum_hiddenLayers: 5\n",
      "\u001b[34m\u001b[1mwandb\u001b[0m: \toptimizer: rmsprop\n",
      "\u001b[34m\u001b[1mwandb\u001b[0m: \tweightDecay: 0\n",
      "\u001b[34m\u001b[1mwandb\u001b[0m: \tweightInit: random\n"
     ]
    },
    {
     "data": {
      "text/html": [
       "Ignoring project 'assignment1' when running a sweep."
      ],
      "text/plain": [
       "<IPython.core.display.HTML object>"
      ]
     },
     "metadata": {},
     "output_type": "display_data"
    },
    {
     "data": {
      "text/html": [
       "Ignoring entity 'da6401-assignments' when running a sweep."
      ],
      "text/plain": [
       "<IPython.core.display.HTML object>"
      ]
     },
     "metadata": {},
     "output_type": "display_data"
    },
    {
     "data": {
      "text/html": [
       "Waiting for wandb.init()..."
      ],
      "text/plain": [
       "<IPython.core.display.HTML object>"
      ]
     },
     "metadata": {},
     "output_type": "display_data"
    },
    {
     "data": {
      "text/html": [
       "Tracking run with wandb version 0.19.8"
      ],
      "text/plain": [
       "<IPython.core.display.HTML object>"
      ]
     },
     "metadata": {},
     "output_type": "display_data"
    },
    {
     "data": {
      "text/html": [
       "Run data is saved locally in <code>c:\\Users\\prajv\\Downloads\\ass1\\DA6401_ASSIGNMENT1\\wandb\\run-20250310_005351-kl39xi5c</code>"
      ],
      "text/plain": [
       "<IPython.core.display.HTML object>"
      ]
     },
     "metadata": {},
     "output_type": "display_data"
    },
    {
     "data": {
      "text/html": [
       "Syncing run <strong><a href='https://wandb.ai/da6401-assignments/assignment1/runs/kl39xi5c' target=\"_blank\">colorful-sweep-35</a></strong> to <a href='https://wandb.ai/da6401-assignments/assignment1' target=\"_blank\">Weights & Biases</a> (<a href='https://wandb.me/developer-guide' target=\"_blank\">docs</a>)<br>Sweep page: <a href='https://wandb.ai/da6401-assignments/assignment1/sweeps/syjentp9' target=\"_blank\">https://wandb.ai/da6401-assignments/assignment1/sweeps/syjentp9</a>"
      ],
      "text/plain": [
       "<IPython.core.display.HTML object>"
      ]
     },
     "metadata": {},
     "output_type": "display_data"
    },
    {
     "data": {
      "text/html": [
       " View project at <a href='https://wandb.ai/da6401-assignments/assignment1' target=\"_blank\">https://wandb.ai/da6401-assignments/assignment1</a>"
      ],
      "text/plain": [
       "<IPython.core.display.HTML object>"
      ]
     },
     "metadata": {},
     "output_type": "display_data"
    },
    {
     "data": {
      "text/html": [
       " View sweep at <a href='https://wandb.ai/da6401-assignments/assignment1/sweeps/syjentp9' target=\"_blank\">https://wandb.ai/da6401-assignments/assignment1/sweeps/syjentp9</a>"
      ],
      "text/plain": [
       "<IPython.core.display.HTML object>"
      ]
     },
     "metadata": {},
     "output_type": "display_data"
    },
    {
     "data": {
      "text/html": [
       " View run at <a href='https://wandb.ai/da6401-assignments/assignment1/runs/kl39xi5c' target=\"_blank\">https://wandb.ai/da6401-assignments/assignment1/runs/kl39xi5c</a>"
      ],
      "text/plain": [
       "<IPython.core.display.HTML object>"
      ]
     },
     "metadata": {},
     "output_type": "display_data"
    },
    {
     "name": "stdout",
     "output_type": "stream",
     "text": [
      "Sweep Name:  LR: 0.001, AC: tanh, BS: 16, Optim: rmsprop, WI: random, WD: 0, No_HL: 5, HS: 128\n",
      "Epoch 0: Training Loss = 0.5071 Validation Loss = 0.5158\n",
      "Training Accuracy = 0.8167 Validation Accuracy = 0.8132\n",
      "Epoch 1: Training Loss = 0.4398 Validation Loss = 0.4565\n",
      "Training Accuracy = 0.8410 Validation Accuracy = 0.8397\n",
      "Epoch 2: Training Loss = 0.4030 Validation Loss = 0.4436\n",
      "Training Accuracy = 0.8511 Validation Accuracy = 0.8390\n",
      "Epoch 3: Training Loss = 0.3812 Validation Loss = 0.4114\n",
      "Training Accuracy = 0.8594 Validation Accuracy = 0.8513\n",
      "Epoch 4: Training Loss = 0.3669 Validation Loss = 0.4115\n",
      "Training Accuracy = 0.8661 Validation Accuracy = 0.8528\n"
     ]
    },
    {
     "data": {
      "text/html": [],
      "text/plain": [
       "<IPython.core.display.HTML object>"
      ]
     },
     "metadata": {},
     "output_type": "display_data"
    },
    {
     "data": {
      "text/html": [
       "<br>    <style><br>        .wandb-row {<br>            display: flex;<br>            flex-direction: row;<br>            flex-wrap: wrap;<br>            justify-content: flex-start;<br>            width: 100%;<br>        }<br>        .wandb-col {<br>            display: flex;<br>            flex-direction: column;<br>            flex-basis: 100%;<br>            flex: 1;<br>            padding: 10px;<br>        }<br>    </style><br><div class=\"wandb-row\"><div class=\"wandb-col\"><h3>Run history:</h3><br/><table class=\"wandb\"><tr><td>Validation Loss</td><td>▁</td></tr><tr><td>epoch</td><td>▁▃▅▆█</td></tr><tr><td>train_acc</td><td>▁▄▆▇█</td></tr><tr><td>train_loss</td><td>█▅▃▂▁</td></tr><tr><td>val_acc</td><td>▁▆▆██</td></tr><tr><td>val_loss</td><td>█▄▃▁▁</td></tr></table><br/></div><div class=\"wandb-col\"><h3>Run summary:</h3><br/><table class=\"wandb\"><tr><td>Validation Loss</td><td>0.41147</td></tr><tr><td>epoch</td><td>4</td></tr><tr><td>train_acc</td><td>0.86607</td></tr><tr><td>train_loss</td><td>0.36689</td></tr><tr><td>val_acc</td><td>0.85283</td></tr><tr><td>val_loss</td><td>0.41147</td></tr></table><br/></div></div>"
      ],
      "text/plain": [
       "<IPython.core.display.HTML object>"
      ]
     },
     "metadata": {},
     "output_type": "display_data"
    },
    {
     "data": {
      "text/html": [
       " View run <strong style=\"color:#cdcd00\">LR: 0.001, AC: tanh, BS: 16, Optim: rmsprop, WI: random, WD: 0, No_HL: 5, HS: 128</strong> at: <a href='https://wandb.ai/da6401-assignments/assignment1/runs/kl39xi5c' target=\"_blank\">https://wandb.ai/da6401-assignments/assignment1/runs/kl39xi5c</a><br> View project at: <a href='https://wandb.ai/da6401-assignments/assignment1' target=\"_blank\">https://wandb.ai/da6401-assignments/assignment1</a><br>Synced 5 W&B file(s), 0 media file(s), 0 artifact file(s) and 0 other file(s)"
      ],
      "text/plain": [
       "<IPython.core.display.HTML object>"
      ]
     },
     "metadata": {},
     "output_type": "display_data"
    },
    {
     "data": {
      "text/html": [
       "Find logs at: <code>.\\wandb\\run-20250310_005351-kl39xi5c\\logs</code>"
      ],
      "text/plain": [
       "<IPython.core.display.HTML object>"
      ]
     },
     "metadata": {},
     "output_type": "display_data"
    },
    {
     "name": "stderr",
     "output_type": "stream",
     "text": [
      "\u001b[34m\u001b[1mwandb\u001b[0m: Sweep Agent: Waiting for job.\n",
      "\u001b[34m\u001b[1mwandb\u001b[0m: Job received.\n",
      "\u001b[34m\u001b[1mwandb\u001b[0m: Agent Starting Run: vtz7rr7r with config:\n",
      "\u001b[34m\u001b[1mwandb\u001b[0m: \tactivationFunc: relu\n",
      "\u001b[34m\u001b[1mwandb\u001b[0m: \tbatchSize: 16\n",
      "\u001b[34m\u001b[1mwandb\u001b[0m: \thiddenLayer_Size: 64\n",
      "\u001b[34m\u001b[1mwandb\u001b[0m: \tlearningRate: 0.0001\n",
      "\u001b[34m\u001b[1mwandb\u001b[0m: \tnum_epochs: 10\n",
      "\u001b[34m\u001b[1mwandb\u001b[0m: \tnum_hiddenLayers: 4\n",
      "\u001b[34m\u001b[1mwandb\u001b[0m: \toptimizer: nesterov\n",
      "\u001b[34m\u001b[1mwandb\u001b[0m: \tweightDecay: 0\n",
      "\u001b[34m\u001b[1mwandb\u001b[0m: \tweightInit: xavier\n"
     ]
    },
    {
     "data": {
      "text/html": [
       "Ignoring project 'assignment1' when running a sweep."
      ],
      "text/plain": [
       "<IPython.core.display.HTML object>"
      ]
     },
     "metadata": {},
     "output_type": "display_data"
    },
    {
     "data": {
      "text/html": [
       "Ignoring entity 'da6401-assignments' when running a sweep."
      ],
      "text/plain": [
       "<IPython.core.display.HTML object>"
      ]
     },
     "metadata": {},
     "output_type": "display_data"
    },
    {
     "data": {
      "text/html": [
       "Waiting for wandb.init()..."
      ],
      "text/plain": [
       "<IPython.core.display.HTML object>"
      ]
     },
     "metadata": {},
     "output_type": "display_data"
    },
    {
     "data": {
      "text/html": [
       "Tracking run with wandb version 0.19.8"
      ],
      "text/plain": [
       "<IPython.core.display.HTML object>"
      ]
     },
     "metadata": {},
     "output_type": "display_data"
    },
    {
     "data": {
      "text/html": [
       "Run data is saved locally in <code>c:\\Users\\prajv\\Downloads\\ass1\\DA6401_ASSIGNMENT1\\wandb\\run-20250310_005505-vtz7rr7r</code>"
      ],
      "text/plain": [
       "<IPython.core.display.HTML object>"
      ]
     },
     "metadata": {},
     "output_type": "display_data"
    },
    {
     "data": {
      "text/html": [
       "Syncing run <strong><a href='https://wandb.ai/da6401-assignments/assignment1/runs/vtz7rr7r' target=\"_blank\">sparkling-sweep-36</a></strong> to <a href='https://wandb.ai/da6401-assignments/assignment1' target=\"_blank\">Weights & Biases</a> (<a href='https://wandb.me/developer-guide' target=\"_blank\">docs</a>)<br>Sweep page: <a href='https://wandb.ai/da6401-assignments/assignment1/sweeps/syjentp9' target=\"_blank\">https://wandb.ai/da6401-assignments/assignment1/sweeps/syjentp9</a>"
      ],
      "text/plain": [
       "<IPython.core.display.HTML object>"
      ]
     },
     "metadata": {},
     "output_type": "display_data"
    },
    {
     "data": {
      "text/html": [
       " View project at <a href='https://wandb.ai/da6401-assignments/assignment1' target=\"_blank\">https://wandb.ai/da6401-assignments/assignment1</a>"
      ],
      "text/plain": [
       "<IPython.core.display.HTML object>"
      ]
     },
     "metadata": {},
     "output_type": "display_data"
    },
    {
     "data": {
      "text/html": [
       " View sweep at <a href='https://wandb.ai/da6401-assignments/assignment1/sweeps/syjentp9' target=\"_blank\">https://wandb.ai/da6401-assignments/assignment1/sweeps/syjentp9</a>"
      ],
      "text/plain": [
       "<IPython.core.display.HTML object>"
      ]
     },
     "metadata": {},
     "output_type": "display_data"
    },
    {
     "data": {
      "text/html": [
       " View run at <a href='https://wandb.ai/da6401-assignments/assignment1/runs/vtz7rr7r' target=\"_blank\">https://wandb.ai/da6401-assignments/assignment1/runs/vtz7rr7r</a>"
      ],
      "text/plain": [
       "<IPython.core.display.HTML object>"
      ]
     },
     "metadata": {},
     "output_type": "display_data"
    },
    {
     "name": "stdout",
     "output_type": "stream",
     "text": [
      "Sweep Name:  LR: 0.0001, AC: relu, BS: 16, Optim: nesterov, WI: xavier, WD: 0, No_HL: 4, HS: 64\n",
      "Epoch 0: Training Loss = 7.5251 Validation Loss = 7.4515\n",
      "Training Accuracy = 0.1007 Validation Accuracy = 0.1022\n",
      "Epoch 1: Training Loss = 7.5251 Validation Loss = 7.4515\n",
      "Training Accuracy = 0.1007 Validation Accuracy = 0.1022\n",
      "Epoch 2: Training Loss = 7.5251 Validation Loss = 7.4515\n",
      "Training Accuracy = 0.1007 Validation Accuracy = 0.1022\n",
      "Epoch 3: Training Loss = 7.5251 Validation Loss = 7.4515\n",
      "Training Accuracy = 0.1007 Validation Accuracy = 0.1022\n",
      "Epoch 4: Training Loss = 7.5251 Validation Loss = 7.4515\n",
      "Training Accuracy = 0.1007 Validation Accuracy = 0.1022\n",
      "Epoch 5: Training Loss = 7.5251 Validation Loss = 7.4515\n",
      "Training Accuracy = 0.1007 Validation Accuracy = 0.1022\n",
      "Epoch 6: Training Loss = 7.5251 Validation Loss = 7.4515\n",
      "Training Accuracy = 0.1007 Validation Accuracy = 0.1022\n",
      "Epoch 7: Training Loss = 7.5251 Validation Loss = 7.4515\n",
      "Training Accuracy = 0.1007 Validation Accuracy = 0.1022\n",
      "Epoch 8: Training Loss = 7.5251 Validation Loss = 7.4515\n",
      "Training Accuracy = 0.1007 Validation Accuracy = 0.1022\n",
      "Epoch 9: Training Loss = 7.5251 Validation Loss = 7.4515\n",
      "Training Accuracy = 0.1007 Validation Accuracy = 0.1022\n"
     ]
    },
    {
     "data": {
      "text/html": [],
      "text/plain": [
       "<IPython.core.display.HTML object>"
      ]
     },
     "metadata": {},
     "output_type": "display_data"
    },
    {
     "data": {
      "text/html": [
       "<br>    <style><br>        .wandb-row {<br>            display: flex;<br>            flex-direction: row;<br>            flex-wrap: wrap;<br>            justify-content: flex-start;<br>            width: 100%;<br>        }<br>        .wandb-col {<br>            display: flex;<br>            flex-direction: column;<br>            flex-basis: 100%;<br>            flex: 1;<br>            padding: 10px;<br>        }<br>    </style><br><div class=\"wandb-row\"><div class=\"wandb-col\"><h3>Run history:</h3><br/><table class=\"wandb\"><tr><td>Validation Loss</td><td>▁</td></tr><tr><td>epoch</td><td>▁▂▃▃▄▅▆▆▇█</td></tr><tr><td>train_acc</td><td>▁▁▁▁▁▁▁▁▁▁</td></tr><tr><td>train_loss</td><td>▁▁▁▁▁▁▁▁▁▁</td></tr><tr><td>val_acc</td><td>▁▁▁▁▁▁▁▁▁▁</td></tr><tr><td>val_loss</td><td>▁▁▁▁▁▁▁▁▁▁</td></tr></table><br/></div><div class=\"wandb-col\"><h3>Run summary:</h3><br/><table class=\"wandb\"><tr><td>Validation Loss</td><td>7.45152</td></tr><tr><td>epoch</td><td>9</td></tr><tr><td>train_acc</td><td>0.10074</td></tr><tr><td>train_loss</td><td>7.52507</td></tr><tr><td>val_acc</td><td>0.10217</td></tr><tr><td>val_loss</td><td>7.45152</td></tr></table><br/></div></div>"
      ],
      "text/plain": [
       "<IPython.core.display.HTML object>"
      ]
     },
     "metadata": {},
     "output_type": "display_data"
    },
    {
     "data": {
      "text/html": [
       " View run <strong style=\"color:#cdcd00\">LR: 0.0001, AC: relu, BS: 16, Optim: nesterov, WI: xavier, WD: 0, No_HL: 4, HS: 64</strong> at: <a href='https://wandb.ai/da6401-assignments/assignment1/runs/vtz7rr7r' target=\"_blank\">https://wandb.ai/da6401-assignments/assignment1/runs/vtz7rr7r</a><br> View project at: <a href='https://wandb.ai/da6401-assignments/assignment1' target=\"_blank\">https://wandb.ai/da6401-assignments/assignment1</a><br>Synced 5 W&B file(s), 0 media file(s), 0 artifact file(s) and 0 other file(s)"
      ],
      "text/plain": [
       "<IPython.core.display.HTML object>"
      ]
     },
     "metadata": {},
     "output_type": "display_data"
    },
    {
     "data": {
      "text/html": [
       "Find logs at: <code>.\\wandb\\run-20250310_005505-vtz7rr7r\\logs</code>"
      ],
      "text/plain": [
       "<IPython.core.display.HTML object>"
      ]
     },
     "metadata": {},
     "output_type": "display_data"
    },
    {
     "name": "stderr",
     "output_type": "stream",
     "text": [
      "\u001b[34m\u001b[1mwandb\u001b[0m: Agent Starting Run: mqzkqbov with config:\n",
      "\u001b[34m\u001b[1mwandb\u001b[0m: \tactivationFunc: relu\n",
      "\u001b[34m\u001b[1mwandb\u001b[0m: \tbatchSize: 32\n",
      "\u001b[34m\u001b[1mwandb\u001b[0m: \thiddenLayer_Size: 64\n",
      "\u001b[34m\u001b[1mwandb\u001b[0m: \tlearningRate: 0.0001\n",
      "\u001b[34m\u001b[1mwandb\u001b[0m: \tnum_epochs: 10\n",
      "\u001b[34m\u001b[1mwandb\u001b[0m: \tnum_hiddenLayers: 4\n",
      "\u001b[34m\u001b[1mwandb\u001b[0m: \toptimizer: nadam\n",
      "\u001b[34m\u001b[1mwandb\u001b[0m: \tweightDecay: 0.0005\n",
      "\u001b[34m\u001b[1mwandb\u001b[0m: \tweightInit: xavier\n"
     ]
    },
    {
     "data": {
      "text/html": [
       "Ignoring project 'assignment1' when running a sweep."
      ],
      "text/plain": [
       "<IPython.core.display.HTML object>"
      ]
     },
     "metadata": {},
     "output_type": "display_data"
    },
    {
     "data": {
      "text/html": [
       "Ignoring entity 'da6401-assignments' when running a sweep."
      ],
      "text/plain": [
       "<IPython.core.display.HTML object>"
      ]
     },
     "metadata": {},
     "output_type": "display_data"
    },
    {
     "data": {
      "text/html": [
       "creating run (0.2s)"
      ],
      "text/plain": [
       "<IPython.core.display.HTML object>"
      ]
     },
     "metadata": {},
     "output_type": "display_data"
    },
    {
     "data": {
      "text/html": [
       "Tracking run with wandb version 0.19.8"
      ],
      "text/plain": [
       "<IPython.core.display.HTML object>"
      ]
     },
     "metadata": {},
     "output_type": "display_data"
    },
    {
     "data": {
      "text/html": [
       "Run data is saved locally in <code>c:\\Users\\prajv\\Downloads\\ass1\\DA6401_ASSIGNMENT1\\wandb\\run-20250310_005537-mqzkqbov</code>"
      ],
      "text/plain": [
       "<IPython.core.display.HTML object>"
      ]
     },
     "metadata": {},
     "output_type": "display_data"
    },
    {
     "data": {
      "text/html": [
       "Syncing run <strong><a href='https://wandb.ai/da6401-assignments/assignment1/runs/mqzkqbov' target=\"_blank\">rose-sweep-37</a></strong> to <a href='https://wandb.ai/da6401-assignments/assignment1' target=\"_blank\">Weights & Biases</a> (<a href='https://wandb.me/developer-guide' target=\"_blank\">docs</a>)<br>Sweep page: <a href='https://wandb.ai/da6401-assignments/assignment1/sweeps/syjentp9' target=\"_blank\">https://wandb.ai/da6401-assignments/assignment1/sweeps/syjentp9</a>"
      ],
      "text/plain": [
       "<IPython.core.display.HTML object>"
      ]
     },
     "metadata": {},
     "output_type": "display_data"
    },
    {
     "data": {
      "text/html": [
       " View project at <a href='https://wandb.ai/da6401-assignments/assignment1' target=\"_blank\">https://wandb.ai/da6401-assignments/assignment1</a>"
      ],
      "text/plain": [
       "<IPython.core.display.HTML object>"
      ]
     },
     "metadata": {},
     "output_type": "display_data"
    },
    {
     "data": {
      "text/html": [
       " View sweep at <a href='https://wandb.ai/da6401-assignments/assignment1/sweeps/syjentp9' target=\"_blank\">https://wandb.ai/da6401-assignments/assignment1/sweeps/syjentp9</a>"
      ],
      "text/plain": [
       "<IPython.core.display.HTML object>"
      ]
     },
     "metadata": {},
     "output_type": "display_data"
    },
    {
     "data": {
      "text/html": [
       " View run at <a href='https://wandb.ai/da6401-assignments/assignment1/runs/mqzkqbov' target=\"_blank\">https://wandb.ai/da6401-assignments/assignment1/runs/mqzkqbov</a>"
      ],
      "text/plain": [
       "<IPython.core.display.HTML object>"
      ]
     },
     "metadata": {},
     "output_type": "display_data"
    },
    {
     "name": "stdout",
     "output_type": "stream",
     "text": [
      "Sweep Name:  LR: 0.0001, AC: relu, BS: 32, Optim: nadam, WI: xavier, WD: 0.0005, No_HL: 4, HS: 64\n",
      "Epoch 0: Training Loss = 0.9426 Validation Loss = 0.9276\n",
      "Training Accuracy = 0.6527 Validation Accuracy = 0.6552\n",
      "Epoch 1: Training Loss = 0.8042 Validation Loss = 0.7922\n",
      "Training Accuracy = 0.7052 Validation Accuracy = 0.7150\n",
      "Epoch 2: Training Loss = 0.7343 Validation Loss = 0.7293\n",
      "Training Accuracy = 0.7348 Validation Accuracy = 0.7400\n",
      "Epoch 3: Training Loss = 0.6843 Validation Loss = 0.6823\n",
      "Training Accuracy = 0.7546 Validation Accuracy = 0.7615\n",
      "Epoch 4: Training Loss = 0.6440 Validation Loss = 0.6499\n",
      "Training Accuracy = 0.7697 Validation Accuracy = 0.7753\n",
      "Epoch 5: Training Loss = 0.6148 Validation Loss = 0.6240\n",
      "Training Accuracy = 0.7797 Validation Accuracy = 0.7793\n",
      "Epoch 6: Training Loss = 0.5880 Validation Loss = 0.6022\n",
      "Training Accuracy = 0.7902 Validation Accuracy = 0.7865\n",
      "Epoch 7: Training Loss = 0.5674 Validation Loss = 0.5837\n",
      "Training Accuracy = 0.7961 Validation Accuracy = 0.7910\n",
      "Epoch 8: Training Loss = 0.5508 Validation Loss = 0.5706\n",
      "Training Accuracy = 0.8013 Validation Accuracy = 0.7972\n",
      "Epoch 9: Training Loss = 0.5357 Validation Loss = 0.5600\n",
      "Training Accuracy = 0.8073 Validation Accuracy = 0.8022\n"
     ]
    },
    {
     "data": {
      "text/html": [],
      "text/plain": [
       "<IPython.core.display.HTML object>"
      ]
     },
     "metadata": {},
     "output_type": "display_data"
    },
    {
     "data": {
      "text/html": [
       "<br>    <style><br>        .wandb-row {<br>            display: flex;<br>            flex-direction: row;<br>            flex-wrap: wrap;<br>            justify-content: flex-start;<br>            width: 100%;<br>        }<br>        .wandb-col {<br>            display: flex;<br>            flex-direction: column;<br>            flex-basis: 100%;<br>            flex: 1;<br>            padding: 10px;<br>        }<br>    </style><br><div class=\"wandb-row\"><div class=\"wandb-col\"><h3>Run history:</h3><br/><table class=\"wandb\"><tr><td>Validation Loss</td><td>▁</td></tr><tr><td>epoch</td><td>▁▂▃▃▄▅▆▆▇█</td></tr><tr><td>train_acc</td><td>▁▃▅▆▆▇▇▇██</td></tr><tr><td>train_loss</td><td>█▆▄▄▃▂▂▂▁▁</td></tr><tr><td>val_acc</td><td>▁▄▅▆▇▇▇▇██</td></tr><tr><td>val_loss</td><td>█▅▄▃▃▂▂▁▁▁</td></tr></table><br/></div><div class=\"wandb-col\"><h3>Run summary:</h3><br/><table class=\"wandb\"><tr><td>Validation Loss</td><td>0.55995</td></tr><tr><td>epoch</td><td>9</td></tr><tr><td>train_acc</td><td>0.80728</td></tr><tr><td>train_loss</td><td>0.53573</td></tr><tr><td>val_acc</td><td>0.80217</td></tr><tr><td>val_loss</td><td>0.55995</td></tr></table><br/></div></div>"
      ],
      "text/plain": [
       "<IPython.core.display.HTML object>"
      ]
     },
     "metadata": {},
     "output_type": "display_data"
    },
    {
     "data": {
      "text/html": [
       " View run <strong style=\"color:#cdcd00\">LR: 0.0001, AC: relu, BS: 32, Optim: nadam, WI: xavier, WD: 0.0005, No_HL: 4, HS: 64</strong> at: <a href='https://wandb.ai/da6401-assignments/assignment1/runs/mqzkqbov' target=\"_blank\">https://wandb.ai/da6401-assignments/assignment1/runs/mqzkqbov</a><br> View project at: <a href='https://wandb.ai/da6401-assignments/assignment1' target=\"_blank\">https://wandb.ai/da6401-assignments/assignment1</a><br>Synced 5 W&B file(s), 0 media file(s), 0 artifact file(s) and 0 other file(s)"
      ],
      "text/plain": [
       "<IPython.core.display.HTML object>"
      ]
     },
     "metadata": {},
     "output_type": "display_data"
    },
    {
     "data": {
      "text/html": [
       "Find logs at: <code>.\\wandb\\run-20250310_005537-mqzkqbov\\logs</code>"
      ],
      "text/plain": [
       "<IPython.core.display.HTML object>"
      ]
     },
     "metadata": {},
     "output_type": "display_data"
    },
    {
     "name": "stderr",
     "output_type": "stream",
     "text": [
      "\u001b[34m\u001b[1mwandb\u001b[0m: Agent Starting Run: w8ecum2v with config:\n",
      "\u001b[34m\u001b[1mwandb\u001b[0m: \tactivationFunc: tanh\n",
      "\u001b[34m\u001b[1mwandb\u001b[0m: \tbatchSize: 32\n",
      "\u001b[34m\u001b[1mwandb\u001b[0m: \thiddenLayer_Size: 64\n",
      "\u001b[34m\u001b[1mwandb\u001b[0m: \tlearningRate: 0.001\n",
      "\u001b[34m\u001b[1mwandb\u001b[0m: \tnum_epochs: 5\n",
      "\u001b[34m\u001b[1mwandb\u001b[0m: \tnum_hiddenLayers: 4\n",
      "\u001b[34m\u001b[1mwandb\u001b[0m: \toptimizer: momentum\n",
      "\u001b[34m\u001b[1mwandb\u001b[0m: \tweightDecay: 0.0005\n",
      "\u001b[34m\u001b[1mwandb\u001b[0m: \tweightInit: xavier\n"
     ]
    },
    {
     "data": {
      "text/html": [
       "Ignoring project 'assignment1' when running a sweep."
      ],
      "text/plain": [
       "<IPython.core.display.HTML object>"
      ]
     },
     "metadata": {},
     "output_type": "display_data"
    },
    {
     "data": {
      "text/html": [
       "Ignoring entity 'da6401-assignments' when running a sweep."
      ],
      "text/plain": [
       "<IPython.core.display.HTML object>"
      ]
     },
     "metadata": {},
     "output_type": "display_data"
    },
    {
     "data": {
      "text/html": [
       "creating run (0.2s)"
      ],
      "text/plain": [
       "<IPython.core.display.HTML object>"
      ]
     },
     "metadata": {},
     "output_type": "display_data"
    },
    {
     "data": {
      "text/html": [
       "Tracking run with wandb version 0.19.8"
      ],
      "text/plain": [
       "<IPython.core.display.HTML object>"
      ]
     },
     "metadata": {},
     "output_type": "display_data"
    },
    {
     "data": {
      "text/html": [
       "Run data is saved locally in <code>c:\\Users\\prajv\\Downloads\\ass1\\DA6401_ASSIGNMENT1\\wandb\\run-20250310_005625-w8ecum2v</code>"
      ],
      "text/plain": [
       "<IPython.core.display.HTML object>"
      ]
     },
     "metadata": {},
     "output_type": "display_data"
    },
    {
     "data": {
      "text/html": [
       "Syncing run <strong><a href='https://wandb.ai/da6401-assignments/assignment1/runs/w8ecum2v' target=\"_blank\">dulcet-sweep-38</a></strong> to <a href='https://wandb.ai/da6401-assignments/assignment1' target=\"_blank\">Weights & Biases</a> (<a href='https://wandb.me/developer-guide' target=\"_blank\">docs</a>)<br>Sweep page: <a href='https://wandb.ai/da6401-assignments/assignment1/sweeps/syjentp9' target=\"_blank\">https://wandb.ai/da6401-assignments/assignment1/sweeps/syjentp9</a>"
      ],
      "text/plain": [
       "<IPython.core.display.HTML object>"
      ]
     },
     "metadata": {},
     "output_type": "display_data"
    },
    {
     "data": {
      "text/html": [
       " View project at <a href='https://wandb.ai/da6401-assignments/assignment1' target=\"_blank\">https://wandb.ai/da6401-assignments/assignment1</a>"
      ],
      "text/plain": [
       "<IPython.core.display.HTML object>"
      ]
     },
     "metadata": {},
     "output_type": "display_data"
    },
    {
     "data": {
      "text/html": [
       " View sweep at <a href='https://wandb.ai/da6401-assignments/assignment1/sweeps/syjentp9' target=\"_blank\">https://wandb.ai/da6401-assignments/assignment1/sweeps/syjentp9</a>"
      ],
      "text/plain": [
       "<IPython.core.display.HTML object>"
      ]
     },
     "metadata": {},
     "output_type": "display_data"
    },
    {
     "data": {
      "text/html": [
       " View run at <a href='https://wandb.ai/da6401-assignments/assignment1/runs/w8ecum2v' target=\"_blank\">https://wandb.ai/da6401-assignments/assignment1/runs/w8ecum2v</a>"
      ],
      "text/plain": [
       "<IPython.core.display.HTML object>"
      ]
     },
     "metadata": {},
     "output_type": "display_data"
    },
    {
     "name": "stdout",
     "output_type": "stream",
     "text": [
      "Sweep Name:  LR: 0.001, AC: tanh, BS: 32, Optim: momentum, WI: xavier, WD: 0.0005, No_HL: 4, HS: 64\n",
      "Epoch 0: Training Loss = 1.2412 Validation Loss = 1.2247\n",
      "Training Accuracy = 0.5910 Validation Accuracy = 0.5995\n",
      "Epoch 1: Training Loss = 1.0024 Validation Loss = 0.9860\n",
      "Training Accuracy = 0.6519 Validation Accuracy = 0.6613\n",
      "Epoch 2: Training Loss = 0.8955 Validation Loss = 0.8827\n",
      "Training Accuracy = 0.6832 Validation Accuracy = 0.6935\n",
      "Epoch 3: Training Loss = 0.8338 Validation Loss = 0.8266\n",
      "Training Accuracy = 0.7025 Validation Accuracy = 0.7150\n",
      "Epoch 4: Training Loss = 0.7913 Validation Loss = 0.7885\n",
      "Training Accuracy = 0.7128 Validation Accuracy = 0.7215\n"
     ]
    },
    {
     "data": {
      "text/html": [],
      "text/plain": [
       "<IPython.core.display.HTML object>"
      ]
     },
     "metadata": {},
     "output_type": "display_data"
    },
    {
     "data": {
      "text/html": [
       "<br>    <style><br>        .wandb-row {<br>            display: flex;<br>            flex-direction: row;<br>            flex-wrap: wrap;<br>            justify-content: flex-start;<br>            width: 100%;<br>        }<br>        .wandb-col {<br>            display: flex;<br>            flex-direction: column;<br>            flex-basis: 100%;<br>            flex: 1;<br>            padding: 10px;<br>        }<br>    </style><br><div class=\"wandb-row\"><div class=\"wandb-col\"><h3>Run history:</h3><br/><table class=\"wandb\"><tr><td>Validation Loss</td><td>▁</td></tr><tr><td>epoch</td><td>▁▃▅▆█</td></tr><tr><td>train_acc</td><td>▁▅▆▇█</td></tr><tr><td>train_loss</td><td>█▄▃▂▁</td></tr><tr><td>val_acc</td><td>▁▅▆██</td></tr><tr><td>val_loss</td><td>█▄▃▂▁</td></tr></table><br/></div><div class=\"wandb-col\"><h3>Run summary:</h3><br/><table class=\"wandb\"><tr><td>Validation Loss</td><td>0.78846</td></tr><tr><td>epoch</td><td>4</td></tr><tr><td>train_acc</td><td>0.71276</td></tr><tr><td>train_loss</td><td>0.79127</td></tr><tr><td>val_acc</td><td>0.7215</td></tr><tr><td>val_loss</td><td>0.78846</td></tr></table><br/></div></div>"
      ],
      "text/plain": [
       "<IPython.core.display.HTML object>"
      ]
     },
     "metadata": {},
     "output_type": "display_data"
    },
    {
     "data": {
      "text/html": [
       " View run <strong style=\"color:#cdcd00\">LR: 0.001, AC: tanh, BS: 32, Optim: momentum, WI: xavier, WD: 0.0005, No_HL: 4, HS: 64</strong> at: <a href='https://wandb.ai/da6401-assignments/assignment1/runs/w8ecum2v' target=\"_blank\">https://wandb.ai/da6401-assignments/assignment1/runs/w8ecum2v</a><br> View project at: <a href='https://wandb.ai/da6401-assignments/assignment1' target=\"_blank\">https://wandb.ai/da6401-assignments/assignment1</a><br>Synced 5 W&B file(s), 0 media file(s), 0 artifact file(s) and 0 other file(s)"
      ],
      "text/plain": [
       "<IPython.core.display.HTML object>"
      ]
     },
     "metadata": {},
     "output_type": "display_data"
    },
    {
     "data": {
      "text/html": [
       "Find logs at: <code>.\\wandb\\run-20250310_005625-w8ecum2v\\logs</code>"
      ],
      "text/plain": [
       "<IPython.core.display.HTML object>"
      ]
     },
     "metadata": {},
     "output_type": "display_data"
    },
    {
     "name": "stderr",
     "output_type": "stream",
     "text": [
      "\u001b[34m\u001b[1mwandb\u001b[0m: Agent Starting Run: yvk48rc2 with config:\n",
      "\u001b[34m\u001b[1mwandb\u001b[0m: \tactivationFunc: tanh\n",
      "\u001b[34m\u001b[1mwandb\u001b[0m: \tbatchSize: 16\n",
      "\u001b[34m\u001b[1mwandb\u001b[0m: \thiddenLayer_Size: 64\n",
      "\u001b[34m\u001b[1mwandb\u001b[0m: \tlearningRate: 0.001\n",
      "\u001b[34m\u001b[1mwandb\u001b[0m: \tnum_epochs: 10\n",
      "\u001b[34m\u001b[1mwandb\u001b[0m: \tnum_hiddenLayers: 5\n",
      "\u001b[34m\u001b[1mwandb\u001b[0m: \toptimizer: rmsprop\n",
      "\u001b[34m\u001b[1mwandb\u001b[0m: \tweightDecay: 0.0005\n",
      "\u001b[34m\u001b[1mwandb\u001b[0m: \tweightInit: random\n"
     ]
    },
    {
     "data": {
      "text/html": [
       "Ignoring project 'assignment1' when running a sweep."
      ],
      "text/plain": [
       "<IPython.core.display.HTML object>"
      ]
     },
     "metadata": {},
     "output_type": "display_data"
    },
    {
     "data": {
      "text/html": [
       "Ignoring entity 'da6401-assignments' when running a sweep."
      ],
      "text/plain": [
       "<IPython.core.display.HTML object>"
      ]
     },
     "metadata": {},
     "output_type": "display_data"
    },
    {
     "data": {
      "text/html": [
       "creating run (0.2s)"
      ],
      "text/plain": [
       "<IPython.core.display.HTML object>"
      ]
     },
     "metadata": {},
     "output_type": "display_data"
    },
    {
     "data": {
      "text/html": [
       "Tracking run with wandb version 0.19.8"
      ],
      "text/plain": [
       "<IPython.core.display.HTML object>"
      ]
     },
     "metadata": {},
     "output_type": "display_data"
    },
    {
     "data": {
      "text/html": [
       "Run data is saved locally in <code>c:\\Users\\prajv\\Downloads\\ass1\\DA6401_ASSIGNMENT1\\wandb\\run-20250310_005646-yvk48rc2</code>"
      ],
      "text/plain": [
       "<IPython.core.display.HTML object>"
      ]
     },
     "metadata": {},
     "output_type": "display_data"
    },
    {
     "data": {
      "text/html": [
       "Syncing run <strong><a href='https://wandb.ai/da6401-assignments/assignment1/runs/yvk48rc2' target=\"_blank\">frosty-sweep-39</a></strong> to <a href='https://wandb.ai/da6401-assignments/assignment1' target=\"_blank\">Weights & Biases</a> (<a href='https://wandb.me/developer-guide' target=\"_blank\">docs</a>)<br>Sweep page: <a href='https://wandb.ai/da6401-assignments/assignment1/sweeps/syjentp9' target=\"_blank\">https://wandb.ai/da6401-assignments/assignment1/sweeps/syjentp9</a>"
      ],
      "text/plain": [
       "<IPython.core.display.HTML object>"
      ]
     },
     "metadata": {},
     "output_type": "display_data"
    },
    {
     "data": {
      "text/html": [
       " View project at <a href='https://wandb.ai/da6401-assignments/assignment1' target=\"_blank\">https://wandb.ai/da6401-assignments/assignment1</a>"
      ],
      "text/plain": [
       "<IPython.core.display.HTML object>"
      ]
     },
     "metadata": {},
     "output_type": "display_data"
    },
    {
     "data": {
      "text/html": [
       " View sweep at <a href='https://wandb.ai/da6401-assignments/assignment1/sweeps/syjentp9' target=\"_blank\">https://wandb.ai/da6401-assignments/assignment1/sweeps/syjentp9</a>"
      ],
      "text/plain": [
       "<IPython.core.display.HTML object>"
      ]
     },
     "metadata": {},
     "output_type": "display_data"
    },
    {
     "data": {
      "text/html": [
       " View run at <a href='https://wandb.ai/da6401-assignments/assignment1/runs/yvk48rc2' target=\"_blank\">https://wandb.ai/da6401-assignments/assignment1/runs/yvk48rc2</a>"
      ],
      "text/plain": [
       "<IPython.core.display.HTML object>"
      ]
     },
     "metadata": {},
     "output_type": "display_data"
    },
    {
     "name": "stdout",
     "output_type": "stream",
     "text": [
      "Sweep Name:  LR: 0.001, AC: tanh, BS: 16, Optim: rmsprop, WI: random, WD: 0.0005, No_HL: 5, HS: 64\n",
      "Epoch 0: Training Loss = 0.4940 Validation Loss = 0.5103\n",
      "Training Accuracy = 0.8182 Validation Accuracy = 0.8155\n",
      "Epoch 1: Training Loss = 0.4421 Validation Loss = 0.4704\n",
      "Training Accuracy = 0.8376 Validation Accuracy = 0.8342\n",
      "Epoch 2: Training Loss = 0.4190 Validation Loss = 0.4570\n",
      "Training Accuracy = 0.8474 Validation Accuracy = 0.8362\n",
      "Epoch 3: Training Loss = 0.3786 Validation Loss = 0.4265\n",
      "Training Accuracy = 0.8606 Validation Accuracy = 0.8442\n",
      "Epoch 4: Training Loss = 0.3608 Validation Loss = 0.4140\n",
      "Training Accuracy = 0.8669 Validation Accuracy = 0.8470\n",
      "Epoch 5: Training Loss = 0.3384 Validation Loss = 0.3952\n",
      "Training Accuracy = 0.8758 Validation Accuracy = 0.8533\n",
      "Epoch 6: Training Loss = 0.3417 Validation Loss = 0.4124\n",
      "Training Accuracy = 0.8724 Validation Accuracy = 0.8563\n",
      "Epoch 7: Training Loss = 0.3150 Validation Loss = 0.3881\n",
      "Training Accuracy = 0.8848 Validation Accuracy = 0.8605\n",
      "Epoch 8: Training Loss = 0.3164 Validation Loss = 0.3905\n",
      "Training Accuracy = 0.8809 Validation Accuracy = 0.8617\n",
      "Epoch 9: Training Loss = 0.2940 Validation Loss = 0.3887\n",
      "Training Accuracy = 0.8914 Validation Accuracy = 0.8615\n"
     ]
    },
    {
     "data": {
      "text/html": [],
      "text/plain": [
       "<IPython.core.display.HTML object>"
      ]
     },
     "metadata": {},
     "output_type": "display_data"
    },
    {
     "data": {
      "text/html": [
       "<br>    <style><br>        .wandb-row {<br>            display: flex;<br>            flex-direction: row;<br>            flex-wrap: wrap;<br>            justify-content: flex-start;<br>            width: 100%;<br>        }<br>        .wandb-col {<br>            display: flex;<br>            flex-direction: column;<br>            flex-basis: 100%;<br>            flex: 1;<br>            padding: 10px;<br>        }<br>    </style><br><div class=\"wandb-row\"><div class=\"wandb-col\"><h3>Run history:</h3><br/><table class=\"wandb\"><tr><td>Validation Loss</td><td>▁</td></tr><tr><td>epoch</td><td>▁▂▃▃▄▅▆▆▇█</td></tr><tr><td>train_acc</td><td>▁▃▄▅▆▇▆▇▇█</td></tr><tr><td>train_loss</td><td>█▆▅▄▃▃▃▂▂▁</td></tr><tr><td>val_acc</td><td>▁▄▄▅▆▇▇███</td></tr><tr><td>val_loss</td><td>█▆▅▃▂▁▂▁▁▁</td></tr></table><br/></div><div class=\"wandb-col\"><h3>Run summary:</h3><br/><table class=\"wandb\"><tr><td>Validation Loss</td><td>0.38867</td></tr><tr><td>epoch</td><td>9</td></tr><tr><td>train_acc</td><td>0.89144</td></tr><tr><td>train_loss</td><td>0.294</td></tr><tr><td>val_acc</td><td>0.8615</td></tr><tr><td>val_loss</td><td>0.38867</td></tr></table><br/></div></div>"
      ],
      "text/plain": [
       "<IPython.core.display.HTML object>"
      ]
     },
     "metadata": {},
     "output_type": "display_data"
    },
    {
     "data": {
      "text/html": [
       " View run <strong style=\"color:#cdcd00\">LR: 0.001, AC: tanh, BS: 16, Optim: rmsprop, WI: random, WD: 0.0005, No_HL: 5, HS: 64</strong> at: <a href='https://wandb.ai/da6401-assignments/assignment1/runs/yvk48rc2' target=\"_blank\">https://wandb.ai/da6401-assignments/assignment1/runs/yvk48rc2</a><br> View project at: <a href='https://wandb.ai/da6401-assignments/assignment1' target=\"_blank\">https://wandb.ai/da6401-assignments/assignment1</a><br>Synced 5 W&B file(s), 0 media file(s), 0 artifact file(s) and 0 other file(s)"
      ],
      "text/plain": [
       "<IPython.core.display.HTML object>"
      ]
     },
     "metadata": {},
     "output_type": "display_data"
    },
    {
     "data": {
      "text/html": [
       "Find logs at: <code>.\\wandb\\run-20250310_005646-yvk48rc2\\logs</code>"
      ],
      "text/plain": [
       "<IPython.core.display.HTML object>"
      ]
     },
     "metadata": {},
     "output_type": "display_data"
    },
    {
     "name": "stderr",
     "output_type": "stream",
     "text": [
      "\u001b[34m\u001b[1mwandb\u001b[0m: Agent Starting Run: y6vh5n4l with config:\n",
      "\u001b[34m\u001b[1mwandb\u001b[0m: \tactivationFunc: sigmoid\n",
      "\u001b[34m\u001b[1mwandb\u001b[0m: \tbatchSize: 16\n",
      "\u001b[34m\u001b[1mwandb\u001b[0m: \thiddenLayer_Size: 64\n",
      "\u001b[34m\u001b[1mwandb\u001b[0m: \tlearningRate: 0.0001\n",
      "\u001b[34m\u001b[1mwandb\u001b[0m: \tnum_epochs: 5\n",
      "\u001b[34m\u001b[1mwandb\u001b[0m: \tnum_hiddenLayers: 4\n",
      "\u001b[34m\u001b[1mwandb\u001b[0m: \toptimizer: momentum\n",
      "\u001b[34m\u001b[1mwandb\u001b[0m: \tweightDecay: 0.5\n",
      "\u001b[34m\u001b[1mwandb\u001b[0m: \tweightInit: xavier\n"
     ]
    },
    {
     "data": {
      "text/html": [
       "Ignoring project 'assignment1' when running a sweep."
      ],
      "text/plain": [
       "<IPython.core.display.HTML object>"
      ]
     },
     "metadata": {},
     "output_type": "display_data"
    },
    {
     "data": {
      "text/html": [
       "Ignoring entity 'da6401-assignments' when running a sweep."
      ],
      "text/plain": [
       "<IPython.core.display.HTML object>"
      ]
     },
     "metadata": {},
     "output_type": "display_data"
    },
    {
     "data": {
      "text/html": [
       "creating run (0.4s)"
      ],
      "text/plain": [
       "<IPython.core.display.HTML object>"
      ]
     },
     "metadata": {},
     "output_type": "display_data"
    },
    {
     "data": {
      "text/html": [
       "Tracking run with wandb version 0.19.8"
      ],
      "text/plain": [
       "<IPython.core.display.HTML object>"
      ]
     },
     "metadata": {},
     "output_type": "display_data"
    },
    {
     "data": {
      "text/html": [
       "Run data is saved locally in <code>c:\\Users\\prajv\\Downloads\\ass1\\DA6401_ASSIGNMENT1\\wandb\\run-20250310_005749-y6vh5n4l</code>"
      ],
      "text/plain": [
       "<IPython.core.display.HTML object>"
      ]
     },
     "metadata": {},
     "output_type": "display_data"
    },
    {
     "data": {
      "text/html": [
       "Syncing run <strong><a href='https://wandb.ai/da6401-assignments/assignment1/runs/y6vh5n4l' target=\"_blank\">cool-sweep-40</a></strong> to <a href='https://wandb.ai/da6401-assignments/assignment1' target=\"_blank\">Weights & Biases</a> (<a href='https://wandb.me/developer-guide' target=\"_blank\">docs</a>)<br>Sweep page: <a href='https://wandb.ai/da6401-assignments/assignment1/sweeps/syjentp9' target=\"_blank\">https://wandb.ai/da6401-assignments/assignment1/sweeps/syjentp9</a>"
      ],
      "text/plain": [
       "<IPython.core.display.HTML object>"
      ]
     },
     "metadata": {},
     "output_type": "display_data"
    },
    {
     "data": {
      "text/html": [
       " View project at <a href='https://wandb.ai/da6401-assignments/assignment1' target=\"_blank\">https://wandb.ai/da6401-assignments/assignment1</a>"
      ],
      "text/plain": [
       "<IPython.core.display.HTML object>"
      ]
     },
     "metadata": {},
     "output_type": "display_data"
    },
    {
     "data": {
      "text/html": [
       " View sweep at <a href='https://wandb.ai/da6401-assignments/assignment1/sweeps/syjentp9' target=\"_blank\">https://wandb.ai/da6401-assignments/assignment1/sweeps/syjentp9</a>"
      ],
      "text/plain": [
       "<IPython.core.display.HTML object>"
      ]
     },
     "metadata": {},
     "output_type": "display_data"
    },
    {
     "data": {
      "text/html": [
       " View run at <a href='https://wandb.ai/da6401-assignments/assignment1/runs/y6vh5n4l' target=\"_blank\">https://wandb.ai/da6401-assignments/assignment1/runs/y6vh5n4l</a>"
      ],
      "text/plain": [
       "<IPython.core.display.HTML object>"
      ]
     },
     "metadata": {},
     "output_type": "display_data"
    },
    {
     "name": "stdout",
     "output_type": "stream",
     "text": [
      "Sweep Name:  LR: 0.0001, AC: sigmoid, BS: 16, Optim: momentum, WI: xavier, WD: 0.5, No_HL: 4, HS: 64\n",
      "Epoch 0: Training Loss = 1.8045 Validation Loss = 1.7866\n",
      "Training Accuracy = 0.3669 Validation Accuracy = 0.3760\n",
      "Epoch 1: Training Loss = 1.5513 Validation Loss = 1.5305\n",
      "Training Accuracy = 0.4625 Validation Accuracy = 0.4737\n",
      "Epoch 2: Training Loss = 1.3880 Validation Loss = 1.3683\n",
      "Training Accuracy = 0.5245 Validation Accuracy = 0.5397\n",
      "Epoch 3: Training Loss = 1.2731 Validation Loss = 1.2575\n",
      "Training Accuracy = 0.5677 Validation Accuracy = 0.5797\n",
      "Epoch 4: Training Loss = 1.1883 Validation Loss = 1.1763\n",
      "Training Accuracy = 0.5970 Validation Accuracy = 0.6098\n"
     ]
    },
    {
     "data": {
      "text/html": [],
      "text/plain": [
       "<IPython.core.display.HTML object>"
      ]
     },
     "metadata": {},
     "output_type": "display_data"
    },
    {
     "data": {
      "text/html": [
       "<br>    <style><br>        .wandb-row {<br>            display: flex;<br>            flex-direction: row;<br>            flex-wrap: wrap;<br>            justify-content: flex-start;<br>            width: 100%;<br>        }<br>        .wandb-col {<br>            display: flex;<br>            flex-direction: column;<br>            flex-basis: 100%;<br>            flex: 1;<br>            padding: 10px;<br>        }<br>    </style><br><div class=\"wandb-row\"><div class=\"wandb-col\"><h3>Run history:</h3><br/><table class=\"wandb\"><tr><td>Validation Loss</td><td>▁</td></tr><tr><td>epoch</td><td>▁▃▅▆█</td></tr><tr><td>train_acc</td><td>▁▄▆▇█</td></tr><tr><td>train_loss</td><td>█▅▃▂▁</td></tr><tr><td>val_acc</td><td>▁▄▆▇█</td></tr><tr><td>val_loss</td><td>█▅▃▂▁</td></tr></table><br/></div><div class=\"wandb-col\"><h3>Run summary:</h3><br/><table class=\"wandb\"><tr><td>Validation Loss</td><td>1.17631</td></tr><tr><td>epoch</td><td>4</td></tr><tr><td>train_acc</td><td>0.59696</td></tr><tr><td>train_loss</td><td>1.18829</td></tr><tr><td>val_acc</td><td>0.60983</td></tr><tr><td>val_loss</td><td>1.17631</td></tr></table><br/></div></div>"
      ],
      "text/plain": [
       "<IPython.core.display.HTML object>"
      ]
     },
     "metadata": {},
     "output_type": "display_data"
    },
    {
     "data": {
      "text/html": [
       " View run <strong style=\"color:#cdcd00\">LR: 0.0001, AC: sigmoid, BS: 16, Optim: momentum, WI: xavier, WD: 0.5, No_HL: 4, HS: 64</strong> at: <a href='https://wandb.ai/da6401-assignments/assignment1/runs/y6vh5n4l' target=\"_blank\">https://wandb.ai/da6401-assignments/assignment1/runs/y6vh5n4l</a><br> View project at: <a href='https://wandb.ai/da6401-assignments/assignment1' target=\"_blank\">https://wandb.ai/da6401-assignments/assignment1</a><br>Synced 5 W&B file(s), 0 media file(s), 0 artifact file(s) and 0 other file(s)"
      ],
      "text/plain": [
       "<IPython.core.display.HTML object>"
      ]
     },
     "metadata": {},
     "output_type": "display_data"
    },
    {
     "data": {
      "text/html": [
       "Find logs at: <code>.\\wandb\\run-20250310_005749-y6vh5n4l\\logs</code>"
      ],
      "text/plain": [
       "<IPython.core.display.HTML object>"
      ]
     },
     "metadata": {},
     "output_type": "display_data"
    }
   ],
   "source": [
    "sweep_ID = wandb.sweep(sweep_config, entity=\"da6401-assignments\", project=\"assignment1\")\n",
    "wandb.agent(sweep_ID, sweep_hyperParameters, count=40)\n",
    "\n",
    "wandb.finish()"
   ]
  },
  {
   "cell_type": "code",
   "execution_count": null,
   "metadata": {},
   "outputs": [],
   "source": []
  }
 ],
 "metadata": {
  "kernelspec": {
   "display_name": "Python 3",
   "language": "python",
   "name": "python3"
  },
  "language_info": {
   "codemirror_mode": {
    "name": "ipython",
    "version": 3
   },
   "file_extension": ".py",
   "mimetype": "text/x-python",
   "name": "python",
   "nbconvert_exporter": "python",
   "pygments_lexer": "ipython3",
   "version": "3.10.12"
  }
 },
 "nbformat": 4,
 "nbformat_minor": 2
}
